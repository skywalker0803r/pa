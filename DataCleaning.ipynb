{
 "cells": [
  {
   "cell_type": "code",
   "execution_count": 1,
   "metadata": {},
   "outputs": [
    {
     "data": {
      "text/plain": [
       "['second_model.ipynb',\n",
       " 'train.csv',\n",
       " 'DataCleaning.ipynb',\n",
       " 'EDA.ipynb',\n",
       " 'PA_201605-2012001更新R6(20190509).xlsx',\n",
       " 'tag盤點表.xlsx',\n",
       " 'xgboost.ipynb',\n",
       " 'LSTM.ipynb',\n",
       " 'train_FeatureSelected.csv',\n",
       " 'feature select.ipynb',\n",
       " 'tpot_pa_pipeline.py',\n",
       " 'TPOT.ipynb',\n",
       " 'three_model.ipynb',\n",
       " 'cnn-time-stack.ipynb',\n",
       " '.ipynb_checkpoints']"
      ]
     },
     "execution_count": 1,
     "metadata": {},
     "output_type": "execute_result"
    }
   ],
   "source": [
    "import warnings;warnings.simplefilter('ignore')\n",
    "import os\n",
    "os.listdir()"
   ]
  },
  {
   "cell_type": "code",
   "execution_count": 2,
   "metadata": {},
   "outputs": [],
   "source": [
    "import pandas as pd\n",
    "import numpy as np\n",
    "import matplotlib.pyplot as plt\n",
    "import seaborn as sns\n",
    "from sklearn.utils import shuffle\n",
    "from  tqdm import tqdm_notebook as tqdm\n",
    "from sklearn.utils import shuffle"
   ]
  },
  {
   "cell_type": "markdown",
   "metadata": {},
   "source": [
    "# load raw data"
   ]
  },
  {
   "cell_type": "code",
   "execution_count": 3,
   "metadata": {},
   "outputs": [
    {
     "name": "stdout",
     "output_type": "stream",
     "text": [
      "(193825, 93)\n"
     ]
    },
    {
     "data": {
      "text/html": [
       "<div>\n",
       "<style scoped>\n",
       "    .dataframe tbody tr th:only-of-type {\n",
       "        vertical-align: middle;\n",
       "    }\n",
       "\n",
       "    .dataframe tbody tr th {\n",
       "        vertical-align: top;\n",
       "    }\n",
       "\n",
       "    .dataframe thead th {\n",
       "        text-align: right;\n",
       "    }\n",
       "</style>\n",
       "<table border=\"1\" class=\"dataframe\">\n",
       "  <thead>\n",
       "    <tr style=\"text-align: right;\">\n",
       "      <th></th>\n",
       "      <th>MLPAP_TI-0706B02</th>\n",
       "      <th>MLPAP_TI-0706B03</th>\n",
       "      <th>MLPAP_TI-0706B04</th>\n",
       "      <th>MLPAP_TI-0706B05</th>\n",
       "      <th>MLPAP_TI-0706B06</th>\n",
       "      <th>MLPAP_TI-0706B07</th>\n",
       "      <th>MLPAP_TI-0706B08</th>\n",
       "      <th>MLPAP_TI-0706B09</th>\n",
       "      <th>MLPAP_TI-0706B10</th>\n",
       "      <th>MLPAP_TI-0706B11</th>\n",
       "      <th>...</th>\n",
       "      <th>MLPAP_FQI-0997.PV</th>\n",
       "      <th>DATA OF USE</th>\n",
       "      <th>MLPAP_FR-0755.PV</th>\n",
       "      <th>MLPAP_FR-0755PV(轉換後)</th>\n",
       "      <th>MLPAP_FR-0791.PV</th>\n",
       "      <th>MLPAP_FI-V211.PV</th>\n",
       "      <th>MLPAP_FI-V211.PV(轉換後)</th>\n",
       "      <th>MLPAP_PI-0658.PV</th>\n",
       "      <th>MLPAP_TIC-0757.PV</th>\n",
       "      <th>MLPAP_V125-PHD</th>\n",
       "    </tr>\n",
       "  </thead>\n",
       "  <tbody>\n",
       "    <tr>\n",
       "      <th>2020-01-14 23:20:00</th>\n",
       "      <td>308.011</td>\n",
       "      <td>308.855</td>\n",
       "      <td>307</td>\n",
       "      <td>308</td>\n",
       "      <td>307</td>\n",
       "      <td>307</td>\n",
       "      <td>307.155</td>\n",
       "      <td>305.605</td>\n",
       "      <td>303.322</td>\n",
       "      <td>301</td>\n",
       "      <td>...</td>\n",
       "      <td>0</td>\n",
       "      <td>4.75646879756469E-06*193821</td>\n",
       "      <td>4.05932</td>\n",
       "      <td>4.053850</td>\n",
       "      <td>3.28494</td>\n",
       "      <td>1407</td>\n",
       "      <td>1405.103894</td>\n",
       "      <td>-0.550185</td>\n",
       "      <td>0.429594</td>\n",
       "      <td>0.006</td>\n",
       "    </tr>\n",
       "    <tr>\n",
       "      <th>2020-01-14 23:30:00</th>\n",
       "      <td>307.994</td>\n",
       "      <td>308</td>\n",
       "      <td>306.405</td>\n",
       "      <td>308</td>\n",
       "      <td>306.822</td>\n",
       "      <td>306.105</td>\n",
       "      <td>306.255</td>\n",
       "      <td>305</td>\n",
       "      <td>302.822</td>\n",
       "      <td>300.172</td>\n",
       "      <td>...</td>\n",
       "      <td>0</td>\n",
       "      <td>4.75646879756469E-06*193822</td>\n",
       "      <td>4.06726</td>\n",
       "      <td>4.061772</td>\n",
       "      <td>2.67178</td>\n",
       "      <td>1411.79</td>\n",
       "      <td>1409.883474</td>\n",
       "      <td>-0.899908</td>\n",
       "      <td>0.757286</td>\n",
       "      <td>0.006</td>\n",
       "    </tr>\n",
       "    <tr>\n",
       "      <th>2020-01-14 23:40:00</th>\n",
       "      <td>307.011</td>\n",
       "      <td>307.994</td>\n",
       "      <td>306</td>\n",
       "      <td>307.272</td>\n",
       "      <td>306</td>\n",
       "      <td>305.355</td>\n",
       "      <td>305.905</td>\n",
       "      <td>304.155</td>\n",
       "      <td>302</td>\n",
       "      <td>300</td>\n",
       "      <td>...</td>\n",
       "      <td>0</td>\n",
       "      <td>4.75646879756469E-06*193823</td>\n",
       "      <td>4.06527</td>\n",
       "      <td>4.059790</td>\n",
       "      <td>2.83228</td>\n",
       "      <td>1406.83</td>\n",
       "      <td>1404.931948</td>\n",
       "      <td>-0.455118</td>\n",
       "      <td>0.920603</td>\n",
       "      <td>0.006</td>\n",
       "    </tr>\n",
       "    <tr>\n",
       "      <th>2020-01-14 23:50:00</th>\n",
       "      <td>307</td>\n",
       "      <td>307.011</td>\n",
       "      <td>305.805</td>\n",
       "      <td>306.971</td>\n",
       "      <td>305.472</td>\n",
       "      <td>304.955</td>\n",
       "      <td>305</td>\n",
       "      <td>303.955</td>\n",
       "      <td>301.971</td>\n",
       "      <td>299.622</td>\n",
       "      <td>...</td>\n",
       "      <td>0</td>\n",
       "      <td>4.75646879756469E-06*193824</td>\n",
       "      <td>4.06097</td>\n",
       "      <td>4.055500</td>\n",
       "      <td>2.98571</td>\n",
       "      <td>1407.55</td>\n",
       "      <td>1405.652984</td>\n",
       "      <td>-0.399457</td>\n",
       "      <td>0.850938</td>\n",
       "      <td>0.006</td>\n",
       "    </tr>\n",
       "    <tr>\n",
       "      <th>NaT</th>\n",
       "      <td>NaN</td>\n",
       "      <td>NaN</td>\n",
       "      <td>NaN</td>\n",
       "      <td>NaN</td>\n",
       "      <td>NaN</td>\n",
       "      <td>NaN</td>\n",
       "      <td>NaN</td>\n",
       "      <td>NaN</td>\n",
       "      <td>NaN</td>\n",
       "      <td>NaN</td>\n",
       "      <td>...</td>\n",
       "      <td>NaN</td>\n",
       "      <td>NaN</td>\n",
       "      <td>NaN</td>\n",
       "      <td>NaN</td>\n",
       "      <td>NaN</td>\n",
       "      <td>NaN</td>\n",
       "      <td>NaN</td>\n",
       "      <td>NaN</td>\n",
       "      <td>NaN</td>\n",
       "      <td>0.006</td>\n",
       "    </tr>\n",
       "  </tbody>\n",
       "</table>\n",
       "<p>5 rows × 93 columns</p>\n",
       "</div>"
      ],
      "text/plain": [
       "                    MLPAP_TI-0706B02 MLPAP_TI-0706B03 MLPAP_TI-0706B04  \\\n",
       "2020-01-14 23:20:00          308.011          308.855              307   \n",
       "2020-01-14 23:30:00          307.994              308          306.405   \n",
       "2020-01-14 23:40:00          307.011          307.994              306   \n",
       "2020-01-14 23:50:00              307          307.011          305.805   \n",
       "NaT                              NaN              NaN              NaN   \n",
       "\n",
       "                    MLPAP_TI-0706B05 MLPAP_TI-0706B06 MLPAP_TI-0706B07  \\\n",
       "2020-01-14 23:20:00              308              307              307   \n",
       "2020-01-14 23:30:00              308          306.822          306.105   \n",
       "2020-01-14 23:40:00          307.272              306          305.355   \n",
       "2020-01-14 23:50:00          306.971          305.472          304.955   \n",
       "NaT                              NaN              NaN              NaN   \n",
       "\n",
       "                    MLPAP_TI-0706B08 MLPAP_TI-0706B09 MLPAP_TI-0706B10  \\\n",
       "2020-01-14 23:20:00          307.155          305.605          303.322   \n",
       "2020-01-14 23:30:00          306.255              305          302.822   \n",
       "2020-01-14 23:40:00          305.905          304.155              302   \n",
       "2020-01-14 23:50:00              305          303.955          301.971   \n",
       "NaT                              NaN              NaN              NaN   \n",
       "\n",
       "                    MLPAP_TI-0706B11  ... MLPAP_FQI-0997.PV  \\\n",
       "2020-01-14 23:20:00              301  ...                 0   \n",
       "2020-01-14 23:30:00          300.172  ...                 0   \n",
       "2020-01-14 23:40:00              300  ...                 0   \n",
       "2020-01-14 23:50:00          299.622  ...                 0   \n",
       "NaT                              NaN  ...               NaN   \n",
       "\n",
       "                                     DATA OF USE MLPAP_FR-0755.PV  \\\n",
       "2020-01-14 23:20:00  4.75646879756469E-06*193821          4.05932   \n",
       "2020-01-14 23:30:00  4.75646879756469E-06*193822          4.06726   \n",
       "2020-01-14 23:40:00  4.75646879756469E-06*193823          4.06527   \n",
       "2020-01-14 23:50:00  4.75646879756469E-06*193824          4.06097   \n",
       "NaT                                          NaN              NaN   \n",
       "\n",
       "                    MLPAP_FR-0755PV(轉換後) MLPAP_FR-0791.PV MLPAP_FI-V211.PV  \\\n",
       "2020-01-14 23:20:00             4.053850          3.28494             1407   \n",
       "2020-01-14 23:30:00             4.061772          2.67178          1411.79   \n",
       "2020-01-14 23:40:00             4.059790          2.83228          1406.83   \n",
       "2020-01-14 23:50:00             4.055500          2.98571          1407.55   \n",
       "NaT                                  NaN              NaN              NaN   \n",
       "\n",
       "                    MLPAP_FI-V211.PV(轉換後) MLPAP_PI-0658.PV MLPAP_TIC-0757.PV  \\\n",
       "2020-01-14 23:20:00           1405.103894        -0.550185          0.429594   \n",
       "2020-01-14 23:30:00           1409.883474        -0.899908          0.757286   \n",
       "2020-01-14 23:40:00           1404.931948        -0.455118          0.920603   \n",
       "2020-01-14 23:50:00           1405.652984        -0.399457          0.850938   \n",
       "NaT                                   NaN              NaN               NaN   \n",
       "\n",
       "                    MLPAP_V125-PHD  \n",
       "2020-01-14 23:20:00          0.006  \n",
       "2020-01-14 23:30:00          0.006  \n",
       "2020-01-14 23:40:00          0.006  \n",
       "2020-01-14 23:50:00          0.006  \n",
       "NaT                          0.006  \n",
       "\n",
       "[5 rows x 93 columns]"
      ]
     },
     "execution_count": 3,
     "metadata": {},
     "output_type": "execute_result"
    }
   ],
   "source": [
    "df = pd.read_excel(\"PA_201605-2012001更新R6(20190509).xlsx\",index_col = 0,parse_dates = True)\n",
    "print(df.shape)\n",
    "df.tail()"
   ]
  },
  {
   "cell_type": "code",
   "execution_count": 4,
   "metadata": {},
   "outputs": [
    {
     "name": "stdout",
     "output_type": "stream",
     "text": [
      "2016-05-09 00:00:00    4.75646879756469E-06*1\n",
      "2016-05-09 00:10:00    4.75646879756469E-06*2\n",
      "2016-05-09 00:20:00    4.75646879756469E-06*3\n",
      "Name: DATA OF USE, dtype: object\n"
     ]
    }
   ],
   "source": [
    "print(df['DATA OF USE'].head(3))"
   ]
  },
  {
   "cell_type": "code",
   "execution_count": 5,
   "metadata": {},
   "outputs": [
    {
     "name": "stdout",
     "output_type": "stream",
     "text": [
      "2020-01-14 23:40:00    4.75646879756469E-06*193823\n",
      "2020-01-14 23:50:00    4.75646879756469E-06*193824\n",
      "NaT                                            NaN\n",
      "Name: DATA OF USE, dtype: object\n"
     ]
    }
   ],
   "source": [
    "print(df['DATA OF USE'].tail(3))"
   ]
  },
  {
   "cell_type": "code",
   "execution_count": 6,
   "metadata": {},
   "outputs": [
    {
     "data": {
      "text/plain": [
       "1"
      ]
     },
     "execution_count": 6,
     "metadata": {},
     "output_type": "execute_result"
    }
   ],
   "source": [
    "df['DATA OF USE'].isnull().sum()"
   ]
  },
  {
   "cell_type": "code",
   "execution_count": 7,
   "metadata": {},
   "outputs": [
    {
     "data": {
      "text/html": [
       "<div>\n",
       "<style scoped>\n",
       "    .dataframe tbody tr th:only-of-type {\n",
       "        vertical-align: middle;\n",
       "    }\n",
       "\n",
       "    .dataframe tbody tr th {\n",
       "        vertical-align: top;\n",
       "    }\n",
       "\n",
       "    .dataframe thead th {\n",
       "        text-align: right;\n",
       "    }\n",
       "</style>\n",
       "<table border=\"1\" class=\"dataframe\">\n",
       "  <thead>\n",
       "    <tr style=\"text-align: right;\">\n",
       "      <th></th>\n",
       "      <th>MLPAP_TI-0706B02</th>\n",
       "      <th>MLPAP_TI-0706B03</th>\n",
       "      <th>MLPAP_TI-0706B04</th>\n",
       "      <th>MLPAP_TI-0706B05</th>\n",
       "      <th>MLPAP_TI-0706B06</th>\n",
       "      <th>MLPAP_TI-0706B07</th>\n",
       "      <th>MLPAP_TI-0706B08</th>\n",
       "      <th>MLPAP_TI-0706B09</th>\n",
       "      <th>MLPAP_TI-0706B10</th>\n",
       "      <th>MLPAP_TI-0706B11</th>\n",
       "      <th>...</th>\n",
       "      <th>MLPAP_FQI-0997.PV</th>\n",
       "      <th>DATA OF USE</th>\n",
       "      <th>MLPAP_FR-0755.PV</th>\n",
       "      <th>MLPAP_FR-0755PV(轉換後)</th>\n",
       "      <th>MLPAP_FR-0791.PV</th>\n",
       "      <th>MLPAP_FI-V211.PV</th>\n",
       "      <th>MLPAP_FI-V211.PV(轉換後)</th>\n",
       "      <th>MLPAP_PI-0658.PV</th>\n",
       "      <th>MLPAP_TIC-0757.PV</th>\n",
       "      <th>MLPAP_V125-PHD</th>\n",
       "    </tr>\n",
       "  </thead>\n",
       "  <tbody>\n",
       "    <tr>\n",
       "      <th>NaT</th>\n",
       "      <td>NaN</td>\n",
       "      <td>NaN</td>\n",
       "      <td>NaN</td>\n",
       "      <td>NaN</td>\n",
       "      <td>NaN</td>\n",
       "      <td>NaN</td>\n",
       "      <td>NaN</td>\n",
       "      <td>NaN</td>\n",
       "      <td>NaN</td>\n",
       "      <td>NaN</td>\n",
       "      <td>...</td>\n",
       "      <td>NaN</td>\n",
       "      <td>NaN</td>\n",
       "      <td>NaN</td>\n",
       "      <td>NaN</td>\n",
       "      <td>NaN</td>\n",
       "      <td>NaN</td>\n",
       "      <td>NaN</td>\n",
       "      <td>NaN</td>\n",
       "      <td>NaN</td>\n",
       "      <td>0.006</td>\n",
       "    </tr>\n",
       "  </tbody>\n",
       "</table>\n",
       "<p>1 rows × 93 columns</p>\n",
       "</div>"
      ],
      "text/plain": [
       "    MLPAP_TI-0706B02 MLPAP_TI-0706B03 MLPAP_TI-0706B04 MLPAP_TI-0706B05  \\\n",
       "NaT              NaN              NaN              NaN              NaN   \n",
       "\n",
       "    MLPAP_TI-0706B06 MLPAP_TI-0706B07 MLPAP_TI-0706B08 MLPAP_TI-0706B09  \\\n",
       "NaT              NaN              NaN              NaN              NaN   \n",
       "\n",
       "    MLPAP_TI-0706B10 MLPAP_TI-0706B11  ... MLPAP_FQI-0997.PV DATA OF USE  \\\n",
       "NaT              NaN              NaN  ...               NaN         NaN   \n",
       "\n",
       "    MLPAP_FR-0755.PV MLPAP_FR-0755PV(轉換後) MLPAP_FR-0791.PV MLPAP_FI-V211.PV  \\\n",
       "NaT              NaN                  NaN              NaN              NaN   \n",
       "\n",
       "    MLPAP_FI-V211.PV(轉換後) MLPAP_PI-0658.PV MLPAP_TIC-0757.PV MLPAP_V125-PHD  \n",
       "NaT                   NaN              NaN               NaN          0.006  \n",
       "\n",
       "[1 rows x 93 columns]"
      ]
     },
     "execution_count": 7,
     "metadata": {},
     "output_type": "execute_result"
    }
   ],
   "source": [
    "df.iloc[[-1]]"
   ]
  },
  {
   "cell_type": "code",
   "execution_count": 8,
   "metadata": {},
   "outputs": [
    {
     "name": "stdout",
     "output_type": "stream",
     "text": [
      "(193825, 93)\n",
      "(193824, 93)\n"
     ]
    }
   ],
   "source": [
    "print(df.shape)\n",
    "df = df.iloc[:-1,:]\n",
    "print(df.shape)"
   ]
  },
  {
   "cell_type": "markdown",
   "metadata": {},
   "source": [
    "# HANDLE DATA OF USE COL"
   ]
  },
  {
   "cell_type": "code",
   "execution_count": 9,
   "metadata": {},
   "outputs": [],
   "source": [
    "df['DATA OF USE'] = df['DATA OF USE'].apply(lambda x:str(x).split('*')[1])"
   ]
  },
  {
   "cell_type": "code",
   "execution_count": 10,
   "metadata": {},
   "outputs": [
    {
     "data": {
      "text/html": [
       "<div>\n",
       "<style scoped>\n",
       "    .dataframe tbody tr th:only-of-type {\n",
       "        vertical-align: middle;\n",
       "    }\n",
       "\n",
       "    .dataframe tbody tr th {\n",
       "        vertical-align: top;\n",
       "    }\n",
       "\n",
       "    .dataframe thead th {\n",
       "        text-align: right;\n",
       "    }\n",
       "</style>\n",
       "<table border=\"1\" class=\"dataframe\">\n",
       "  <thead>\n",
       "    <tr style=\"text-align: right;\">\n",
       "      <th></th>\n",
       "      <th>DATA OF USE</th>\n",
       "    </tr>\n",
       "  </thead>\n",
       "  <tbody>\n",
       "    <tr>\n",
       "      <th>2016-05-09 00:00:00</th>\n",
       "      <td>1</td>\n",
       "    </tr>\n",
       "    <tr>\n",
       "      <th>2016-05-09 00:10:00</th>\n",
       "      <td>2</td>\n",
       "    </tr>\n",
       "    <tr>\n",
       "      <th>2016-05-09 00:20:00</th>\n",
       "      <td>3</td>\n",
       "    </tr>\n",
       "    <tr>\n",
       "      <th>2016-05-09 00:30:00</th>\n",
       "      <td>4</td>\n",
       "    </tr>\n",
       "    <tr>\n",
       "      <th>2016-05-09 00:40:00</th>\n",
       "      <td>5</td>\n",
       "    </tr>\n",
       "  </tbody>\n",
       "</table>\n",
       "</div>"
      ],
      "text/plain": [
       "                    DATA OF USE\n",
       "2016-05-09 00:00:00           1\n",
       "2016-05-09 00:10:00           2\n",
       "2016-05-09 00:20:00           3\n",
       "2016-05-09 00:30:00           4\n",
       "2016-05-09 00:40:00           5"
      ]
     },
     "execution_count": 10,
     "metadata": {},
     "output_type": "execute_result"
    }
   ],
   "source": [
    "df[['DATA OF USE']].head()"
   ]
  },
  {
   "cell_type": "code",
   "execution_count": 11,
   "metadata": {},
   "outputs": [
    {
     "data": {
      "text/html": [
       "<div>\n",
       "<style scoped>\n",
       "    .dataframe tbody tr th:only-of-type {\n",
       "        vertical-align: middle;\n",
       "    }\n",
       "\n",
       "    .dataframe tbody tr th {\n",
       "        vertical-align: top;\n",
       "    }\n",
       "\n",
       "    .dataframe thead th {\n",
       "        text-align: right;\n",
       "    }\n",
       "</style>\n",
       "<table border=\"1\" class=\"dataframe\">\n",
       "  <thead>\n",
       "    <tr style=\"text-align: right;\">\n",
       "      <th></th>\n",
       "      <th>DATA OF USE</th>\n",
       "    </tr>\n",
       "  </thead>\n",
       "  <tbody>\n",
       "    <tr>\n",
       "      <th>2020-01-14 23:10:00</th>\n",
       "      <td>193820</td>\n",
       "    </tr>\n",
       "    <tr>\n",
       "      <th>2020-01-14 23:20:00</th>\n",
       "      <td>193821</td>\n",
       "    </tr>\n",
       "    <tr>\n",
       "      <th>2020-01-14 23:30:00</th>\n",
       "      <td>193822</td>\n",
       "    </tr>\n",
       "    <tr>\n",
       "      <th>2020-01-14 23:40:00</th>\n",
       "      <td>193823</td>\n",
       "    </tr>\n",
       "    <tr>\n",
       "      <th>2020-01-14 23:50:00</th>\n",
       "      <td>193824</td>\n",
       "    </tr>\n",
       "  </tbody>\n",
       "</table>\n",
       "</div>"
      ],
      "text/plain": [
       "                    DATA OF USE\n",
       "2020-01-14 23:10:00      193820\n",
       "2020-01-14 23:20:00      193821\n",
       "2020-01-14 23:30:00      193822\n",
       "2020-01-14 23:40:00      193823\n",
       "2020-01-14 23:50:00      193824"
      ]
     },
     "execution_count": 11,
     "metadata": {},
     "output_type": "execute_result"
    }
   ],
   "source": [
    "df[['DATA OF USE']].tail()"
   ]
  },
  {
   "cell_type": "markdown",
   "metadata": {},
   "source": [
    "# to_numeric"
   ]
  },
  {
   "cell_type": "code",
   "execution_count": 12,
   "metadata": {},
   "outputs": [],
   "source": [
    "df = df.replace(\"[-11059] No Good Data For Calculation\",np.nan)"
   ]
  },
  {
   "cell_type": "code",
   "execution_count": 13,
   "metadata": {},
   "outputs": [],
   "source": [
    "df = df.replace(\"Scan Off\",np.nan)"
   ]
  },
  {
   "cell_type": "code",
   "execution_count": 14,
   "metadata": {},
   "outputs": [
    {
     "data": {
      "application/vnd.jupyter.widget-view+json": {
       "model_id": "62a13657021043c5931986be6672cda8",
       "version_major": 2,
       "version_minor": 0
      },
      "text/plain": [
       "HBox(children=(FloatProgress(value=0.0, max=93.0), HTML(value='')))"
      ]
     },
     "metadata": {},
     "output_type": "display_data"
    },
    {
     "name": "stdout",
     "output_type": "stream",
     "text": [
      "\n",
      "MLPAP_TI-0706B02         float64\n",
      "MLPAP_TI-0706B03         float64\n",
      "MLPAP_TI-0706B04         float64\n",
      "MLPAP_TI-0706B05         float64\n",
      "MLPAP_TI-0706B06         float64\n",
      "                          ...   \n",
      "MLPAP_FI-V211.PV         float64\n",
      "MLPAP_FI-V211.PV(轉換後)    float64\n",
      "MLPAP_PI-0658.PV         float64\n",
      "MLPAP_TIC-0757.PV        float64\n",
      "MLPAP_V125-PHD           float64\n",
      "Length: 93, dtype: object\n"
     ]
    }
   ],
   "source": [
    "for col in tqdm(df.columns):\n",
    "    df[col] = pd.to_numeric(df[col])\n",
    "print(df.dtypes)"
   ]
  },
  {
   "cell_type": "markdown",
   "metadata": {},
   "source": [
    "# Missing Data"
   ]
  },
  {
   "cell_type": "code",
   "execution_count": 15,
   "metadata": {},
   "outputs": [
    {
     "data": {
      "text/plain": [
       "<matplotlib.axes._subplots.AxesSubplot at 0x7fcc321fd4e0>"
      ]
     },
     "execution_count": 15,
     "metadata": {},
     "output_type": "execute_result"
    },
    {
     "data": {
      "image/png": "[encoded data removed]",
      "text/plain": [
       "<Figure size 1440x360 with 1 Axes>"
      ]
     },
     "metadata": {
      "needs_background": "light"
     },
     "output_type": "display_data"
    }
   ],
   "source": [
    "fig = plt.figure(figsize=(20,5))\n",
    "sns.heatmap(df.isnull(),yticklabels=False,cbar=False,cmap='viridis')"
   ]
  },
  {
   "cell_type": "code",
   "execution_count": 16,
   "metadata": {},
   "outputs": [
    {
     "name": "stdout",
     "output_type": "stream",
     "text": [
      "三個欄位有嚴重缺值情況:\n"
     ]
    },
    {
     "data": {
      "text/plain": [
       "MLPAP_PIC-0741.PV        131754\n",
       "MLPAP_FI-V211.PV(轉換後)    117661\n",
       "MLPAP_FI-V211.PV         117661\n",
       "dtype: int64"
      ]
     },
     "execution_count": 16,
     "metadata": {},
     "output_type": "execute_result"
    }
   ],
   "source": [
    "print('三個欄位有嚴重缺值情況:')\n",
    "df.isnull().sum().sort_values(ascending=False).head(3)"
   ]
  },
  {
   "cell_type": "markdown",
   "metadata": {},
   "source": [
    "# describe"
   ]
  },
  {
   "cell_type": "code",
   "execution_count": 17,
   "metadata": {},
   "outputs": [
    {
     "data": {
      "text/html": [
       "<div>\n",
       "<style scoped>\n",
       "    .dataframe tbody tr th:only-of-type {\n",
       "        vertical-align: middle;\n",
       "    }\n",
       "\n",
       "    .dataframe tbody tr th {\n",
       "        vertical-align: top;\n",
       "    }\n",
       "\n",
       "    .dataframe thead th {\n",
       "        text-align: right;\n",
       "    }\n",
       "</style>\n",
       "<table border=\"1\" class=\"dataframe\">\n",
       "  <thead>\n",
       "    <tr style=\"text-align: right;\">\n",
       "      <th></th>\n",
       "      <th>MLPAP_FI-V211.PV</th>\n",
       "      <th>MLPAP_FI-V211.PV(轉換後)</th>\n",
       "      <th>MLPAP_PIC-0741.PV</th>\n",
       "    </tr>\n",
       "  </thead>\n",
       "  <tbody>\n",
       "    <tr>\n",
       "      <th>count</th>\n",
       "      <td>76163.000000</td>\n",
       "      <td>76163.000000</td>\n",
       "      <td>62070.000000</td>\n",
       "    </tr>\n",
       "    <tr>\n",
       "      <th>mean</th>\n",
       "      <td>2891.429681</td>\n",
       "      <td>2887.531708</td>\n",
       "      <td>15.116182</td>\n",
       "    </tr>\n",
       "    <tr>\n",
       "      <th>std</th>\n",
       "      <td>2993.745208</td>\n",
       "      <td>2989.709302</td>\n",
       "      <td>13.884606</td>\n",
       "    </tr>\n",
       "    <tr>\n",
       "      <th>min</th>\n",
       "      <td>0.000000</td>\n",
       "      <td>0.000000</td>\n",
       "      <td>0.000000</td>\n",
       "    </tr>\n",
       "    <tr>\n",
       "      <th>25%</th>\n",
       "      <td>0.000000</td>\n",
       "      <td>0.000000</td>\n",
       "      <td>0.100000</td>\n",
       "    </tr>\n",
       "    <tr>\n",
       "      <th>50%</th>\n",
       "      <td>1437.000000</td>\n",
       "      <td>1435.062762</td>\n",
       "      <td>23.185018</td>\n",
       "    </tr>\n",
       "    <tr>\n",
       "      <th>75%</th>\n",
       "      <td>6579.463056</td>\n",
       "      <td>6570.593199</td>\n",
       "      <td>28.000000</td>\n",
       "    </tr>\n",
       "    <tr>\n",
       "      <th>max</th>\n",
       "      <td>7356.329160</td>\n",
       "      <td>7346.411999</td>\n",
       "      <td>49.435625</td>\n",
       "    </tr>\n",
       "  </tbody>\n",
       "</table>\n",
       "</div>"
      ],
      "text/plain": [
       "       MLPAP_FI-V211.PV  MLPAP_FI-V211.PV(轉換後)  MLPAP_PIC-0741.PV\n",
       "count      76163.000000           76163.000000       62070.000000\n",
       "mean        2891.429681            2887.531708          15.116182\n",
       "std         2993.745208            2989.709302          13.884606\n",
       "min            0.000000               0.000000           0.000000\n",
       "25%            0.000000               0.000000           0.100000\n",
       "50%         1437.000000            1435.062762          23.185018\n",
       "75%         6579.463056            6570.593199          28.000000\n",
       "max         7356.329160            7346.411999          49.435625"
      ]
     },
     "execution_count": 17,
     "metadata": {},
     "output_type": "execute_result"
    }
   ],
   "source": [
    "df[['MLPAP_FI-V211.PV','MLPAP_FI-V211.PV(轉換後)','MLPAP_PIC-0741.PV']].describe()"
   ]
  },
  {
   "cell_type": "markdown",
   "metadata": {},
   "source": [
    "# boxplot"
   ]
  },
  {
   "cell_type": "code",
   "execution_count": 18,
   "metadata": {},
   "outputs": [
    {
     "data": {
      "image/png": "[encoded data removed]",
      "text/plain": [
       "<Figure size 432x288 with 1 Axes>"
      ]
     },
     "metadata": {
      "needs_background": "light"
     },
     "output_type": "display_data"
    },
    {
     "data": {
      "image/png": "[encoded data removed]",
      "text/plain": [
       "<Figure size 432x288 with 1 Axes>"
      ]
     },
     "metadata": {
      "needs_background": "light"
     },
     "output_type": "display_data"
    }
   ],
   "source": [
    "df[['MLPAP_PIC-0741.PV']].plot(kind='box')\n",
    "plt.show()\n",
    "\n",
    "df[['MLPAP_FI-V211.PV','MLPAP_FI-V211.PV(轉換後)']].plot(kind='box')\n",
    "plt.show()"
   ]
  },
  {
   "cell_type": "markdown",
   "metadata": {},
   "source": [
    "# correlation(證明補值必要性)"
   ]
  },
  {
   "cell_type": "code",
   "execution_count": 19,
   "metadata": {},
   "outputs": [
    {
     "data": {
      "text/html": [
       "<style  type=\"text/css\" >\n",
       "    #T_db087a36_4d37_11ea_ba0a_b9937a149d2drow0_col0 {\n",
       "            background-color:  #023858;\n",
       "            color:  #f1f1f1;\n",
       "        }    #T_db087a36_4d37_11ea_ba0a_b9937a149d2drow0_col1 {\n",
       "            background-color:  #1278b4;\n",
       "            color:  #f1f1f1;\n",
       "        }    #T_db087a36_4d37_11ea_ba0a_b9937a149d2drow0_col2 {\n",
       "            background-color:  #1278b4;\n",
       "            color:  #f1f1f1;\n",
       "        }    #T_db087a36_4d37_11ea_ba0a_b9937a149d2drow0_col3 {\n",
       "            background-color:  #589ec8;\n",
       "            color:  #000000;\n",
       "        }    #T_db087a36_4d37_11ea_ba0a_b9937a149d2drow0_col4 {\n",
       "            background-color:  #5a9ec9;\n",
       "            color:  #000000;\n",
       "        }    #T_db087a36_4d37_11ea_ba0a_b9937a149d2drow1_col0 {\n",
       "            background-color:  #a8bedc;\n",
       "            color:  #000000;\n",
       "        }    #T_db087a36_4d37_11ea_ba0a_b9937a149d2drow1_col1 {\n",
       "            background-color:  #023858;\n",
       "            color:  #f1f1f1;\n",
       "        }    #T_db087a36_4d37_11ea_ba0a_b9937a149d2drow1_col2 {\n",
       "            background-color:  #023858;\n",
       "            color:  #f1f1f1;\n",
       "        }    #T_db087a36_4d37_11ea_ba0a_b9937a149d2drow1_col3 {\n",
       "            background-color:  #fff7fb;\n",
       "            color:  #000000;\n",
       "        }    #T_db087a36_4d37_11ea_ba0a_b9937a149d2drow1_col4 {\n",
       "            background-color:  #fff7fb;\n",
       "            color:  #000000;\n",
       "        }    #T_db087a36_4d37_11ea_ba0a_b9937a149d2drow2_col0 {\n",
       "            background-color:  #a8bedc;\n",
       "            color:  #000000;\n",
       "        }    #T_db087a36_4d37_11ea_ba0a_b9937a149d2drow2_col1 {\n",
       "            background-color:  #023858;\n",
       "            color:  #f1f1f1;\n",
       "        }    #T_db087a36_4d37_11ea_ba0a_b9937a149d2drow2_col2 {\n",
       "            background-color:  #023858;\n",
       "            color:  #f1f1f1;\n",
       "        }    #T_db087a36_4d37_11ea_ba0a_b9937a149d2drow2_col3 {\n",
       "            background-color:  #fff7fb;\n",
       "            color:  #000000;\n",
       "        }    #T_db087a36_4d37_11ea_ba0a_b9937a149d2drow2_col4 {\n",
       "            background-color:  #fff7fb;\n",
       "            color:  #000000;\n",
       "        }    #T_db087a36_4d37_11ea_ba0a_b9937a149d2drow3_col0 {\n",
       "            background-color:  #f9f2f8;\n",
       "            color:  #000000;\n",
       "        }    #T_db087a36_4d37_11ea_ba0a_b9937a149d2drow3_col1 {\n",
       "            background-color:  #faf3f9;\n",
       "            color:  #000000;\n",
       "        }    #T_db087a36_4d37_11ea_ba0a_b9937a149d2drow3_col2 {\n",
       "            background-color:  #faf3f9;\n",
       "            color:  #000000;\n",
       "        }    #T_db087a36_4d37_11ea_ba0a_b9937a149d2drow3_col3 {\n",
       "            background-color:  #023858;\n",
       "            color:  #f1f1f1;\n",
       "        }    #T_db087a36_4d37_11ea_ba0a_b9937a149d2drow3_col4 {\n",
       "            background-color:  #023d60;\n",
       "            color:  #f1f1f1;\n",
       "        }    #T_db087a36_4d37_11ea_ba0a_b9937a149d2drow4_col0 {\n",
       "            background-color:  #fff7fb;\n",
       "            color:  #000000;\n",
       "        }    #T_db087a36_4d37_11ea_ba0a_b9937a149d2drow4_col1 {\n",
       "            background-color:  #fff7fb;\n",
       "            color:  #000000;\n",
       "        }    #T_db087a36_4d37_11ea_ba0a_b9937a149d2drow4_col2 {\n",
       "            background-color:  #fff7fb;\n",
       "            color:  #000000;\n",
       "        }    #T_db087a36_4d37_11ea_ba0a_b9937a149d2drow4_col3 {\n",
       "            background-color:  #023d60;\n",
       "            color:  #f1f1f1;\n",
       "        }    #T_db087a36_4d37_11ea_ba0a_b9937a149d2drow4_col4 {\n",
       "            background-color:  #023858;\n",
       "            color:  #f1f1f1;\n",
       "        }</style><table id=\"T_db087a36_4d37_11ea_ba0a_b9937a149d2d\" ><thead>    <tr>        <th class=\"blank level0\" ></th>        <th class=\"col_heading level0 col0\" >MLPAP_PIC-0741.PV</th>        <th class=\"col_heading level0 col1\" >MLPAP_FI-V211.PV</th>        <th class=\"col_heading level0 col2\" >MLPAP_FI-V211.PV(轉換後)</th>        <th class=\"col_heading level0 col3\" >MLPAP_FQ-0619.PV</th>        <th class=\"col_heading level0 col4\" >MLPAP_FQI-0997.PV</th>    </tr></thead><tbody>\n",
       "                <tr>\n",
       "                        <th id=\"T_db087a36_4d37_11ea_ba0a_b9937a149d2dlevel0_row0\" class=\"row_heading level0 row0\" >MLPAP_PIC-0741.PV</th>\n",
       "                        <td id=\"T_db087a36_4d37_11ea_ba0a_b9937a149d2drow0_col0\" class=\"data row0 col0\" >1</td>\n",
       "                        <td id=\"T_db087a36_4d37_11ea_ba0a_b9937a149d2drow0_col1\" class=\"data row0 col1\" >0.897309</td>\n",
       "                        <td id=\"T_db087a36_4d37_11ea_ba0a_b9937a149d2drow0_col2\" class=\"data row0 col2\" >0.897309</td>\n",
       "                        <td id=\"T_db087a36_4d37_11ea_ba0a_b9937a149d2drow0_col3\" class=\"data row0 col3\" >0.84405</td>\n",
       "                        <td id=\"T_db087a36_4d37_11ea_ba0a_b9937a149d2drow0_col4\" class=\"data row0 col4\" >0.837644</td>\n",
       "            </tr>\n",
       "            <tr>\n",
       "                        <th id=\"T_db087a36_4d37_11ea_ba0a_b9937a149d2dlevel0_row1\" class=\"row_heading level0 row1\" >MLPAP_FI-V211.PV</th>\n",
       "                        <td id=\"T_db087a36_4d37_11ea_ba0a_b9937a149d2drow1_col0\" class=\"data row1 col0\" >0.897309</td>\n",
       "                        <td id=\"T_db087a36_4d37_11ea_ba0a_b9937a149d2drow1_col1\" class=\"data row1 col1\" >1</td>\n",
       "                        <td id=\"T_db087a36_4d37_11ea_ba0a_b9937a149d2drow1_col2\" class=\"data row1 col2\" >1</td>\n",
       "                        <td id=\"T_db087a36_4d37_11ea_ba0a_b9937a149d2drow1_col3\" class=\"data row1 col3\" >0.648519</td>\n",
       "                        <td id=\"T_db087a36_4d37_11ea_ba0a_b9937a149d2drow1_col4\" class=\"data row1 col4\" >0.636417</td>\n",
       "            </tr>\n",
       "            <tr>\n",
       "                        <th id=\"T_db087a36_4d37_11ea_ba0a_b9937a149d2dlevel0_row2\" class=\"row_heading level0 row2\" >MLPAP_FI-V211.PV(轉換後)</th>\n",
       "                        <td id=\"T_db087a36_4d37_11ea_ba0a_b9937a149d2drow2_col0\" class=\"data row2 col0\" >0.897309</td>\n",
       "                        <td id=\"T_db087a36_4d37_11ea_ba0a_b9937a149d2drow2_col1\" class=\"data row2 col1\" >1</td>\n",
       "                        <td id=\"T_db087a36_4d37_11ea_ba0a_b9937a149d2drow2_col2\" class=\"data row2 col2\" >1</td>\n",
       "                        <td id=\"T_db087a36_4d37_11ea_ba0a_b9937a149d2drow2_col3\" class=\"data row2 col3\" >0.648519</td>\n",
       "                        <td id=\"T_db087a36_4d37_11ea_ba0a_b9937a149d2drow2_col4\" class=\"data row2 col4\" >0.636417</td>\n",
       "            </tr>\n",
       "            <tr>\n",
       "                        <th id=\"T_db087a36_4d37_11ea_ba0a_b9937a149d2dlevel0_row3\" class=\"row_heading level0 row3\" >MLPAP_FQ-0619.PV</th>\n",
       "                        <td id=\"T_db087a36_4d37_11ea_ba0a_b9937a149d2drow3_col0\" class=\"data row3 col0\" >0.84405</td>\n",
       "                        <td id=\"T_db087a36_4d37_11ea_ba0a_b9937a149d2drow3_col1\" class=\"data row3 col1\" >0.648519</td>\n",
       "                        <td id=\"T_db087a36_4d37_11ea_ba0a_b9937a149d2drow3_col2\" class=\"data row3 col2\" >0.648519</td>\n",
       "                        <td id=\"T_db087a36_4d37_11ea_ba0a_b9937a149d2drow3_col3\" class=\"data row3 col3\" >1</td>\n",
       "                        <td id=\"T_db087a36_4d37_11ea_ba0a_b9937a149d2drow3_col4\" class=\"data row3 col4\" >0.992673</td>\n",
       "            </tr>\n",
       "            <tr>\n",
       "                        <th id=\"T_db087a36_4d37_11ea_ba0a_b9937a149d2dlevel0_row4\" class=\"row_heading level0 row4\" >MLPAP_FQI-0997.PV</th>\n",
       "                        <td id=\"T_db087a36_4d37_11ea_ba0a_b9937a149d2drow4_col0\" class=\"data row4 col0\" >0.837644</td>\n",
       "                        <td id=\"T_db087a36_4d37_11ea_ba0a_b9937a149d2drow4_col1\" class=\"data row4 col1\" >0.636417</td>\n",
       "                        <td id=\"T_db087a36_4d37_11ea_ba0a_b9937a149d2drow4_col2\" class=\"data row4 col2\" >0.636417</td>\n",
       "                        <td id=\"T_db087a36_4d37_11ea_ba0a_b9937a149d2drow4_col3\" class=\"data row4 col3\" >0.992673</td>\n",
       "                        <td id=\"T_db087a36_4d37_11ea_ba0a_b9937a149d2drow4_col4\" class=\"data row4 col4\" >1</td>\n",
       "            </tr>\n",
       "    </tbody></table>"
      ],
      "text/plain": [
       "<pandas.io.formats.style.Styler at 0x7fcc3ce02278>"
      ]
     },
     "execution_count": 19,
     "metadata": {},
     "output_type": "execute_result"
    }
   ],
   "source": [
    "col = ['MLPAP_PIC-0741.PV','MLPAP_FI-V211.PV','MLPAP_FI-V211.PV(轉換後)','MLPAP_FQ-0619.PV','MLPAP_FQI-0997.PV']\n",
    "df[col].corr().style.background_gradient()"
   ]
  },
  {
   "cell_type": "markdown",
   "metadata": {},
   "source": [
    "# KNN 實驗"
   ]
  },
  {
   "cell_type": "code",
   "execution_count": 20,
   "metadata": {},
   "outputs": [
    {
     "data": {
      "text/plain": [
       "MLPAP_PIC-0741.PV      1.000000\n",
       "MLPAP_TJR-0721.PV      0.907504\n",
       "MLPAP_TIC-0757A.PV     0.904367\n",
       "MLPAP_TI-0716A06       0.899273\n",
       "MLPAP_TI-0716C01       0.899050\n",
       "                         ...   \n",
       "MLPAP_TIC-0757.PV     -0.010029\n",
       "MLPAP_V125-PHD        -0.027146\n",
       "DATA OF USE           -0.035826\n",
       "MLPAP_TI-0706B01      -0.084016\n",
       "MLPAP_TJR-0762A1.PV         NaN\n",
       "Name: MLPAP_PIC-0741.PV, Length: 93, dtype: float64"
      ]
     },
     "execution_count": 20,
     "metadata": {},
     "output_type": "execute_result"
    }
   ],
   "source": [
    "df.corr()['MLPAP_PIC-0741.PV'].sort_values(ascending=False)"
   ]
  },
  {
   "cell_type": "code",
   "execution_count": 30,
   "metadata": {},
   "outputs": [
    {
     "data": {
      "text/html": [
       "<div>\n",
       "<style scoped>\n",
       "    .dataframe tbody tr th:only-of-type {\n",
       "        vertical-align: middle;\n",
       "    }\n",
       "\n",
       "    .dataframe tbody tr th {\n",
       "        vertical-align: top;\n",
       "    }\n",
       "\n",
       "    .dataframe thead th {\n",
       "        text-align: right;\n",
       "    }\n",
       "</style>\n",
       "<table border=\"1\" class=\"dataframe\">\n",
       "  <thead>\n",
       "    <tr style=\"text-align: right;\">\n",
       "      <th></th>\n",
       "      <th>MLPAP_PIC-0741.PV</th>\n",
       "      <th>MLPAP_TJR-0721.PV</th>\n",
       "      <th>MLPAP_TIC-0757A.PV</th>\n",
       "    </tr>\n",
       "  </thead>\n",
       "  <tbody>\n",
       "    <tr>\n",
       "      <th>2019-02-03 02:40:00</th>\n",
       "      <td>28.8</td>\n",
       "      <td>350.29</td>\n",
       "      <td>348.78</td>\n",
       "    </tr>\n",
       "    <tr>\n",
       "      <th>2019-08-10 20:40:00</th>\n",
       "      <td>0.2</td>\n",
       "      <td>71.80</td>\n",
       "      <td>52.00</td>\n",
       "    </tr>\n",
       "    <tr>\n",
       "      <th>2017-04-04 23:50:00</th>\n",
       "      <td>NaN</td>\n",
       "      <td>346.90</td>\n",
       "      <td>346.14</td>\n",
       "    </tr>\n",
       "    <tr>\n",
       "      <th>2019-03-13 13:50:00</th>\n",
       "      <td>0.4</td>\n",
       "      <td>105.56</td>\n",
       "      <td>121.97</td>\n",
       "    </tr>\n",
       "    <tr>\n",
       "      <th>2019-12-19 01:10:00</th>\n",
       "      <td>28.0</td>\n",
       "      <td>354.60</td>\n",
       "      <td>354.04</td>\n",
       "    </tr>\n",
       "  </tbody>\n",
       "</table>\n",
       "</div>"
      ],
      "text/plain": [
       "                     MLPAP_PIC-0741.PV  MLPAP_TJR-0721.PV  MLPAP_TIC-0757A.PV\n",
       "2019-02-03 02:40:00               28.8             350.29              348.78\n",
       "2019-08-10 20:40:00                0.2              71.80               52.00\n",
       "2017-04-04 23:50:00                NaN             346.90              346.14\n",
       "2019-03-13 13:50:00                0.4             105.56              121.97\n",
       "2019-12-19 01:10:00               28.0             354.60              354.04"
      ]
     },
     "execution_count": 30,
     "metadata": {},
     "output_type": "execute_result"
    }
   ],
   "source": [
    "c1 = df['MLPAP_PIC-0741.PV'].isnull()\n",
    "c2 = df['MLPAP_PIC-0741.PV'].notnull()\n",
    "subset_1 = df.loc[c1,['MLPAP_PIC-0741.PV','MLPAP_TJR-0721.PV','MLPAP_TIC-0757A.PV']].sample(10)\n",
    "subset_2 = df.loc[c2,['MLPAP_PIC-0741.PV','MLPAP_TJR-0721.PV','MLPAP_TIC-0757A.PV']].sample(90)\n",
    "subset = subset_1.append(subset_2)\n",
    "subset = shuffle(subset)\n",
    "subset = subset.apply(lambda x:round(x,2))\n",
    "subset.head()"
   ]
  },
  {
   "cell_type": "code",
   "execution_count": 31,
   "metadata": {},
   "outputs": [
    {
     "data": {
      "text/html": [
       "<div>\n",
       "<style scoped>\n",
       "    .dataframe tbody tr th:only-of-type {\n",
       "        vertical-align: middle;\n",
       "    }\n",
       "\n",
       "    .dataframe tbody tr th {\n",
       "        vertical-align: top;\n",
       "    }\n",
       "\n",
       "    .dataframe thead th {\n",
       "        text-align: right;\n",
       "    }\n",
       "</style>\n",
       "<table border=\"1\" class=\"dataframe\">\n",
       "  <thead>\n",
       "    <tr style=\"text-align: right;\">\n",
       "      <th></th>\n",
       "      <th>MLPAP_PIC-0741.PV</th>\n",
       "      <th>MLPAP_TJR-0721.PV</th>\n",
       "      <th>MLPAP_TIC-0757A.PV</th>\n",
       "    </tr>\n",
       "  </thead>\n",
       "  <tbody>\n",
       "    <tr>\n",
       "      <th>2019-02-03 02:40:00</th>\n",
       "      <td>1.0867</td>\n",
       "      <td>0.9358</td>\n",
       "      <td>0.8885</td>\n",
       "    </tr>\n",
       "    <tr>\n",
       "      <th>2019-08-10 20:40:00</th>\n",
       "      <td>-1.0398</td>\n",
       "      <td>-0.9965</td>\n",
       "      <td>-1.1110</td>\n",
       "    </tr>\n",
       "    <tr>\n",
       "      <th>2017-04-04 23:50:00</th>\n",
       "      <td>NaN</td>\n",
       "      <td>0.9123</td>\n",
       "      <td>0.8707</td>\n",
       "    </tr>\n",
       "    <tr>\n",
       "      <th>2019-03-13 13:50:00</th>\n",
       "      <td>-1.0249</td>\n",
       "      <td>-0.7623</td>\n",
       "      <td>-0.6396</td>\n",
       "    </tr>\n",
       "    <tr>\n",
       "      <th>2019-12-19 01:10:00</th>\n",
       "      <td>1.0272</td>\n",
       "      <td>0.9657</td>\n",
       "      <td>0.9239</td>\n",
       "    </tr>\n",
       "  </tbody>\n",
       "</table>\n",
       "</div>"
      ],
      "text/plain": [
       "                     MLPAP_PIC-0741.PV  MLPAP_TJR-0721.PV  MLPAP_TIC-0757A.PV\n",
       "2019-02-03 02:40:00             1.0867             0.9358              0.8885\n",
       "2019-08-10 20:40:00            -1.0398            -0.9965             -1.1110\n",
       "2017-04-04 23:50:00                NaN             0.9123              0.8707\n",
       "2019-03-13 13:50:00            -1.0249            -0.7623             -0.6396\n",
       "2019-12-19 01:10:00             1.0272             0.9657              0.9239"
      ]
     },
     "execution_count": 31,
     "metadata": {},
     "output_type": "execute_result"
    }
   ],
   "source": [
    "from sklearn.preprocessing import StandardScaler\n",
    "\n",
    "sc = StandardScaler()\n",
    "subset[:] = sc.fit_transform(subset[:])\n",
    "subset = subset.apply(lambda x:round(x,4))\n",
    "subset.head()"
   ]
  },
  {
   "cell_type": "code",
   "execution_count": 32,
   "metadata": {},
   "outputs": [
    {
     "data": {
      "text/plain": [
       "MLPAP_PIC-0741.PV     10\n",
       "MLPAP_TJR-0721.PV      0\n",
       "MLPAP_TIC-0757A.PV     0\n",
       "dtype: int64"
      ]
     },
     "execution_count": 32,
     "metadata": {},
     "output_type": "execute_result"
    }
   ],
   "source": [
    "subset.isnull().sum()"
   ]
  },
  {
   "cell_type": "code",
   "execution_count": 33,
   "metadata": {},
   "outputs": [
    {
     "data": {
      "application/vnd.plotly.v1+json": {
       "config": {
        "plotlyServerURL": "https://plot.ly"
       },
       "data": [
        {
         "hoverlabel": {
          "namelength": 0
         },
         "hovertemplate": "MLPAP_TJR-0721.PV=%{x}<br>MLPAP_TIC-0757A.PV=%{y}<br>MLPAP_PIC-0741.PV=%{marker.color}",
         "legendgroup": "",
         "marker": {
          "color": [
           1.0867,
           -1.0398,
           null,
           -1.0249,
           1.0272
          ],
          "coloraxis": "coloraxis",
          "symbol": "circle"
         },
         "mode": "markers",
         "name": "",
         "showlegend": false,
         "type": "scatter",
         "x": [
          0.9358,
          -0.9965,
          0.9123,
          -0.7623,
          0.9657
         ],
         "xaxis": "x",
         "y": [
          0.8885,
          -1.111,
          0.8707,
          -0.6396,
          0.9239
         ],
         "yaxis": "y"
        }
       ],
       "layout": {
        "coloraxis": {
         "colorbar": {
          "title": {
           "text": "MLPAP_PIC-0741.PV"
          }
         },
         "colorscale": [
          [
           0,
           "#0d0887"
          ],
          [
           0.1111111111111111,
           "#46039f"
          ],
          [
           0.2222222222222222,
           "#7201a8"
          ],
          [
           0.3333333333333333,
           "#9c179e"
          ],
          [
           0.4444444444444444,
           "#bd3786"
          ],
          [
           0.5555555555555556,
           "#d8576b"
          ],
          [
           0.6666666666666666,
           "#ed7953"
          ],
          [
           0.7777777777777778,
           "#fb9f3a"
          ],
          [
           0.8888888888888888,
           "#fdca26"
          ],
          [
           1,
           "#f0f921"
          ]
         ]
        },
        "legend": {
         "tracegroupgap": 0
        },
        "margin": {
         "t": 60
        },
        "template": {
         "data": {
          "bar": [
           {
            "error_x": {
             "color": "#2a3f5f"
            },
            "error_y": {
             "color": "#2a3f5f"
            },
            "marker": {
             "line": {
              "color": "#E5ECF6",
              "width": 0.5
             }
            },
            "type": "bar"
           }
          ],
          "barpolar": [
           {
            "marker": {
             "line": {
              "color": "#E5ECF6",
              "width": 0.5
             }
            },
            "type": "barpolar"
           }
          ],
          "carpet": [
           {
            "aaxis": {
             "endlinecolor": "#2a3f5f",
             "gridcolor": "white",
             "linecolor": "white",
             "minorgridcolor": "white",
             "startlinecolor": "#2a3f5f"
            },
            "baxis": {
             "endlinecolor": "#2a3f5f",
             "gridcolor": "white",
             "linecolor": "white",
             "minorgridcolor": "white",
             "startlinecolor": "#2a3f5f"
            },
            "type": "carpet"
           }
          ],
          "choropleth": [
           {
            "colorbar": {
             "outlinewidth": 0,
             "ticks": ""
            },
            "type": "choropleth"
           }
          ],
          "contour": [
           {
            "colorbar": {
             "outlinewidth": 0,
             "ticks": ""
            },
            "colorscale": [
             [
              0,
              "#0d0887"
             ],
             [
              0.1111111111111111,
              "#46039f"
             ],
             [
              0.2222222222222222,
              "#7201a8"
             ],
             [
              0.3333333333333333,
              "#9c179e"
             ],
             [
              0.4444444444444444,
              "#bd3786"
             ],
             [
              0.5555555555555556,
              "#d8576b"
             ],
             [
              0.6666666666666666,
              "#ed7953"
             ],
             [
              0.7777777777777778,
              "#fb9f3a"
             ],
             [
              0.8888888888888888,
              "#fdca26"
             ],
             [
              1,
              "#f0f921"
             ]
            ],
            "type": "contour"
           }
          ],
          "contourcarpet": [
           {
            "colorbar": {
             "outlinewidth": 0,
             "ticks": ""
            },
            "type": "contourcarpet"
           }
          ],
          "heatmap": [
           {
            "colorbar": {
             "outlinewidth": 0,
             "ticks": ""
            },
            "colorscale": [
             [
              0,
              "#0d0887"
             ],
             [
              0.1111111111111111,
              "#46039f"
             ],
             [
              0.2222222222222222,
              "#7201a8"
             ],
             [
              0.3333333333333333,
              "#9c179e"
             ],
             [
              0.4444444444444444,
              "#bd3786"
             ],
             [
              0.5555555555555556,
              "#d8576b"
             ],
             [
              0.6666666666666666,
              "#ed7953"
             ],
             [
              0.7777777777777778,
              "#fb9f3a"
             ],
             [
              0.8888888888888888,
              "#fdca26"
             ],
             [
              1,
              "#f0f921"
             ]
            ],
            "type": "heatmap"
           }
          ],
          "heatmapgl": [
           {
            "colorbar": {
             "outlinewidth": 0,
             "ticks": ""
            },
            "colorscale": [
             [
              0,
              "#0d0887"
             ],
             [
              0.1111111111111111,
              "#46039f"
             ],
             [
              0.2222222222222222,
              "#7201a8"
             ],
             [
              0.3333333333333333,
              "#9c179e"
             ],
             [
              0.4444444444444444,
              "#bd3786"
             ],
             [
              0.5555555555555556,
              "#d8576b"
             ],
             [
              0.6666666666666666,
              "#ed7953"
             ],
             [
              0.7777777777777778,
              "#fb9f3a"
             ],
             [
              0.8888888888888888,
              "#fdca26"
             ],
             [
              1,
              "#f0f921"
             ]
            ],
            "type": "heatmapgl"
           }
          ],
          "histogram": [
           {
            "marker": {
             "colorbar": {
              "outlinewidth": 0,
              "ticks": ""
             }
            },
            "type": "histogram"
           }
          ],
          "histogram2d": [
           {
            "colorbar": {
             "outlinewidth": 0,
             "ticks": ""
            },
            "colorscale": [
             [
              0,
              "#0d0887"
             ],
             [
              0.1111111111111111,
              "#46039f"
             ],
             [
              0.2222222222222222,
              "#7201a8"
             ],
             [
              0.3333333333333333,
              "#9c179e"
             ],
             [
              0.4444444444444444,
              "#bd3786"
             ],
             [
              0.5555555555555556,
              "#d8576b"
             ],
             [
              0.6666666666666666,
              "#ed7953"
             ],
             [
              0.7777777777777778,
              "#fb9f3a"
             ],
             [
              0.8888888888888888,
              "#fdca26"
             ],
             [
              1,
              "#f0f921"
             ]
            ],
            "type": "histogram2d"
           }
          ],
          "histogram2dcontour": [
           {
            "colorbar": {
             "outlinewidth": 0,
             "ticks": ""
            },
            "colorscale": [
             [
              0,
              "#0d0887"
             ],
             [
              0.1111111111111111,
              "#46039f"
             ],
             [
              0.2222222222222222,
              "#7201a8"
             ],
             [
              0.3333333333333333,
              "#9c179e"
             ],
             [
              0.4444444444444444,
              "#bd3786"
             ],
             [
              0.5555555555555556,
              "#d8576b"
             ],
             [
              0.6666666666666666,
              "#ed7953"
             ],
             [
              0.7777777777777778,
              "#fb9f3a"
             ],
             [
              0.8888888888888888,
              "#fdca26"
             ],
             [
              1,
              "#f0f921"
             ]
            ],
            "type": "histogram2dcontour"
           }
          ],
          "mesh3d": [
           {
            "colorbar": {
             "outlinewidth": 0,
             "ticks": ""
            },
            "type": "mesh3d"
           }
          ],
          "parcoords": [
           {
            "line": {
             "colorbar": {
              "outlinewidth": 0,
              "ticks": ""
             }
            },
            "type": "parcoords"
           }
          ],
          "pie": [
           {
            "automargin": true,
            "type": "pie"
           }
          ],
          "scatter": [
           {
            "marker": {
             "colorbar": {
              "outlinewidth": 0,
              "ticks": ""
             }
            },
            "type": "scatter"
           }
          ],
          "scatter3d": [
           {
            "line": {
             "colorbar": {
              "outlinewidth": 0,
              "ticks": ""
             }
            },
            "marker": {
             "colorbar": {
              "outlinewidth": 0,
              "ticks": ""
             }
            },
            "type": "scatter3d"
           }
          ],
          "scattercarpet": [
           {
            "marker": {
             "colorbar": {
              "outlinewidth": 0,
              "ticks": ""
             }
            },
            "type": "scattercarpet"
           }
          ],
          "scattergeo": [
           {
            "marker": {
             "colorbar": {
              "outlinewidth": 0,
              "ticks": ""
             }
            },
            "type": "scattergeo"
           }
          ],
          "scattergl": [
           {
            "marker": {
             "colorbar": {
              "outlinewidth": 0,
              "ticks": ""
             }
            },
            "type": "scattergl"
           }
          ],
          "scattermapbox": [
           {
            "marker": {
             "colorbar": {
              "outlinewidth": 0,
              "ticks": ""
             }
            },
            "type": "scattermapbox"
           }
          ],
          "scatterpolar": [
           {
            "marker": {
             "colorbar": {
              "outlinewidth": 0,
              "ticks": ""
             }
            },
            "type": "scatterpolar"
           }
          ],
          "scatterpolargl": [
           {
            "marker": {
             "colorbar": {
              "outlinewidth": 0,
              "ticks": ""
             }
            },
            "type": "scatterpolargl"
           }
          ],
          "scatterternary": [
           {
            "marker": {
             "colorbar": {
              "outlinewidth": 0,
              "ticks": ""
             }
            },
            "type": "scatterternary"
           }
          ],
          "surface": [
           {
            "colorbar": {
             "outlinewidth": 0,
             "ticks": ""
            },
            "colorscale": [
             [
              0,
              "#0d0887"
             ],
             [
              0.1111111111111111,
              "#46039f"
             ],
             [
              0.2222222222222222,
              "#7201a8"
             ],
             [
              0.3333333333333333,
              "#9c179e"
             ],
             [
              0.4444444444444444,
              "#bd3786"
             ],
             [
              0.5555555555555556,
              "#d8576b"
             ],
             [
              0.6666666666666666,
              "#ed7953"
             ],
             [
              0.7777777777777778,
              "#fb9f3a"
             ],
             [
              0.8888888888888888,
              "#fdca26"
             ],
             [
              1,
              "#f0f921"
             ]
            ],
            "type": "surface"
           }
          ],
          "table": [
           {
            "cells": {
             "fill": {
              "color": "#EBF0F8"
             },
             "line": {
              "color": "white"
             }
            },
            "header": {
             "fill": {
              "color": "#C8D4E3"
             },
             "line": {
              "color": "white"
             }
            },
            "type": "table"
           }
          ]
         },
         "layout": {
          "annotationdefaults": {
           "arrowcolor": "#2a3f5f",
           "arrowhead": 0,
           "arrowwidth": 1
          },
          "coloraxis": {
           "colorbar": {
            "outlinewidth": 0,
            "ticks": ""
           }
          },
          "colorscale": {
           "diverging": [
            [
             0,
             "#8e0152"
            ],
            [
             0.1,
             "#c51b7d"
            ],
            [
             0.2,
             "#de77ae"
            ],
            [
             0.3,
             "#f1b6da"
            ],
            [
             0.4,
             "#fde0ef"
            ],
            [
             0.5,
             "#f7f7f7"
            ],
            [
             0.6,
             "#e6f5d0"
            ],
            [
             0.7,
             "#b8e186"
            ],
            [
             0.8,
             "#7fbc41"
            ],
            [
             0.9,
             "#4d9221"
            ],
            [
             1,
             "#276419"
            ]
           ],
           "sequential": [
            [
             0,
             "#0d0887"
            ],
            [
             0.1111111111111111,
             "#46039f"
            ],
            [
             0.2222222222222222,
             "#7201a8"
            ],
            [
             0.3333333333333333,
             "#9c179e"
            ],
            [
             0.4444444444444444,
             "#bd3786"
            ],
            [
             0.5555555555555556,
             "#d8576b"
            ],
            [
             0.6666666666666666,
             "#ed7953"
            ],
            [
             0.7777777777777778,
             "#fb9f3a"
            ],
            [
             0.8888888888888888,
             "#fdca26"
            ],
            [
             1,
             "#f0f921"
            ]
           ],
           "sequentialminus": [
            [
             0,
             "#0d0887"
            ],
            [
             0.1111111111111111,
             "#46039f"
            ],
            [
             0.2222222222222222,
             "#7201a8"
            ],
            [
             0.3333333333333333,
             "#9c179e"
            ],
            [
             0.4444444444444444,
             "#bd3786"
            ],
            [
             0.5555555555555556,
             "#d8576b"
            ],
            [
             0.6666666666666666,
             "#ed7953"
            ],
            [
             0.7777777777777778,
             "#fb9f3a"
            ],
            [
             0.8888888888888888,
             "#fdca26"
            ],
            [
             1,
             "#f0f921"
            ]
           ]
          },
          "colorway": [
           "#636efa",
           "#EF553B",
           "#00cc96",
           "#ab63fa",
           "#FFA15A",
           "#19d3f3",
           "#FF6692",
           "#B6E880",
           "#FF97FF",
           "#FECB52"
          ],
          "font": {
           "color": "#2a3f5f"
          },
          "geo": {
           "bgcolor": "white",
           "lakecolor": "white",
           "landcolor": "#E5ECF6",
           "showlakes": true,
           "showland": true,
           "subunitcolor": "white"
          },
          "hoverlabel": {
           "align": "left"
          },
          "hovermode": "closest",
          "mapbox": {
           "style": "light"
          },
          "paper_bgcolor": "white",
          "plot_bgcolor": "#E5ECF6",
          "polar": {
           "angularaxis": {
            "gridcolor": "white",
            "linecolor": "white",
            "ticks": ""
           },
           "bgcolor": "#E5ECF6",
           "radialaxis": {
            "gridcolor": "white",
            "linecolor": "white",
            "ticks": ""
           }
          },
          "scene": {
           "xaxis": {
            "backgroundcolor": "#E5ECF6",
            "gridcolor": "white",
            "gridwidth": 2,
            "linecolor": "white",
            "showbackground": true,
            "ticks": "",
            "zerolinecolor": "white"
           },
           "yaxis": {
            "backgroundcolor": "#E5ECF6",
            "gridcolor": "white",
            "gridwidth": 2,
            "linecolor": "white",
            "showbackground": true,
            "ticks": "",
            "zerolinecolor": "white"
           },
           "zaxis": {
            "backgroundcolor": "#E5ECF6",
            "gridcolor": "white",
            "gridwidth": 2,
            "linecolor": "white",
            "showbackground": true,
            "ticks": "",
            "zerolinecolor": "white"
           }
          },
          "shapedefaults": {
           "line": {
            "color": "#2a3f5f"
           }
          },
          "ternary": {
           "aaxis": {
            "gridcolor": "white",
            "linecolor": "white",
            "ticks": ""
           },
           "baxis": {
            "gridcolor": "white",
            "linecolor": "white",
            "ticks": ""
           },
           "bgcolor": "#E5ECF6",
           "caxis": {
            "gridcolor": "white",
            "linecolor": "white",
            "ticks": ""
           }
          },
          "title": {
           "x": 0.05
          },
          "xaxis": {
           "automargin": true,
           "gridcolor": "white",
           "linecolor": "white",
           "ticks": "",
           "title": {
            "standoff": 15
           },
           "zerolinecolor": "white",
           "zerolinewidth": 2
          },
          "yaxis": {
           "automargin": true,
           "gridcolor": "white",
           "linecolor": "white",
           "ticks": "",
           "title": {
            "standoff": 15
           },
           "zerolinecolor": "white",
           "zerolinewidth": 2
          }
         }
        },
        "xaxis": {
         "anchor": "y",
         "domain": [
          0,
          1
         ],
         "title": {
          "text": "MLPAP_TJR-0721.PV"
         }
        },
        "yaxis": {
         "anchor": "x",
         "domain": [
          0,
          1
         ],
         "title": {
          "text": "MLPAP_TIC-0757A.PV"
         }
        }
       }
      },
      "text/html": [
       "<div>\n",
       "        \n",
       "        \n",
       "            <div id=\"913d1ad6-5c09-4b7b-82f1-7587e19cf482\" class=\"plotly-graph-div\" style=\"height:525px; width:100%;\"></div>\n",
       "            <script type=\"text/javascript\">\n",
       "                require([\"plotly\"], function(Plotly) {\n",
       "                    window.PLOTLYENV=window.PLOTLYENV || {};\n",
       "                    \n",
       "                if (document.getElementById(\"913d1ad6-5c09-4b7b-82f1-7587e19cf482\")) {\n",
       "                    Plotly.newPlot(\n",
       "                        '913d1ad6-5c09-4b7b-82f1-7587e19cf482',\n",
       "                        [{\"hoverlabel\": {\"namelength\": 0}, \"hovertemplate\": \"MLPAP_TJR-0721.PV=%{x}<br>MLPAP_TIC-0757A.PV=%{y}<br>MLPAP_PIC-0741.PV=%{marker.color}\", \"legendgroup\": \"\", \"marker\": {\"color\": [1.0867, -1.0398, null, -1.0249, 1.0272], \"coloraxis\": \"coloraxis\", \"symbol\": \"circle\"}, \"mode\": \"markers\", \"name\": \"\", \"showlegend\": false, \"type\": \"scatter\", \"x\": [0.9358, -0.9965, 0.9123, -0.7623, 0.9657], \"xaxis\": \"x\", \"y\": [0.8885, -1.111, 0.8707, -0.6396, 0.9239], \"yaxis\": \"y\"}],\n",
       "                        {\"coloraxis\": {\"colorbar\": {\"title\": {\"text\": \"MLPAP_PIC-0741.PV\"}}, \"colorscale\": [[0.0, \"#0d0887\"], [0.1111111111111111, \"#46039f\"], [0.2222222222222222, \"#7201a8\"], [0.3333333333333333, \"#9c179e\"], [0.4444444444444444, \"#bd3786\"], [0.5555555555555556, \"#d8576b\"], [0.6666666666666666, \"#ed7953\"], [0.7777777777777778, \"#fb9f3a\"], [0.8888888888888888, \"#fdca26\"], [1.0, \"#f0f921\"]]}, \"legend\": {\"tracegroupgap\": 0}, \"margin\": {\"t\": 60}, \"template\": {\"data\": {\"bar\": [{\"error_x\": {\"color\": \"#2a3f5f\"}, \"error_y\": {\"color\": \"#2a3f5f\"}, \"marker\": {\"line\": {\"color\": \"#E5ECF6\", \"width\": 0.5}}, \"type\": \"bar\"}], \"barpolar\": [{\"marker\": {\"line\": {\"color\": \"#E5ECF6\", \"width\": 0.5}}, \"type\": \"barpolar\"}], \"carpet\": [{\"aaxis\": {\"endlinecolor\": \"#2a3f5f\", \"gridcolor\": \"white\", \"linecolor\": \"white\", \"minorgridcolor\": \"white\", \"startlinecolor\": \"#2a3f5f\"}, \"baxis\": {\"endlinecolor\": \"#2a3f5f\", \"gridcolor\": \"white\", \"linecolor\": \"white\", \"minorgridcolor\": \"white\", \"startlinecolor\": \"#2a3f5f\"}, \"type\": \"carpet\"}], \"choropleth\": [{\"colorbar\": {\"outlinewidth\": 0, \"ticks\": \"\"}, \"type\": \"choropleth\"}], \"contour\": [{\"colorbar\": {\"outlinewidth\": 0, \"ticks\": \"\"}, \"colorscale\": [[0.0, \"#0d0887\"], [0.1111111111111111, \"#46039f\"], [0.2222222222222222, \"#7201a8\"], [0.3333333333333333, \"#9c179e\"], [0.4444444444444444, \"#bd3786\"], [0.5555555555555556, \"#d8576b\"], [0.6666666666666666, \"#ed7953\"], [0.7777777777777778, \"#fb9f3a\"], [0.8888888888888888, \"#fdca26\"], [1.0, \"#f0f921\"]], \"type\": \"contour\"}], \"contourcarpet\": [{\"colorbar\": {\"outlinewidth\": 0, \"ticks\": \"\"}, \"type\": \"contourcarpet\"}], \"heatmap\": [{\"colorbar\": {\"outlinewidth\": 0, \"ticks\": \"\"}, \"colorscale\": [[0.0, \"#0d0887\"], [0.1111111111111111, \"#46039f\"], [0.2222222222222222, \"#7201a8\"], [0.3333333333333333, \"#9c179e\"], [0.4444444444444444, \"#bd3786\"], [0.5555555555555556, \"#d8576b\"], [0.6666666666666666, \"#ed7953\"], [0.7777777777777778, \"#fb9f3a\"], [0.8888888888888888, \"#fdca26\"], [1.0, \"#f0f921\"]], \"type\": \"heatmap\"}], \"heatmapgl\": [{\"colorbar\": {\"outlinewidth\": 0, \"ticks\": \"\"}, \"colorscale\": [[0.0, \"#0d0887\"], [0.1111111111111111, \"#46039f\"], [0.2222222222222222, \"#7201a8\"], [0.3333333333333333, \"#9c179e\"], [0.4444444444444444, \"#bd3786\"], [0.5555555555555556, \"#d8576b\"], [0.6666666666666666, \"#ed7953\"], [0.7777777777777778, \"#fb9f3a\"], [0.8888888888888888, \"#fdca26\"], [1.0, \"#f0f921\"]], \"type\": \"heatmapgl\"}], \"histogram\": [{\"marker\": {\"colorbar\": {\"outlinewidth\": 0, \"ticks\": \"\"}}, \"type\": \"histogram\"}], \"histogram2d\": [{\"colorbar\": {\"outlinewidth\": 0, \"ticks\": \"\"}, \"colorscale\": [[0.0, \"#0d0887\"], [0.1111111111111111, \"#46039f\"], [0.2222222222222222, \"#7201a8\"], [0.3333333333333333, \"#9c179e\"], [0.4444444444444444, \"#bd3786\"], [0.5555555555555556, \"#d8576b\"], [0.6666666666666666, \"#ed7953\"], [0.7777777777777778, \"#fb9f3a\"], [0.8888888888888888, \"#fdca26\"], [1.0, \"#f0f921\"]], \"type\": \"histogram2d\"}], \"histogram2dcontour\": [{\"colorbar\": {\"outlinewidth\": 0, \"ticks\": \"\"}, \"colorscale\": [[0.0, \"#0d0887\"], [0.1111111111111111, \"#46039f\"], [0.2222222222222222, \"#7201a8\"], [0.3333333333333333, \"#9c179e\"], [0.4444444444444444, \"#bd3786\"], [0.5555555555555556, \"#d8576b\"], [0.6666666666666666, \"#ed7953\"], [0.7777777777777778, \"#fb9f3a\"], [0.8888888888888888, \"#fdca26\"], [1.0, \"#f0f921\"]], \"type\": \"histogram2dcontour\"}], \"mesh3d\": [{\"colorbar\": {\"outlinewidth\": 0, \"ticks\": \"\"}, \"type\": \"mesh3d\"}], \"parcoords\": [{\"line\": {\"colorbar\": {\"outlinewidth\": 0, \"ticks\": \"\"}}, \"type\": \"parcoords\"}], \"pie\": [{\"automargin\": true, \"type\": \"pie\"}], \"scatter\": [{\"marker\": {\"colorbar\": {\"outlinewidth\": 0, \"ticks\": \"\"}}, \"type\": \"scatter\"}], \"scatter3d\": [{\"line\": {\"colorbar\": {\"outlinewidth\": 0, \"ticks\": \"\"}}, \"marker\": {\"colorbar\": {\"outlinewidth\": 0, \"ticks\": \"\"}}, \"type\": \"scatter3d\"}], \"scattercarpet\": [{\"marker\": {\"colorbar\": {\"outlinewidth\": 0, \"ticks\": \"\"}}, \"type\": \"scattercarpet\"}], \"scattergeo\": [{\"marker\": {\"colorbar\": {\"outlinewidth\": 0, \"ticks\": \"\"}}, \"type\": \"scattergeo\"}], \"scattergl\": [{\"marker\": {\"colorbar\": {\"outlinewidth\": 0, \"ticks\": \"\"}}, \"type\": \"scattergl\"}], \"scattermapbox\": [{\"marker\": {\"colorbar\": {\"outlinewidth\": 0, \"ticks\": \"\"}}, \"type\": \"scattermapbox\"}], \"scatterpolar\": [{\"marker\": {\"colorbar\": {\"outlinewidth\": 0, \"ticks\": \"\"}}, \"type\": \"scatterpolar\"}], \"scatterpolargl\": [{\"marker\": {\"colorbar\": {\"outlinewidth\": 0, \"ticks\": \"\"}}, \"type\": \"scatterpolargl\"}], \"scatterternary\": [{\"marker\": {\"colorbar\": {\"outlinewidth\": 0, \"ticks\": \"\"}}, \"type\": \"scatterternary\"}], \"surface\": [{\"colorbar\": {\"outlinewidth\": 0, \"ticks\": \"\"}, \"colorscale\": [[0.0, \"#0d0887\"], [0.1111111111111111, \"#46039f\"], [0.2222222222222222, \"#7201a8\"], [0.3333333333333333, \"#9c179e\"], [0.4444444444444444, \"#bd3786\"], [0.5555555555555556, \"#d8576b\"], [0.6666666666666666, \"#ed7953\"], [0.7777777777777778, \"#fb9f3a\"], [0.8888888888888888, \"#fdca26\"], [1.0, \"#f0f921\"]], \"type\": \"surface\"}], \"table\": [{\"cells\": {\"fill\": {\"color\": \"#EBF0F8\"}, \"line\": {\"color\": \"white\"}}, \"header\": {\"fill\": {\"color\": \"#C8D4E3\"}, \"line\": {\"color\": \"white\"}}, \"type\": \"table\"}]}, \"layout\": {\"annotationdefaults\": {\"arrowcolor\": \"#2a3f5f\", \"arrowhead\": 0, \"arrowwidth\": 1}, \"coloraxis\": {\"colorbar\": {\"outlinewidth\": 0, \"ticks\": \"\"}}, \"colorscale\": {\"diverging\": [[0, \"#8e0152\"], [0.1, \"#c51b7d\"], [0.2, \"#de77ae\"], [0.3, \"#f1b6da\"], [0.4, \"#fde0ef\"], [0.5, \"#f7f7f7\"], [0.6, \"#e6f5d0\"], [0.7, \"#b8e186\"], [0.8, \"#7fbc41\"], [0.9, \"#4d9221\"], [1, \"#276419\"]], \"sequential\": [[0.0, \"#0d0887\"], [0.1111111111111111, \"#46039f\"], [0.2222222222222222, \"#7201a8\"], [0.3333333333333333, \"#9c179e\"], [0.4444444444444444, \"#bd3786\"], [0.5555555555555556, \"#d8576b\"], [0.6666666666666666, \"#ed7953\"], [0.7777777777777778, \"#fb9f3a\"], [0.8888888888888888, \"#fdca26\"], [1.0, \"#f0f921\"]], \"sequentialminus\": [[0.0, \"#0d0887\"], [0.1111111111111111, \"#46039f\"], [0.2222222222222222, \"#7201a8\"], [0.3333333333333333, \"#9c179e\"], [0.4444444444444444, \"#bd3786\"], [0.5555555555555556, \"#d8576b\"], [0.6666666666666666, \"#ed7953\"], [0.7777777777777778, \"#fb9f3a\"], [0.8888888888888888, \"#fdca26\"], [1.0, \"#f0f921\"]]}, \"colorway\": [\"#636efa\", \"#EF553B\", \"#00cc96\", \"#ab63fa\", \"#FFA15A\", \"#19d3f3\", \"#FF6692\", \"#B6E880\", \"#FF97FF\", \"#FECB52\"], \"font\": {\"color\": \"#2a3f5f\"}, \"geo\": {\"bgcolor\": \"white\", \"lakecolor\": \"white\", \"landcolor\": \"#E5ECF6\", \"showlakes\": true, \"showland\": true, \"subunitcolor\": \"white\"}, \"hoverlabel\": {\"align\": \"left\"}, \"hovermode\": \"closest\", \"mapbox\": {\"style\": \"light\"}, \"paper_bgcolor\": \"white\", \"plot_bgcolor\": \"#E5ECF6\", \"polar\": {\"angularaxis\": {\"gridcolor\": \"white\", \"linecolor\": \"white\", \"ticks\": \"\"}, \"bgcolor\": \"#E5ECF6\", \"radialaxis\": {\"gridcolor\": \"white\", \"linecolor\": \"white\", \"ticks\": \"\"}}, \"scene\": {\"xaxis\": {\"backgroundcolor\": \"#E5ECF6\", \"gridcolor\": \"white\", \"gridwidth\": 2, \"linecolor\": \"white\", \"showbackground\": true, \"ticks\": \"\", \"zerolinecolor\": \"white\"}, \"yaxis\": {\"backgroundcolor\": \"#E5ECF6\", \"gridcolor\": \"white\", \"gridwidth\": 2, \"linecolor\": \"white\", \"showbackground\": true, \"ticks\": \"\", \"zerolinecolor\": \"white\"}, \"zaxis\": {\"backgroundcolor\": \"#E5ECF6\", \"gridcolor\": \"white\", \"gridwidth\": 2, \"linecolor\": \"white\", \"showbackground\": true, \"ticks\": \"\", \"zerolinecolor\": \"white\"}}, \"shapedefaults\": {\"line\": {\"color\": \"#2a3f5f\"}}, \"ternary\": {\"aaxis\": {\"gridcolor\": \"white\", \"linecolor\": \"white\", \"ticks\": \"\"}, \"baxis\": {\"gridcolor\": \"white\", \"linecolor\": \"white\", \"ticks\": \"\"}, \"bgcolor\": \"#E5ECF6\", \"caxis\": {\"gridcolor\": \"white\", \"linecolor\": \"white\", \"ticks\": \"\"}}, \"title\": {\"x\": 0.05}, \"xaxis\": {\"automargin\": true, \"gridcolor\": \"white\", \"linecolor\": \"white\", \"ticks\": \"\", \"title\": {\"standoff\": 15}, \"zerolinecolor\": \"white\", \"zerolinewidth\": 2}, \"yaxis\": {\"automargin\": true, \"gridcolor\": \"white\", \"linecolor\": \"white\", \"ticks\": \"\", \"title\": {\"standoff\": 15}, \"zerolinecolor\": \"white\", \"zerolinewidth\": 2}}}, \"xaxis\": {\"anchor\": \"y\", \"domain\": [0.0, 1.0], \"title\": {\"text\": \"MLPAP_TJR-0721.PV\"}}, \"yaxis\": {\"anchor\": \"x\", \"domain\": [0.0, 1.0], \"title\": {\"text\": \"MLPAP_TIC-0757A.PV\"}}},\n",
       "                        {\"responsive\": true}\n",
       "                    ).then(function(){\n",
       "                            \n",
       "var gd = document.getElementById('913d1ad6-5c09-4b7b-82f1-7587e19cf482');\n",
       "var x = new MutationObserver(function (mutations, observer) {{\n",
       "        var display = window.getComputedStyle(gd).display;\n",
       "        if (!display || display === 'none') {{\n",
       "            console.log([gd, 'removed!']);\n",
       "            Plotly.purge(gd);\n",
       "            observer.disconnect();\n",
       "        }}\n",
       "}});\n",
       "\n",
       "// Listen for the removal of the full notebook cells\n",
       "var notebookContainer = gd.closest('#notebook-container');\n",
       "if (notebookContainer) {{\n",
       "    x.observe(notebookContainer, {childList: true});\n",
       "}}\n",
       "\n",
       "// Listen for the clearing of the current output cell\n",
       "var outputEl = gd.closest('.output');\n",
       "if (outputEl) {{\n",
       "    x.observe(outputEl, {childList: true});\n",
       "}}\n",
       "\n",
       "                        })\n",
       "                };\n",
       "                });\n",
       "            </script>\n",
       "        </div>"
      ]
     },
     "metadata": {},
     "output_type": "display_data"
    }
   ],
   "source": [
    "import plotly.express as px\n",
    "\n",
    "fig = px.scatter(subset.head(5), x=\"MLPAP_TJR-0721.PV\",y=\"MLPAP_TIC-0757A.PV\", color=\"MLPAP_PIC-0741.PV\")\n",
    "fig.show()"
   ]
  },
  {
   "cell_type": "code",
   "execution_count": 34,
   "metadata": {},
   "outputs": [],
   "source": [
    "from sklearn.impute import KNNImputer\n",
    "\n",
    "imputer = KNNImputer(n_neighbors = 3)\n",
    "subset[:] = imputer.fit_transform(subset[:])"
   ]
  },
  {
   "cell_type": "code",
   "execution_count": 35,
   "metadata": {},
   "outputs": [
    {
     "data": {
      "application/vnd.plotly.v1+json": {
       "config": {
        "plotlyServerURL": "https://plot.ly"
       },
       "data": [
        {
         "hoverlabel": {
          "namelength": 0
         },
         "hovertemplate": "MLPAP_TJR-0721.PV=%{x}<br>MLPAP_TIC-0757A.PV=%{y}<br>MLPAP_PIC-0741.PV=%{marker.color}",
         "legendgroup": "",
         "marker": {
          "color": [
           1.0867,
           -1.0398,
           1.0867,
           -1.0249,
           1.0272
          ],
          "coloraxis": "coloraxis",
          "symbol": "circle"
         },
         "mode": "markers",
         "name": "",
         "showlegend": false,
         "type": "scatter",
         "x": [
          0.9358,
          -0.9965,
          0.9123,
          -0.7623,
          0.9657
         ],
         "xaxis": "x",
         "y": [
          0.8885,
          -1.111,
          0.8707,
          -0.6396,
          0.9239
         ],
         "yaxis": "y"
        }
       ],
       "layout": {
        "coloraxis": {
         "colorbar": {
          "title": {
           "text": "MLPAP_PIC-0741.PV"
          }
         },
         "colorscale": [
          [
           0,
           "#0d0887"
          ],
          [
           0.1111111111111111,
           "#46039f"
          ],
          [
           0.2222222222222222,
           "#7201a8"
          ],
          [
           0.3333333333333333,
           "#9c179e"
          ],
          [
           0.4444444444444444,
           "#bd3786"
          ],
          [
           0.5555555555555556,
           "#d8576b"
          ],
          [
           0.6666666666666666,
           "#ed7953"
          ],
          [
           0.7777777777777778,
           "#fb9f3a"
          ],
          [
           0.8888888888888888,
           "#fdca26"
          ],
          [
           1,
           "#f0f921"
          ]
         ]
        },
        "legend": {
         "tracegroupgap": 0
        },
        "margin": {
         "t": 60
        },
        "template": {
         "data": {
          "bar": [
           {
            "error_x": {
             "color": "#2a3f5f"
            },
            "error_y": {
             "color": "#2a3f5f"
            },
            "marker": {
             "line": {
              "color": "#E5ECF6",
              "width": 0.5
             }
            },
            "type": "bar"
           }
          ],
          "barpolar": [
           {
            "marker": {
             "line": {
              "color": "#E5ECF6",
              "width": 0.5
             }
            },
            "type": "barpolar"
           }
          ],
          "carpet": [
           {
            "aaxis": {
             "endlinecolor": "#2a3f5f",
             "gridcolor": "white",
             "linecolor": "white",
             "minorgridcolor": "white",
             "startlinecolor": "#2a3f5f"
            },
            "baxis": {
             "endlinecolor": "#2a3f5f",
             "gridcolor": "white",
             "linecolor": "white",
             "minorgridcolor": "white",
             "startlinecolor": "#2a3f5f"
            },
            "type": "carpet"
           }
          ],
          "choropleth": [
           {
            "colorbar": {
             "outlinewidth": 0,
             "ticks": ""
            },
            "type": "choropleth"
           }
          ],
          "contour": [
           {
            "colorbar": {
             "outlinewidth": 0,
             "ticks": ""
            },
            "colorscale": [
             [
              0,
              "#0d0887"
             ],
             [
              0.1111111111111111,
              "#46039f"
             ],
             [
              0.2222222222222222,
              "#7201a8"
             ],
             [
              0.3333333333333333,
              "#9c179e"
             ],
             [
              0.4444444444444444,
              "#bd3786"
             ],
             [
              0.5555555555555556,
              "#d8576b"
             ],
             [
              0.6666666666666666,
              "#ed7953"
             ],
             [
              0.7777777777777778,
              "#fb9f3a"
             ],
             [
              0.8888888888888888,
              "#fdca26"
             ],
             [
              1,
              "#f0f921"
             ]
            ],
            "type": "contour"
           }
          ],
          "contourcarpet": [
           {
            "colorbar": {
             "outlinewidth": 0,
             "ticks": ""
            },
            "type": "contourcarpet"
           }
          ],
          "heatmap": [
           {
            "colorbar": {
             "outlinewidth": 0,
             "ticks": ""
            },
            "colorscale": [
             [
              0,
              "#0d0887"
             ],
             [
              0.1111111111111111,
              "#46039f"
             ],
             [
              0.2222222222222222,
              "#7201a8"
             ],
             [
              0.3333333333333333,
              "#9c179e"
             ],
             [
              0.4444444444444444,
              "#bd3786"
             ],
             [
              0.5555555555555556,
              "#d8576b"
             ],
             [
              0.6666666666666666,
              "#ed7953"
             ],
             [
              0.7777777777777778,
              "#fb9f3a"
             ],
             [
              0.8888888888888888,
              "#fdca26"
             ],
             [
              1,
              "#f0f921"
             ]
            ],
            "type": "heatmap"
           }
          ],
          "heatmapgl": [
           {
            "colorbar": {
             "outlinewidth": 0,
             "ticks": ""
            },
            "colorscale": [
             [
              0,
              "#0d0887"
             ],
             [
              0.1111111111111111,
              "#46039f"
             ],
             [
              0.2222222222222222,
              "#7201a8"
             ],
             [
              0.3333333333333333,
              "#9c179e"
             ],
             [
              0.4444444444444444,
              "#bd3786"
             ],
             [
              0.5555555555555556,
              "#d8576b"
             ],
             [
              0.6666666666666666,
              "#ed7953"
             ],
             [
              0.7777777777777778,
              "#fb9f3a"
             ],
             [
              0.8888888888888888,
              "#fdca26"
             ],
             [
              1,
              "#f0f921"
             ]
            ],
            "type": "heatmapgl"
           }
          ],
          "histogram": [
           {
            "marker": {
             "colorbar": {
              "outlinewidth": 0,
              "ticks": ""
             }
            },
            "type": "histogram"
           }
          ],
          "histogram2d": [
           {
            "colorbar": {
             "outlinewidth": 0,
             "ticks": ""
            },
            "colorscale": [
             [
              0,
              "#0d0887"
             ],
             [
              0.1111111111111111,
              "#46039f"
             ],
             [
              0.2222222222222222,
              "#7201a8"
             ],
             [
              0.3333333333333333,
              "#9c179e"
             ],
             [
              0.4444444444444444,
              "#bd3786"
             ],
             [
              0.5555555555555556,
              "#d8576b"
             ],
             [
              0.6666666666666666,
              "#ed7953"
             ],
             [
              0.7777777777777778,
              "#fb9f3a"
             ],
             [
              0.8888888888888888,
              "#fdca26"
             ],
             [
              1,
              "#f0f921"
             ]
            ],
            "type": "histogram2d"
           }
          ],
          "histogram2dcontour": [
           {
            "colorbar": {
             "outlinewidth": 0,
             "ticks": ""
            },
            "colorscale": [
             [
              0,
              "#0d0887"
             ],
             [
              0.1111111111111111,
              "#46039f"
             ],
             [
              0.2222222222222222,
              "#7201a8"
             ],
             [
              0.3333333333333333,
              "#9c179e"
             ],
             [
              0.4444444444444444,
              "#bd3786"
             ],
             [
              0.5555555555555556,
              "#d8576b"
             ],
             [
              0.6666666666666666,
              "#ed7953"
             ],
             [
              0.7777777777777778,
              "#fb9f3a"
             ],
             [
              0.8888888888888888,
              "#fdca26"
             ],
             [
              1,
              "#f0f921"
             ]
            ],
            "type": "histogram2dcontour"
           }
          ],
          "mesh3d": [
           {
            "colorbar": {
             "outlinewidth": 0,
             "ticks": ""
            },
            "type": "mesh3d"
           }
          ],
          "parcoords": [
           {
            "line": {
             "colorbar": {
              "outlinewidth": 0,
              "ticks": ""
             }
            },
            "type": "parcoords"
           }
          ],
          "pie": [
           {
            "automargin": true,
            "type": "pie"
           }
          ],
          "scatter": [
           {
            "marker": {
             "colorbar": {
              "outlinewidth": 0,
              "ticks": ""
             }
            },
            "type": "scatter"
           }
          ],
          "scatter3d": [
           {
            "line": {
             "colorbar": {
              "outlinewidth": 0,
              "ticks": ""
             }
            },
            "marker": {
             "colorbar": {
              "outlinewidth": 0,
              "ticks": ""
             }
            },
            "type": "scatter3d"
           }
          ],
          "scattercarpet": [
           {
            "marker": {
             "colorbar": {
              "outlinewidth": 0,
              "ticks": ""
             }
            },
            "type": "scattercarpet"
           }
          ],
          "scattergeo": [
           {
            "marker": {
             "colorbar": {
              "outlinewidth": 0,
              "ticks": ""
             }
            },
            "type": "scattergeo"
           }
          ],
          "scattergl": [
           {
            "marker": {
             "colorbar": {
              "outlinewidth": 0,
              "ticks": ""
             }
            },
            "type": "scattergl"
           }
          ],
          "scattermapbox": [
           {
            "marker": {
             "colorbar": {
              "outlinewidth": 0,
              "ticks": ""
             }
            },
            "type": "scattermapbox"
           }
          ],
          "scatterpolar": [
           {
            "marker": {
             "colorbar": {
              "outlinewidth": 0,
              "ticks": ""
             }
            },
            "type": "scatterpolar"
           }
          ],
          "scatterpolargl": [
           {
            "marker": {
             "colorbar": {
              "outlinewidth": 0,
              "ticks": ""
             }
            },
            "type": "scatterpolargl"
           }
          ],
          "scatterternary": [
           {
            "marker": {
             "colorbar": {
              "outlinewidth": 0,
              "ticks": ""
             }
            },
            "type": "scatterternary"
           }
          ],
          "surface": [
           {
            "colorbar": {
             "outlinewidth": 0,
             "ticks": ""
            },
            "colorscale": [
             [
              0,
              "#0d0887"
             ],
             [
              0.1111111111111111,
              "#46039f"
             ],
             [
              0.2222222222222222,
              "#7201a8"
             ],
             [
              0.3333333333333333,
              "#9c179e"
             ],
             [
              0.4444444444444444,
              "#bd3786"
             ],
             [
              0.5555555555555556,
              "#d8576b"
             ],
             [
              0.6666666666666666,
              "#ed7953"
             ],
             [
              0.7777777777777778,
              "#fb9f3a"
             ],
             [
              0.8888888888888888,
              "#fdca26"
             ],
             [
              1,
              "#f0f921"
             ]
            ],
            "type": "surface"
           }
          ],
          "table": [
           {
            "cells": {
             "fill": {
              "color": "#EBF0F8"
             },
             "line": {
              "color": "white"
             }
            },
            "header": {
             "fill": {
              "color": "#C8D4E3"
             },
             "line": {
              "color": "white"
             }
            },
            "type": "table"
           }
          ]
         },
         "layout": {
          "annotationdefaults": {
           "arrowcolor": "#2a3f5f",
           "arrowhead": 0,
           "arrowwidth": 1
          },
          "coloraxis": {
           "colorbar": {
            "outlinewidth": 0,
            "ticks": ""
           }
          },
          "colorscale": {
           "diverging": [
            [
             0,
             "#8e0152"
            ],
            [
             0.1,
             "#c51b7d"
            ],
            [
             0.2,
             "#de77ae"
            ],
            [
             0.3,
             "#f1b6da"
            ],
            [
             0.4,
             "#fde0ef"
            ],
            [
             0.5,
             "#f7f7f7"
            ],
            [
             0.6,
             "#e6f5d0"
            ],
            [
             0.7,
             "#b8e186"
            ],
            [
             0.8,
             "#7fbc41"
            ],
            [
             0.9,
             "#4d9221"
            ],
            [
             1,
             "#276419"
            ]
           ],
           "sequential": [
            [
             0,
             "#0d0887"
            ],
            [
             0.1111111111111111,
             "#46039f"
            ],
            [
             0.2222222222222222,
             "#7201a8"
            ],
            [
             0.3333333333333333,
             "#9c179e"
            ],
            [
             0.4444444444444444,
             "#bd3786"
            ],
            [
             0.5555555555555556,
             "#d8576b"
            ],
            [
             0.6666666666666666,
             "#ed7953"
            ],
            [
             0.7777777777777778,
             "#fb9f3a"
            ],
            [
             0.8888888888888888,
             "#fdca26"
            ],
            [
             1,
             "#f0f921"
            ]
           ],
           "sequentialminus": [
            [
             0,
             "#0d0887"
            ],
            [
             0.1111111111111111,
             "#46039f"
            ],
            [
             0.2222222222222222,
             "#7201a8"
            ],
            [
             0.3333333333333333,
             "#9c179e"
            ],
            [
             0.4444444444444444,
             "#bd3786"
            ],
            [
             0.5555555555555556,
             "#d8576b"
            ],
            [
             0.6666666666666666,
             "#ed7953"
            ],
            [
             0.7777777777777778,
             "#fb9f3a"
            ],
            [
             0.8888888888888888,
             "#fdca26"
            ],
            [
             1,
             "#f0f921"
            ]
           ]
          },
          "colorway": [
           "#636efa",
           "#EF553B",
           "#00cc96",
           "#ab63fa",
           "#FFA15A",
           "#19d3f3",
           "#FF6692",
           "#B6E880",
           "#FF97FF",
           "#FECB52"
          ],
          "font": {
           "color": "#2a3f5f"
          },
          "geo": {
           "bgcolor": "white",
           "lakecolor": "white",
           "landcolor": "#E5ECF6",
           "showlakes": true,
           "showland": true,
           "subunitcolor": "white"
          },
          "hoverlabel": {
           "align": "left"
          },
          "hovermode": "closest",
          "mapbox": {
           "style": "light"
          },
          "paper_bgcolor": "white",
          "plot_bgcolor": "#E5ECF6",
          "polar": {
           "angularaxis": {
            "gridcolor": "white",
            "linecolor": "white",
            "ticks": ""
           },
           "bgcolor": "#E5ECF6",
           "radialaxis": {
            "gridcolor": "white",
            "linecolor": "white",
            "ticks": ""
           }
          },
          "scene": {
           "xaxis": {
            "backgroundcolor": "#E5ECF6",
            "gridcolor": "white",
            "gridwidth": 2,
            "linecolor": "white",
            "showbackground": true,
            "ticks": "",
            "zerolinecolor": "white"
           },
           "yaxis": {
            "backgroundcolor": "#E5ECF6",
            "gridcolor": "white",
            "gridwidth": 2,
            "linecolor": "white",
            "showbackground": true,
            "ticks": "",
            "zerolinecolor": "white"
           },
           "zaxis": {
            "backgroundcolor": "#E5ECF6",
            "gridcolor": "white",
            "gridwidth": 2,
            "linecolor": "white",
            "showbackground": true,
            "ticks": "",
            "zerolinecolor": "white"
           }
          },
          "shapedefaults": {
           "line": {
            "color": "#2a3f5f"
           }
          },
          "ternary": {
           "aaxis": {
            "gridcolor": "white",
            "linecolor": "white",
            "ticks": ""
           },
           "baxis": {
            "gridcolor": "white",
            "linecolor": "white",
            "ticks": ""
           },
           "bgcolor": "#E5ECF6",
           "caxis": {
            "gridcolor": "white",
            "linecolor": "white",
            "ticks": ""
           }
          },
          "title": {
           "x": 0.05
          },
          "xaxis": {
           "automargin": true,
           "gridcolor": "white",
           "linecolor": "white",
           "ticks": "",
           "title": {
            "standoff": 15
           },
           "zerolinecolor": "white",
           "zerolinewidth": 2
          },
          "yaxis": {
           "automargin": true,
           "gridcolor": "white",
           "linecolor": "white",
           "ticks": "",
           "title": {
            "standoff": 15
           },
           "zerolinecolor": "white",
           "zerolinewidth": 2
          }
         }
        },
        "xaxis": {
         "anchor": "y",
         "domain": [
          0,
          1
         ],
         "title": {
          "text": "MLPAP_TJR-0721.PV"
         }
        },
        "yaxis": {
         "anchor": "x",
         "domain": [
          0,
          1
         ],
         "title": {
          "text": "MLPAP_TIC-0757A.PV"
         }
        }
       }
      },
      "text/html": [
       "<div>\n",
       "        \n",
       "        \n",
       "            <div id=\"f8d675e1-3a28-4fbe-a075-8014314c414d\" class=\"plotly-graph-div\" style=\"height:525px; width:100%;\"></div>\n",
       "            <script type=\"text/javascript\">\n",
       "                require([\"plotly\"], function(Plotly) {\n",
       "                    window.PLOTLYENV=window.PLOTLYENV || {};\n",
       "                    \n",
       "                if (document.getElementById(\"f8d675e1-3a28-4fbe-a075-8014314c414d\")) {\n",
       "                    Plotly.newPlot(\n",
       "                        'f8d675e1-3a28-4fbe-a075-8014314c414d',\n",
       "                        [{\"hoverlabel\": {\"namelength\": 0}, \"hovertemplate\": \"MLPAP_TJR-0721.PV=%{x}<br>MLPAP_TIC-0757A.PV=%{y}<br>MLPAP_PIC-0741.PV=%{marker.color}\", \"legendgroup\": \"\", \"marker\": {\"color\": [1.0867, -1.0398, 1.0867, -1.0249, 1.0272], \"coloraxis\": \"coloraxis\", \"symbol\": \"circle\"}, \"mode\": \"markers\", \"name\": \"\", \"showlegend\": false, \"type\": \"scatter\", \"x\": [0.9358, -0.9965, 0.9123, -0.7623, 0.9657], \"xaxis\": \"x\", \"y\": [0.8885, -1.111, 0.8707, -0.6396, 0.9239], \"yaxis\": \"y\"}],\n",
       "                        {\"coloraxis\": {\"colorbar\": {\"title\": {\"text\": \"MLPAP_PIC-0741.PV\"}}, \"colorscale\": [[0.0, \"#0d0887\"], [0.1111111111111111, \"#46039f\"], [0.2222222222222222, \"#7201a8\"], [0.3333333333333333, \"#9c179e\"], [0.4444444444444444, \"#bd3786\"], [0.5555555555555556, \"#d8576b\"], [0.6666666666666666, \"#ed7953\"], [0.7777777777777778, \"#fb9f3a\"], [0.8888888888888888, \"#fdca26\"], [1.0, \"#f0f921\"]]}, \"legend\": {\"tracegroupgap\": 0}, \"margin\": {\"t\": 60}, \"template\": {\"data\": {\"bar\": [{\"error_x\": {\"color\": \"#2a3f5f\"}, \"error_y\": {\"color\": \"#2a3f5f\"}, \"marker\": {\"line\": {\"color\": \"#E5ECF6\", \"width\": 0.5}}, \"type\": \"bar\"}], \"barpolar\": [{\"marker\": {\"line\": {\"color\": \"#E5ECF6\", \"width\": 0.5}}, \"type\": \"barpolar\"}], \"carpet\": [{\"aaxis\": {\"endlinecolor\": \"#2a3f5f\", \"gridcolor\": \"white\", \"linecolor\": \"white\", \"minorgridcolor\": \"white\", \"startlinecolor\": \"#2a3f5f\"}, \"baxis\": {\"endlinecolor\": \"#2a3f5f\", \"gridcolor\": \"white\", \"linecolor\": \"white\", \"minorgridcolor\": \"white\", \"startlinecolor\": \"#2a3f5f\"}, \"type\": \"carpet\"}], \"choropleth\": [{\"colorbar\": {\"outlinewidth\": 0, \"ticks\": \"\"}, \"type\": \"choropleth\"}], \"contour\": [{\"colorbar\": {\"outlinewidth\": 0, \"ticks\": \"\"}, \"colorscale\": [[0.0, \"#0d0887\"], [0.1111111111111111, \"#46039f\"], [0.2222222222222222, \"#7201a8\"], [0.3333333333333333, \"#9c179e\"], [0.4444444444444444, \"#bd3786\"], [0.5555555555555556, \"#d8576b\"], [0.6666666666666666, \"#ed7953\"], [0.7777777777777778, \"#fb9f3a\"], [0.8888888888888888, \"#fdca26\"], [1.0, \"#f0f921\"]], \"type\": \"contour\"}], \"contourcarpet\": [{\"colorbar\": {\"outlinewidth\": 0, \"ticks\": \"\"}, \"type\": \"contourcarpet\"}], \"heatmap\": [{\"colorbar\": {\"outlinewidth\": 0, \"ticks\": \"\"}, \"colorscale\": [[0.0, \"#0d0887\"], [0.1111111111111111, \"#46039f\"], [0.2222222222222222, \"#7201a8\"], [0.3333333333333333, \"#9c179e\"], [0.4444444444444444, \"#bd3786\"], [0.5555555555555556, \"#d8576b\"], [0.6666666666666666, \"#ed7953\"], [0.7777777777777778, \"#fb9f3a\"], [0.8888888888888888, \"#fdca26\"], [1.0, \"#f0f921\"]], \"type\": \"heatmap\"}], \"heatmapgl\": [{\"colorbar\": {\"outlinewidth\": 0, \"ticks\": \"\"}, \"colorscale\": [[0.0, \"#0d0887\"], [0.1111111111111111, \"#46039f\"], [0.2222222222222222, \"#7201a8\"], [0.3333333333333333, \"#9c179e\"], [0.4444444444444444, \"#bd3786\"], [0.5555555555555556, \"#d8576b\"], [0.6666666666666666, \"#ed7953\"], [0.7777777777777778, \"#fb9f3a\"], [0.8888888888888888, \"#fdca26\"], [1.0, \"#f0f921\"]], \"type\": \"heatmapgl\"}], \"histogram\": [{\"marker\": {\"colorbar\": {\"outlinewidth\": 0, \"ticks\": \"\"}}, \"type\": \"histogram\"}], \"histogram2d\": [{\"colorbar\": {\"outlinewidth\": 0, \"ticks\": \"\"}, \"colorscale\": [[0.0, \"#0d0887\"], [0.1111111111111111, \"#46039f\"], [0.2222222222222222, \"#7201a8\"], [0.3333333333333333, \"#9c179e\"], [0.4444444444444444, \"#bd3786\"], [0.5555555555555556, \"#d8576b\"], [0.6666666666666666, \"#ed7953\"], [0.7777777777777778, \"#fb9f3a\"], [0.8888888888888888, \"#fdca26\"], [1.0, \"#f0f921\"]], \"type\": \"histogram2d\"}], \"histogram2dcontour\": [{\"colorbar\": {\"outlinewidth\": 0, \"ticks\": \"\"}, \"colorscale\": [[0.0, \"#0d0887\"], [0.1111111111111111, \"#46039f\"], [0.2222222222222222, \"#7201a8\"], [0.3333333333333333, \"#9c179e\"], [0.4444444444444444, \"#bd3786\"], [0.5555555555555556, \"#d8576b\"], [0.6666666666666666, \"#ed7953\"], [0.7777777777777778, \"#fb9f3a\"], [0.8888888888888888, \"#fdca26\"], [1.0, \"#f0f921\"]], \"type\": \"histogram2dcontour\"}], \"mesh3d\": [{\"colorbar\": {\"outlinewidth\": 0, \"ticks\": \"\"}, \"type\": \"mesh3d\"}], \"parcoords\": [{\"line\": {\"colorbar\": {\"outlinewidth\": 0, \"ticks\": \"\"}}, \"type\": \"parcoords\"}], \"pie\": [{\"automargin\": true, \"type\": \"pie\"}], \"scatter\": [{\"marker\": {\"colorbar\": {\"outlinewidth\": 0, \"ticks\": \"\"}}, \"type\": \"scatter\"}], \"scatter3d\": [{\"line\": {\"colorbar\": {\"outlinewidth\": 0, \"ticks\": \"\"}}, \"marker\": {\"colorbar\": {\"outlinewidth\": 0, \"ticks\": \"\"}}, \"type\": \"scatter3d\"}], \"scattercarpet\": [{\"marker\": {\"colorbar\": {\"outlinewidth\": 0, \"ticks\": \"\"}}, \"type\": \"scattercarpet\"}], \"scattergeo\": [{\"marker\": {\"colorbar\": {\"outlinewidth\": 0, \"ticks\": \"\"}}, \"type\": \"scattergeo\"}], \"scattergl\": [{\"marker\": {\"colorbar\": {\"outlinewidth\": 0, \"ticks\": \"\"}}, \"type\": \"scattergl\"}], \"scattermapbox\": [{\"marker\": {\"colorbar\": {\"outlinewidth\": 0, \"ticks\": \"\"}}, \"type\": \"scattermapbox\"}], \"scatterpolar\": [{\"marker\": {\"colorbar\": {\"outlinewidth\": 0, \"ticks\": \"\"}}, \"type\": \"scatterpolar\"}], \"scatterpolargl\": [{\"marker\": {\"colorbar\": {\"outlinewidth\": 0, \"ticks\": \"\"}}, \"type\": \"scatterpolargl\"}], \"scatterternary\": [{\"marker\": {\"colorbar\": {\"outlinewidth\": 0, \"ticks\": \"\"}}, \"type\": \"scatterternary\"}], \"surface\": [{\"colorbar\": {\"outlinewidth\": 0, \"ticks\": \"\"}, \"colorscale\": [[0.0, \"#0d0887\"], [0.1111111111111111, \"#46039f\"], [0.2222222222222222, \"#7201a8\"], [0.3333333333333333, \"#9c179e\"], [0.4444444444444444, \"#bd3786\"], [0.5555555555555556, \"#d8576b\"], [0.6666666666666666, \"#ed7953\"], [0.7777777777777778, \"#fb9f3a\"], [0.8888888888888888, \"#fdca26\"], [1.0, \"#f0f921\"]], \"type\": \"surface\"}], \"table\": [{\"cells\": {\"fill\": {\"color\": \"#EBF0F8\"}, \"line\": {\"color\": \"white\"}}, \"header\": {\"fill\": {\"color\": \"#C8D4E3\"}, \"line\": {\"color\": \"white\"}}, \"type\": \"table\"}]}, \"layout\": {\"annotationdefaults\": {\"arrowcolor\": \"#2a3f5f\", \"arrowhead\": 0, \"arrowwidth\": 1}, \"coloraxis\": {\"colorbar\": {\"outlinewidth\": 0, \"ticks\": \"\"}}, \"colorscale\": {\"diverging\": [[0, \"#8e0152\"], [0.1, \"#c51b7d\"], [0.2, \"#de77ae\"], [0.3, \"#f1b6da\"], [0.4, \"#fde0ef\"], [0.5, \"#f7f7f7\"], [0.6, \"#e6f5d0\"], [0.7, \"#b8e186\"], [0.8, \"#7fbc41\"], [0.9, \"#4d9221\"], [1, \"#276419\"]], \"sequential\": [[0.0, \"#0d0887\"], [0.1111111111111111, \"#46039f\"], [0.2222222222222222, \"#7201a8\"], [0.3333333333333333, \"#9c179e\"], [0.4444444444444444, \"#bd3786\"], [0.5555555555555556, \"#d8576b\"], [0.6666666666666666, \"#ed7953\"], [0.7777777777777778, \"#fb9f3a\"], [0.8888888888888888, \"#fdca26\"], [1.0, \"#f0f921\"]], \"sequentialminus\": [[0.0, \"#0d0887\"], [0.1111111111111111, \"#46039f\"], [0.2222222222222222, \"#7201a8\"], [0.3333333333333333, \"#9c179e\"], [0.4444444444444444, \"#bd3786\"], [0.5555555555555556, \"#d8576b\"], [0.6666666666666666, \"#ed7953\"], [0.7777777777777778, \"#fb9f3a\"], [0.8888888888888888, \"#fdca26\"], [1.0, \"#f0f921\"]]}, \"colorway\": [\"#636efa\", \"#EF553B\", \"#00cc96\", \"#ab63fa\", \"#FFA15A\", \"#19d3f3\", \"#FF6692\", \"#B6E880\", \"#FF97FF\", \"#FECB52\"], \"font\": {\"color\": \"#2a3f5f\"}, \"geo\": {\"bgcolor\": \"white\", \"lakecolor\": \"white\", \"landcolor\": \"#E5ECF6\", \"showlakes\": true, \"showland\": true, \"subunitcolor\": \"white\"}, \"hoverlabel\": {\"align\": \"left\"}, \"hovermode\": \"closest\", \"mapbox\": {\"style\": \"light\"}, \"paper_bgcolor\": \"white\", \"plot_bgcolor\": \"#E5ECF6\", \"polar\": {\"angularaxis\": {\"gridcolor\": \"white\", \"linecolor\": \"white\", \"ticks\": \"\"}, \"bgcolor\": \"#E5ECF6\", \"radialaxis\": {\"gridcolor\": \"white\", \"linecolor\": \"white\", \"ticks\": \"\"}}, \"scene\": {\"xaxis\": {\"backgroundcolor\": \"#E5ECF6\", \"gridcolor\": \"white\", \"gridwidth\": 2, \"linecolor\": \"white\", \"showbackground\": true, \"ticks\": \"\", \"zerolinecolor\": \"white\"}, \"yaxis\": {\"backgroundcolor\": \"#E5ECF6\", \"gridcolor\": \"white\", \"gridwidth\": 2, \"linecolor\": \"white\", \"showbackground\": true, \"ticks\": \"\", \"zerolinecolor\": \"white\"}, \"zaxis\": {\"backgroundcolor\": \"#E5ECF6\", \"gridcolor\": \"white\", \"gridwidth\": 2, \"linecolor\": \"white\", \"showbackground\": true, \"ticks\": \"\", \"zerolinecolor\": \"white\"}}, \"shapedefaults\": {\"line\": {\"color\": \"#2a3f5f\"}}, \"ternary\": {\"aaxis\": {\"gridcolor\": \"white\", \"linecolor\": \"white\", \"ticks\": \"\"}, \"baxis\": {\"gridcolor\": \"white\", \"linecolor\": \"white\", \"ticks\": \"\"}, \"bgcolor\": \"#E5ECF6\", \"caxis\": {\"gridcolor\": \"white\", \"linecolor\": \"white\", \"ticks\": \"\"}}, \"title\": {\"x\": 0.05}, \"xaxis\": {\"automargin\": true, \"gridcolor\": \"white\", \"linecolor\": \"white\", \"ticks\": \"\", \"title\": {\"standoff\": 15}, \"zerolinecolor\": \"white\", \"zerolinewidth\": 2}, \"yaxis\": {\"automargin\": true, \"gridcolor\": \"white\", \"linecolor\": \"white\", \"ticks\": \"\", \"title\": {\"standoff\": 15}, \"zerolinecolor\": \"white\", \"zerolinewidth\": 2}}}, \"xaxis\": {\"anchor\": \"y\", \"domain\": [0.0, 1.0], \"title\": {\"text\": \"MLPAP_TJR-0721.PV\"}}, \"yaxis\": {\"anchor\": \"x\", \"domain\": [0.0, 1.0], \"title\": {\"text\": \"MLPAP_TIC-0757A.PV\"}}},\n",
       "                        {\"responsive\": true}\n",
       "                    ).then(function(){\n",
       "                            \n",
       "var gd = document.getElementById('f8d675e1-3a28-4fbe-a075-8014314c414d');\n",
       "var x = new MutationObserver(function (mutations, observer) {{\n",
       "        var display = window.getComputedStyle(gd).display;\n",
       "        if (!display || display === 'none') {{\n",
       "            console.log([gd, 'removed!']);\n",
       "            Plotly.purge(gd);\n",
       "            observer.disconnect();\n",
       "        }}\n",
       "}});\n",
       "\n",
       "// Listen for the removal of the full notebook cells\n",
       "var notebookContainer = gd.closest('#notebook-container');\n",
       "if (notebookContainer) {{\n",
       "    x.observe(notebookContainer, {childList: true});\n",
       "}}\n",
       "\n",
       "// Listen for the clearing of the current output cell\n",
       "var outputEl = gd.closest('.output');\n",
       "if (outputEl) {{\n",
       "    x.observe(outputEl, {childList: true});\n",
       "}}\n",
       "\n",
       "                        })\n",
       "                };\n",
       "                });\n",
       "            </script>\n",
       "        </div>"
      ]
     },
     "metadata": {},
     "output_type": "display_data"
    }
   ],
   "source": [
    "fig = px.scatter(subset.head(5), x=\"MLPAP_TJR-0721.PV\",y=\"MLPAP_TIC-0757A.PV\", color=\"MLPAP_PIC-0741.PV\")\n",
    "fig.show()"
   ]
  },
  {
   "cell_type": "code",
   "execution_count": 36,
   "metadata": {},
   "outputs": [
    {
     "data": {
      "text/html": [
       "<div>\n",
       "<style scoped>\n",
       "    .dataframe tbody tr th:only-of-type {\n",
       "        vertical-align: middle;\n",
       "    }\n",
       "\n",
       "    .dataframe tbody tr th {\n",
       "        vertical-align: top;\n",
       "    }\n",
       "\n",
       "    .dataframe thead th {\n",
       "        text-align: right;\n",
       "    }\n",
       "</style>\n",
       "<table border=\"1\" class=\"dataframe\">\n",
       "  <thead>\n",
       "    <tr style=\"text-align: right;\">\n",
       "      <th></th>\n",
       "      <th>MLPAP_PIC-0741.PV</th>\n",
       "      <th>MLPAP_TJR-0721.PV</th>\n",
       "      <th>MLPAP_TIC-0757A.PV</th>\n",
       "    </tr>\n",
       "  </thead>\n",
       "  <tbody>\n",
       "    <tr>\n",
       "      <th>2019-02-03 02:40:00</th>\n",
       "      <td>1.0867</td>\n",
       "      <td>0.9358</td>\n",
       "      <td>0.8885</td>\n",
       "    </tr>\n",
       "    <tr>\n",
       "      <th>2019-08-10 20:40:00</th>\n",
       "      <td>-1.0398</td>\n",
       "      <td>-0.9965</td>\n",
       "      <td>-1.1110</td>\n",
       "    </tr>\n",
       "    <tr>\n",
       "      <th>2017-04-04 23:50:00</th>\n",
       "      <td>1.0867</td>\n",
       "      <td>0.9123</td>\n",
       "      <td>0.8707</td>\n",
       "    </tr>\n",
       "    <tr>\n",
       "      <th>2019-03-13 13:50:00</th>\n",
       "      <td>-1.0249</td>\n",
       "      <td>-0.7623</td>\n",
       "      <td>-0.6396</td>\n",
       "    </tr>\n",
       "    <tr>\n",
       "      <th>2019-12-19 01:10:00</th>\n",
       "      <td>1.0272</td>\n",
       "      <td>0.9657</td>\n",
       "      <td>0.9239</td>\n",
       "    </tr>\n",
       "  </tbody>\n",
       "</table>\n",
       "</div>"
      ],
      "text/plain": [
       "                     MLPAP_PIC-0741.PV  MLPAP_TJR-0721.PV  MLPAP_TIC-0757A.PV\n",
       "2019-02-03 02:40:00             1.0867             0.9358              0.8885\n",
       "2019-08-10 20:40:00            -1.0398            -0.9965             -1.1110\n",
       "2017-04-04 23:50:00             1.0867             0.9123              0.8707\n",
       "2019-03-13 13:50:00            -1.0249            -0.7623             -0.6396\n",
       "2019-12-19 01:10:00             1.0272             0.9657              0.9239"
      ]
     },
     "execution_count": 36,
     "metadata": {},
     "output_type": "execute_result"
    }
   ],
   "source": [
    "subset.head()"
   ]
  },
  {
   "cell_type": "code",
   "execution_count": 37,
   "metadata": {},
   "outputs": [
    {
     "data": {
      "text/html": [
       "<div>\n",
       "<style scoped>\n",
       "    .dataframe tbody tr th:only-of-type {\n",
       "        vertical-align: middle;\n",
       "    }\n",
       "\n",
       "    .dataframe tbody tr th {\n",
       "        vertical-align: top;\n",
       "    }\n",
       "\n",
       "    .dataframe thead th {\n",
       "        text-align: right;\n",
       "    }\n",
       "</style>\n",
       "<table border=\"1\" class=\"dataframe\">\n",
       "  <thead>\n",
       "    <tr style=\"text-align: right;\">\n",
       "      <th></th>\n",
       "      <th>MLPAP_PIC-0741.PV</th>\n",
       "      <th>MLPAP_TJR-0721.PV</th>\n",
       "      <th>MLPAP_TIC-0757A.PV</th>\n",
       "    </tr>\n",
       "  </thead>\n",
       "  <tbody>\n",
       "    <tr>\n",
       "      <th>2019-02-03 02:40:00</th>\n",
       "      <td>28.800642</td>\n",
       "      <td>350.289991</td>\n",
       "      <td>348.779986</td>\n",
       "    </tr>\n",
       "    <tr>\n",
       "      <th>2019-08-10 20:40:00</th>\n",
       "      <td>0.199490</td>\n",
       "      <td>71.804861</td>\n",
       "      <td>52.006958</td>\n",
       "    </tr>\n",
       "    <tr>\n",
       "      <th>2017-04-04 23:50:00</th>\n",
       "      <td>28.800642</td>\n",
       "      <td>346.903146</td>\n",
       "      <td>346.138046</td>\n",
       "    </tr>\n",
       "    <tr>\n",
       "      <th>2019-03-13 13:50:00</th>\n",
       "      <td>0.399893</td>\n",
       "      <td>105.558014</td>\n",
       "      <td>121.973853</td>\n",
       "    </tr>\n",
       "    <tr>\n",
       "      <th>2019-12-19 01:10:00</th>\n",
       "      <td>28.000375</td>\n",
       "      <td>354.599210</td>\n",
       "      <td>354.034182</td>\n",
       "    </tr>\n",
       "  </tbody>\n",
       "</table>\n",
       "</div>"
      ],
      "text/plain": [
       "                     MLPAP_PIC-0741.PV  MLPAP_TJR-0721.PV  MLPAP_TIC-0757A.PV\n",
       "2019-02-03 02:40:00          28.800642         350.289991          348.779986\n",
       "2019-08-10 20:40:00           0.199490          71.804861           52.006958\n",
       "2017-04-04 23:50:00          28.800642         346.903146          346.138046\n",
       "2019-03-13 13:50:00           0.399893         105.558014          121.973853\n",
       "2019-12-19 01:10:00          28.000375         354.599210          354.034182"
      ]
     },
     "execution_count": 37,
     "metadata": {},
     "output_type": "execute_result"
    }
   ],
   "source": [
    "subset[:] = sc.inverse_transform(subset[:])\n",
    "subset.head()"
   ]
  },
  {
   "cell_type": "markdown",
   "metadata": {},
   "source": [
    "# KNN fill miss value"
   ]
  },
  {
   "cell_type": "code",
   "execution_count": 38,
   "metadata": {},
   "outputs": [
    {
     "data": {
      "text/html": [
       "<div>\n",
       "<style scoped>\n",
       "    .dataframe tbody tr th:only-of-type {\n",
       "        vertical-align: middle;\n",
       "    }\n",
       "\n",
       "    .dataframe tbody tr th {\n",
       "        vertical-align: top;\n",
       "    }\n",
       "\n",
       "    .dataframe thead th {\n",
       "        text-align: right;\n",
       "    }\n",
       "</style>\n",
       "<table border=\"1\" class=\"dataframe\">\n",
       "  <thead>\n",
       "    <tr style=\"text-align: right;\">\n",
       "      <th></th>\n",
       "      <th>MLPAP_TI-0706B02</th>\n",
       "      <th>MLPAP_TI-0706B03</th>\n",
       "      <th>MLPAP_TI-0706B04</th>\n",
       "      <th>MLPAP_TI-0706B05</th>\n",
       "      <th>MLPAP_TI-0706B06</th>\n",
       "      <th>MLPAP_TI-0706B07</th>\n",
       "      <th>MLPAP_TI-0706B08</th>\n",
       "      <th>MLPAP_TI-0706B09</th>\n",
       "      <th>MLPAP_TI-0706B10</th>\n",
       "      <th>MLPAP_TI-0706B11</th>\n",
       "      <th>...</th>\n",
       "      <th>MLPAP_FQI-0997.PV</th>\n",
       "      <th>DATA OF USE</th>\n",
       "      <th>MLPAP_FR-0755.PV</th>\n",
       "      <th>MLPAP_FR-0755PV(轉換後)</th>\n",
       "      <th>MLPAP_FR-0791.PV</th>\n",
       "      <th>MLPAP_FI-V211.PV</th>\n",
       "      <th>MLPAP_FI-V211.PV(轉換後)</th>\n",
       "      <th>MLPAP_PI-0658.PV</th>\n",
       "      <th>MLPAP_TIC-0757.PV</th>\n",
       "      <th>MLPAP_V125-PHD</th>\n",
       "    </tr>\n",
       "  </thead>\n",
       "  <tbody>\n",
       "    <tr>\n",
       "      <th>2016-05-09 00:00:00</th>\n",
       "      <td>0.6726</td>\n",
       "      <td>0.5369</td>\n",
       "      <td>0.4899</td>\n",
       "      <td>0.4596</td>\n",
       "      <td>0.4880</td>\n",
       "      <td>0.4883</td>\n",
       "      <td>0.4930</td>\n",
       "      <td>0.5235</td>\n",
       "      <td>0.5408</td>\n",
       "      <td>0.5758</td>\n",
       "      <td>...</td>\n",
       "      <td>-1.7343</td>\n",
       "      <td>-1.732</td>\n",
       "      <td>-1.3200</td>\n",
       "      <td>-1.3200</td>\n",
       "      <td>-1.4398</td>\n",
       "      <td>NaN</td>\n",
       "      <td>NaN</td>\n",
       "      <td>-1.7520</td>\n",
       "      <td>-0.0304</td>\n",
       "      <td>0.0337</td>\n",
       "    </tr>\n",
       "    <tr>\n",
       "      <th>2016-05-09 00:10:00</th>\n",
       "      <td>0.6726</td>\n",
       "      <td>0.5367</td>\n",
       "      <td>0.4916</td>\n",
       "      <td>0.4596</td>\n",
       "      <td>0.4868</td>\n",
       "      <td>0.4883</td>\n",
       "      <td>0.4947</td>\n",
       "      <td>0.5235</td>\n",
       "      <td>0.5408</td>\n",
       "      <td>0.5758</td>\n",
       "      <td>...</td>\n",
       "      <td>-1.7343</td>\n",
       "      <td>-1.732</td>\n",
       "      <td>-1.3016</td>\n",
       "      <td>-1.3016</td>\n",
       "      <td>-1.4427</td>\n",
       "      <td>NaN</td>\n",
       "      <td>NaN</td>\n",
       "      <td>-1.7520</td>\n",
       "      <td>-0.0307</td>\n",
       "      <td>0.0337</td>\n",
       "    </tr>\n",
       "    <tr>\n",
       "      <th>2016-05-09 00:20:00</th>\n",
       "      <td>0.6726</td>\n",
       "      <td>0.5364</td>\n",
       "      <td>0.4911</td>\n",
       "      <td>0.4584</td>\n",
       "      <td>0.4868</td>\n",
       "      <td>0.4883</td>\n",
       "      <td>0.4934</td>\n",
       "      <td>0.5235</td>\n",
       "      <td>0.5408</td>\n",
       "      <td>0.5758</td>\n",
       "      <td>...</td>\n",
       "      <td>-1.7343</td>\n",
       "      <td>-1.732</td>\n",
       "      <td>-1.2930</td>\n",
       "      <td>-1.2930</td>\n",
       "      <td>-1.4435</td>\n",
       "      <td>NaN</td>\n",
       "      <td>NaN</td>\n",
       "      <td>-1.7515</td>\n",
       "      <td>-0.0300</td>\n",
       "      <td>0.0337</td>\n",
       "    </tr>\n",
       "    <tr>\n",
       "      <th>2016-05-09 00:30:00</th>\n",
       "      <td>0.6726</td>\n",
       "      <td>0.5368</td>\n",
       "      <td>0.4911</td>\n",
       "      <td>0.4601</td>\n",
       "      <td>0.4868</td>\n",
       "      <td>0.4883</td>\n",
       "      <td>0.4938</td>\n",
       "      <td>0.5235</td>\n",
       "      <td>0.5408</td>\n",
       "      <td>0.5758</td>\n",
       "      <td>...</td>\n",
       "      <td>-1.7343</td>\n",
       "      <td>-1.732</td>\n",
       "      <td>-1.3026</td>\n",
       "      <td>-1.3026</td>\n",
       "      <td>-1.4415</td>\n",
       "      <td>NaN</td>\n",
       "      <td>NaN</td>\n",
       "      <td>-1.7496</td>\n",
       "      <td>-0.0304</td>\n",
       "      <td>0.0337</td>\n",
       "    </tr>\n",
       "    <tr>\n",
       "      <th>2016-05-09 00:40:00</th>\n",
       "      <td>0.6726</td>\n",
       "      <td>0.5372</td>\n",
       "      <td>0.4907</td>\n",
       "      <td>0.4590</td>\n",
       "      <td>0.4868</td>\n",
       "      <td>0.4883</td>\n",
       "      <td>0.4961</td>\n",
       "      <td>0.5235</td>\n",
       "      <td>0.5408</td>\n",
       "      <td>0.5758</td>\n",
       "      <td>...</td>\n",
       "      <td>-1.7343</td>\n",
       "      <td>-1.732</td>\n",
       "      <td>-1.3259</td>\n",
       "      <td>-1.3259</td>\n",
       "      <td>-1.4456</td>\n",
       "      <td>NaN</td>\n",
       "      <td>NaN</td>\n",
       "      <td>-1.7519</td>\n",
       "      <td>-0.0299</td>\n",
       "      <td>0.0337</td>\n",
       "    </tr>\n",
       "  </tbody>\n",
       "</table>\n",
       "<p>5 rows × 93 columns</p>\n",
       "</div>"
      ],
      "text/plain": [
       "                     MLPAP_TI-0706B02  MLPAP_TI-0706B03  MLPAP_TI-0706B04  \\\n",
       "2016-05-09 00:00:00            0.6726            0.5369            0.4899   \n",
       "2016-05-09 00:10:00            0.6726            0.5367            0.4916   \n",
       "2016-05-09 00:20:00            0.6726            0.5364            0.4911   \n",
       "2016-05-09 00:30:00            0.6726            0.5368            0.4911   \n",
       "2016-05-09 00:40:00            0.6726            0.5372            0.4907   \n",
       "\n",
       "                     MLPAP_TI-0706B05  MLPAP_TI-0706B06  MLPAP_TI-0706B07  \\\n",
       "2016-05-09 00:00:00            0.4596            0.4880            0.4883   \n",
       "2016-05-09 00:10:00            0.4596            0.4868            0.4883   \n",
       "2016-05-09 00:20:00            0.4584            0.4868            0.4883   \n",
       "2016-05-09 00:30:00            0.4601            0.4868            0.4883   \n",
       "2016-05-09 00:40:00            0.4590            0.4868            0.4883   \n",
       "\n",
       "                     MLPAP_TI-0706B08  MLPAP_TI-0706B09  MLPAP_TI-0706B10  \\\n",
       "2016-05-09 00:00:00            0.4930            0.5235            0.5408   \n",
       "2016-05-09 00:10:00            0.4947            0.5235            0.5408   \n",
       "2016-05-09 00:20:00            0.4934            0.5235            0.5408   \n",
       "2016-05-09 00:30:00            0.4938            0.5235            0.5408   \n",
       "2016-05-09 00:40:00            0.4961            0.5235            0.5408   \n",
       "\n",
       "                     MLPAP_TI-0706B11  ...  MLPAP_FQI-0997.PV  DATA OF USE  \\\n",
       "2016-05-09 00:00:00            0.5758  ...            -1.7343       -1.732   \n",
       "2016-05-09 00:10:00            0.5758  ...            -1.7343       -1.732   \n",
       "2016-05-09 00:20:00            0.5758  ...            -1.7343       -1.732   \n",
       "2016-05-09 00:30:00            0.5758  ...            -1.7343       -1.732   \n",
       "2016-05-09 00:40:00            0.5758  ...            -1.7343       -1.732   \n",
       "\n",
       "                     MLPAP_FR-0755.PV  MLPAP_FR-0755PV(轉換後)  MLPAP_FR-0791.PV  \\\n",
       "2016-05-09 00:00:00           -1.3200               -1.3200           -1.4398   \n",
       "2016-05-09 00:10:00           -1.3016               -1.3016           -1.4427   \n",
       "2016-05-09 00:20:00           -1.2930               -1.2930           -1.4435   \n",
       "2016-05-09 00:30:00           -1.3026               -1.3026           -1.4415   \n",
       "2016-05-09 00:40:00           -1.3259               -1.3259           -1.4456   \n",
       "\n",
       "                     MLPAP_FI-V211.PV  MLPAP_FI-V211.PV(轉換後)  \\\n",
       "2016-05-09 00:00:00               NaN                    NaN   \n",
       "2016-05-09 00:10:00               NaN                    NaN   \n",
       "2016-05-09 00:20:00               NaN                    NaN   \n",
       "2016-05-09 00:30:00               NaN                    NaN   \n",
       "2016-05-09 00:40:00               NaN                    NaN   \n",
       "\n",
       "                     MLPAP_PI-0658.PV  MLPAP_TIC-0757.PV  MLPAP_V125-PHD  \n",
       "2016-05-09 00:00:00           -1.7520            -0.0304          0.0337  \n",
       "2016-05-09 00:10:00           -1.7520            -0.0307          0.0337  \n",
       "2016-05-09 00:20:00           -1.7515            -0.0300          0.0337  \n",
       "2016-05-09 00:30:00           -1.7496            -0.0304          0.0337  \n",
       "2016-05-09 00:40:00           -1.7519            -0.0299          0.0337  \n",
       "\n",
       "[5 rows x 93 columns]"
      ]
     },
     "execution_count": 38,
     "metadata": {},
     "output_type": "execute_result"
    }
   ],
   "source": [
    "sc = StandardScaler()\n",
    "df[:] = sc.fit_transform(df[:])\n",
    "df = df.apply(lambda x:round(x,4))\n",
    "df.head()"
   ]
  },
  {
   "cell_type": "code",
   "execution_count": 39,
   "metadata": {},
   "outputs": [
    {
     "data": {
      "application/vnd.jupyter.widget-view+json": {
       "model_id": "dc9634f8aba9469ebef2502d1eff4a1e",
       "version_major": 2,
       "version_minor": 0
      },
      "text/plain": [
       "HBox(children=(FloatProgress(value=0.0, max=20.0), HTML(value='')))"
      ]
     },
     "metadata": {},
     "output_type": "display_data"
    },
    {
     "name": "stdout",
     "output_type": "stream",
     "text": [
      "\n"
     ]
    }
   ],
   "source": [
    "from sklearn.impute import KNNImputer\n",
    "\n",
    "df = shuffle(df)\n",
    "step = 10000\n",
    "\n",
    "# fill loop\n",
    "for i in tqdm(range(0, len(df), step)):\n",
    "    start, end = i, min(i+step,len(df))\n",
    "    imputer = KNNImputer(n_neighbors = 3)\n",
    "    df.iloc[start:end] = imputer.fit_transform(df.iloc[start:end])\n",
    "\n",
    "df = df.sort_index()"
   ]
  },
  {
   "cell_type": "code",
   "execution_count": 40,
   "metadata": {},
   "outputs": [
    {
     "name": "stdout",
     "output_type": "stream",
     "text": [
      "(193824, 93)\n"
     ]
    },
    {
     "data": {
      "text/html": [
       "<div>\n",
       "<style scoped>\n",
       "    .dataframe tbody tr th:only-of-type {\n",
       "        vertical-align: middle;\n",
       "    }\n",
       "\n",
       "    .dataframe tbody tr th {\n",
       "        vertical-align: top;\n",
       "    }\n",
       "\n",
       "    .dataframe thead th {\n",
       "        text-align: right;\n",
       "    }\n",
       "</style>\n",
       "<table border=\"1\" class=\"dataframe\">\n",
       "  <thead>\n",
       "    <tr style=\"text-align: right;\">\n",
       "      <th></th>\n",
       "      <th>MLPAP_TI-0706B02</th>\n",
       "      <th>MLPAP_TI-0706B03</th>\n",
       "      <th>MLPAP_TI-0706B04</th>\n",
       "      <th>MLPAP_TI-0706B05</th>\n",
       "      <th>MLPAP_TI-0706B06</th>\n",
       "      <th>MLPAP_TI-0706B07</th>\n",
       "      <th>MLPAP_TI-0706B08</th>\n",
       "      <th>MLPAP_TI-0706B09</th>\n",
       "      <th>MLPAP_TI-0706B10</th>\n",
       "      <th>MLPAP_TI-0706B11</th>\n",
       "      <th>...</th>\n",
       "      <th>MLPAP_FQI-0997.PV</th>\n",
       "      <th>DATA OF USE</th>\n",
       "      <th>MLPAP_FR-0755.PV</th>\n",
       "      <th>MLPAP_FR-0755PV(轉換後)</th>\n",
       "      <th>MLPAP_FR-0791.PV</th>\n",
       "      <th>MLPAP_FI-V211.PV</th>\n",
       "      <th>MLPAP_FI-V211.PV(轉換後)</th>\n",
       "      <th>MLPAP_PI-0658.PV</th>\n",
       "      <th>MLPAP_TIC-0757.PV</th>\n",
       "      <th>MLPAP_V125-PHD</th>\n",
       "    </tr>\n",
       "  </thead>\n",
       "  <tbody>\n",
       "    <tr>\n",
       "      <th>2016-05-09 00:00:00</th>\n",
       "      <td>399.996956</td>\n",
       "      <td>401.962157</td>\n",
       "      <td>400.757148</td>\n",
       "      <td>402.245915</td>\n",
       "      <td>401.143639</td>\n",
       "      <td>400.998932</td>\n",
       "      <td>400.048649</td>\n",
       "      <td>402.996307</td>\n",
       "      <td>402.001481</td>\n",
       "      <td>400.999089</td>\n",
       "      <td>...</td>\n",
       "      <td>-0.026063</td>\n",
       "      <td>3.342795</td>\n",
       "      <td>4.050917</td>\n",
       "      <td>4.045456</td>\n",
       "      <td>6.484379</td>\n",
       "      <td>0.089541</td>\n",
       "      <td>0.08942</td>\n",
       "      <td>-1.007740</td>\n",
       "      <td>1.635430</td>\n",
       "      <td>0.050999</td>\n",
       "    </tr>\n",
       "    <tr>\n",
       "      <th>2016-05-09 00:10:00</th>\n",
       "      <td>399.996956</td>\n",
       "      <td>401.939352</td>\n",
       "      <td>400.954632</td>\n",
       "      <td>402.245915</td>\n",
       "      <td>401.004025</td>\n",
       "      <td>400.998932</td>\n",
       "      <td>400.244686</td>\n",
       "      <td>402.996307</td>\n",
       "      <td>402.001481</td>\n",
       "      <td>400.999089</td>\n",
       "      <td>...</td>\n",
       "      <td>-0.026063</td>\n",
       "      <td>3.342795</td>\n",
       "      <td>4.157893</td>\n",
       "      <td>4.152288</td>\n",
       "      <td>6.449854</td>\n",
       "      <td>0.089541</td>\n",
       "      <td>0.08942</td>\n",
       "      <td>-1.007740</td>\n",
       "      <td>1.624784</td>\n",
       "      <td>0.050999</td>\n",
       "    </tr>\n",
       "    <tr>\n",
       "      <th>2016-05-09 00:20:00</th>\n",
       "      <td>399.996956</td>\n",
       "      <td>401.905143</td>\n",
       "      <td>400.896549</td>\n",
       "      <td>402.104563</td>\n",
       "      <td>401.004025</td>\n",
       "      <td>400.998932</td>\n",
       "      <td>400.094776</td>\n",
       "      <td>402.996307</td>\n",
       "      <td>402.001481</td>\n",
       "      <td>400.999089</td>\n",
       "      <td>...</td>\n",
       "      <td>-0.026063</td>\n",
       "      <td>3.342795</td>\n",
       "      <td>4.207893</td>\n",
       "      <td>4.202220</td>\n",
       "      <td>6.440330</td>\n",
       "      <td>0.089541</td>\n",
       "      <td>0.08942</td>\n",
       "      <td>-0.905851</td>\n",
       "      <td>1.649624</td>\n",
       "      <td>0.050999</td>\n",
       "    </tr>\n",
       "    <tr>\n",
       "      <th>2016-05-09 00:30:00</th>\n",
       "      <td>399.996956</td>\n",
       "      <td>401.950754</td>\n",
       "      <td>400.896549</td>\n",
       "      <td>402.304812</td>\n",
       "      <td>401.004025</td>\n",
       "      <td>400.998932</td>\n",
       "      <td>400.140902</td>\n",
       "      <td>402.996307</td>\n",
       "      <td>402.001481</td>\n",
       "      <td>400.999089</td>\n",
       "      <td>...</td>\n",
       "      <td>-0.026063</td>\n",
       "      <td>3.342795</td>\n",
       "      <td>4.152079</td>\n",
       "      <td>4.146482</td>\n",
       "      <td>6.464140</td>\n",
       "      <td>0.089541</td>\n",
       "      <td>0.08942</td>\n",
       "      <td>-0.518671</td>\n",
       "      <td>1.635430</td>\n",
       "      <td>0.050999</td>\n",
       "    </tr>\n",
       "    <tr>\n",
       "      <th>2016-05-09 00:40:00</th>\n",
       "      <td>399.996956</td>\n",
       "      <td>401.996366</td>\n",
       "      <td>400.850082</td>\n",
       "      <td>402.175239</td>\n",
       "      <td>401.004025</td>\n",
       "      <td>400.998932</td>\n",
       "      <td>400.406128</td>\n",
       "      <td>402.996307</td>\n",
       "      <td>402.001481</td>\n",
       "      <td>400.999089</td>\n",
       "      <td>...</td>\n",
       "      <td>-0.026063</td>\n",
       "      <td>3.342795</td>\n",
       "      <td>4.016615</td>\n",
       "      <td>4.011200</td>\n",
       "      <td>6.415329</td>\n",
       "      <td>0.089541</td>\n",
       "      <td>0.08942</td>\n",
       "      <td>-0.987362</td>\n",
       "      <td>1.653172</td>\n",
       "      <td>0.050999</td>\n",
       "    </tr>\n",
       "  </tbody>\n",
       "</table>\n",
       "<p>5 rows × 93 columns</p>\n",
       "</div>"
      ],
      "text/plain": [
       "                     MLPAP_TI-0706B02  MLPAP_TI-0706B03  MLPAP_TI-0706B04  \\\n",
       "2016-05-09 00:00:00        399.996956        401.962157        400.757148   \n",
       "2016-05-09 00:10:00        399.996956        401.939352        400.954632   \n",
       "2016-05-09 00:20:00        399.996956        401.905143        400.896549   \n",
       "2016-05-09 00:30:00        399.996956        401.950754        400.896549   \n",
       "2016-05-09 00:40:00        399.996956        401.996366        400.850082   \n",
       "\n",
       "                     MLPAP_TI-0706B05  MLPAP_TI-0706B06  MLPAP_TI-0706B07  \\\n",
       "2016-05-09 00:00:00        402.245915        401.143639        400.998932   \n",
       "2016-05-09 00:10:00        402.245915        401.004025        400.998932   \n",
       "2016-05-09 00:20:00        402.104563        401.004025        400.998932   \n",
       "2016-05-09 00:30:00        402.304812        401.004025        400.998932   \n",
       "2016-05-09 00:40:00        402.175239        401.004025        400.998932   \n",
       "\n",
       "                     MLPAP_TI-0706B08  MLPAP_TI-0706B09  MLPAP_TI-0706B10  \\\n",
       "2016-05-09 00:00:00        400.048649        402.996307        402.001481   \n",
       "2016-05-09 00:10:00        400.244686        402.996307        402.001481   \n",
       "2016-05-09 00:20:00        400.094776        402.996307        402.001481   \n",
       "2016-05-09 00:30:00        400.140902        402.996307        402.001481   \n",
       "2016-05-09 00:40:00        400.406128        402.996307        402.001481   \n",
       "\n",
       "                     MLPAP_TI-0706B11  ...  MLPAP_FQI-0997.PV  DATA OF USE  \\\n",
       "2016-05-09 00:00:00        400.999089  ...          -0.026063     3.342795   \n",
       "2016-05-09 00:10:00        400.999089  ...          -0.026063     3.342795   \n",
       "2016-05-09 00:20:00        400.999089  ...          -0.026063     3.342795   \n",
       "2016-05-09 00:30:00        400.999089  ...          -0.026063     3.342795   \n",
       "2016-05-09 00:40:00        400.999089  ...          -0.026063     3.342795   \n",
       "\n",
       "                     MLPAP_FR-0755.PV  MLPAP_FR-0755PV(轉換後)  MLPAP_FR-0791.PV  \\\n",
       "2016-05-09 00:00:00          4.050917              4.045456          6.484379   \n",
       "2016-05-09 00:10:00          4.157893              4.152288          6.449854   \n",
       "2016-05-09 00:20:00          4.207893              4.202220          6.440330   \n",
       "2016-05-09 00:30:00          4.152079              4.146482          6.464140   \n",
       "2016-05-09 00:40:00          4.016615              4.011200          6.415329   \n",
       "\n",
       "                     MLPAP_FI-V211.PV  MLPAP_FI-V211.PV(轉換後)  \\\n",
       "2016-05-09 00:00:00          0.089541                0.08942   \n",
       "2016-05-09 00:10:00          0.089541                0.08942   \n",
       "2016-05-09 00:20:00          0.089541                0.08942   \n",
       "2016-05-09 00:30:00          0.089541                0.08942   \n",
       "2016-05-09 00:40:00          0.089541                0.08942   \n",
       "\n",
       "                     MLPAP_PI-0658.PV  MLPAP_TIC-0757.PV  MLPAP_V125-PHD  \n",
       "2016-05-09 00:00:00         -1.007740           1.635430        0.050999  \n",
       "2016-05-09 00:10:00         -1.007740           1.624784        0.050999  \n",
       "2016-05-09 00:20:00         -0.905851           1.649624        0.050999  \n",
       "2016-05-09 00:30:00         -0.518671           1.635430        0.050999  \n",
       "2016-05-09 00:40:00         -0.987362           1.653172        0.050999  \n",
       "\n",
       "[5 rows x 93 columns]"
      ]
     },
     "execution_count": 40,
     "metadata": {},
     "output_type": "execute_result"
    }
   ],
   "source": [
    "df[:] = sc.inverse_transform(df[:])\n",
    "print(df.shape)\n",
    "df.head()"
   ]
  },
  {
   "cell_type": "code",
   "execution_count": 41,
   "metadata": {},
   "outputs": [
    {
     "data": {
      "text/plain": [
       "<matplotlib.axes._subplots.AxesSubplot at 0x7fcc4fd7f390>"
      ]
     },
     "execution_count": 41,
     "metadata": {},
     "output_type": "execute_result"
    },
    {
     "data": {
      "image/png": "[encoded data removed]",
      "text/plain": [
       "<Figure size 1440x360 with 1 Axes>"
      ]
     },
     "metadata": {
      "needs_background": "light"
     },
     "output_type": "display_data"
    }
   ],
   "source": [
    "fig = plt.figure(figsize=(20,5))\n",
    "sns.heatmap(df.isnull(),yticklabels=False,cbar=False,cmap='viridis')"
   ]
  },
  {
   "cell_type": "code",
   "execution_count": 42,
   "metadata": {},
   "outputs": [
    {
     "data": {
      "text/html": [
       "<div>\n",
       "<style scoped>\n",
       "    .dataframe tbody tr th:only-of-type {\n",
       "        vertical-align: middle;\n",
       "    }\n",
       "\n",
       "    .dataframe tbody tr th {\n",
       "        vertical-align: top;\n",
       "    }\n",
       "\n",
       "    .dataframe thead th {\n",
       "        text-align: right;\n",
       "    }\n",
       "</style>\n",
       "<table border=\"1\" class=\"dataframe\">\n",
       "  <thead>\n",
       "    <tr style=\"text-align: right;\">\n",
       "      <th></th>\n",
       "      <th>MLPAP_FI-V211.PV</th>\n",
       "      <th>MLPAP_FI-V211.PV(轉換後)</th>\n",
       "      <th>MLPAP_PIC-0741.PV</th>\n",
       "    </tr>\n",
       "  </thead>\n",
       "  <tbody>\n",
       "    <tr>\n",
       "      <th>count</th>\n",
       "      <td>193824.000000</td>\n",
       "      <td>193824.000000</td>\n",
       "      <td>193824.000000</td>\n",
       "    </tr>\n",
       "    <tr>\n",
       "      <th>mean</th>\n",
       "      <td>1220.370288</td>\n",
       "      <td>1218.725092</td>\n",
       "      <td>5.703086</td>\n",
       "    </tr>\n",
       "    <tr>\n",
       "      <th>std</th>\n",
       "      <td>2372.551330</td>\n",
       "      <td>2369.352863</td>\n",
       "      <td>10.930269</td>\n",
       "    </tr>\n",
       "    <tr>\n",
       "      <th>min</th>\n",
       "      <td>0.089541</td>\n",
       "      <td>0.089420</td>\n",
       "      <td>0.000133</td>\n",
       "    </tr>\n",
       "    <tr>\n",
       "      <th>25%</th>\n",
       "      <td>0.089541</td>\n",
       "      <td>0.089420</td>\n",
       "      <td>0.000133</td>\n",
       "    </tr>\n",
       "    <tr>\n",
       "      <th>50%</th>\n",
       "      <td>0.089541</td>\n",
       "      <td>0.089420</td>\n",
       "      <td>0.000133</td>\n",
       "    </tr>\n",
       "    <tr>\n",
       "      <th>75%</th>\n",
       "      <td>1428.096630</td>\n",
       "      <td>1426.171395</td>\n",
       "      <td>0.300038</td>\n",
       "    </tr>\n",
       "    <tr>\n",
       "      <th>max</th>\n",
       "      <td>7356.271973</td>\n",
       "      <td>7346.354890</td>\n",
       "      <td>49.435876</td>\n",
       "    </tr>\n",
       "  </tbody>\n",
       "</table>\n",
       "</div>"
      ],
      "text/plain": [
       "       MLPAP_FI-V211.PV  MLPAP_FI-V211.PV(轉換後)  MLPAP_PIC-0741.PV\n",
       "count     193824.000000          193824.000000      193824.000000\n",
       "mean        1220.370288            1218.725092           5.703086\n",
       "std         2372.551330            2369.352863          10.930269\n",
       "min            0.089541               0.089420           0.000133\n",
       "25%            0.089541               0.089420           0.000133\n",
       "50%            0.089541               0.089420           0.000133\n",
       "75%         1428.096630            1426.171395           0.300038\n",
       "max         7356.271973            7346.354890          49.435876"
      ]
     },
     "execution_count": 42,
     "metadata": {},
     "output_type": "execute_result"
    }
   ],
   "source": [
    "df[['MLPAP_FI-V211.PV','MLPAP_FI-V211.PV(轉換後)','MLPAP_PIC-0741.PV']].describe()"
   ]
  },
  {
   "cell_type": "markdown",
   "metadata": {},
   "source": [
    "# save"
   ]
  },
  {
   "cell_type": "code",
   "execution_count": 44,
   "metadata": {},
   "outputs": [
    {
     "name": "stdout",
     "output_type": "stream",
     "text": [
      "save done!\n"
     ]
    }
   ],
   "source": [
    "df.to_csv('./train.csv')\n",
    "print('save done!')"
   ]
  },
  {
   "cell_type": "code",
   "execution_count": null,
   "metadata": {},
   "outputs": [],
   "source": []
  }
 ],
 "metadata": {
  "kernelspec": {
   "display_name": "Python 3",
   "language": "python",
   "name": "python3"
  },
  "language_info": {
   "codemirror_mode": {
    "name": "ipython",
    "version": 3
   },
   "file_extension": ".py",
   "mimetype": "text/x-python",
   "name": "python",
   "nbconvert_exporter": "python",
   "pygments_lexer": "ipython3",
   "version": "3.6.9"
  }
 },
 "nbformat": 4,
 "nbformat_minor": 2
}
