{
 "cells": [
  {
   "cell_type": "code",
   "execution_count": 1,
   "metadata": {},
   "outputs": [
    {
     "data": {
      "text/plain": [
       "['.git',\n",
       " '.ipynb_checkpoints',\n",
       " 'cnn-time-stack.ipynb',\n",
       " 'DataCleaning.ipynb',\n",
       " 'feature select.ipynb',\n",
       " 'PA_201605-2012001更新R6(20190509).xlsx',\n",
       " 'README.md',\n",
       " 'tag盤點表.xlsx',\n",
       " 'target.jpg',\n",
       " 'xgboost.ipynb',\n",
       " '南亞PA廠資料分析_R6_1219.ipynb']"
      ]
     },
     "execution_count": 1,
     "metadata": {},
     "output_type": "execute_result"
    }
   ],
   "source": [
    "import warnings;warnings.simplefilter('ignore')\n",
    "import os\n",
    "os.listdir()"
   ]
  },
  {
   "cell_type": "code",
   "execution_count": 2,
   "metadata": {},
   "outputs": [],
   "source": [
    "import pandas as pd\n",
    "import numpy as np\n",
    "import matplotlib.pyplot as plt\n",
    "import seaborn as sns\n",
    "from sklearn.utils import shuffle\n",
    "from  tqdm import tqdm_notebook as tqdm"
   ]
  },
  {
   "cell_type": "markdown",
   "metadata": {},
   "source": [
    "# load data"
   ]
  },
  {
   "cell_type": "code",
   "execution_count": 3,
   "metadata": {},
   "outputs": [
    {
     "name": "stdout",
     "output_type": "stream",
     "text": [
      "(193825, 93)\n"
     ]
    },
    {
     "data": {
      "text/html": [
       "<div>\n",
       "<style scoped>\n",
       "    .dataframe tbody tr th:only-of-type {\n",
       "        vertical-align: middle;\n",
       "    }\n",
       "\n",
       "    .dataframe tbody tr th {\n",
       "        vertical-align: top;\n",
       "    }\n",
       "\n",
       "    .dataframe thead th {\n",
       "        text-align: right;\n",
       "    }\n",
       "</style>\n",
       "<table border=\"1\" class=\"dataframe\">\n",
       "  <thead>\n",
       "    <tr style=\"text-align: right;\">\n",
       "      <th></th>\n",
       "      <th>MLPAP_TI-0706B02</th>\n",
       "      <th>MLPAP_TI-0706B03</th>\n",
       "      <th>MLPAP_TI-0706B04</th>\n",
       "      <th>MLPAP_TI-0706B05</th>\n",
       "      <th>MLPAP_TI-0706B06</th>\n",
       "      <th>MLPAP_TI-0706B07</th>\n",
       "      <th>MLPAP_TI-0706B08</th>\n",
       "      <th>MLPAP_TI-0706B09</th>\n",
       "      <th>MLPAP_TI-0706B10</th>\n",
       "      <th>MLPAP_TI-0706B11</th>\n",
       "      <th>...</th>\n",
       "      <th>MLPAP_FQI-0997.PV</th>\n",
       "      <th>DATA OF USE</th>\n",
       "      <th>MLPAP_FR-0755.PV</th>\n",
       "      <th>MLPAP_FR-0755PV(轉換後)</th>\n",
       "      <th>MLPAP_FR-0791.PV</th>\n",
       "      <th>MLPAP_FI-V211.PV</th>\n",
       "      <th>MLPAP_FI-V211.PV(轉換後)</th>\n",
       "      <th>MLPAP_PI-0658.PV</th>\n",
       "      <th>MLPAP_TIC-0757.PV</th>\n",
       "      <th>MLPAP_V125-PHD</th>\n",
       "    </tr>\n",
       "  </thead>\n",
       "  <tbody>\n",
       "    <tr>\n",
       "      <td>2020-01-14 23:20:00</td>\n",
       "      <td>308.011</td>\n",
       "      <td>308.855</td>\n",
       "      <td>307</td>\n",
       "      <td>308</td>\n",
       "      <td>307</td>\n",
       "      <td>307</td>\n",
       "      <td>307.155</td>\n",
       "      <td>305.605</td>\n",
       "      <td>303.322</td>\n",
       "      <td>301</td>\n",
       "      <td>...</td>\n",
       "      <td>0</td>\n",
       "      <td>4.75646879756469E-06*193821</td>\n",
       "      <td>4.05932</td>\n",
       "      <td>4.053850</td>\n",
       "      <td>3.28494</td>\n",
       "      <td>1407</td>\n",
       "      <td>1405.103894</td>\n",
       "      <td>-0.550185</td>\n",
       "      <td>0.429594</td>\n",
       "      <td>0.006</td>\n",
       "    </tr>\n",
       "    <tr>\n",
       "      <td>2020-01-14 23:30:00</td>\n",
       "      <td>307.994</td>\n",
       "      <td>308</td>\n",
       "      <td>306.405</td>\n",
       "      <td>308</td>\n",
       "      <td>306.822</td>\n",
       "      <td>306.105</td>\n",
       "      <td>306.255</td>\n",
       "      <td>305</td>\n",
       "      <td>302.822</td>\n",
       "      <td>300.172</td>\n",
       "      <td>...</td>\n",
       "      <td>0</td>\n",
       "      <td>4.75646879756469E-06*193822</td>\n",
       "      <td>4.06726</td>\n",
       "      <td>4.061772</td>\n",
       "      <td>2.67178</td>\n",
       "      <td>1411.79</td>\n",
       "      <td>1409.883474</td>\n",
       "      <td>-0.899908</td>\n",
       "      <td>0.757286</td>\n",
       "      <td>0.006</td>\n",
       "    </tr>\n",
       "    <tr>\n",
       "      <td>2020-01-14 23:40:00</td>\n",
       "      <td>307.011</td>\n",
       "      <td>307.994</td>\n",
       "      <td>306</td>\n",
       "      <td>307.272</td>\n",
       "      <td>306</td>\n",
       "      <td>305.355</td>\n",
       "      <td>305.905</td>\n",
       "      <td>304.155</td>\n",
       "      <td>302</td>\n",
       "      <td>300</td>\n",
       "      <td>...</td>\n",
       "      <td>0</td>\n",
       "      <td>4.75646879756469E-06*193823</td>\n",
       "      <td>4.06527</td>\n",
       "      <td>4.059790</td>\n",
       "      <td>2.83228</td>\n",
       "      <td>1406.83</td>\n",
       "      <td>1404.931948</td>\n",
       "      <td>-0.455118</td>\n",
       "      <td>0.920603</td>\n",
       "      <td>0.006</td>\n",
       "    </tr>\n",
       "    <tr>\n",
       "      <td>2020-01-14 23:50:00</td>\n",
       "      <td>307</td>\n",
       "      <td>307.011</td>\n",
       "      <td>305.805</td>\n",
       "      <td>306.971</td>\n",
       "      <td>305.472</td>\n",
       "      <td>304.955</td>\n",
       "      <td>305</td>\n",
       "      <td>303.955</td>\n",
       "      <td>301.971</td>\n",
       "      <td>299.622</td>\n",
       "      <td>...</td>\n",
       "      <td>0</td>\n",
       "      <td>4.75646879756469E-06*193824</td>\n",
       "      <td>4.06097</td>\n",
       "      <td>4.055500</td>\n",
       "      <td>2.98571</td>\n",
       "      <td>1407.55</td>\n",
       "      <td>1405.652984</td>\n",
       "      <td>-0.399457</td>\n",
       "      <td>0.850938</td>\n",
       "      <td>0.006</td>\n",
       "    </tr>\n",
       "    <tr>\n",
       "      <td>NaT</td>\n",
       "      <td>NaN</td>\n",
       "      <td>NaN</td>\n",
       "      <td>NaN</td>\n",
       "      <td>NaN</td>\n",
       "      <td>NaN</td>\n",
       "      <td>NaN</td>\n",
       "      <td>NaN</td>\n",
       "      <td>NaN</td>\n",
       "      <td>NaN</td>\n",
       "      <td>NaN</td>\n",
       "      <td>...</td>\n",
       "      <td>NaN</td>\n",
       "      <td>NaN</td>\n",
       "      <td>NaN</td>\n",
       "      <td>NaN</td>\n",
       "      <td>NaN</td>\n",
       "      <td>NaN</td>\n",
       "      <td>NaN</td>\n",
       "      <td>NaN</td>\n",
       "      <td>NaN</td>\n",
       "      <td>0.006</td>\n",
       "    </tr>\n",
       "  </tbody>\n",
       "</table>\n",
       "<p>5 rows × 93 columns</p>\n",
       "</div>"
      ],
      "text/plain": [
       "                    MLPAP_TI-0706B02 MLPAP_TI-0706B03 MLPAP_TI-0706B04  \\\n",
       "2020-01-14 23:20:00          308.011          308.855              307   \n",
       "2020-01-14 23:30:00          307.994              308          306.405   \n",
       "2020-01-14 23:40:00          307.011          307.994              306   \n",
       "2020-01-14 23:50:00              307          307.011          305.805   \n",
       "NaT                              NaN              NaN              NaN   \n",
       "\n",
       "                    MLPAP_TI-0706B05 MLPAP_TI-0706B06 MLPAP_TI-0706B07  \\\n",
       "2020-01-14 23:20:00              308              307              307   \n",
       "2020-01-14 23:30:00              308          306.822          306.105   \n",
       "2020-01-14 23:40:00          307.272              306          305.355   \n",
       "2020-01-14 23:50:00          306.971          305.472          304.955   \n",
       "NaT                              NaN              NaN              NaN   \n",
       "\n",
       "                    MLPAP_TI-0706B08 MLPAP_TI-0706B09 MLPAP_TI-0706B10  \\\n",
       "2020-01-14 23:20:00          307.155          305.605          303.322   \n",
       "2020-01-14 23:30:00          306.255              305          302.822   \n",
       "2020-01-14 23:40:00          305.905          304.155              302   \n",
       "2020-01-14 23:50:00              305          303.955          301.971   \n",
       "NaT                              NaN              NaN              NaN   \n",
       "\n",
       "                    MLPAP_TI-0706B11  ... MLPAP_FQI-0997.PV  \\\n",
       "2020-01-14 23:20:00              301  ...                 0   \n",
       "2020-01-14 23:30:00          300.172  ...                 0   \n",
       "2020-01-14 23:40:00              300  ...                 0   \n",
       "2020-01-14 23:50:00          299.622  ...                 0   \n",
       "NaT                              NaN  ...               NaN   \n",
       "\n",
       "                                     DATA OF USE MLPAP_FR-0755.PV  \\\n",
       "2020-01-14 23:20:00  4.75646879756469E-06*193821          4.05932   \n",
       "2020-01-14 23:30:00  4.75646879756469E-06*193822          4.06726   \n",
       "2020-01-14 23:40:00  4.75646879756469E-06*193823          4.06527   \n",
       "2020-01-14 23:50:00  4.75646879756469E-06*193824          4.06097   \n",
       "NaT                                          NaN              NaN   \n",
       "\n",
       "                    MLPAP_FR-0755PV(轉換後) MLPAP_FR-0791.PV MLPAP_FI-V211.PV  \\\n",
       "2020-01-14 23:20:00             4.053850          3.28494             1407   \n",
       "2020-01-14 23:30:00             4.061772          2.67178          1411.79   \n",
       "2020-01-14 23:40:00             4.059790          2.83228          1406.83   \n",
       "2020-01-14 23:50:00             4.055500          2.98571          1407.55   \n",
       "NaT                                  NaN              NaN              NaN   \n",
       "\n",
       "                    MLPAP_FI-V211.PV(轉換後) MLPAP_PI-0658.PV MLPAP_TIC-0757.PV  \\\n",
       "2020-01-14 23:20:00           1405.103894        -0.550185          0.429594   \n",
       "2020-01-14 23:30:00           1409.883474        -0.899908          0.757286   \n",
       "2020-01-14 23:40:00           1404.931948        -0.455118          0.920603   \n",
       "2020-01-14 23:50:00           1405.652984        -0.399457          0.850938   \n",
       "NaT                                   NaN              NaN               NaN   \n",
       "\n",
       "                    MLPAP_V125-PHD  \n",
       "2020-01-14 23:20:00          0.006  \n",
       "2020-01-14 23:30:00          0.006  \n",
       "2020-01-14 23:40:00          0.006  \n",
       "2020-01-14 23:50:00          0.006  \n",
       "NaT                          0.006  \n",
       "\n",
       "[5 rows x 93 columns]"
      ]
     },
     "execution_count": 3,
     "metadata": {},
     "output_type": "execute_result"
    }
   ],
   "source": [
    "df = pd.read_excel(\"PA_201605-2012001更新R6(20190509).xlsx\",index_col = 0,parse_dates = True)\n",
    "print(df.shape)\n",
    "df.tail()"
   ]
  },
  {
   "cell_type": "markdown",
   "metadata": {},
   "source": [
    "# HANDLE DATA OF USE COL"
   ]
  },
  {
   "cell_type": "code",
   "execution_count": 4,
   "metadata": {},
   "outputs": [],
   "source": [
    "def f(x):\n",
    "    x = str(x).split('*')\n",
    "    return float(x[1])\n",
    "df['DATA OF USE'] = df['DATA OF USE'].dropna().apply(f)"
   ]
  },
  {
   "cell_type": "markdown",
   "metadata": {},
   "source": [
    "# to_numeric"
   ]
  },
  {
   "cell_type": "code",
   "execution_count": 5,
   "metadata": {},
   "outputs": [
    {
     "data": {
      "application/vnd.jupyter.widget-view+json": {
       "model_id": "5485ffc95ca0449e9075e93a935d9d5e",
       "version_major": 2,
       "version_minor": 0
      },
      "text/plain": [
       "HBox(children=(IntProgress(value=0, max=93), HTML(value='')))"
      ]
     },
     "metadata": {},
     "output_type": "display_data"
    },
    {
     "name": "stdout",
     "output_type": "stream",
     "text": [
      "\n",
      "MLPAP_TI-0706B02         float64\n",
      "MLPAP_TI-0706B03         float64\n",
      "MLPAP_TI-0706B04         float64\n",
      "MLPAP_TI-0706B05         float64\n",
      "MLPAP_TI-0706B06         float64\n",
      "                          ...   \n",
      "MLPAP_FI-V211.PV         float64\n",
      "MLPAP_FI-V211.PV(轉換後)    float64\n",
      "MLPAP_PI-0658.PV         float64\n",
      "MLPAP_TIC-0757.PV        float64\n",
      "MLPAP_V125-PHD           float64\n",
      "Length: 93, dtype: object\n"
     ]
    }
   ],
   "source": [
    "for col in tqdm(df.columns):\n",
    "    df[col] = pd.to_numeric(df[col],errors='coerce')\n",
    "print(df.dtypes)"
   ]
  },
  {
   "cell_type": "markdown",
   "metadata": {},
   "source": [
    "# Missing Data"
   ]
  },
  {
   "cell_type": "code",
   "execution_count": 6,
   "metadata": {},
   "outputs": [
    {
     "data": {
      "text/plain": [
       "<matplotlib.axes._subplots.AxesSubplot at 0x2508cfd0288>"
      ]
     },
     "execution_count": 6,
     "metadata": {},
     "output_type": "execute_result"
    },
    {
     "data": {
      "image/png": "[encoded data removed]",
      "text/plain": [
       "<Figure size 1440x360 with 1 Axes>"
      ]
     },
     "metadata": {
      "needs_background": "light"
     },
     "output_type": "display_data"
    }
   ],
   "source": [
    "fig = plt.figure(figsize=(20,5))\n",
    "sns.heatmap(df.isnull(),yticklabels=False,cbar=False,cmap='viridis')"
   ]
  },
  {
   "cell_type": "code",
   "execution_count": 7,
   "metadata": {},
   "outputs": [
    {
     "data": {
      "text/plain": [
       "MLPAP_PIC-0741.PV        131755\n",
       "MLPAP_FI-V211.PV(轉換後)    117662\n",
       "MLPAP_FI-V211.PV         117662\n",
       "MLPAP_FQ-0619.PV           1433\n",
       "MLPAP_FR-0755PV(轉換後)       1433\n",
       "                          ...  \n",
       "MLPAP_TI-0706B23            671\n",
       "MLPAP_TI-0706B08            671\n",
       "MLPAP_TJR-0720A1.PV         671\n",
       "MLPAP_TI-0716E01            671\n",
       "DATA OF USE                   1\n",
       "Length: 93, dtype: int64"
      ]
     },
     "execution_count": 7,
     "metadata": {},
     "output_type": "execute_result"
    }
   ],
   "source": [
    "df.isnull().sum().sort_values(ascending=False)"
   ]
  },
  {
   "cell_type": "markdown",
   "metadata": {},
   "source": [
    "# boxplot"
   ]
  },
  {
   "cell_type": "code",
   "execution_count": 8,
   "metadata": {},
   "outputs": [
    {
     "data": {
      "image/png": "[encoded data removed]",
      "text/plain": [
       "<Figure size 432x288 with 1 Axes>"
      ]
     },
     "metadata": {
      "needs_background": "light"
     },
     "output_type": "display_data"
    },
    {
     "data": {
      "image/png": "[encoded data removed]",
      "text/plain": [
       "<Figure size 432x288 with 1 Axes>"
      ]
     },
     "metadata": {
      "needs_background": "light"
     },
     "output_type": "display_data"
    }
   ],
   "source": [
    "df[['MLPAP_PIC-0741.PV']].plot(kind='box')\n",
    "plt.show()\n",
    "\n",
    "df[['MLPAP_FI-V211.PV','MLPAP_FI-V211.PV(轉換後)']].plot(kind='box')\n",
    "plt.show()"
   ]
  },
  {
   "cell_type": "markdown",
   "metadata": {},
   "source": [
    "# correlation"
   ]
  },
  {
   "cell_type": "code",
   "execution_count": 9,
   "metadata": {},
   "outputs": [
    {
     "name": "stdout",
     "output_type": "stream",
     "text": [
      "['MLPAP_PIC-0741.PV', 'MLPAP_TJR-0721.PV', 'MLPAP_TIC-0757A.PV', 'MLPAP_TI-0716A06', 'MLPAP_TI-0716C01', 'MLPAP_TI-0706B05']\n"
     ]
    },
    {
     "data": {
      "text/html": [
       "<div>\n",
       "<style scoped>\n",
       "    .dataframe tbody tr th:only-of-type {\n",
       "        vertical-align: middle;\n",
       "    }\n",
       "\n",
       "    .dataframe tbody tr th {\n",
       "        vertical-align: top;\n",
       "    }\n",
       "\n",
       "    .dataframe thead th {\n",
       "        text-align: right;\n",
       "    }\n",
       "</style>\n",
       "<table border=\"1\" class=\"dataframe\">\n",
       "  <thead>\n",
       "    <tr style=\"text-align: right;\">\n",
       "      <th></th>\n",
       "      <th>MLPAP_PIC-0741.PV</th>\n",
       "    </tr>\n",
       "  </thead>\n",
       "  <tbody>\n",
       "    <tr>\n",
       "      <td>MLPAP_PIC-0741.PV</td>\n",
       "      <td>1.000000</td>\n",
       "    </tr>\n",
       "    <tr>\n",
       "      <td>MLPAP_TJR-0721.PV</td>\n",
       "      <td>0.907504</td>\n",
       "    </tr>\n",
       "    <tr>\n",
       "      <td>MLPAP_TIC-0757A.PV</td>\n",
       "      <td>0.904367</td>\n",
       "    </tr>\n",
       "    <tr>\n",
       "      <td>MLPAP_TI-0716A06</td>\n",
       "      <td>0.899273</td>\n",
       "    </tr>\n",
       "    <tr>\n",
       "      <td>MLPAP_TI-0716C01</td>\n",
       "      <td>0.899050</td>\n",
       "    </tr>\n",
       "    <tr>\n",
       "      <td>MLPAP_TI-0706B05</td>\n",
       "      <td>0.899026</td>\n",
       "    </tr>\n",
       "  </tbody>\n",
       "</table>\n",
       "</div>"
      ],
      "text/plain": [
       "                    MLPAP_PIC-0741.PV\n",
       "MLPAP_PIC-0741.PV            1.000000\n",
       "MLPAP_TJR-0721.PV            0.907504\n",
       "MLPAP_TIC-0757A.PV           0.904367\n",
       "MLPAP_TI-0716A06             0.899273\n",
       "MLPAP_TI-0716C01             0.899050\n",
       "MLPAP_TI-0706B05             0.899026"
      ]
     },
     "execution_count": 9,
     "metadata": {},
     "output_type": "execute_result"
    }
   ],
   "source": [
    "col = 'MLPAP_PIC-0741.PV'\n",
    "CORR = abs(df.corr()).sort_values(by=col,ascending=False)[[col]].head(6)\n",
    "print(CORR.index.tolist())\n",
    "CORR"
   ]
  },
  {
   "cell_type": "code",
   "execution_count": 10,
   "metadata": {},
   "outputs": [
    {
     "name": "stdout",
     "output_type": "stream",
     "text": [
      "['MLPAP_FI-V211.PV(轉換後)', 'MLPAP_FI-V211.PV', 'MLPAP_PIC-0741.PV', 'MLPAP_TJR-0720B2.PV', 'MLPAP_LRC-0729.PV', 'MLPAP_PI-0658.PV']\n"
     ]
    },
    {
     "data": {
      "text/html": [
       "<div>\n",
       "<style scoped>\n",
       "    .dataframe tbody tr th:only-of-type {\n",
       "        vertical-align: middle;\n",
       "    }\n",
       "\n",
       "    .dataframe tbody tr th {\n",
       "        vertical-align: top;\n",
       "    }\n",
       "\n",
       "    .dataframe thead th {\n",
       "        text-align: right;\n",
       "    }\n",
       "</style>\n",
       "<table border=\"1\" class=\"dataframe\">\n",
       "  <thead>\n",
       "    <tr style=\"text-align: right;\">\n",
       "      <th></th>\n",
       "      <th>MLPAP_FI-V211.PV</th>\n",
       "    </tr>\n",
       "  </thead>\n",
       "  <tbody>\n",
       "    <tr>\n",
       "      <td>MLPAP_FI-V211.PV(轉換後)</td>\n",
       "      <td>1.000000</td>\n",
       "    </tr>\n",
       "    <tr>\n",
       "      <td>MLPAP_FI-V211.PV</td>\n",
       "      <td>1.000000</td>\n",
       "    </tr>\n",
       "    <tr>\n",
       "      <td>MLPAP_PIC-0741.PV</td>\n",
       "      <td>0.897309</td>\n",
       "    </tr>\n",
       "    <tr>\n",
       "      <td>MLPAP_TJR-0720B2.PV</td>\n",
       "      <td>0.819066</td>\n",
       "    </tr>\n",
       "    <tr>\n",
       "      <td>MLPAP_LRC-0729.PV</td>\n",
       "      <td>0.707347</td>\n",
       "    </tr>\n",
       "    <tr>\n",
       "      <td>MLPAP_PI-0658.PV</td>\n",
       "      <td>0.668418</td>\n",
       "    </tr>\n",
       "  </tbody>\n",
       "</table>\n",
       "</div>"
      ],
      "text/plain": [
       "                       MLPAP_FI-V211.PV\n",
       "MLPAP_FI-V211.PV(轉換後)          1.000000\n",
       "MLPAP_FI-V211.PV               1.000000\n",
       "MLPAP_PIC-0741.PV              0.897309\n",
       "MLPAP_TJR-0720B2.PV            0.819066\n",
       "MLPAP_LRC-0729.PV              0.707347\n",
       "MLPAP_PI-0658.PV               0.668418"
      ]
     },
     "execution_count": 10,
     "metadata": {},
     "output_type": "execute_result"
    }
   ],
   "source": [
    "col = 'MLPAP_FI-V211.PV'\n",
    "CORR = abs(df.corr()).sort_values(by=col,ascending=False)[[col]].head(6)\n",
    "print(CORR.index.tolist())\n",
    "CORR"
   ]
  },
  {
   "cell_type": "code",
   "execution_count": 11,
   "metadata": {},
   "outputs": [
    {
     "name": "stdout",
     "output_type": "stream",
     "text": [
      "['MLPAP_FI-V211.PV', 'MLPAP_FI-V211.PV(轉換後)', 'MLPAP_PIC-0741.PV', 'MLPAP_TJR-0720B2.PV', 'MLPAP_LRC-0729.PV', 'MLPAP_PI-0658.PV']\n"
     ]
    },
    {
     "data": {
      "text/html": [
       "<div>\n",
       "<style scoped>\n",
       "    .dataframe tbody tr th:only-of-type {\n",
       "        vertical-align: middle;\n",
       "    }\n",
       "\n",
       "    .dataframe tbody tr th {\n",
       "        vertical-align: top;\n",
       "    }\n",
       "\n",
       "    .dataframe thead th {\n",
       "        text-align: right;\n",
       "    }\n",
       "</style>\n",
       "<table border=\"1\" class=\"dataframe\">\n",
       "  <thead>\n",
       "    <tr style=\"text-align: right;\">\n",
       "      <th></th>\n",
       "      <th>MLPAP_FI-V211.PV(轉換後)</th>\n",
       "    </tr>\n",
       "  </thead>\n",
       "  <tbody>\n",
       "    <tr>\n",
       "      <td>MLPAP_FI-V211.PV</td>\n",
       "      <td>1.000000</td>\n",
       "    </tr>\n",
       "    <tr>\n",
       "      <td>MLPAP_FI-V211.PV(轉換後)</td>\n",
       "      <td>1.000000</td>\n",
       "    </tr>\n",
       "    <tr>\n",
       "      <td>MLPAP_PIC-0741.PV</td>\n",
       "      <td>0.897309</td>\n",
       "    </tr>\n",
       "    <tr>\n",
       "      <td>MLPAP_TJR-0720B2.PV</td>\n",
       "      <td>0.819066</td>\n",
       "    </tr>\n",
       "    <tr>\n",
       "      <td>MLPAP_LRC-0729.PV</td>\n",
       "      <td>0.707347</td>\n",
       "    </tr>\n",
       "    <tr>\n",
       "      <td>MLPAP_PI-0658.PV</td>\n",
       "      <td>0.668418</td>\n",
       "    </tr>\n",
       "  </tbody>\n",
       "</table>\n",
       "</div>"
      ],
      "text/plain": [
       "                       MLPAP_FI-V211.PV(轉換後)\n",
       "MLPAP_FI-V211.PV                    1.000000\n",
       "MLPAP_FI-V211.PV(轉換後)               1.000000\n",
       "MLPAP_PIC-0741.PV                   0.897309\n",
       "MLPAP_TJR-0720B2.PV                 0.819066\n",
       "MLPAP_LRC-0729.PV                   0.707347\n",
       "MLPAP_PI-0658.PV                    0.668418"
      ]
     },
     "execution_count": 11,
     "metadata": {},
     "output_type": "execute_result"
    }
   ],
   "source": [
    "col = 'MLPAP_FI-V211.PV(轉換後)'\n",
    "CORR = abs(df.corr()).sort_values(by=col,ascending=False)[[col]].head(6)\n",
    "print(CORR.index.tolist())\n",
    "CORR"
   ]
  },
  {
   "cell_type": "markdown",
   "metadata": {},
   "source": [
    "# KNN fill miss value"
   ]
  },
  {
   "cell_type": "code",
   "execution_count": 12,
   "metadata": {},
   "outputs": [
    {
     "data": {
      "application/vnd.jupyter.widget-view+json": {
       "model_id": "39f8a401907948b383064192e2c1beb4",
       "version_major": 2,
       "version_minor": 0
      },
      "text/plain": [
       "HBox(children=(IntProgress(value=0, max=20), HTML(value='')))"
      ]
     },
     "metadata": {},
     "output_type": "display_data"
    },
    {
     "name": "stdout",
     "output_type": "stream",
     "text": [
      "\n"
     ]
    }
   ],
   "source": [
    "from sklearn.impute import KNNImputer\n",
    "\n",
    "df = shuffle(df)\n",
    "step = 10000\n",
    "\n",
    "for i in tqdm(range(0, len(df), step)):\n",
    "    start, end = i, min(i+step,len(df))\n",
    "    imputer = KNNImputer(n_neighbors = 3)\n",
    "    df.iloc[start:end] = imputer.fit_transform(df.iloc[start:end])"
   ]
  },
  {
   "cell_type": "code",
   "execution_count": 13,
   "metadata": {},
   "outputs": [
    {
     "data": {
      "text/plain": [
       "<matplotlib.axes._subplots.AxesSubplot at 0x250f67b1888>"
      ]
     },
     "execution_count": 13,
     "metadata": {},
     "output_type": "execute_result"
    },
    {
     "data": {
      "image/png": "[encoded data removed]",
      "text/plain": [
       "<Figure size 1440x360 with 1 Axes>"
      ]
     },
     "metadata": {
      "needs_background": "light"
     },
     "output_type": "display_data"
    }
   ],
   "source": [
    "fig = plt.figure(figsize=(20,5))\n",
    "sns.heatmap(df.isnull(),yticklabels=False,cbar=False,cmap='viridis')"
   ]
  },
  {
   "cell_type": "code",
   "execution_count": 14,
   "metadata": {},
   "outputs": [
    {
     "name": "stdout",
     "output_type": "stream",
     "text": [
      "(193825, 93)\n"
     ]
    },
    {
     "data": {
      "text/html": [
       "<div>\n",
       "<style scoped>\n",
       "    .dataframe tbody tr th:only-of-type {\n",
       "        vertical-align: middle;\n",
       "    }\n",
       "\n",
       "    .dataframe tbody tr th {\n",
       "        vertical-align: top;\n",
       "    }\n",
       "\n",
       "    .dataframe thead th {\n",
       "        text-align: right;\n",
       "    }\n",
       "</style>\n",
       "<table border=\"1\" class=\"dataframe\">\n",
       "  <thead>\n",
       "    <tr style=\"text-align: right;\">\n",
       "      <th></th>\n",
       "      <th>MLPAP_TI-0706B02</th>\n",
       "      <th>MLPAP_TI-0706B03</th>\n",
       "      <th>MLPAP_TI-0706B04</th>\n",
       "      <th>MLPAP_TI-0706B05</th>\n",
       "      <th>MLPAP_TI-0706B06</th>\n",
       "      <th>MLPAP_TI-0706B07</th>\n",
       "      <th>MLPAP_TI-0706B08</th>\n",
       "      <th>MLPAP_TI-0706B09</th>\n",
       "      <th>MLPAP_TI-0706B10</th>\n",
       "      <th>MLPAP_TI-0706B11</th>\n",
       "      <th>...</th>\n",
       "      <th>MLPAP_FQI-0997.PV</th>\n",
       "      <th>DATA OF USE</th>\n",
       "      <th>MLPAP_FR-0755.PV</th>\n",
       "      <th>MLPAP_FR-0755PV(轉換後)</th>\n",
       "      <th>MLPAP_FR-0791.PV</th>\n",
       "      <th>MLPAP_FI-V211.PV</th>\n",
       "      <th>MLPAP_FI-V211.PV(轉換後)</th>\n",
       "      <th>MLPAP_PI-0658.PV</th>\n",
       "      <th>MLPAP_TIC-0757.PV</th>\n",
       "      <th>MLPAP_V125-PHD</th>\n",
       "    </tr>\n",
       "  </thead>\n",
       "  <tbody>\n",
       "    <tr>\n",
       "      <td>2016-05-09 00:00:00</td>\n",
       "      <td>400.0</td>\n",
       "      <td>401.957120</td>\n",
       "      <td>400.751866</td>\n",
       "      <td>402.250788</td>\n",
       "      <td>401.148767</td>\n",
       "      <td>401.0</td>\n",
       "      <td>400.050078</td>\n",
       "      <td>403.0</td>\n",
       "      <td>402.0</td>\n",
       "      <td>401.0</td>\n",
       "      <td>...</td>\n",
       "      <td>0.0</td>\n",
       "      <td>1.0</td>\n",
       "      <td>4.051145</td>\n",
       "      <td>4.045683</td>\n",
       "      <td>6.484770</td>\n",
       "      <td>0.0</td>\n",
       "      <td>0.0</td>\n",
       "      <td>-1.000000</td>\n",
       "      <td>1.635186</td>\n",
       "      <td>0.051</td>\n",
       "    </tr>\n",
       "    <tr>\n",
       "      <td>2016-05-09 00:10:00</td>\n",
       "      <td>400.0</td>\n",
       "      <td>401.942713</td>\n",
       "      <td>400.949883</td>\n",
       "      <td>402.249145</td>\n",
       "      <td>401.000000</td>\n",
       "      <td>401.0</td>\n",
       "      <td>400.249800</td>\n",
       "      <td>403.0</td>\n",
       "      <td>402.0</td>\n",
       "      <td>401.0</td>\n",
       "      <td>...</td>\n",
       "      <td>0.0</td>\n",
       "      <td>2.0</td>\n",
       "      <td>4.157856</td>\n",
       "      <td>4.152250</td>\n",
       "      <td>6.449888</td>\n",
       "      <td>0.0</td>\n",
       "      <td>0.0</td>\n",
       "      <td>-1.000000</td>\n",
       "      <td>1.625011</td>\n",
       "      <td>0.051</td>\n",
       "    </tr>\n",
       "    <tr>\n",
       "      <td>2016-05-09 00:20:00</td>\n",
       "      <td>400.0</td>\n",
       "      <td>401.900145</td>\n",
       "      <td>400.899767</td>\n",
       "      <td>402.101255</td>\n",
       "      <td>401.000000</td>\n",
       "      <td>401.0</td>\n",
       "      <td>400.100155</td>\n",
       "      <td>403.0</td>\n",
       "      <td>402.0</td>\n",
       "      <td>401.0</td>\n",
       "      <td>...</td>\n",
       "      <td>0.0</td>\n",
       "      <td>3.0</td>\n",
       "      <td>4.208122</td>\n",
       "      <td>4.202449</td>\n",
       "      <td>6.440502</td>\n",
       "      <td>0.0</td>\n",
       "      <td>0.0</td>\n",
       "      <td>-0.898558</td>\n",
       "      <td>1.649780</td>\n",
       "      <td>0.051</td>\n",
       "    </tr>\n",
       "    <tr>\n",
       "      <td>2016-05-09 00:30:00</td>\n",
       "      <td>400.0</td>\n",
       "      <td>401.949936</td>\n",
       "      <td>400.900210</td>\n",
       "      <td>402.300333</td>\n",
       "      <td>401.000000</td>\n",
       "      <td>401.0</td>\n",
       "      <td>400.144695</td>\n",
       "      <td>403.0</td>\n",
       "      <td>402.0</td>\n",
       "      <td>401.0</td>\n",
       "      <td>...</td>\n",
       "      <td>0.0</td>\n",
       "      <td>4.0</td>\n",
       "      <td>4.152321</td>\n",
       "      <td>4.146723</td>\n",
       "      <td>6.463649</td>\n",
       "      <td>0.0</td>\n",
       "      <td>0.0</td>\n",
       "      <td>-0.509010</td>\n",
       "      <td>1.635187</td>\n",
       "      <td>0.051</td>\n",
       "    </tr>\n",
       "    <tr>\n",
       "      <td>2016-05-09 00:40:00</td>\n",
       "      <td>400.0</td>\n",
       "      <td>402.000000</td>\n",
       "      <td>400.850037</td>\n",
       "      <td>402.176070</td>\n",
       "      <td>401.000000</td>\n",
       "      <td>401.0</td>\n",
       "      <td>400.405002</td>\n",
       "      <td>403.0</td>\n",
       "      <td>402.0</td>\n",
       "      <td>401.0</td>\n",
       "      <td>...</td>\n",
       "      <td>0.0</td>\n",
       "      <td>5.0</td>\n",
       "      <td>4.016713</td>\n",
       "      <td>4.011298</td>\n",
       "      <td>6.414799</td>\n",
       "      <td>0.0</td>\n",
       "      <td>0.0</td>\n",
       "      <td>-0.992771</td>\n",
       "      <td>1.654259</td>\n",
       "      <td>0.051</td>\n",
       "    </tr>\n",
       "  </tbody>\n",
       "</table>\n",
       "<p>5 rows × 93 columns</p>\n",
       "</div>"
      ],
      "text/plain": [
       "                     MLPAP_TI-0706B02  MLPAP_TI-0706B03  MLPAP_TI-0706B04  \\\n",
       "2016-05-09 00:00:00             400.0        401.957120        400.751866   \n",
       "2016-05-09 00:10:00             400.0        401.942713        400.949883   \n",
       "2016-05-09 00:20:00             400.0        401.900145        400.899767   \n",
       "2016-05-09 00:30:00             400.0        401.949936        400.900210   \n",
       "2016-05-09 00:40:00             400.0        402.000000        400.850037   \n",
       "\n",
       "                     MLPAP_TI-0706B05  MLPAP_TI-0706B06  MLPAP_TI-0706B07  \\\n",
       "2016-05-09 00:00:00        402.250788        401.148767             401.0   \n",
       "2016-05-09 00:10:00        402.249145        401.000000             401.0   \n",
       "2016-05-09 00:20:00        402.101255        401.000000             401.0   \n",
       "2016-05-09 00:30:00        402.300333        401.000000             401.0   \n",
       "2016-05-09 00:40:00        402.176070        401.000000             401.0   \n",
       "\n",
       "                     MLPAP_TI-0706B08  MLPAP_TI-0706B09  MLPAP_TI-0706B10  \\\n",
       "2016-05-09 00:00:00        400.050078             403.0             402.0   \n",
       "2016-05-09 00:10:00        400.249800             403.0             402.0   \n",
       "2016-05-09 00:20:00        400.100155             403.0             402.0   \n",
       "2016-05-09 00:30:00        400.144695             403.0             402.0   \n",
       "2016-05-09 00:40:00        400.405002             403.0             402.0   \n",
       "\n",
       "                     MLPAP_TI-0706B11  ...  MLPAP_FQI-0997.PV  DATA OF USE  \\\n",
       "2016-05-09 00:00:00             401.0  ...                0.0          1.0   \n",
       "2016-05-09 00:10:00             401.0  ...                0.0          2.0   \n",
       "2016-05-09 00:20:00             401.0  ...                0.0          3.0   \n",
       "2016-05-09 00:30:00             401.0  ...                0.0          4.0   \n",
       "2016-05-09 00:40:00             401.0  ...                0.0          5.0   \n",
       "\n",
       "                     MLPAP_FR-0755.PV  MLPAP_FR-0755PV(轉換後)  MLPAP_FR-0791.PV  \\\n",
       "2016-05-09 00:00:00          4.051145              4.045683          6.484770   \n",
       "2016-05-09 00:10:00          4.157856              4.152250          6.449888   \n",
       "2016-05-09 00:20:00          4.208122              4.202449          6.440502   \n",
       "2016-05-09 00:30:00          4.152321              4.146723          6.463649   \n",
       "2016-05-09 00:40:00          4.016713              4.011298          6.414799   \n",
       "\n",
       "                     MLPAP_FI-V211.PV  MLPAP_FI-V211.PV(轉換後)  \\\n",
       "2016-05-09 00:00:00               0.0                    0.0   \n",
       "2016-05-09 00:10:00               0.0                    0.0   \n",
       "2016-05-09 00:20:00               0.0                    0.0   \n",
       "2016-05-09 00:30:00               0.0                    0.0   \n",
       "2016-05-09 00:40:00               0.0                    0.0   \n",
       "\n",
       "                     MLPAP_PI-0658.PV  MLPAP_TIC-0757.PV  MLPAP_V125-PHD  \n",
       "2016-05-09 00:00:00         -1.000000           1.635186           0.051  \n",
       "2016-05-09 00:10:00         -1.000000           1.625011           0.051  \n",
       "2016-05-09 00:20:00         -0.898558           1.649780           0.051  \n",
       "2016-05-09 00:30:00         -0.509010           1.635187           0.051  \n",
       "2016-05-09 00:40:00         -0.992771           1.654259           0.051  \n",
       "\n",
       "[5 rows x 93 columns]"
      ]
     },
     "execution_count": 14,
     "metadata": {},
     "output_type": "execute_result"
    }
   ],
   "source": [
    "df = df.sort_index()\n",
    "print(df.shape)\n",
    "df.head()"
   ]
  },
  {
   "cell_type": "markdown",
   "metadata": {},
   "source": [
    "# save"
   ]
  },
  {
   "cell_type": "code",
   "execution_count": 15,
   "metadata": {},
   "outputs": [
    {
     "name": "stdout",
     "output_type": "stream",
     "text": [
      "save done!\n"
     ]
    }
   ],
   "source": [
    "df.to_csv('./train.csv')\n",
    "print('save done!')"
   ]
  },
  {
   "cell_type": "code",
   "execution_count": null,
   "metadata": {},
   "outputs": [],
   "source": []
  }
 ],
 "metadata": {
  "kernelspec": {
   "display_name": "Python 3",
   "language": "python",
   "name": "python3"
  },
  "language_info": {
   "codemirror_mode": {
    "name": "ipython",
    "version": 3
   },
   "file_extension": ".py",
   "mimetype": "text/x-python",
   "name": "python",
   "nbconvert_exporter": "python",
   "pygments_lexer": "ipython3",
   "version": "3.7.4"
  }
 },
 "nbformat": 4,
 "nbformat_minor": 2
}
