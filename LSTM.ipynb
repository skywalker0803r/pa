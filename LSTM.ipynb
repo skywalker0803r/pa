{
 "cells": [
  {
   "cell_type": "code",
   "execution_count": 1,
   "metadata": {},
   "outputs": [
    {
     "data": {
      "text/plain": [
       "['second_model.ipynb',\n",
       " 'data',\n",
       " 'train.csv',\n",
       " 'DataCleaning.ipynb',\n",
       " 'EDA.ipynb',\n",
       " 'PA_201605-2012001更新R6(20190509).xlsx',\n",
       " 'tag盤點表.xlsx',\n",
       " 'xgboost.ipynb',\n",
       " 'LSTM.ipynb',\n",
       " 'train_FeatureSelected.csv',\n",
       " 'feature select.ipynb',\n",
       " 'tpot_pa_pipeline.py',\n",
       " 'TPOT.ipynb',\n",
       " 'three_model.ipynb',\n",
       " 'cnn-time-stack.ipynb',\n",
       " '.ipynb_checkpoints']"
      ]
     },
     "execution_count": 1,
     "metadata": {},
     "output_type": "execute_result"
    }
   ],
   "source": [
    "import os\n",
    "os.listdir()"
   ]
  },
  {
   "cell_type": "markdown",
   "metadata": {},
   "source": [
    "# LOAD"
   ]
  },
  {
   "cell_type": "code",
   "execution_count": 2,
   "metadata": {},
   "outputs": [],
   "source": [
    "import pandas as pd\n",
    "import matplotlib.pyplot as plt\n",
    "import matplotlib.image as mpimg\n",
    "import numpy as np\n",
    "import seaborn as sns\n",
    "from tqdm import tqdm_notebook as tqdm"
   ]
  },
  {
   "cell_type": "code",
   "execution_count": 3,
   "metadata": {},
   "outputs": [
    {
     "name": "stdout",
     "output_type": "stream",
     "text": [
      "(52704, 38)\n"
     ]
    },
    {
     "data": {
      "text/html": [
       "<div>\n",
       "<style scoped>\n",
       "    .dataframe tbody tr th:only-of-type {\n",
       "        vertical-align: middle;\n",
       "    }\n",
       "\n",
       "    .dataframe tbody tr th {\n",
       "        vertical-align: top;\n",
       "    }\n",
       "\n",
       "    .dataframe thead th {\n",
       "        text-align: right;\n",
       "    }\n",
       "</style>\n",
       "<table border=\"1\" class=\"dataframe\">\n",
       "  <thead>\n",
       "    <tr style=\"text-align: right;\">\n",
       "      <th></th>\n",
       "      <th>MLPAP_TI-0706B02</th>\n",
       "      <th>MLPAP_TI-0706B03</th>\n",
       "      <th>MLPAP_TI-0706B05</th>\n",
       "      <th>MLPAP_TI-0706B06</th>\n",
       "      <th>MLPAP_TI-0706B07</th>\n",
       "      <th>MLPAP_TI-0706B10</th>\n",
       "      <th>MLPAP_TI-0706B14</th>\n",
       "      <th>MLPAP_TI-0706B16</th>\n",
       "      <th>MLPAP_TI-0706B18</th>\n",
       "      <th>MLPAP_TI-0706B19</th>\n",
       "      <th>...</th>\n",
       "      <th>MLPAP_FR-0632.PV</th>\n",
       "      <th>MLPAP_TIC-0757A.PV</th>\n",
       "      <th>MLPAP_TRC-0762.PV</th>\n",
       "      <th>MLPAP_FR-0755.PV</th>\n",
       "      <th>MLPAP_FR-0755PV(轉換後)</th>\n",
       "      <th>MLPAP_FR-0791.PV</th>\n",
       "      <th>MLPAP_TIC-0757.PV</th>\n",
       "      <th>MLPAP_V125-PHD</th>\n",
       "      <th>target</th>\n",
       "      <th>target_over_range</th>\n",
       "    </tr>\n",
       "  </thead>\n",
       "  <tbody>\n",
       "    <tr>\n",
       "      <th>2016-05-09 00:00:00</th>\n",
       "      <td>399.996956</td>\n",
       "      <td>401.962157</td>\n",
       "      <td>402.245915</td>\n",
       "      <td>401.143639</td>\n",
       "      <td>400.998932</td>\n",
       "      <td>402.001481</td>\n",
       "      <td>402.997679</td>\n",
       "      <td>402.048413</td>\n",
       "      <td>401.047635</td>\n",
       "      <td>402.998548</td>\n",
       "      <td>...</td>\n",
       "      <td>-0.001134</td>\n",
       "      <td>399.694655</td>\n",
       "      <td>401.207034</td>\n",
       "      <td>4.050917</td>\n",
       "      <td>4.045456</td>\n",
       "      <td>6.484379</td>\n",
       "      <td>1.635430</td>\n",
       "      <td>0.050999</td>\n",
       "      <td>5.428077</td>\n",
       "      <td>1.0</td>\n",
       "    </tr>\n",
       "    <tr>\n",
       "      <th>2016-05-09 00:10:00</th>\n",
       "      <td>399.996956</td>\n",
       "      <td>401.939352</td>\n",
       "      <td>402.245915</td>\n",
       "      <td>401.004025</td>\n",
       "      <td>400.998932</td>\n",
       "      <td>402.001481</td>\n",
       "      <td>403.098684</td>\n",
       "      <td>402.003686</td>\n",
       "      <td>401.047635</td>\n",
       "      <td>402.998548</td>\n",
       "      <td>...</td>\n",
       "      <td>-0.001134</td>\n",
       "      <td>399.694655</td>\n",
       "      <td>401.089849</td>\n",
       "      <td>4.157893</td>\n",
       "      <td>4.152288</td>\n",
       "      <td>6.449854</td>\n",
       "      <td>1.624784</td>\n",
       "      <td>0.050999</td>\n",
       "      <td>5.428077</td>\n",
       "      <td>1.0</td>\n",
       "    </tr>\n",
       "    <tr>\n",
       "      <th>2016-05-09 00:20:00</th>\n",
       "      <td>399.996956</td>\n",
       "      <td>401.905143</td>\n",
       "      <td>402.104563</td>\n",
       "      <td>401.004025</td>\n",
       "      <td>400.998932</td>\n",
       "      <td>402.001481</td>\n",
       "      <td>402.997679</td>\n",
       "      <td>402.003686</td>\n",
       "      <td>401.004128</td>\n",
       "      <td>402.998548</td>\n",
       "      <td>...</td>\n",
       "      <td>-0.001134</td>\n",
       "      <td>399.739510</td>\n",
       "      <td>401.060553</td>\n",
       "      <td>4.207893</td>\n",
       "      <td>4.202220</td>\n",
       "      <td>6.440330</td>\n",
       "      <td>1.649624</td>\n",
       "      <td>0.050999</td>\n",
       "      <td>5.428077</td>\n",
       "      <td>1.0</td>\n",
       "    </tr>\n",
       "    <tr>\n",
       "      <th>2016-05-09 00:30:00</th>\n",
       "      <td>399.996956</td>\n",
       "      <td>401.950754</td>\n",
       "      <td>402.304812</td>\n",
       "      <td>401.004025</td>\n",
       "      <td>400.998932</td>\n",
       "      <td>402.001481</td>\n",
       "      <td>403.098684</td>\n",
       "      <td>402.003686</td>\n",
       "      <td>401.102020</td>\n",
       "      <td>402.998548</td>\n",
       "      <td>...</td>\n",
       "      <td>-0.001134</td>\n",
       "      <td>399.795577</td>\n",
       "      <td>401.470701</td>\n",
       "      <td>4.152079</td>\n",
       "      <td>4.146482</td>\n",
       "      <td>6.464140</td>\n",
       "      <td>1.635430</td>\n",
       "      <td>0.050999</td>\n",
       "      <td>5.428077</td>\n",
       "      <td>1.0</td>\n",
       "    </tr>\n",
       "    <tr>\n",
       "      <th>2016-05-09 00:40:00</th>\n",
       "      <td>399.996956</td>\n",
       "      <td>401.996366</td>\n",
       "      <td>402.175239</td>\n",
       "      <td>401.004025</td>\n",
       "      <td>400.998932</td>\n",
       "      <td>402.001481</td>\n",
       "      <td>403.098684</td>\n",
       "      <td>402.003686</td>\n",
       "      <td>401.145528</td>\n",
       "      <td>402.998548</td>\n",
       "      <td>...</td>\n",
       "      <td>-0.001134</td>\n",
       "      <td>399.795577</td>\n",
       "      <td>401.460935</td>\n",
       "      <td>4.016615</td>\n",
       "      <td>4.011200</td>\n",
       "      <td>6.415329</td>\n",
       "      <td>1.653172</td>\n",
       "      <td>0.050999</td>\n",
       "      <td>5.428077</td>\n",
       "      <td>1.0</td>\n",
       "    </tr>\n",
       "  </tbody>\n",
       "</table>\n",
       "<p>5 rows × 38 columns</p>\n",
       "</div>"
      ],
      "text/plain": [
       "                     MLPAP_TI-0706B02  MLPAP_TI-0706B03  MLPAP_TI-0706B05  \\\n",
       "2016-05-09 00:00:00        399.996956        401.962157        402.245915   \n",
       "2016-05-09 00:10:00        399.996956        401.939352        402.245915   \n",
       "2016-05-09 00:20:00        399.996956        401.905143        402.104563   \n",
       "2016-05-09 00:30:00        399.996956        401.950754        402.304812   \n",
       "2016-05-09 00:40:00        399.996956        401.996366        402.175239   \n",
       "\n",
       "                     MLPAP_TI-0706B06  MLPAP_TI-0706B07  MLPAP_TI-0706B10  \\\n",
       "2016-05-09 00:00:00        401.143639        400.998932        402.001481   \n",
       "2016-05-09 00:10:00        401.004025        400.998932        402.001481   \n",
       "2016-05-09 00:20:00        401.004025        400.998932        402.001481   \n",
       "2016-05-09 00:30:00        401.004025        400.998932        402.001481   \n",
       "2016-05-09 00:40:00        401.004025        400.998932        402.001481   \n",
       "\n",
       "                     MLPAP_TI-0706B14  MLPAP_TI-0706B16  MLPAP_TI-0706B18  \\\n",
       "2016-05-09 00:00:00        402.997679        402.048413        401.047635   \n",
       "2016-05-09 00:10:00        403.098684        402.003686        401.047635   \n",
       "2016-05-09 00:20:00        402.997679        402.003686        401.004128   \n",
       "2016-05-09 00:30:00        403.098684        402.003686        401.102020   \n",
       "2016-05-09 00:40:00        403.098684        402.003686        401.145528   \n",
       "\n",
       "                     MLPAP_TI-0706B19  ...  MLPAP_FR-0632.PV  \\\n",
       "2016-05-09 00:00:00        402.998548  ...         -0.001134   \n",
       "2016-05-09 00:10:00        402.998548  ...         -0.001134   \n",
       "2016-05-09 00:20:00        402.998548  ...         -0.001134   \n",
       "2016-05-09 00:30:00        402.998548  ...         -0.001134   \n",
       "2016-05-09 00:40:00        402.998548  ...         -0.001134   \n",
       "\n",
       "                     MLPAP_TIC-0757A.PV  MLPAP_TRC-0762.PV  MLPAP_FR-0755.PV  \\\n",
       "2016-05-09 00:00:00          399.694655         401.207034          4.050917   \n",
       "2016-05-09 00:10:00          399.694655         401.089849          4.157893   \n",
       "2016-05-09 00:20:00          399.739510         401.060553          4.207893   \n",
       "2016-05-09 00:30:00          399.795577         401.470701          4.152079   \n",
       "2016-05-09 00:40:00          399.795577         401.460935          4.016615   \n",
       "\n",
       "                     MLPAP_FR-0755PV(轉換後)  MLPAP_FR-0791.PV  \\\n",
       "2016-05-09 00:00:00              4.045456          6.484379   \n",
       "2016-05-09 00:10:00              4.152288          6.449854   \n",
       "2016-05-09 00:20:00              4.202220          6.440330   \n",
       "2016-05-09 00:30:00              4.146482          6.464140   \n",
       "2016-05-09 00:40:00              4.011200          6.415329   \n",
       "\n",
       "                     MLPAP_TIC-0757.PV  MLPAP_V125-PHD    target  \\\n",
       "2016-05-09 00:00:00           1.635430        0.050999  5.428077   \n",
       "2016-05-09 00:10:00           1.624784        0.050999  5.428077   \n",
       "2016-05-09 00:20:00           1.649624        0.050999  5.428077   \n",
       "2016-05-09 00:30:00           1.635430        0.050999  5.428077   \n",
       "2016-05-09 00:40:00           1.653172        0.050999  5.428077   \n",
       "\n",
       "                     target_over_range  \n",
       "2016-05-09 00:00:00                1.0  \n",
       "2016-05-09 00:10:00                1.0  \n",
       "2016-05-09 00:20:00                1.0  \n",
       "2016-05-09 00:30:00                1.0  \n",
       "2016-05-09 00:40:00                1.0  \n",
       "\n",
       "[5 rows x 38 columns]"
      ]
     },
     "execution_count": 3,
     "metadata": {},
     "output_type": "execute_result"
    }
   ],
   "source": [
    "df = pd.read_csv('./data/train_FeatureSelected(2016~2017).csv',index_col = 0,parse_dates = True)\n",
    "print(df.shape)\n",
    "df.head()"
   ]
  },
  {
   "cell_type": "markdown",
   "metadata": {},
   "source": [
    "# LOAD SPEC"
   ]
  },
  {
   "cell_type": "code",
   "execution_count": 4,
   "metadata": {},
   "outputs": [
    {
     "data": {
      "text/html": [
       "<div>\n",
       "<style scoped>\n",
       "    .dataframe tbody tr th:only-of-type {\n",
       "        vertical-align: middle;\n",
       "    }\n",
       "\n",
       "    .dataframe tbody tr th {\n",
       "        vertical-align: top;\n",
       "    }\n",
       "\n",
       "    .dataframe thead th {\n",
       "        text-align: right;\n",
       "    }\n",
       "</style>\n",
       "<table border=\"1\" class=\"dataframe\">\n",
       "  <thead>\n",
       "    <tr style=\"text-align: right;\">\n",
       "      <th></th>\n",
       "      <th>min</th>\n",
       "      <th>max</th>\n",
       "    </tr>\n",
       "    <tr>\n",
       "      <th>TAG</th>\n",
       "      <th></th>\n",
       "      <th></th>\n",
       "    </tr>\n",
       "  </thead>\n",
       "  <tbody>\n",
       "    <tr>\n",
       "      <th>MLPAP_FR-0632.PV</th>\n",
       "      <td>30</td>\n",
       "      <td>90</td>\n",
       "    </tr>\n",
       "    <tr>\n",
       "      <th>MLPAP_TIC-0757A.PV</th>\n",
       "      <td>345</td>\n",
       "      <td>365</td>\n",
       "    </tr>\n",
       "    <tr>\n",
       "      <th>MLPAP_TRC-0762.PV</th>\n",
       "      <td>345</td>\n",
       "      <td>365</td>\n",
       "    </tr>\n",
       "    <tr>\n",
       "      <th>MLPAP_TI-0706A01</th>\n",
       "      <td>340</td>\n",
       "      <td>450</td>\n",
       "    </tr>\n",
       "    <tr>\n",
       "      <th>MLPAP_TI-0706D01</th>\n",
       "      <td>340</td>\n",
       "      <td>450</td>\n",
       "    </tr>\n",
       "    <tr>\n",
       "      <th>MLPAP_TI-0706E01</th>\n",
       "      <td>340</td>\n",
       "      <td>450</td>\n",
       "    </tr>\n",
       "    <tr>\n",
       "      <th>MLPAP_TI-0716E01</th>\n",
       "      <td>340</td>\n",
       "      <td>450</td>\n",
       "    </tr>\n",
       "    <tr>\n",
       "      <th>MLPAP_FR-0755.PV</th>\n",
       "      <td>0</td>\n",
       "      <td>25</td>\n",
       "    </tr>\n",
       "    <tr>\n",
       "      <th>MLPAP_FR-0791.PV</th>\n",
       "      <td>10</td>\n",
       "      <td>35</td>\n",
       "    </tr>\n",
       "    <tr>\n",
       "      <th>MLPAP_TI-0706B02</th>\n",
       "      <td>340</td>\n",
       "      <td>450</td>\n",
       "    </tr>\n",
       "    <tr>\n",
       "      <th>MLPAP_TI-0706B03</th>\n",
       "      <td>340</td>\n",
       "      <td>450</td>\n",
       "    </tr>\n",
       "    <tr>\n",
       "      <th>MLPAP_TI-0706B05</th>\n",
       "      <td>340</td>\n",
       "      <td>450</td>\n",
       "    </tr>\n",
       "    <tr>\n",
       "      <th>MLPAP_TI-0706B06</th>\n",
       "      <td>340</td>\n",
       "      <td>450</td>\n",
       "    </tr>\n",
       "    <tr>\n",
       "      <th>MLPAP_TI-0706B07</th>\n",
       "      <td>340</td>\n",
       "      <td>450</td>\n",
       "    </tr>\n",
       "    <tr>\n",
       "      <th>MLPAP_TI-0706B10</th>\n",
       "      <td>340</td>\n",
       "      <td>450</td>\n",
       "    </tr>\n",
       "    <tr>\n",
       "      <th>MLPAP_TI-0706B14</th>\n",
       "      <td>340</td>\n",
       "      <td>450</td>\n",
       "    </tr>\n",
       "    <tr>\n",
       "      <th>MLPAP_TI-0706B16</th>\n",
       "      <td>340</td>\n",
       "      <td>450</td>\n",
       "    </tr>\n",
       "    <tr>\n",
       "      <th>MLPAP_TI-0706B18</th>\n",
       "      <td>340</td>\n",
       "      <td>450</td>\n",
       "    </tr>\n",
       "    <tr>\n",
       "      <th>MLPAP_TI-0706B19</th>\n",
       "      <td>340</td>\n",
       "      <td>450</td>\n",
       "    </tr>\n",
       "    <tr>\n",
       "      <th>MLPAP_TI-0706B20</th>\n",
       "      <td>340</td>\n",
       "      <td>450</td>\n",
       "    </tr>\n",
       "    <tr>\n",
       "      <th>MLPAP_TI-0706B22</th>\n",
       "      <td>340</td>\n",
       "      <td>450</td>\n",
       "    </tr>\n",
       "    <tr>\n",
       "      <th>MLPAP_TJR-0715A1.PV</th>\n",
       "      <td>340</td>\n",
       "      <td>450</td>\n",
       "    </tr>\n",
       "    <tr>\n",
       "      <th>MLPAP_TJR-0715B1.PV</th>\n",
       "      <td>345</td>\n",
       "      <td>375</td>\n",
       "    </tr>\n",
       "    <tr>\n",
       "      <th>MLPAP_TJR-0720B1.PV</th>\n",
       "      <td>345</td>\n",
       "      <td>375</td>\n",
       "    </tr>\n",
       "    <tr>\n",
       "      <th>MLPAP_TIC-0757.PV</th>\n",
       "      <td>-3</td>\n",
       "      <td>3</td>\n",
       "    </tr>\n",
       "    <tr>\n",
       "      <th>MLPAP_V125-PHD</th>\n",
       "      <td>0</td>\n",
       "      <td>0.1</td>\n",
       "    </tr>\n",
       "    <tr>\n",
       "      <th>DATA OF USE</th>\n",
       "      <td>0</td>\n",
       "      <td>inf</td>\n",
       "    </tr>\n",
       "  </tbody>\n",
       "</table>\n",
       "</div>"
      ],
      "text/plain": [
       "                     min  max\n",
       "TAG                          \n",
       "MLPAP_FR-0632.PV      30   90\n",
       "MLPAP_TIC-0757A.PV   345  365\n",
       "MLPAP_TRC-0762.PV    345  365\n",
       "MLPAP_TI-0706A01     340  450\n",
       "MLPAP_TI-0706D01     340  450\n",
       "MLPAP_TI-0706E01     340  450\n",
       "MLPAP_TI-0716E01     340  450\n",
       "MLPAP_FR-0755.PV       0   25\n",
       "MLPAP_FR-0791.PV      10   35\n",
       "MLPAP_TI-0706B02     340  450\n",
       "MLPAP_TI-0706B03     340  450\n",
       "MLPAP_TI-0706B05     340  450\n",
       "MLPAP_TI-0706B06     340  450\n",
       "MLPAP_TI-0706B07     340  450\n",
       "MLPAP_TI-0706B10     340  450\n",
       "MLPAP_TI-0706B14     340  450\n",
       "MLPAP_TI-0706B16     340  450\n",
       "MLPAP_TI-0706B18     340  450\n",
       "MLPAP_TI-0706B19     340  450\n",
       "MLPAP_TI-0706B20     340  450\n",
       "MLPAP_TI-0706B22     340  450\n",
       "MLPAP_TJR-0715A1.PV  340  450\n",
       "MLPAP_TJR-0715B1.PV  345  375\n",
       "MLPAP_TJR-0720B1.PV  345  375\n",
       "MLPAP_TIC-0757.PV     -3    3\n",
       "MLPAP_V125-PHD         0  0.1\n",
       "DATA OF USE            0  inf"
      ]
     },
     "execution_count": 4,
     "metadata": {},
     "output_type": "execute_result"
    }
   ],
   "source": [
    "tag_sheet = pd.read_excel('tag盤點表.xlsx')\n",
    "spec = tag_sheet[tag_sheet['TAG'].isin(df.columns.tolist())][['TAG','min','max']]\n",
    "spec = spec.set_index('TAG')\n",
    "spec.loc['DATA OF USE','min'] = 0\n",
    "spec.loc['DATA OF USE','max'] = np.inf\n",
    "spec"
   ]
  },
  {
   "cell_type": "markdown",
   "metadata": {},
   "source": [
    "# OVER RANGE COUNT"
   ]
  },
  {
   "cell_type": "code",
   "execution_count": 5,
   "metadata": {},
   "outputs": [],
   "source": [
    "def check_spec(df,spec):\n",
    "    df_col = list(df.columns)\n",
    "    spec_col = list(spec.index)\n",
    "    intersection = set(df_col) & set(spec_col)\n",
    "    df['over_range_num'] = 0\n",
    "    for col in tqdm(list(intersection)):\n",
    "        lb, ub = spec.loc[col,'min'], spec.loc[col,'max']\n",
    "        over_range = (df[col]<lb)|(df[col]>ub)\n",
    "        df.loc[over_range,'over_range_num'] += 1\n",
    "    return df"
   ]
  },
  {
   "cell_type": "code",
   "execution_count": 6,
   "metadata": {},
   "outputs": [
    {
     "name": "stderr",
     "output_type": "stream",
     "text": [
      "/workspace/conda/lib/python3.6/site-packages/ipykernel_launcher.py:6: TqdmDeprecationWarning: This function will be removed in tqdm==5.0.0\n",
      "Please use `tqdm.notebook.tqdm` instead of `tqdm.tqdm_notebook`\n",
      "  \n"
     ]
    },
    {
     "data": {
      "application/vnd.jupyter.widget-view+json": {
       "model_id": "d456308602754235aa06a7ba6addcd86",
       "version_major": 2,
       "version_minor": 0
      },
      "text/plain": [
       "HBox(children=(FloatProgress(value=0.0, max=26.0), HTML(value='')))"
      ]
     },
     "metadata": {},
     "output_type": "display_data"
    },
    {
     "name": "stdout",
     "output_type": "stream",
     "text": [
      "\n"
     ]
    }
   ],
   "source": [
    "df = check_spec(df,spec)"
   ]
  },
  {
   "cell_type": "code",
   "execution_count": 7,
   "metadata": {},
   "outputs": [
    {
     "data": {
      "text/plain": [
       "<matplotlib.axes._subplots.AxesSubplot at 0x7f9a445a4208>"
      ]
     },
     "execution_count": 7,
     "metadata": {},
     "output_type": "execute_result"
    },
    {
     "data": {
      "image/png": "[encoded data removed]",
      "text/plain": [
       "<Figure size 432x288 with 1 Axes>"
      ]
     },
     "metadata": {
      "needs_background": "light"
     },
     "output_type": "display_data"
    }
   ],
   "source": [
    "sns.distplot(df['over_range_num'])"
   ]
  },
  {
   "cell_type": "markdown",
   "metadata": {},
   "source": [
    "# scale data"
   ]
  },
  {
   "cell_type": "code",
   "execution_count": 8,
   "metadata": {},
   "outputs": [
    {
     "data": {
      "text/html": [
       "<div>\n",
       "<style scoped>\n",
       "    .dataframe tbody tr th:only-of-type {\n",
       "        vertical-align: middle;\n",
       "    }\n",
       "\n",
       "    .dataframe tbody tr th {\n",
       "        vertical-align: top;\n",
       "    }\n",
       "\n",
       "    .dataframe thead th {\n",
       "        text-align: right;\n",
       "    }\n",
       "</style>\n",
       "<table border=\"1\" class=\"dataframe\">\n",
       "  <thead>\n",
       "    <tr style=\"text-align: right;\">\n",
       "      <th></th>\n",
       "      <th>MLPAP_TI-0706B02</th>\n",
       "      <th>MLPAP_TI-0706B03</th>\n",
       "      <th>MLPAP_TI-0706B05</th>\n",
       "      <th>MLPAP_TI-0706B06</th>\n",
       "      <th>MLPAP_TI-0706B07</th>\n",
       "      <th>MLPAP_TI-0706B10</th>\n",
       "      <th>MLPAP_TI-0706B14</th>\n",
       "      <th>MLPAP_TI-0706B16</th>\n",
       "      <th>MLPAP_TI-0706B18</th>\n",
       "      <th>MLPAP_TI-0706B19</th>\n",
       "      <th>...</th>\n",
       "      <th>MLPAP_TIC-0757A.PV</th>\n",
       "      <th>MLPAP_TRC-0762.PV</th>\n",
       "      <th>MLPAP_FR-0755.PV</th>\n",
       "      <th>MLPAP_FR-0755PV(轉換後)</th>\n",
       "      <th>MLPAP_FR-0791.PV</th>\n",
       "      <th>MLPAP_TIC-0757.PV</th>\n",
       "      <th>MLPAP_V125-PHD</th>\n",
       "      <th>target</th>\n",
       "      <th>target_over_range</th>\n",
       "      <th>over_range_num</th>\n",
       "    </tr>\n",
       "  </thead>\n",
       "  <tbody>\n",
       "    <tr>\n",
       "      <th>2016-05-09 00:00:00</th>\n",
       "      <td>0.89958</td>\n",
       "      <td>0.519270</td>\n",
       "      <td>0.403769</td>\n",
       "      <td>0.479334</td>\n",
       "      <td>0.514931</td>\n",
       "      <td>0.850043</td>\n",
       "      <td>1.651707</td>\n",
       "      <td>1.755934</td>\n",
       "      <td>2.748175</td>\n",
       "      <td>3.073021</td>\n",
       "      <td>...</td>\n",
       "      <td>3.480435</td>\n",
       "      <td>3.069196</td>\n",
       "      <td>0.001157</td>\n",
       "      <td>0.001157</td>\n",
       "      <td>-0.520155</td>\n",
       "      <td>0.695962</td>\n",
       "      <td>0.351343</td>\n",
       "      <td>5.428077</td>\n",
       "      <td>1.0</td>\n",
       "      <td>6</td>\n",
       "    </tr>\n",
       "    <tr>\n",
       "      <th>2016-05-09 00:10:00</th>\n",
       "      <td>0.89958</td>\n",
       "      <td>0.518814</td>\n",
       "      <td>0.403769</td>\n",
       "      <td>0.477038</td>\n",
       "      <td>0.514931</td>\n",
       "      <td>0.850043</td>\n",
       "      <td>1.656098</td>\n",
       "      <td>1.753870</td>\n",
       "      <td>2.748175</td>\n",
       "      <td>3.073021</td>\n",
       "      <td>...</td>\n",
       "      <td>3.480435</td>\n",
       "      <td>3.062500</td>\n",
       "      <td>0.006761</td>\n",
       "      <td>0.006761</td>\n",
       "      <td>-0.521996</td>\n",
       "      <td>0.693587</td>\n",
       "      <td>0.351343</td>\n",
       "      <td>5.428077</td>\n",
       "      <td>1.0</td>\n",
       "      <td>6</td>\n",
       "    </tr>\n",
       "    <tr>\n",
       "      <th>2016-05-09 00:20:00</th>\n",
       "      <td>0.89958</td>\n",
       "      <td>0.518130</td>\n",
       "      <td>0.401595</td>\n",
       "      <td>0.477038</td>\n",
       "      <td>0.514931</td>\n",
       "      <td>0.850043</td>\n",
       "      <td>1.651707</td>\n",
       "      <td>1.753870</td>\n",
       "      <td>2.745255</td>\n",
       "      <td>3.073021</td>\n",
       "      <td>...</td>\n",
       "      <td>3.483333</td>\n",
       "      <td>3.060826</td>\n",
       "      <td>0.009380</td>\n",
       "      <td>0.009380</td>\n",
       "      <td>-0.522504</td>\n",
       "      <td>0.699129</td>\n",
       "      <td>0.351343</td>\n",
       "      <td>5.428077</td>\n",
       "      <td>1.0</td>\n",
       "      <td>6</td>\n",
       "    </tr>\n",
       "    <tr>\n",
       "      <th>2016-05-09 00:30:00</th>\n",
       "      <td>0.89958</td>\n",
       "      <td>0.519042</td>\n",
       "      <td>0.404676</td>\n",
       "      <td>0.477038</td>\n",
       "      <td>0.514931</td>\n",
       "      <td>0.850043</td>\n",
       "      <td>1.656098</td>\n",
       "      <td>1.753870</td>\n",
       "      <td>2.751825</td>\n",
       "      <td>3.073021</td>\n",
       "      <td>...</td>\n",
       "      <td>3.486957</td>\n",
       "      <td>3.084263</td>\n",
       "      <td>0.006456</td>\n",
       "      <td>0.006456</td>\n",
       "      <td>-0.521234</td>\n",
       "      <td>0.695962</td>\n",
       "      <td>0.351343</td>\n",
       "      <td>5.428077</td>\n",
       "      <td>1.0</td>\n",
       "      <td>6</td>\n",
       "    </tr>\n",
       "    <tr>\n",
       "      <th>2016-05-09 00:40:00</th>\n",
       "      <td>0.89958</td>\n",
       "      <td>0.519954</td>\n",
       "      <td>0.402682</td>\n",
       "      <td>0.477038</td>\n",
       "      <td>0.514931</td>\n",
       "      <td>0.850043</td>\n",
       "      <td>1.656098</td>\n",
       "      <td>1.753870</td>\n",
       "      <td>2.754745</td>\n",
       "      <td>3.073021</td>\n",
       "      <td>...</td>\n",
       "      <td>3.486957</td>\n",
       "      <td>3.083705</td>\n",
       "      <td>-0.000640</td>\n",
       "      <td>-0.000640</td>\n",
       "      <td>-0.523837</td>\n",
       "      <td>0.699921</td>\n",
       "      <td>0.351343</td>\n",
       "      <td>5.428077</td>\n",
       "      <td>1.0</td>\n",
       "      <td>6</td>\n",
       "    </tr>\n",
       "  </tbody>\n",
       "</table>\n",
       "<p>5 rows × 39 columns</p>\n",
       "</div>"
      ],
      "text/plain": [
       "                     MLPAP_TI-0706B02  MLPAP_TI-0706B03  MLPAP_TI-0706B05  \\\n",
       "2016-05-09 00:00:00           0.89958          0.519270          0.403769   \n",
       "2016-05-09 00:10:00           0.89958          0.518814          0.403769   \n",
       "2016-05-09 00:20:00           0.89958          0.518130          0.401595   \n",
       "2016-05-09 00:30:00           0.89958          0.519042          0.404676   \n",
       "2016-05-09 00:40:00           0.89958          0.519954          0.402682   \n",
       "\n",
       "                     MLPAP_TI-0706B06  MLPAP_TI-0706B07  MLPAP_TI-0706B10  \\\n",
       "2016-05-09 00:00:00          0.479334          0.514931          0.850043   \n",
       "2016-05-09 00:10:00          0.477038          0.514931          0.850043   \n",
       "2016-05-09 00:20:00          0.477038          0.514931          0.850043   \n",
       "2016-05-09 00:30:00          0.477038          0.514931          0.850043   \n",
       "2016-05-09 00:40:00          0.477038          0.514931          0.850043   \n",
       "\n",
       "                     MLPAP_TI-0706B14  MLPAP_TI-0706B16  MLPAP_TI-0706B18  \\\n",
       "2016-05-09 00:00:00          1.651707          1.755934          2.748175   \n",
       "2016-05-09 00:10:00          1.656098          1.753870          2.748175   \n",
       "2016-05-09 00:20:00          1.651707          1.753870          2.745255   \n",
       "2016-05-09 00:30:00          1.656098          1.753870          2.751825   \n",
       "2016-05-09 00:40:00          1.656098          1.753870          2.754745   \n",
       "\n",
       "                     MLPAP_TI-0706B19  ...  MLPAP_TIC-0757A.PV  \\\n",
       "2016-05-09 00:00:00          3.073021  ...            3.480435   \n",
       "2016-05-09 00:10:00          3.073021  ...            3.480435   \n",
       "2016-05-09 00:20:00          3.073021  ...            3.483333   \n",
       "2016-05-09 00:30:00          3.073021  ...            3.486957   \n",
       "2016-05-09 00:40:00          3.073021  ...            3.486957   \n",
       "\n",
       "                     MLPAP_TRC-0762.PV  MLPAP_FR-0755.PV  \\\n",
       "2016-05-09 00:00:00           3.069196          0.001157   \n",
       "2016-05-09 00:10:00           3.062500          0.006761   \n",
       "2016-05-09 00:20:00           3.060826          0.009380   \n",
       "2016-05-09 00:30:00           3.084263          0.006456   \n",
       "2016-05-09 00:40:00           3.083705         -0.000640   \n",
       "\n",
       "                     MLPAP_FR-0755PV(轉換後)  MLPAP_FR-0791.PV  \\\n",
       "2016-05-09 00:00:00              0.001157         -0.520155   \n",
       "2016-05-09 00:10:00              0.006761         -0.521996   \n",
       "2016-05-09 00:20:00              0.009380         -0.522504   \n",
       "2016-05-09 00:30:00              0.006456         -0.521234   \n",
       "2016-05-09 00:40:00             -0.000640         -0.523837   \n",
       "\n",
       "                     MLPAP_TIC-0757.PV  MLPAP_V125-PHD    target  \\\n",
       "2016-05-09 00:00:00           0.695962        0.351343  5.428077   \n",
       "2016-05-09 00:10:00           0.693587        0.351343  5.428077   \n",
       "2016-05-09 00:20:00           0.699129        0.351343  5.428077   \n",
       "2016-05-09 00:30:00           0.695962        0.351343  5.428077   \n",
       "2016-05-09 00:40:00           0.699921        0.351343  5.428077   \n",
       "\n",
       "                     target_over_range  over_range_num  \n",
       "2016-05-09 00:00:00                1.0               6  \n",
       "2016-05-09 00:10:00                1.0               6  \n",
       "2016-05-09 00:20:00                1.0               6  \n",
       "2016-05-09 00:30:00                1.0               6  \n",
       "2016-05-09 00:40:00                1.0               6  \n",
       "\n",
       "[5 rows x 39 columns]"
      ]
     },
     "execution_count": 8,
     "metadata": {},
     "output_type": "execute_result"
    }
   ],
   "source": [
    "from sklearn.preprocessing import MinMaxScaler\n",
    "\n",
    "x_col = df.drop(['target','target_over_range','over_range_num'],axis=1).columns.tolist()\n",
    "y_col = 'target'\n",
    "out = (df['target_over_range']==1)|(df['over_range_num']>0)\n",
    "\n",
    "mm = MinMaxScaler()\n",
    "mm.fit(df.loc[~out,x_col])\n",
    "\n",
    "df[x_col] = mm.transform(df[x_col])\n",
    "\n",
    "df.head()"
   ]
  },
  {
   "cell_type": "markdown",
   "metadata": {},
   "source": [
    "# stack time_step"
   ]
  },
  {
   "cell_type": "code",
   "execution_count": 9,
   "metadata": {},
   "outputs": [],
   "source": [
    "def train_windows(df, ref_day=36):\n",
    "    X_train, Y_train, i_lst = [], [], []\n",
    "    for i in tqdm(range(df.shape[0]-ref_day)):\n",
    "        # 篩選條件\n",
    "        C1 = (df.iloc[i+ref_day]['target_over_range'] == 0)\n",
    "        C2 = (df.iloc[i:i+ref_day+1]['over_range_num'].mean() == 0)\n",
    "        if C1&C2: \n",
    "            X_train.append(np.array(df.iloc[i:i+ref_day+1][x_col]))\n",
    "            Y_train.append(df.iloc[i+ref_day][y_col])\n",
    "            i_lst.append(df.iloc[[i+ref_day]].index[0])\n",
    "    # 重整格式\n",
    "    X_train = np.array(X_train)\n",
    "    Y_train = pd.Series(Y_train,index=i_lst,name='y')\n",
    "    return X_train, Y_train"
   ]
  },
  {
   "cell_type": "code",
   "execution_count": 10,
   "metadata": {},
   "outputs": [
    {
     "name": "stderr",
     "output_type": "stream",
     "text": [
      "/workspace/conda/lib/python3.6/site-packages/ipykernel_launcher.py:3: TqdmDeprecationWarning: This function will be removed in tqdm==5.0.0\n",
      "Please use `tqdm.notebook.tqdm` instead of `tqdm.tqdm_notebook`\n",
      "  This is separate from the ipykernel package so we can avoid doing imports until\n"
     ]
    },
    {
     "data": {
      "application/vnd.jupyter.widget-view+json": {
       "model_id": "166d45e207bf47fd909aed68bc637933",
       "version_major": 2,
       "version_minor": 0
      },
      "text/plain": [
       "HBox(children=(FloatProgress(value=0.0, max=52669.0), HTML(value='')))"
      ]
     },
     "metadata": {},
     "output_type": "display_data"
    },
    {
     "name": "stdout",
     "output_type": "stream",
     "text": [
      "\n",
      "(35080, 36, 36) (35080,)\n"
     ]
    }
   ],
   "source": [
    "X, y = train_windows(df, ref_day=35)\n",
    "print(X.shape,y.shape)"
   ]
  },
  {
   "cell_type": "markdown",
   "metadata": {},
   "source": [
    "# split"
   ]
  },
  {
   "cell_type": "code",
   "execution_count": 11,
   "metadata": {},
   "outputs": [
    {
     "name": "stdout",
     "output_type": "stream",
     "text": [
      "(28064, 36, 36) (28064,)\n",
      "(3508, 36, 36) (3508,)\n",
      "(3508, 36, 36) (3508,)\n"
     ]
    }
   ],
   "source": [
    "train_len = int(len(X)*0.8)\n",
    "X_train,X_val_test = X[:train_len],X[train_len:]\n",
    "y_train,y_val_test = y[:train_len],y[train_len:]\n",
    "\n",
    "val_len = int(len(X_val_test)*0.5)\n",
    "X_val,X_test = X_val_test[:val_len],X_val_test[val_len:]\n",
    "y_val,y_test = y_val_test[:val_len],y_val_test[val_len:]\n",
    "\n",
    "print(X_train.shape,y_train.shape)\n",
    "print(X_val.shape,y_val.shape)\n",
    "print(X_test.shape,y_test.shape)"
   ]
  },
  {
   "cell_type": "markdown",
   "metadata": {},
   "source": [
    "# LSTM MODEL(manyToOne1)"
   ]
  },
  {
   "cell_type": "code",
   "execution_count": 12,
   "metadata": {},
   "outputs": [
    {
     "name": "stderr",
     "output_type": "stream",
     "text": [
      "Using TensorFlow backend.\n",
      "/workspace/conda/lib/python3.6/site-packages/tensorflow/python/framework/dtypes.py:523: FutureWarning: Passing (type, 1) or '1type' as a synonym of type is deprecated; in a future version of numpy, it will be understood as (type, (1,)) / '(1,)type'.\n",
      "  _np_qint8 = np.dtype([(\"qint8\", np.int8, 1)])\n",
      "/workspace/conda/lib/python3.6/site-packages/tensorflow/python/framework/dtypes.py:524: FutureWarning: Passing (type, 1) or '1type' as a synonym of type is deprecated; in a future version of numpy, it will be understood as (type, (1,)) / '(1,)type'.\n",
      "  _np_quint8 = np.dtype([(\"quint8\", np.uint8, 1)])\n",
      "/workspace/conda/lib/python3.6/site-packages/tensorflow/python/framework/dtypes.py:525: FutureWarning: Passing (type, 1) or '1type' as a synonym of type is deprecated; in a future version of numpy, it will be understood as (type, (1,)) / '(1,)type'.\n",
      "  _np_qint16 = np.dtype([(\"qint16\", np.int16, 1)])\n",
      "/workspace/conda/lib/python3.6/site-packages/tensorflow/python/framework/dtypes.py:526: FutureWarning: Passing (type, 1) or '1type' as a synonym of type is deprecated; in a future version of numpy, it will be understood as (type, (1,)) / '(1,)type'.\n",
      "  _np_quint16 = np.dtype([(\"quint16\", np.uint16, 1)])\n",
      "/workspace/conda/lib/python3.6/site-packages/tensorflow/python/framework/dtypes.py:527: FutureWarning: Passing (type, 1) or '1type' as a synonym of type is deprecated; in a future version of numpy, it will be understood as (type, (1,)) / '(1,)type'.\n",
      "  _np_qint32 = np.dtype([(\"qint32\", np.int32, 1)])\n",
      "/workspace/conda/lib/python3.6/site-packages/tensorflow/python/framework/dtypes.py:532: FutureWarning: Passing (type, 1) or '1type' as a synonym of type is deprecated; in a future version of numpy, it will be understood as (type, (1,)) / '(1,)type'.\n",
      "  np_resource = np.dtype([(\"resource\", np.ubyte, 1)])\n"
     ]
    },
    {
     "name": "stdout",
     "output_type": "stream",
     "text": [
      "_________________________________________________________________\n",
      "Layer (type)                 Output Shape              Param #   \n",
      "=================================================================\n",
      "lstm_1 (LSTM)                (None, 36)                10512     \n",
      "_________________________________________________________________\n",
      "dense_1 (Dense)              (None, 1)                 37        \n",
      "=================================================================\n",
      "Total params: 10,549\n",
      "Trainable params: 10,549\n",
      "Non-trainable params: 0\n",
      "_________________________________________________________________\n"
     ]
    }
   ],
   "source": [
    "from keras import backend as K\n",
    "from keras.models import Sequential\n",
    "from keras.layers import LSTM,TimeDistributed,Dense,Flatten\n",
    "from keras.optimizers import Adam\n",
    "from keras.layers import Activation\n",
    "import warnings;warnings.simplefilter('ignore')\n",
    "\n",
    "def buildManyToOneModel(shape):\n",
    "  model = Sequential()\n",
    "  model.add(LSTM(36,return_sequences=False,input_shape=shape))\n",
    "  model.add(Dense(1))\n",
    "  model.compile(loss=\"mse\", optimizer=\"adam\")\n",
    "  model.summary()\n",
    "  return model\n",
    "\n",
    "model = buildManyToOneModel(X_train[0].shape)"
   ]
  },
  {
   "cell_type": "markdown",
   "metadata": {},
   "source": [
    "# train model"
   ]
  },
  {
   "cell_type": "code",
   "execution_count": 13,
   "metadata": {},
   "outputs": [
    {
     "name": "stdout",
     "output_type": "stream",
     "text": [
      "Train on 28064 samples, validate on 3508 samples\n",
      "Epoch 1/10\n",
      "28064/28064 [==============================] - 11s 401us/step - loss: 0.0086 - val_loss: 0.0024\n",
      "Epoch 2/10\n",
      "28064/28064 [==============================] - 10s 360us/step - loss: 3.9879e-04 - val_loss: 5.7183e-04\n",
      "Epoch 3/10\n",
      "28064/28064 [==============================] - 10s 353us/step - loss: 2.2540e-04 - val_loss: 4.6176e-04\n",
      "Epoch 4/10\n",
      "28064/28064 [==============================] - 10s 362us/step - loss: 1.7956e-04 - val_loss: 5.2826e-04\n",
      "Epoch 5/10\n",
      "28064/28064 [==============================] - 10s 368us/step - loss: 1.5943e-04 - val_loss: 5.8135e-04\n",
      "Epoch 6/10\n",
      "28064/28064 [==============================] - 10s 359us/step - loss: 1.4599e-04 - val_loss: 6.6940e-04\n",
      "Epoch 7/10\n",
      "28064/28064 [==============================] - 10s 355us/step - loss: 1.4138e-04 - val_loss: 7.7959e-04\n",
      "Epoch 8/10\n",
      "28064/28064 [==============================] - 10s 360us/step - loss: 1.3731e-04 - val_loss: 7.5925e-04\n",
      "Epoch 9/10\n",
      "28064/28064 [==============================] - 10s 352us/step - loss: 1.3334e-04 - val_loss: 4.2481e-04\n",
      "Epoch 10/10\n",
      "28064/28064 [==============================] - 10s 354us/step - loss: 1.3093e-04 - val_loss: 6.4221e-04\n"
     ]
    }
   ],
   "source": [
    "history = model.fit(X_train,y_train,\n",
    "                    batch_size = 128,\n",
    "                    epochs = 10,\n",
    "                    validation_data = (X_val,y_val),\n",
    "                    verbose = 1)"
   ]
  },
  {
   "cell_type": "markdown",
   "metadata": {},
   "source": [
    "# evaluate model"
   ]
  },
  {
   "cell_type": "code",
   "execution_count": 19,
   "metadata": {},
   "outputs": [
    {
     "data": {
      "text/plain": [
       "<matplotlib.legend.Legend at 0x7f99183662b0>"
      ]
     },
     "execution_count": 19,
     "metadata": {},
     "output_type": "execute_result"
    },
    {
     "data": {
      "image/png": "[encoded data removed]",
      "text/plain": [
       "<Figure size 432x288 with 1 Axes>"
      ]
     },
     "metadata": {
      "needs_background": "light"
     },
     "output_type": "display_data"
    }
   ],
   "source": [
    "n = 0\n",
    "plt.plot(history.history['loss'][n:], color='b', label=\"Training loss\")\n",
    "plt.plot(history.history['val_loss'][n:], color='r', label=\"Validation loss\")\n",
    "plt.legend()"
   ]
  },
  {
   "cell_type": "markdown",
   "metadata": {},
   "source": [
    "# plot predict line"
   ]
  },
  {
   "cell_type": "code",
   "execution_count": 15,
   "metadata": {},
   "outputs": [],
   "source": [
    "from sklearn.metrics import r2_score,mean_squared_error\n",
    "from math import sqrt\n",
    "\n",
    "def mape(y_true, y_pred): \n",
    "    y_true, y_pred = np.array(y_true), np.array(y_pred)\n",
    "    return np.mean(np.abs((y_true - y_pred) / y_true)) * 100\n",
    "\n",
    "def metric(y_true,y_pred,name):\n",
    "    t = pd.DataFrame(index=[name])\n",
    "    t['r2'] = r2_score(y_true,y_pred)\n",
    "    t['rmse'] = sqrt(mean_squared_error(y_true,y_pred))\n",
    "    t['mape'] = mape(y_true,y_pred)\n",
    "    t = t.apply(lambda x:round(x,4))\n",
    "    return t\n",
    "\n",
    "def plot_predict(y_true,y_pred,name):\n",
    "    # sort index\n",
    "    y_pred = y_pred.sort_index()\n",
    "    y_true = y_true.sort_index()\n",
    "    # plot\n",
    "    plot_data = pd.concat([y_pred,y_true],axis=1)\n",
    "    n = int(len(y_pred)/100)\n",
    "    plot_data.rolling(n).mean().plot()\n",
    "    plt.title('move_avg {}'.format(n))\n",
    "    plt.show()\n",
    "    # score\n",
    "    print(metric(y_true,y_pred,name))"
   ]
  },
  {
   "cell_type": "code",
   "execution_count": 16,
   "metadata": {},
   "outputs": [
    {
     "data": {
      "image/png": "[encoded data removed]",
      "text/plain": [
       "<Figure size 432x288 with 1 Axes>"
      ]
     },
     "metadata": {
      "needs_background": "light"
     },
     "output_type": "display_data"
    },
    {
     "name": "stdout",
     "output_type": "stream",
     "text": [
      "           r2    rmse    mape\n",
      "train -0.0439  0.0117  1.1352\n"
     ]
    }
   ],
   "source": [
    "y_pred = model.predict(X_train).ravel()\n",
    "y_pred = pd.DataFrame(y_pred,index=y_train.index,columns=['y_pred'])\n",
    "plot_predict(y_train,y_pred,'train')"
   ]
  },
  {
   "cell_type": "code",
   "execution_count": 17,
   "metadata": {},
   "outputs": [
    {
     "data": {
      "image/png": "[encoded data removed]",
      "text/plain": [
       "<Figure size 432x288 with 1 Axes>"
      ]
     },
     "metadata": {
      "needs_background": "light"
     },
     "output_type": "display_data"
    },
    {
     "name": "stdout",
     "output_type": "stream",
     "text": [
      "         r2    rmse   mape\n",
      "val -3.2882  0.0253  2.589\n"
     ]
    }
   ],
   "source": [
    "y_pred = model.predict(X_val).ravel()\n",
    "y_pred = pd.DataFrame(y_pred,index=y_val.index,columns=['y_pred'])\n",
    "plot_predict(y_val,y_pred,'val')"
   ]
  },
  {
   "cell_type": "code",
   "execution_count": 18,
   "metadata": {},
   "outputs": [
    {
     "data": {
      "image/png": "[encoded data removed]",
      "text/plain": [
       "<Figure size 432x288 with 1 Axes>"
      ]
     },
     "metadata": {
      "needs_background": "light"
     },
     "output_type": "display_data"
    },
    {
     "name": "stdout",
     "output_type": "stream",
     "text": [
      "          r2    rmse    mape\n",
      "test -2.8606  0.0265  2.6205\n"
     ]
    }
   ],
   "source": [
    "y_pred = model.predict(X_test).ravel()\n",
    "y_pred = pd.DataFrame(y_pred,index=y_test.index,columns=['y_pred'])\n",
    "plot_predict(y_test,y_pred,'test')"
   ]
  },
  {
   "cell_type": "code",
   "execution_count": null,
   "metadata": {},
   "outputs": [],
   "source": []
  }
 ],
 "metadata": {
  "kernelspec": {
   "display_name": "Python 3",
   "language": "python",
   "name": "python3"
  },
  "language_info": {
   "codemirror_mode": {
    "name": "ipython",
    "version": 3
   },
   "file_extension": ".py",
   "mimetype": "text/x-python",
   "name": "python",
   "nbconvert_exporter": "python",
   "pygments_lexer": "ipython3",
   "version": "3.6.9"
  }
 },
 "nbformat": 4,
 "nbformat_minor": 2
}
