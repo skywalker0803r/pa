{
 "cells": [
  {
   "cell_type": "code",
   "execution_count": 1,
   "metadata": {},
   "outputs": [
    {
     "data": {
      "text/plain": [
       "['train.csv',\n",
       " 'DataCleaning.ipynb',\n",
       " 'EDA.ipynb',\n",
       " 'PA_201605-2012001更新R6(20190509).xlsx',\n",
       " 'tag盤點表.xlsx',\n",
       " 'xgboost.ipynb',\n",
       " 'LSTM.ipynb',\n",
       " 'train_FeatureSelected.csv',\n",
       " 'feature select.ipynb',\n",
       " 'tpot_pa_pipeline.py',\n",
       " 'TPOT.ipynb',\n",
       " 'cnn-time-stack.ipynb',\n",
       " '.ipynb_checkpoints']"
      ]
     },
     "execution_count": 1,
     "metadata": {},
     "output_type": "execute_result"
    }
   ],
   "source": [
    "import os\n",
    "os.listdir()"
   ]
  },
  {
   "cell_type": "markdown",
   "metadata": {},
   "source": [
    "# LOAD"
   ]
  },
  {
   "cell_type": "code",
   "execution_count": 2,
   "metadata": {},
   "outputs": [],
   "source": [
    "import pandas as pd\n",
    "import matplotlib.pyplot as plt\n",
    "import matplotlib.image as mpimg\n",
    "import numpy as np\n",
    "import seaborn as sns\n",
    "from tqdm import tqdm_notebook as tqdm"
   ]
  },
  {
   "cell_type": "code",
   "execution_count": 3,
   "metadata": {},
   "outputs": [
    {
     "name": "stdout",
     "output_type": "stream",
     "text": [
      "(122775, 16)\n"
     ]
    },
    {
     "data": {
      "text/html": [
       "<div>\n",
       "<style scoped>\n",
       "    .dataframe tbody tr th:only-of-type {\n",
       "        vertical-align: middle;\n",
       "    }\n",
       "\n",
       "    .dataframe tbody tr th {\n",
       "        vertical-align: top;\n",
       "    }\n",
       "\n",
       "    .dataframe thead th {\n",
       "        text-align: right;\n",
       "    }\n",
       "</style>\n",
       "<table border=\"1\" class=\"dataframe\">\n",
       "  <thead>\n",
       "    <tr style=\"text-align: right;\">\n",
       "      <th></th>\n",
       "      <th>MLPAP_TI-0706B10</th>\n",
       "      <th>MLPAP_TI-0706B15</th>\n",
       "      <th>MLPAP_TI-0706B21</th>\n",
       "      <th>MLPAP_TI-0716A03</th>\n",
       "      <th>MLPAP_TI-0716A05</th>\n",
       "      <th>MLPAP_TJR-0720A1.PV</th>\n",
       "      <th>MLPAP_TJR-0720B2.PV</th>\n",
       "      <th>MLPAP_TJR-0762A1.PV</th>\n",
       "      <th>MLPAP_TI-0706B01</th>\n",
       "      <th>MLPAP_TRC-0610.PV</th>\n",
       "      <th>MLPAP_TIC-1721.PV</th>\n",
       "      <th>MLPAP_TRC-1734.PV</th>\n",
       "      <th>MLPAP_FR-0755.PV</th>\n",
       "      <th>MLPAP_TIC-0757.PV</th>\n",
       "      <th>MLPAP_V125-PHD</th>\n",
       "      <th>target</th>\n",
       "    </tr>\n",
       "  </thead>\n",
       "  <tbody>\n",
       "    <tr>\n",
       "      <th>2016-05-10 08:10:00</th>\n",
       "      <td>-0.883078</td>\n",
       "      <td>0.436520</td>\n",
       "      <td>0.527857</td>\n",
       "      <td>2.885848</td>\n",
       "      <td>0.448321</td>\n",
       "      <td>0.677295</td>\n",
       "      <td>0.881300</td>\n",
       "      <td>0.796872</td>\n",
       "      <td>0.633992</td>\n",
       "      <td>3.036852</td>\n",
       "      <td>3.099501</td>\n",
       "      <td>0.608934</td>\n",
       "      <td>-2.619894</td>\n",
       "      <td>-1.015438</td>\n",
       "      <td>-0.088287</td>\n",
       "      <td>0.914125</td>\n",
       "    </tr>\n",
       "    <tr>\n",
       "      <th>2016-05-10 08:20:00</th>\n",
       "      <td>-0.883078</td>\n",
       "      <td>0.436520</td>\n",
       "      <td>0.527857</td>\n",
       "      <td>2.885848</td>\n",
       "      <td>0.448321</td>\n",
       "      <td>0.677122</td>\n",
       "      <td>0.881648</td>\n",
       "      <td>0.797089</td>\n",
       "      <td>0.633992</td>\n",
       "      <td>2.864041</td>\n",
       "      <td>3.272350</td>\n",
       "      <td>0.447358</td>\n",
       "      <td>-2.614712</td>\n",
       "      <td>-0.982340</td>\n",
       "      <td>-0.088287</td>\n",
       "      <td>0.919765</td>\n",
       "    </tr>\n",
       "    <tr>\n",
       "      <th>2016-05-10 08:30:00</th>\n",
       "      <td>-0.883078</td>\n",
       "      <td>0.436830</td>\n",
       "      <td>0.527857</td>\n",
       "      <td>2.885848</td>\n",
       "      <td>0.448321</td>\n",
       "      <td>0.677619</td>\n",
       "      <td>0.881571</td>\n",
       "      <td>0.796987</td>\n",
       "      <td>0.633992</td>\n",
       "      <td>3.006620</td>\n",
       "      <td>3.596289</td>\n",
       "      <td>-0.634915</td>\n",
       "      <td>-2.617016</td>\n",
       "      <td>-0.975999</td>\n",
       "      <td>-0.088287</td>\n",
       "      <td>0.926346</td>\n",
       "    </tr>\n",
       "    <tr>\n",
       "      <th>2016-05-10 23:40:00</th>\n",
       "      <td>-1.508446</td>\n",
       "      <td>0.411821</td>\n",
       "      <td>0.395807</td>\n",
       "      <td>2.856863</td>\n",
       "      <td>0.468480</td>\n",
       "      <td>0.641630</td>\n",
       "      <td>0.853312</td>\n",
       "      <td>0.763786</td>\n",
       "      <td>0.601863</td>\n",
       "      <td>1.710665</td>\n",
       "      <td>3.361869</td>\n",
       "      <td>0.769126</td>\n",
       "      <td>-2.612469</td>\n",
       "      <td>-0.840360</td>\n",
       "      <td>-0.088287</td>\n",
       "      <td>0.906781</td>\n",
       "    </tr>\n",
       "    <tr>\n",
       "      <th>2016-05-10 23:50:00</th>\n",
       "      <td>-1.443246</td>\n",
       "      <td>0.412131</td>\n",
       "      <td>0.395807</td>\n",
       "      <td>2.882331</td>\n",
       "      <td>0.468480</td>\n",
       "      <td>0.642077</td>\n",
       "      <td>0.853810</td>\n",
       "      <td>0.764300</td>\n",
       "      <td>0.603356</td>\n",
       "      <td>1.822449</td>\n",
       "      <td>3.029603</td>\n",
       "      <td>0.528846</td>\n",
       "      <td>-2.620588</td>\n",
       "      <td>-0.868595</td>\n",
       "      <td>-0.088287</td>\n",
       "      <td>0.926688</td>\n",
       "    </tr>\n",
       "  </tbody>\n",
       "</table>\n",
       "</div>"
      ],
      "text/plain": [
       "                     MLPAP_TI-0706B10  MLPAP_TI-0706B15  MLPAP_TI-0706B21  \\\n",
       "2016-05-10 08:10:00         -0.883078          0.436520          0.527857   \n",
       "2016-05-10 08:20:00         -0.883078          0.436520          0.527857   \n",
       "2016-05-10 08:30:00         -0.883078          0.436830          0.527857   \n",
       "2016-05-10 23:40:00         -1.508446          0.411821          0.395807   \n",
       "2016-05-10 23:50:00         -1.443246          0.412131          0.395807   \n",
       "\n",
       "                     MLPAP_TI-0716A03  MLPAP_TI-0716A05  MLPAP_TJR-0720A1.PV  \\\n",
       "2016-05-10 08:10:00          2.885848          0.448321             0.677295   \n",
       "2016-05-10 08:20:00          2.885848          0.448321             0.677122   \n",
       "2016-05-10 08:30:00          2.885848          0.448321             0.677619   \n",
       "2016-05-10 23:40:00          2.856863          0.468480             0.641630   \n",
       "2016-05-10 23:50:00          2.882331          0.468480             0.642077   \n",
       "\n",
       "                     MLPAP_TJR-0720B2.PV  MLPAP_TJR-0762A1.PV  \\\n",
       "2016-05-10 08:10:00             0.881300             0.796872   \n",
       "2016-05-10 08:20:00             0.881648             0.797089   \n",
       "2016-05-10 08:30:00             0.881571             0.796987   \n",
       "2016-05-10 23:40:00             0.853312             0.763786   \n",
       "2016-05-10 23:50:00             0.853810             0.764300   \n",
       "\n",
       "                     MLPAP_TI-0706B01  MLPAP_TRC-0610.PV  MLPAP_TIC-1721.PV  \\\n",
       "2016-05-10 08:10:00          0.633992           3.036852           3.099501   \n",
       "2016-05-10 08:20:00          0.633992           2.864041           3.272350   \n",
       "2016-05-10 08:30:00          0.633992           3.006620           3.596289   \n",
       "2016-05-10 23:40:00          0.601863           1.710665           3.361869   \n",
       "2016-05-10 23:50:00          0.603356           1.822449           3.029603   \n",
       "\n",
       "                     MLPAP_TRC-1734.PV  MLPAP_FR-0755.PV  MLPAP_TIC-0757.PV  \\\n",
       "2016-05-10 08:10:00           0.608934         -2.619894          -1.015438   \n",
       "2016-05-10 08:20:00           0.447358         -2.614712          -0.982340   \n",
       "2016-05-10 08:30:00          -0.634915         -2.617016          -0.975999   \n",
       "2016-05-10 23:40:00           0.769126         -2.612469          -0.840360   \n",
       "2016-05-10 23:50:00           0.528846         -2.620588          -0.868595   \n",
       "\n",
       "                     MLPAP_V125-PHD    target  \n",
       "2016-05-10 08:10:00       -0.088287  0.914125  \n",
       "2016-05-10 08:20:00       -0.088287  0.919765  \n",
       "2016-05-10 08:30:00       -0.088287  0.926346  \n",
       "2016-05-10 23:40:00       -0.088287  0.906781  \n",
       "2016-05-10 23:50:00       -0.088287  0.926688  "
      ]
     },
     "execution_count": 3,
     "metadata": {},
     "output_type": "execute_result"
    }
   ],
   "source": [
    "df = pd.read_csv('train_FeatureSelected.csv',index_col = 0,parse_dates = True)\n",
    "print(df.shape)\n",
    "df.head()"
   ]
  },
  {
   "cell_type": "markdown",
   "metadata": {},
   "source": [
    "# MinMaxscale"
   ]
  },
  {
   "cell_type": "code",
   "execution_count": 4,
   "metadata": {},
   "outputs": [
    {
     "data": {
      "text/html": [
       "<div>\n",
       "<style scoped>\n",
       "    .dataframe tbody tr th:only-of-type {\n",
       "        vertical-align: middle;\n",
       "    }\n",
       "\n",
       "    .dataframe tbody tr th {\n",
       "        vertical-align: top;\n",
       "    }\n",
       "\n",
       "    .dataframe thead th {\n",
       "        text-align: right;\n",
       "    }\n",
       "</style>\n",
       "<table border=\"1\" class=\"dataframe\">\n",
       "  <thead>\n",
       "    <tr style=\"text-align: right;\">\n",
       "      <th></th>\n",
       "      <th>MLPAP_TI-0706B10</th>\n",
       "      <th>MLPAP_TI-0706B15</th>\n",
       "      <th>MLPAP_TI-0706B21</th>\n",
       "      <th>MLPAP_TI-0716A03</th>\n",
       "      <th>MLPAP_TI-0716A05</th>\n",
       "      <th>MLPAP_TJR-0720A1.PV</th>\n",
       "      <th>MLPAP_TJR-0720B2.PV</th>\n",
       "      <th>MLPAP_TJR-0762A1.PV</th>\n",
       "      <th>MLPAP_TI-0706B01</th>\n",
       "      <th>MLPAP_TRC-0610.PV</th>\n",
       "      <th>MLPAP_TIC-1721.PV</th>\n",
       "      <th>MLPAP_TRC-1734.PV</th>\n",
       "      <th>MLPAP_FR-0755.PV</th>\n",
       "      <th>MLPAP_TIC-0757.PV</th>\n",
       "      <th>MLPAP_V125-PHD</th>\n",
       "      <th>target</th>\n",
       "    </tr>\n",
       "  </thead>\n",
       "  <tbody>\n",
       "    <tr>\n",
       "      <th>2016-05-10 08:10:00</th>\n",
       "      <td>0.803927</td>\n",
       "      <td>0.968352</td>\n",
       "      <td>0.990723</td>\n",
       "      <td>1.000000</td>\n",
       "      <td>0.977663</td>\n",
       "      <td>0.693540</td>\n",
       "      <td>0.999851</td>\n",
       "      <td>0.999915</td>\n",
       "      <td>1.000000</td>\n",
       "      <td>0.870333</td>\n",
       "      <td>0.564397</td>\n",
       "      <td>0.517157</td>\n",
       "      <td>0.091998</td>\n",
       "      <td>0.909638</td>\n",
       "      <td>0.145161</td>\n",
       "      <td>0.914125</td>\n",
       "    </tr>\n",
       "    <tr>\n",
       "      <th>2016-05-10 08:20:00</th>\n",
       "      <td>0.803927</td>\n",
       "      <td>0.968352</td>\n",
       "      <td>0.990723</td>\n",
       "      <td>1.000000</td>\n",
       "      <td>0.977663</td>\n",
       "      <td>0.693497</td>\n",
       "      <td>1.000000</td>\n",
       "      <td>1.000000</td>\n",
       "      <td>1.000000</td>\n",
       "      <td>0.855041</td>\n",
       "      <td>0.572776</td>\n",
       "      <td>0.504635</td>\n",
       "      <td>0.092996</td>\n",
       "      <td>0.910421</td>\n",
       "      <td>0.145161</td>\n",
       "      <td>0.919765</td>\n",
       "    </tr>\n",
       "    <tr>\n",
       "      <th>2016-05-10 08:30:00</th>\n",
       "      <td>0.803927</td>\n",
       "      <td>0.968465</td>\n",
       "      <td>0.990723</td>\n",
       "      <td>1.000000</td>\n",
       "      <td>0.977663</td>\n",
       "      <td>0.693619</td>\n",
       "      <td>0.999967</td>\n",
       "      <td>0.999960</td>\n",
       "      <td>1.000000</td>\n",
       "      <td>0.867657</td>\n",
       "      <td>0.588480</td>\n",
       "      <td>0.420763</td>\n",
       "      <td>0.092552</td>\n",
       "      <td>0.910572</td>\n",
       "      <td>0.145161</td>\n",
       "      <td>0.926346</td>\n",
       "    </tr>\n",
       "    <tr>\n",
       "      <th>2016-05-10 23:40:00</th>\n",
       "      <td>0.757022</td>\n",
       "      <td>0.959309</td>\n",
       "      <td>0.983765</td>\n",
       "      <td>0.999050</td>\n",
       "      <td>0.981970</td>\n",
       "      <td>0.684815</td>\n",
       "      <td>0.987892</td>\n",
       "      <td>0.986978</td>\n",
       "      <td>0.988840</td>\n",
       "      <td>0.752979</td>\n",
       "      <td>0.577116</td>\n",
       "      <td>0.529571</td>\n",
       "      <td>0.093428</td>\n",
       "      <td>0.913783</td>\n",
       "      <td>0.145161</td>\n",
       "      <td>0.906781</td>\n",
       "    </tr>\n",
       "    <tr>\n",
       "      <th>2016-05-10 23:50:00</th>\n",
       "      <td>0.761912</td>\n",
       "      <td>0.959423</td>\n",
       "      <td>0.983765</td>\n",
       "      <td>0.999885</td>\n",
       "      <td>0.981970</td>\n",
       "      <td>0.684924</td>\n",
       "      <td>0.988105</td>\n",
       "      <td>0.987179</td>\n",
       "      <td>0.989358</td>\n",
       "      <td>0.762871</td>\n",
       "      <td>0.561009</td>\n",
       "      <td>0.510950</td>\n",
       "      <td>0.091865</td>\n",
       "      <td>0.913115</td>\n",
       "      <td>0.145161</td>\n",
       "      <td>0.926688</td>\n",
       "    </tr>\n",
       "  </tbody>\n",
       "</table>\n",
       "</div>"
      ],
      "text/plain": [
       "                     MLPAP_TI-0706B10  MLPAP_TI-0706B15  MLPAP_TI-0706B21  \\\n",
       "2016-05-10 08:10:00          0.803927          0.968352          0.990723   \n",
       "2016-05-10 08:20:00          0.803927          0.968352          0.990723   \n",
       "2016-05-10 08:30:00          0.803927          0.968465          0.990723   \n",
       "2016-05-10 23:40:00          0.757022          0.959309          0.983765   \n",
       "2016-05-10 23:50:00          0.761912          0.959423          0.983765   \n",
       "\n",
       "                     MLPAP_TI-0716A03  MLPAP_TI-0716A05  MLPAP_TJR-0720A1.PV  \\\n",
       "2016-05-10 08:10:00          1.000000          0.977663             0.693540   \n",
       "2016-05-10 08:20:00          1.000000          0.977663             0.693497   \n",
       "2016-05-10 08:30:00          1.000000          0.977663             0.693619   \n",
       "2016-05-10 23:40:00          0.999050          0.981970             0.684815   \n",
       "2016-05-10 23:50:00          0.999885          0.981970             0.684924   \n",
       "\n",
       "                     MLPAP_TJR-0720B2.PV  MLPAP_TJR-0762A1.PV  \\\n",
       "2016-05-10 08:10:00             0.999851             0.999915   \n",
       "2016-05-10 08:20:00             1.000000             1.000000   \n",
       "2016-05-10 08:30:00             0.999967             0.999960   \n",
       "2016-05-10 23:40:00             0.987892             0.986978   \n",
       "2016-05-10 23:50:00             0.988105             0.987179   \n",
       "\n",
       "                     MLPAP_TI-0706B01  MLPAP_TRC-0610.PV  MLPAP_TIC-1721.PV  \\\n",
       "2016-05-10 08:10:00          1.000000           0.870333           0.564397   \n",
       "2016-05-10 08:20:00          1.000000           0.855041           0.572776   \n",
       "2016-05-10 08:30:00          1.000000           0.867657           0.588480   \n",
       "2016-05-10 23:40:00          0.988840           0.752979           0.577116   \n",
       "2016-05-10 23:50:00          0.989358           0.762871           0.561009   \n",
       "\n",
       "                     MLPAP_TRC-1734.PV  MLPAP_FR-0755.PV  MLPAP_TIC-0757.PV  \\\n",
       "2016-05-10 08:10:00           0.517157          0.091998           0.909638   \n",
       "2016-05-10 08:20:00           0.504635          0.092996           0.910421   \n",
       "2016-05-10 08:30:00           0.420763          0.092552           0.910572   \n",
       "2016-05-10 23:40:00           0.529571          0.093428           0.913783   \n",
       "2016-05-10 23:50:00           0.510950          0.091865           0.913115   \n",
       "\n",
       "                     MLPAP_V125-PHD    target  \n",
       "2016-05-10 08:10:00        0.145161  0.914125  \n",
       "2016-05-10 08:20:00        0.145161  0.919765  \n",
       "2016-05-10 08:30:00        0.145161  0.926346  \n",
       "2016-05-10 23:40:00        0.145161  0.906781  \n",
       "2016-05-10 23:50:00        0.145161  0.926688  "
      ]
     },
     "execution_count": 4,
     "metadata": {},
     "output_type": "execute_result"
    }
   ],
   "source": [
    "from sklearn.preprocessing import MinMaxScaler\n",
    "\n",
    "x_col = df.drop('target',axis=1).columns.tolist()\n",
    "y_col = 'target'\n",
    "\n",
    "sc = MinMaxScaler()\n",
    "df[x_col] = sc.fit_transform(df[x_col])\n",
    "\n",
    "df.head()"
   ]
  },
  {
   "cell_type": "markdown",
   "metadata": {},
   "source": [
    "# stack time_step"
   ]
  },
  {
   "cell_type": "code",
   "execution_count": 5,
   "metadata": {},
   "outputs": [],
   "source": [
    "def train_windows(df, ref_day=15, predict_day=1):\n",
    "    X_train, Y_train, i_lst = [], [], []\n",
    "    for i in tqdm(range(df.shape[0]-predict_day-ref_day)):\n",
    "        X_train.append(np.array(df.iloc[i:i+ref_day][x_col]))\n",
    "        Y_train.append(np.array(df.iloc[i+ref_day:i+ref_day+predict_day][y_col]))\n",
    "        i_lst.append(df.iloc[i+ref_day:i+ref_day+predict_day].index[0])\n",
    "    return np.array(X_train), np.array(Y_train), i_lst"
   ]
  },
  {
   "cell_type": "code",
   "execution_count": 6,
   "metadata": {},
   "outputs": [
    {
     "name": "stderr",
     "output_type": "stream",
     "text": [
      "/workspace/conda/lib/python3.6/site-packages/ipykernel_launcher.py:3: TqdmDeprecationWarning: This function will be removed in tqdm==5.0.0\n",
      "Please use `tqdm.notebook.tqdm` instead of `tqdm.tqdm_notebook`\n",
      "  This is separate from the ipykernel package so we can avoid doing imports until\n"
     ]
    },
    {
     "data": {
      "application/vnd.jupyter.widget-view+json": {
       "model_id": "a3cfed757e854a12b089d9c71cc63fb9",
       "version_major": 2,
       "version_minor": 0
      },
      "text/plain": [
       "HBox(children=(FloatProgress(value=0.0, max=122759.0), HTML(value='')))"
      ]
     },
     "metadata": {},
     "output_type": "display_data"
    },
    {
     "name": "stdout",
     "output_type": "stream",
     "text": [
      "\n",
      "122759 122759 122759\n"
     ]
    }
   ],
   "source": [
    "X, y, i_lst = train_windows(df, ref_day=15, predict_day=1)\n",
    "print(len(X),len(y),len(i_lst))"
   ]
  },
  {
   "cell_type": "code",
   "execution_count": 7,
   "metadata": {},
   "outputs": [
    {
     "name": "stdout",
     "output_type": "stream",
     "text": [
      "(122759, 15, 15) (122759, 1)\n"
     ]
    }
   ],
   "source": [
    "print(X.shape,y.shape)"
   ]
  },
  {
   "cell_type": "code",
   "execution_count": 8,
   "metadata": {},
   "outputs": [
    {
     "data": {
      "text/plain": [
       "array([[0.80392749, 0.96835173, 0.99072263, 1.        , 0.97766328,\n",
       "        0.69353983, 0.99985101, 0.99991523, 1.        , 0.87033253,\n",
       "        0.56439704, 0.51715703, 0.0919981 , 0.90963769, 0.14516129],\n",
       "       [0.80392749, 0.96835173, 0.99072263, 1.        , 0.97766328,\n",
       "        0.69349742, 1.        , 1.        , 1.        , 0.8550406 ,\n",
       "        0.57277625, 0.50463544, 0.09299574, 0.91042143, 0.14516129],\n",
       "       [0.80392749, 0.96846511, 0.99072263, 1.        , 0.97766328,\n",
       "        0.69361895, 0.99996711, 0.99996025, 1.        , 0.86765733,\n",
       "        0.58847984, 0.42076312, 0.0925521 , 0.91057159, 0.14516129],\n",
       "       [0.75702155, 0.95930937, 0.98376461, 0.99904981, 0.9819697 ,\n",
       "        0.68481533, 0.98789151, 0.98697816, 0.98883983, 0.75297915,\n",
       "        0.57711587, 0.5295713 , 0.09342758, 0.91378347, 0.14516129],\n",
       "       [0.76191195, 0.95942284, 0.98376461, 0.99988472, 0.9819697 ,\n",
       "        0.68492449, 0.9881046 , 0.9871792 , 0.9893582 , 0.76287083,\n",
       "        0.56100861, 0.51095047, 0.09186459, 0.91311488, 0.14516129],\n",
       "       [0.74473544, 0.95704878, 0.98144527, 0.99526066, 0.9819697 ,\n",
       "        0.68189657, 0.9840943 , 0.98276923, 0.98612199, 0.71427773,\n",
       "        0.55612288, 0.51524659, 0.0863617 , 0.90882978, 0.14516129],\n",
       "       [0.74020747, 0.95704878, 0.98144527, 0.99526066, 0.9819697 ,\n",
       "        0.68182665, 0.9839982 , 0.98273049, 0.98612199, 0.71523621,\n",
       "        0.5945379 , 0.46132426, 0.08849978, 0.91055627, 0.14516129],\n",
       "       [0.73983655, 0.95704878, 0.98144527, 0.99525745, 0.9819697 ,\n",
       "        0.68169703, 0.98386861, 0.98258146, 0.98577549, 0.71058217,\n",
       "        0.56618105, 0.52439172, 0.08408669, 0.91106982, 0.14516129],\n",
       "       [0.73390159, 0.95704878, 0.98144527, 0.99454915, 0.9819697 ,\n",
       "        0.6814428 , 0.98338024, 0.98223236, 0.98588988, 0.69293332,\n",
       "        0.56786048, 0.50304456, 0.07895252, 0.90979261, 0.14516129],\n",
       "       [0.73635161, 0.95704878, 0.98144527, 0.99478994, 0.98321044,\n",
       "        0.6814768 , 0.98341992, 0.98210987, 0.98612199, 0.67496048,\n",
       "        0.58889701, 0.43839164, 0.08021173, 0.90744328, 0.14516129],\n",
       "       [0.73494642, 0.95704878, 0.98144527, 0.99526066, 0.98309973,\n",
       "        0.68154951, 0.98358621, 0.98246554, 0.98612199, 0.66545488,\n",
       "        0.57120317, 0.51866535, 0.0794119 , 0.91096088, 0.14516129],\n",
       "       [0.71394324, 0.95478819, 0.97680658, 0.97867299, 0.96474402,\n",
       "        0.68084609, 0.98193486, 0.98242014, 0.98380898, 0.85044608,\n",
       "        0.57819532, 0.53064084, 0.09155201, 0.91902592, 0.14516129],\n",
       "       [0.71989642, 0.95490157, 0.97912593, 0.97630332, 0.96689723,\n",
       "        0.68086437, 0.98186378, 0.98252966, 0.98380898, 0.75052834,\n",
       "        0.55409468, 0.52185491, 0.09044451, 0.91956729, 0.14516129],\n",
       "       [0.71989642, 0.95478819, 0.97912593, 0.97630332, 0.96689723,\n",
       "        0.680796  , 0.98169706, 0.98247186, 0.98380898, 0.74296592,\n",
       "        0.54964141, 0.51485673, 0.08944511, 0.91875769, 0.14516129],\n",
       "       [0.74439024, 0.95704878, 0.98144527, 0.98341232, 0.97766328,\n",
       "        0.68152374, 0.9826028 , 0.9829759 , 0.98467465, 0.66273959,\n",
       "        0.59947205, 0.50049621, 0.08663827, 0.9181124 , 0.14516129]])"
      ]
     },
     "execution_count": 8,
     "metadata": {},
     "output_type": "execute_result"
    }
   ],
   "source": [
    "X[0]"
   ]
  },
  {
   "cell_type": "code",
   "execution_count": 9,
   "metadata": {},
   "outputs": [
    {
     "data": {
      "text/html": [
       "<div>\n",
       "<style scoped>\n",
       "    .dataframe tbody tr th:only-of-type {\n",
       "        vertical-align: middle;\n",
       "    }\n",
       "\n",
       "    .dataframe tbody tr th {\n",
       "        vertical-align: top;\n",
       "    }\n",
       "\n",
       "    .dataframe thead th {\n",
       "        text-align: right;\n",
       "    }\n",
       "</style>\n",
       "<table border=\"1\" class=\"dataframe\">\n",
       "  <thead>\n",
       "    <tr style=\"text-align: right;\">\n",
       "      <th></th>\n",
       "      <th>y</th>\n",
       "    </tr>\n",
       "  </thead>\n",
       "  <tbody>\n",
       "    <tr>\n",
       "      <th>2016-05-13 15:00:00</th>\n",
       "      <td>0.903952</td>\n",
       "    </tr>\n",
       "    <tr>\n",
       "      <th>2016-05-13 15:10:00</th>\n",
       "      <td>0.888240</td>\n",
       "    </tr>\n",
       "    <tr>\n",
       "      <th>2016-05-13 15:20:00</th>\n",
       "      <td>0.894072</td>\n",
       "    </tr>\n",
       "    <tr>\n",
       "      <th>2016-05-13 15:30:00</th>\n",
       "      <td>0.889203</td>\n",
       "    </tr>\n",
       "    <tr>\n",
       "      <th>2016-05-13 15:40:00</th>\n",
       "      <td>0.928332</td>\n",
       "    </tr>\n",
       "  </tbody>\n",
       "</table>\n",
       "</div>"
      ],
      "text/plain": [
       "                            y\n",
       "2016-05-13 15:00:00  0.903952\n",
       "2016-05-13 15:10:00  0.888240\n",
       "2016-05-13 15:20:00  0.894072\n",
       "2016-05-13 15:30:00  0.889203\n",
       "2016-05-13 15:40:00  0.928332"
      ]
     },
     "execution_count": 9,
     "metadata": {},
     "output_type": "execute_result"
    }
   ],
   "source": [
    "y = pd.DataFrame(y,index=i_lst,columns=['y'])\n",
    "y.head()"
   ]
  },
  {
   "cell_type": "markdown",
   "metadata": {},
   "source": [
    "# split"
   ]
  },
  {
   "cell_type": "code",
   "execution_count": 10,
   "metadata": {},
   "outputs": [
    {
     "name": "stdout",
     "output_type": "stream",
     "text": [
      "(85931, 15, 15) (85931, 1)\n",
      "(18414, 15, 15) (18414, 1)\n",
      "(18414, 15, 15) (18414, 1)\n"
     ]
    }
   ],
   "source": [
    "from sklearn.model_selection import train_test_split\n",
    "\n",
    "X_train, X_test, y_train, y_test = train_test_split(X, y, test_size=0.3, random_state = 7)\n",
    "X_val, X_test ,y_val ,y_test = train_test_split(X_test, y_test, test_size=0.5, random_state = 7)\n",
    "\n",
    "print(X_train.shape,y_train.shape)\n",
    "print(X_val.shape,y_val.shape)\n",
    "print(X_test.shape,y_test.shape)"
   ]
  },
  {
   "cell_type": "markdown",
   "metadata": {},
   "source": [
    "# LSTM MODEL(manyToOne1)"
   ]
  },
  {
   "cell_type": "code",
   "execution_count": 11,
   "metadata": {},
   "outputs": [
    {
     "name": "stderr",
     "output_type": "stream",
     "text": [
      "Using TensorFlow backend.\n",
      "/workspace/conda/lib/python3.6/site-packages/tensorflow/python/framework/dtypes.py:523: FutureWarning: Passing (type, 1) or '1type' as a synonym of type is deprecated; in a future version of numpy, it will be understood as (type, (1,)) / '(1,)type'.\n",
      "  _np_qint8 = np.dtype([(\"qint8\", np.int8, 1)])\n",
      "/workspace/conda/lib/python3.6/site-packages/tensorflow/python/framework/dtypes.py:524: FutureWarning: Passing (type, 1) or '1type' as a synonym of type is deprecated; in a future version of numpy, it will be understood as (type, (1,)) / '(1,)type'.\n",
      "  _np_quint8 = np.dtype([(\"quint8\", np.uint8, 1)])\n",
      "/workspace/conda/lib/python3.6/site-packages/tensorflow/python/framework/dtypes.py:525: FutureWarning: Passing (type, 1) or '1type' as a synonym of type is deprecated; in a future version of numpy, it will be understood as (type, (1,)) / '(1,)type'.\n",
      "  _np_qint16 = np.dtype([(\"qint16\", np.int16, 1)])\n",
      "/workspace/conda/lib/python3.6/site-packages/tensorflow/python/framework/dtypes.py:526: FutureWarning: Passing (type, 1) or '1type' as a synonym of type is deprecated; in a future version of numpy, it will be understood as (type, (1,)) / '(1,)type'.\n",
      "  _np_quint16 = np.dtype([(\"quint16\", np.uint16, 1)])\n",
      "/workspace/conda/lib/python3.6/site-packages/tensorflow/python/framework/dtypes.py:527: FutureWarning: Passing (type, 1) or '1type' as a synonym of type is deprecated; in a future version of numpy, it will be understood as (type, (1,)) / '(1,)type'.\n",
      "  _np_qint32 = np.dtype([(\"qint32\", np.int32, 1)])\n",
      "/workspace/conda/lib/python3.6/site-packages/tensorflow/python/framework/dtypes.py:532: FutureWarning: Passing (type, 1) or '1type' as a synonym of type is deprecated; in a future version of numpy, it will be understood as (type, (1,)) / '(1,)type'.\n",
      "  np_resource = np.dtype([(\"resource\", np.ubyte, 1)])\n"
     ]
    },
    {
     "name": "stdout",
     "output_type": "stream",
     "text": [
      "_________________________________________________________________\n",
      "Layer (type)                 Output Shape              Param #   \n",
      "=================================================================\n",
      "lstm_1 (LSTM)                (None, 15, 128)           73728     \n",
      "_________________________________________________________________\n",
      "lstm_2 (LSTM)                (None, 64)                49408     \n",
      "_________________________________________________________________\n",
      "dense_1 (Dense)              (None, 32)                2080      \n",
      "_________________________________________________________________\n",
      "dense_2 (Dense)              (None, 1)                 33        \n",
      "=================================================================\n",
      "Total params: 125,249\n",
      "Trainable params: 125,249\n",
      "Non-trainable params: 0\n",
      "_________________________________________________________________\n"
     ]
    }
   ],
   "source": [
    "from keras import backend as K\n",
    "from keras.models import Sequential\n",
    "from keras.layers import LSTM,TimeDistributed,Dense,Flatten\n",
    "from keras.optimizers import Adam\n",
    "import warnings;warnings.simplefilter('ignore')\n",
    "\n",
    "# define model\n",
    "def buildManyToOneModel(shape):\n",
    "    model = Sequential()\n",
    "    model.add(LSTM(128,return_sequences=True,input_shape=shape))\n",
    "    model.add(LSTM(64))\n",
    "    model.add(Dense(32))\n",
    "    model.add(Dense(1,kernel_initializer='uniform',activation='linear'))\n",
    "    model.compile(optimizer=Adam(lr=0.0001), loss=\"mse\", metrics=[\"mse\"])\n",
    "    model.summary()\n",
    "    return model\n",
    "\n",
    "# build model\n",
    "model = buildManyToOneModel(X_train[0].shape)"
   ]
  },
  {
   "cell_type": "markdown",
   "metadata": {},
   "source": [
    "# train model"
   ]
  },
  {
   "cell_type": "code",
   "execution_count": 12,
   "metadata": {},
   "outputs": [
    {
     "name": "stdout",
     "output_type": "stream",
     "text": [
      "Train on 85931 samples, validate on 18414 samples\n",
      "Epoch 1/10\n",
      "85931/85931 [==============================] - 15s 176us/step - loss: 0.1141 - mean_squared_error: 0.1141 - val_loss: 2.0917e-04 - val_mean_squared_error: 2.0917e-04\n",
      "Epoch 2/10\n",
      "85931/85931 [==============================] - 14s 159us/step - loss: 1.7876e-04 - mean_squared_error: 1.7876e-04 - val_loss: 1.4703e-04 - val_mean_squared_error: 1.4703e-04\n",
      "Epoch 3/10\n",
      "85931/85931 [==============================] - 14s 159us/step - loss: 1.3234e-04 - mean_squared_error: 1.3234e-04 - val_loss: 1.1572e-04 - val_mean_squared_error: 1.1572e-04\n",
      "Epoch 4/10\n",
      "85931/85931 [==============================] - 13s 155us/step - loss: 1.0879e-04 - mean_squared_error: 1.0879e-04 - val_loss: 9.9182e-05 - val_mean_squared_error: 9.9182e-05\n",
      "Epoch 5/10\n",
      "85931/85931 [==============================] - 13s 150us/step - loss: 9.5686e-05 - mean_squared_error: 9.5686e-05 - val_loss: 8.9388e-05 - val_mean_squared_error: 8.9388e-05\n",
      "Epoch 6/10\n",
      "85931/85931 [==============================] - 13s 151us/step - loss: 8.7825e-05 - mean_squared_error: 8.7825e-05 - val_loss: 8.3751e-05 - val_mean_squared_error: 8.3751e-05\n",
      "Epoch 7/10\n",
      "85931/85931 [==============================] - 13s 151us/step - loss: 8.3975e-05 - mean_squared_error: 8.3975e-05 - val_loss: 8.1587e-05 - val_mean_squared_error: 8.1587e-05\n",
      "Epoch 8/10\n",
      "85931/85931 [==============================] - 13s 151us/step - loss: 8.2136e-05 - mean_squared_error: 8.2136e-05 - val_loss: 8.0243e-05 - val_mean_squared_error: 8.0243e-05\n",
      "Epoch 9/10\n",
      "85931/85931 [==============================] - 13s 148us/step - loss: 8.1258e-05 - mean_squared_error: 8.1258e-05 - val_loss: 8.0498e-05 - val_mean_squared_error: 8.0498e-05\n",
      "Epoch 10/10\n",
      "85931/85931 [==============================] - 13s 149us/step - loss: 8.0733e-05 - mean_squared_error: 8.0733e-05 - val_loss: 7.9166e-05 - val_mean_squared_error: 7.9166e-05\n"
     ]
    }
   ],
   "source": [
    "history = model.fit(X_train,y_train,\n",
    "                    batch_size = 256,\n",
    "                    epochs = 10,\n",
    "                    validation_data = (X_val,y_val),\n",
    "                    verbose = 1)"
   ]
  },
  {
   "cell_type": "markdown",
   "metadata": {},
   "source": [
    "# evaluate model"
   ]
  },
  {
   "cell_type": "code",
   "execution_count": 13,
   "metadata": {},
   "outputs": [
    {
     "data": {
      "text/plain": [
       "<matplotlib.legend.Legend at 0x7fc3f02e0ba8>"
      ]
     },
     "execution_count": 13,
     "metadata": {},
     "output_type": "execute_result"
    },
    {
     "data": {
      "image/png": "[encoded data removed]",
      "text/plain": [
       "<Figure size 432x288 with 1 Axes>"
      ]
     },
     "metadata": {
      "needs_background": "light"
     },
     "output_type": "display_data"
    }
   ],
   "source": [
    "n = 1\n",
    "plt.plot(history.history['loss'][n:], color='b', label=\"Training loss\")\n",
    "plt.plot(history.history['val_loss'][n:], color='r', label=\"Validation loss\")\n",
    "plt.legend()"
   ]
  },
  {
   "cell_type": "code",
   "execution_count": 14,
   "metadata": {},
   "outputs": [
    {
     "name": "stdout",
     "output_type": "stream",
     "text": [
      "0.1295\n",
      "0.0001\n"
     ]
    }
   ],
   "source": [
    "from sklearn.metrics import r2_score,mean_squared_error\n",
    "\n",
    "# predict\n",
    "y_pred = model.predict(X_test).ravel()\n",
    "y_pred = pd.DataFrame(y_pred,index=y_test.index,columns=['y_pred'])\n",
    "\n",
    "# sort index\n",
    "y_pred = y_pred.sort_index()\n",
    "y_test = y_test.sort_index()\n",
    "\n",
    "# score\n",
    "print(round(r2_score(y_test,y_pred),4))\n",
    "print(round(mean_squared_error(y_test,y_pred),4))"
   ]
  },
  {
   "cell_type": "code",
   "execution_count": 15,
   "metadata": {},
   "outputs": [
    {
     "data": {
      "text/plain": [
       "<matplotlib.axes._subplots.AxesSubplot at 0x7fc3f0363908>"
      ]
     },
     "execution_count": 15,
     "metadata": {},
     "output_type": "execute_result"
    },
    {
     "data": {
      "image/png": "[encoded data removed]",
      "text/plain": [
       "<Figure size 432x288 with 1 Axes>"
      ]
     },
     "metadata": {
      "needs_background": "light"
     },
     "output_type": "display_data"
    }
   ],
   "source": [
    "plot_data = pd.concat([y_pred,y_test],axis=1)\n",
    "plot_data.rolling(6*24*15).mean().plot()"
   ]
  },
  {
   "cell_type": "code",
   "execution_count": null,
   "metadata": {},
   "outputs": [],
   "source": []
  }
 ],
 "metadata": {
  "kernelspec": {
   "display_name": "Python 3",
   "language": "python",
   "name": "python3"
  },
  "language_info": {
   "codemirror_mode": {
    "name": "ipython",
    "version": 3
   },
   "file_extension": ".py",
   "mimetype": "text/x-python",
   "name": "python",
   "nbconvert_exporter": "python",
   "pygments_lexer": "ipython3",
   "version": "3.6.9"
  }
 },
 "nbformat": 4,
 "nbformat_minor": 2
}
