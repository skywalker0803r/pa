{
 "cells": [
  {
   "cell_type": "code",
   "execution_count": 1,
   "metadata": {},
   "outputs": [
    {
     "data": {
      "text/plain": [
       "['second_model.ipynb',\n",
       " 'train.csv',\n",
       " 'DataCleaning.ipynb',\n",
       " 'EDA.ipynb',\n",
       " 'PA_201605-2012001更新R6(20190509).xlsx',\n",
       " 'tag盤點表.xlsx',\n",
       " 'xgboost.ipynb',\n",
       " 'LSTM.ipynb',\n",
       " 'train_FeatureSelected.csv',\n",
       " 'feature select.ipynb',\n",
       " 'tpot_pa_pipeline.py',\n",
       " 'TPOT.ipynb',\n",
       " 'three_model.ipynb',\n",
       " 'cnn-time-stack.ipynb',\n",
       " '.ipynb_checkpoints']"
      ]
     },
     "execution_count": 1,
     "metadata": {},
     "output_type": "execute_result"
    }
   ],
   "source": [
    "import os\n",
    "os.listdir()"
   ]
  },
  {
   "cell_type": "markdown",
   "metadata": {},
   "source": [
    "# LOAD"
   ]
  },
  {
   "cell_type": "code",
   "execution_count": 2,
   "metadata": {},
   "outputs": [],
   "source": [
    "import pandas as pd\n",
    "import matplotlib.pyplot as plt\n",
    "import matplotlib.image as mpimg\n",
    "import numpy as np\n",
    "import seaborn as sns\n",
    "from tqdm import tqdm_notebook as tqdm"
   ]
  },
  {
   "cell_type": "code",
   "execution_count": 3,
   "metadata": {},
   "outputs": [
    {
     "name": "stdout",
     "output_type": "stream",
     "text": [
      "(130795, 31)\n"
     ]
    },
    {
     "data": {
      "text/html": [
       "<div>\n",
       "<style scoped>\n",
       "    .dataframe tbody tr th:only-of-type {\n",
       "        vertical-align: middle;\n",
       "    }\n",
       "\n",
       "    .dataframe tbody tr th {\n",
       "        vertical-align: top;\n",
       "    }\n",
       "\n",
       "    .dataframe thead th {\n",
       "        text-align: right;\n",
       "    }\n",
       "</style>\n",
       "<table border=\"1\" class=\"dataframe\">\n",
       "  <thead>\n",
       "    <tr style=\"text-align: right;\">\n",
       "      <th></th>\n",
       "      <th>MLPAP_TI-0706B02</th>\n",
       "      <th>MLPAP_TI-0706B03</th>\n",
       "      <th>MLPAP_TI-0706B08</th>\n",
       "      <th>MLPAP_TI-0706B09</th>\n",
       "      <th>MLPAP_TI-0706B10</th>\n",
       "      <th>MLPAP_TI-0706B11</th>\n",
       "      <th>MLPAP_TI-0706B12</th>\n",
       "      <th>MLPAP_TI-0706B22</th>\n",
       "      <th>MLPAP_TI-0706B24</th>\n",
       "      <th>MLPAP_TI-0716A09</th>\n",
       "      <th>...</th>\n",
       "      <th>MLPAP_LIC-0738.PV</th>\n",
       "      <th>MLPAP_PIC-0761.PV</th>\n",
       "      <th>MLPAP_LRC-0729.PV</th>\n",
       "      <th>MLPAP_TIC-1721.PV</th>\n",
       "      <th>MLPAP_TRC-1734.PV</th>\n",
       "      <th>MLPAP_FR-0755.PV</th>\n",
       "      <th>MLPAP_FR-0791.PV</th>\n",
       "      <th>MLPAP_TIC-0757.PV</th>\n",
       "      <th>MLPAP_V125-PHD</th>\n",
       "      <th>target</th>\n",
       "    </tr>\n",
       "  </thead>\n",
       "  <tbody>\n",
       "    <tr>\n",
       "      <th>2016-05-10 08:10:00</th>\n",
       "      <td>421.996112</td>\n",
       "      <td>424.995929</td>\n",
       "      <td>398.999278</td>\n",
       "      <td>397.000005</td>\n",
       "      <td>394.002688</td>\n",
       "      <td>391.997199</td>\n",
       "      <td>391.004787</td>\n",
       "      <td>392.001755</td>\n",
       "      <td>392.004498</td>\n",
       "      <td>403.000684</td>\n",
       "      <td>...</td>\n",
       "      <td>34.707643</td>\n",
       "      <td>49.114940</td>\n",
       "      <td>34.926437</td>\n",
       "      <td>62.161964</td>\n",
       "      <td>181.607147</td>\n",
       "      <td>4.215451</td>\n",
       "      <td>13.177441</td>\n",
       "      <td>0.056350</td>\n",
       "      <td>0.054001</td>\n",
       "      <td>0.914110</td>\n",
       "    </tr>\n",
       "    <tr>\n",
       "      <th>2016-05-10 08:20:00</th>\n",
       "      <td>421.996112</td>\n",
       "      <td>425.041541</td>\n",
       "      <td>398.999278</td>\n",
       "      <td>397.000005</td>\n",
       "      <td>394.002688</td>\n",
       "      <td>391.997199</td>\n",
       "      <td>391.004787</td>\n",
       "      <td>392.001755</td>\n",
       "      <td>392.100484</td>\n",
       "      <td>403.000684</td>\n",
       "      <td>...</td>\n",
       "      <td>35.980597</td>\n",
       "      <td>49.137430</td>\n",
       "      <td>35.494560</td>\n",
       "      <td>62.267876</td>\n",
       "      <td>181.084756</td>\n",
       "      <td>4.236381</td>\n",
       "      <td>13.231014</td>\n",
       "      <td>0.084738</td>\n",
       "      <td>0.054001</td>\n",
       "      <td>0.919733</td>\n",
       "    </tr>\n",
       "    <tr>\n",
       "      <th>2016-05-10 08:30:00</th>\n",
       "      <td>421.996112</td>\n",
       "      <td>425.109958</td>\n",
       "      <td>398.999278</td>\n",
       "      <td>397.000005</td>\n",
       "      <td>394.002688</td>\n",
       "      <td>391.997199</td>\n",
       "      <td>391.004787</td>\n",
       "      <td>392.001755</td>\n",
       "      <td>392.004498</td>\n",
       "      <td>403.000684</td>\n",
       "      <td>...</td>\n",
       "      <td>33.797872</td>\n",
       "      <td>49.135555</td>\n",
       "      <td>34.616724</td>\n",
       "      <td>62.465860</td>\n",
       "      <td>177.599662</td>\n",
       "      <td>4.227079</td>\n",
       "      <td>13.221490</td>\n",
       "      <td>0.091835</td>\n",
       "      <td>0.054001</td>\n",
       "      <td>0.926436</td>\n",
       "    </tr>\n",
       "    <tr>\n",
       "      <th>2016-05-10 15:40:00</th>\n",
       "      <td>421.715731</td>\n",
       "      <td>427.687003</td>\n",
       "      <td>399.252972</td>\n",
       "      <td>395.446261</td>\n",
       "      <td>392.002989</td>\n",
       "      <td>389.622951</td>\n",
       "      <td>388.497742</td>\n",
       "      <td>390.200259</td>\n",
       "      <td>390.052790</td>\n",
       "      <td>403.578089</td>\n",
       "      <td>...</td>\n",
       "      <td>33.567251</td>\n",
       "      <td>49.169289</td>\n",
       "      <td>35.013840</td>\n",
       "      <td>62.394249</td>\n",
       "      <td>178.771310</td>\n",
       "      <td>4.248009</td>\n",
       "      <td>15.014401</td>\n",
       "      <td>0.496363</td>\n",
       "      <td>0.054001</td>\n",
       "      <td>0.887063</td>\n",
       "    </tr>\n",
       "    <tr>\n",
       "      <th>2016-05-10 23:40:00</th>\n",
       "      <td>421.003993</td>\n",
       "      <td>428.097506</td>\n",
       "      <td>397.996033</td>\n",
       "      <td>393.996100</td>\n",
       "      <td>390.654621</td>\n",
       "      <td>388.002611</td>\n",
       "      <td>387.000171</td>\n",
       "      <td>388.999261</td>\n",
       "      <td>388.197068</td>\n",
       "      <td>403.000684</td>\n",
       "      <td>...</td>\n",
       "      <td>35.167069</td>\n",
       "      <td>49.143052</td>\n",
       "      <td>34.719328</td>\n",
       "      <td>62.322638</td>\n",
       "      <td>182.122076</td>\n",
       "      <td>4.245102</td>\n",
       "      <td>15.637040</td>\n",
       "      <td>0.208935</td>\n",
       "      <td>0.054001</td>\n",
       "      <td>0.906869</td>\n",
       "    </tr>\n",
       "  </tbody>\n",
       "</table>\n",
       "<p>5 rows × 31 columns</p>\n",
       "</div>"
      ],
      "text/plain": [
       "                     MLPAP_TI-0706B02  MLPAP_TI-0706B03  MLPAP_TI-0706B08  \\\n",
       "2016-05-10 08:10:00        421.996112        424.995929        398.999278   \n",
       "2016-05-10 08:20:00        421.996112        425.041541        398.999278   \n",
       "2016-05-10 08:30:00        421.996112        425.109958        398.999278   \n",
       "2016-05-10 15:40:00        421.715731        427.687003        399.252972   \n",
       "2016-05-10 23:40:00        421.003993        428.097506        397.996033   \n",
       "\n",
       "                     MLPAP_TI-0706B09  MLPAP_TI-0706B10  MLPAP_TI-0706B11  \\\n",
       "2016-05-10 08:10:00        397.000005        394.002688        391.997199   \n",
       "2016-05-10 08:20:00        397.000005        394.002688        391.997199   \n",
       "2016-05-10 08:30:00        397.000005        394.002688        391.997199   \n",
       "2016-05-10 15:40:00        395.446261        392.002989        389.622951   \n",
       "2016-05-10 23:40:00        393.996100        390.654621        388.002611   \n",
       "\n",
       "                     MLPAP_TI-0706B12  MLPAP_TI-0706B22  MLPAP_TI-0706B24  \\\n",
       "2016-05-10 08:10:00        391.004787        392.001755        392.004498   \n",
       "2016-05-10 08:20:00        391.004787        392.001755        392.100484   \n",
       "2016-05-10 08:30:00        391.004787        392.001755        392.004498   \n",
       "2016-05-10 15:40:00        388.497742        390.200259        390.052790   \n",
       "2016-05-10 23:40:00        387.000171        388.999261        388.197068   \n",
       "\n",
       "                     MLPAP_TI-0716A09  ...  MLPAP_LIC-0738.PV  \\\n",
       "2016-05-10 08:10:00        403.000684  ...          34.707643   \n",
       "2016-05-10 08:20:00        403.000684  ...          35.980597   \n",
       "2016-05-10 08:30:00        403.000684  ...          33.797872   \n",
       "2016-05-10 15:40:00        403.578089  ...          33.567251   \n",
       "2016-05-10 23:40:00        403.000684  ...          35.167069   \n",
       "\n",
       "                     MLPAP_PIC-0761.PV  MLPAP_LRC-0729.PV  MLPAP_TIC-1721.PV  \\\n",
       "2016-05-10 08:10:00          49.114940          34.926437          62.161964   \n",
       "2016-05-10 08:20:00          49.137430          35.494560          62.267876   \n",
       "2016-05-10 08:30:00          49.135555          34.616724          62.465860   \n",
       "2016-05-10 15:40:00          49.169289          35.013840          62.394249   \n",
       "2016-05-10 23:40:00          49.143052          34.719328          62.322638   \n",
       "\n",
       "                     MLPAP_TRC-1734.PV  MLPAP_FR-0755.PV  MLPAP_FR-0791.PV  \\\n",
       "2016-05-10 08:10:00         181.607147          4.215451         13.177441   \n",
       "2016-05-10 08:20:00         181.084756          4.236381         13.231014   \n",
       "2016-05-10 08:30:00         177.599662          4.227079         13.221490   \n",
       "2016-05-10 15:40:00         178.771310          4.248009         15.014401   \n",
       "2016-05-10 23:40:00         182.122076          4.245102         15.637040   \n",
       "\n",
       "                     MLPAP_TIC-0757.PV  MLPAP_V125-PHD    target  \n",
       "2016-05-10 08:10:00           0.056350        0.054001  0.914110  \n",
       "2016-05-10 08:20:00           0.084738        0.054001  0.919733  \n",
       "2016-05-10 08:30:00           0.091835        0.054001  0.926436  \n",
       "2016-05-10 15:40:00           0.496363        0.054001  0.887063  \n",
       "2016-05-10 23:40:00           0.208935        0.054001  0.906869  \n",
       "\n",
       "[5 rows x 31 columns]"
      ]
     },
     "execution_count": 3,
     "metadata": {},
     "output_type": "execute_result"
    }
   ],
   "source": [
    "df = pd.read_csv('train_FeatureSelected.csv',index_col = 0,parse_dates = True)\n",
    "print(df.shape)\n",
    "df.head()"
   ]
  },
  {
   "cell_type": "markdown",
   "metadata": {},
   "source": [
    "# scale data"
   ]
  },
  {
   "cell_type": "code",
   "execution_count": 4,
   "metadata": {},
   "outputs": [
    {
     "data": {
      "text/html": [
       "<div>\n",
       "<style scoped>\n",
       "    .dataframe tbody tr th:only-of-type {\n",
       "        vertical-align: middle;\n",
       "    }\n",
       "\n",
       "    .dataframe tbody tr th {\n",
       "        vertical-align: top;\n",
       "    }\n",
       "\n",
       "    .dataframe thead th {\n",
       "        text-align: right;\n",
       "    }\n",
       "</style>\n",
       "<table border=\"1\" class=\"dataframe\">\n",
       "  <thead>\n",
       "    <tr style=\"text-align: right;\">\n",
       "      <th></th>\n",
       "      <th>MLPAP_TI-0706B02</th>\n",
       "      <th>MLPAP_TI-0706B03</th>\n",
       "      <th>MLPAP_TI-0706B08</th>\n",
       "      <th>MLPAP_TI-0706B09</th>\n",
       "      <th>MLPAP_TI-0706B10</th>\n",
       "      <th>MLPAP_TI-0706B11</th>\n",
       "      <th>MLPAP_TI-0706B12</th>\n",
       "      <th>MLPAP_TI-0706B22</th>\n",
       "      <th>MLPAP_TI-0706B24</th>\n",
       "      <th>MLPAP_TI-0716A09</th>\n",
       "      <th>...</th>\n",
       "      <th>MLPAP_LIC-0738.PV</th>\n",
       "      <th>MLPAP_PIC-0761.PV</th>\n",
       "      <th>MLPAP_LRC-0729.PV</th>\n",
       "      <th>MLPAP_TIC-1721.PV</th>\n",
       "      <th>MLPAP_TRC-1734.PV</th>\n",
       "      <th>MLPAP_FR-0755.PV</th>\n",
       "      <th>MLPAP_FR-0791.PV</th>\n",
       "      <th>MLPAP_TIC-0757.PV</th>\n",
       "      <th>MLPAP_V125-PHD</th>\n",
       "      <th>target</th>\n",
       "    </tr>\n",
       "  </thead>\n",
       "  <tbody>\n",
       "    <tr>\n",
       "      <th>2016-05-10 08:10:00</th>\n",
       "      <td>7.655708</td>\n",
       "      <td>4.017088</td>\n",
       "      <td>-0.666210</td>\n",
       "      <td>-1.013852</td>\n",
       "      <td>-0.838141</td>\n",
       "      <td>-0.201993</td>\n",
       "      <td>0.267130</td>\n",
       "      <td>3.121524</td>\n",
       "      <td>6.479327</td>\n",
       "      <td>0.060260</td>\n",
       "      <td>...</td>\n",
       "      <td>-1.116894</td>\n",
       "      <td>-1.251285</td>\n",
       "      <td>-0.719921</td>\n",
       "      <td>3.100628</td>\n",
       "      <td>0.613273</td>\n",
       "      <td>-2.539731</td>\n",
       "      <td>-7.835288</td>\n",
       "      <td>-1.012290</td>\n",
       "      <td>-0.080748</td>\n",
       "      <td>0.914110</td>\n",
       "    </tr>\n",
       "    <tr>\n",
       "      <th>2016-05-10 08:20:00</th>\n",
       "      <td>7.655708</td>\n",
       "      <td>4.023903</td>\n",
       "      <td>-0.666210</td>\n",
       "      <td>-1.013852</td>\n",
       "      <td>-0.838141</td>\n",
       "      <td>-0.201993</td>\n",
       "      <td>0.267130</td>\n",
       "      <td>3.121524</td>\n",
       "      <td>6.511294</td>\n",
       "      <td>0.060260</td>\n",
       "      <td>...</td>\n",
       "      <td>-0.916856</td>\n",
       "      <td>-1.103782</td>\n",
       "      <td>-0.625884</td>\n",
       "      <td>3.273966</td>\n",
       "      <td>0.450188</td>\n",
       "      <td>-2.534609</td>\n",
       "      <td>-7.810934</td>\n",
       "      <td>-0.980202</td>\n",
       "      <td>-0.080748</td>\n",
       "      <td>0.919733</td>\n",
       "    </tr>\n",
       "    <tr>\n",
       "      <th>2016-05-10 08:30:00</th>\n",
       "      <td>7.655708</td>\n",
       "      <td>4.034125</td>\n",
       "      <td>-0.666210</td>\n",
       "      <td>-1.013852</td>\n",
       "      <td>-0.838141</td>\n",
       "      <td>-0.201993</td>\n",
       "      <td>0.267130</td>\n",
       "      <td>3.121524</td>\n",
       "      <td>6.479327</td>\n",
       "      <td>0.060260</td>\n",
       "      <td>...</td>\n",
       "      <td>-1.259860</td>\n",
       "      <td>-1.116074</td>\n",
       "      <td>-0.771185</td>\n",
       "      <td>3.597990</td>\n",
       "      <td>-0.637818</td>\n",
       "      <td>-2.536886</td>\n",
       "      <td>-7.815264</td>\n",
       "      <td>-0.972180</td>\n",
       "      <td>-0.080748</td>\n",
       "      <td>0.926436</td>\n",
       "    </tr>\n",
       "    <tr>\n",
       "      <th>2016-05-10 15:40:00</th>\n",
       "      <td>7.603536</td>\n",
       "      <td>4.419159</td>\n",
       "      <td>-0.610910</td>\n",
       "      <td>-1.357456</td>\n",
       "      <td>-1.203144</td>\n",
       "      <td>-0.575276</td>\n",
       "      <td>-0.049713</td>\n",
       "      <td>2.643787</td>\n",
       "      <td>5.829322</td>\n",
       "      <td>0.166637</td>\n",
       "      <td>...</td>\n",
       "      <td>-1.296101</td>\n",
       "      <td>-0.894820</td>\n",
       "      <td>-0.705453</td>\n",
       "      <td>3.480790</td>\n",
       "      <td>-0.272043</td>\n",
       "      <td>-2.531764</td>\n",
       "      <td>-7.000228</td>\n",
       "      <td>-0.514927</td>\n",
       "      <td>-0.080748</td>\n",
       "      <td>0.887063</td>\n",
       "    </tr>\n",
       "    <tr>\n",
       "      <th>2016-05-10 23:40:00</th>\n",
       "      <td>7.471100</td>\n",
       "      <td>4.480492</td>\n",
       "      <td>-0.884898</td>\n",
       "      <td>-1.678153</td>\n",
       "      <td>-1.449261</td>\n",
       "      <td>-0.830029</td>\n",
       "      <td>-0.238978</td>\n",
       "      <td>2.325295</td>\n",
       "      <td>5.211284</td>\n",
       "      <td>0.060260</td>\n",
       "      <td>...</td>\n",
       "      <td>-1.044698</td>\n",
       "      <td>-1.066906</td>\n",
       "      <td>-0.754202</td>\n",
       "      <td>3.363590</td>\n",
       "      <td>0.774028</td>\n",
       "      <td>-2.532475</td>\n",
       "      <td>-6.717185</td>\n",
       "      <td>-0.839817</td>\n",
       "      <td>-0.080748</td>\n",
       "      <td>0.906869</td>\n",
       "    </tr>\n",
       "  </tbody>\n",
       "</table>\n",
       "<p>5 rows × 31 columns</p>\n",
       "</div>"
      ],
      "text/plain": [
       "                     MLPAP_TI-0706B02  MLPAP_TI-0706B03  MLPAP_TI-0706B08  \\\n",
       "2016-05-10 08:10:00          7.655708          4.017088         -0.666210   \n",
       "2016-05-10 08:20:00          7.655708          4.023903         -0.666210   \n",
       "2016-05-10 08:30:00          7.655708          4.034125         -0.666210   \n",
       "2016-05-10 15:40:00          7.603536          4.419159         -0.610910   \n",
       "2016-05-10 23:40:00          7.471100          4.480492         -0.884898   \n",
       "\n",
       "                     MLPAP_TI-0706B09  MLPAP_TI-0706B10  MLPAP_TI-0706B11  \\\n",
       "2016-05-10 08:10:00         -1.013852         -0.838141         -0.201993   \n",
       "2016-05-10 08:20:00         -1.013852         -0.838141         -0.201993   \n",
       "2016-05-10 08:30:00         -1.013852         -0.838141         -0.201993   \n",
       "2016-05-10 15:40:00         -1.357456         -1.203144         -0.575276   \n",
       "2016-05-10 23:40:00         -1.678153         -1.449261         -0.830029   \n",
       "\n",
       "                     MLPAP_TI-0706B12  MLPAP_TI-0706B22  MLPAP_TI-0706B24  \\\n",
       "2016-05-10 08:10:00          0.267130          3.121524          6.479327   \n",
       "2016-05-10 08:20:00          0.267130          3.121524          6.511294   \n",
       "2016-05-10 08:30:00          0.267130          3.121524          6.479327   \n",
       "2016-05-10 15:40:00         -0.049713          2.643787          5.829322   \n",
       "2016-05-10 23:40:00         -0.238978          2.325295          5.211284   \n",
       "\n",
       "                     MLPAP_TI-0716A09  ...  MLPAP_LIC-0738.PV  \\\n",
       "2016-05-10 08:10:00          0.060260  ...          -1.116894   \n",
       "2016-05-10 08:20:00          0.060260  ...          -0.916856   \n",
       "2016-05-10 08:30:00          0.060260  ...          -1.259860   \n",
       "2016-05-10 15:40:00          0.166637  ...          -1.296101   \n",
       "2016-05-10 23:40:00          0.060260  ...          -1.044698   \n",
       "\n",
       "                     MLPAP_PIC-0761.PV  MLPAP_LRC-0729.PV  MLPAP_TIC-1721.PV  \\\n",
       "2016-05-10 08:10:00          -1.251285          -0.719921           3.100628   \n",
       "2016-05-10 08:20:00          -1.103782          -0.625884           3.273966   \n",
       "2016-05-10 08:30:00          -1.116074          -0.771185           3.597990   \n",
       "2016-05-10 15:40:00          -0.894820          -0.705453           3.480790   \n",
       "2016-05-10 23:40:00          -1.066906          -0.754202           3.363590   \n",
       "\n",
       "                     MLPAP_TRC-1734.PV  MLPAP_FR-0755.PV  MLPAP_FR-0791.PV  \\\n",
       "2016-05-10 08:10:00           0.613273         -2.539731         -7.835288   \n",
       "2016-05-10 08:20:00           0.450188         -2.534609         -7.810934   \n",
       "2016-05-10 08:30:00          -0.637818         -2.536886         -7.815264   \n",
       "2016-05-10 15:40:00          -0.272043         -2.531764         -7.000228   \n",
       "2016-05-10 23:40:00           0.774028         -2.532475         -6.717185   \n",
       "\n",
       "                     MLPAP_TIC-0757.PV  MLPAP_V125-PHD    target  \n",
       "2016-05-10 08:10:00          -1.012290       -0.080748  0.914110  \n",
       "2016-05-10 08:20:00          -0.980202       -0.080748  0.919733  \n",
       "2016-05-10 08:30:00          -0.972180       -0.080748  0.926436  \n",
       "2016-05-10 15:40:00          -0.514927       -0.080748  0.887063  \n",
       "2016-05-10 23:40:00          -0.839817       -0.080748  0.906869  \n",
       "\n",
       "[5 rows x 31 columns]"
      ]
     },
     "execution_count": 4,
     "metadata": {},
     "output_type": "execute_result"
    }
   ],
   "source": [
    "from sklearn.preprocessing import StandardScaler\n",
    "\n",
    "x_col = df.drop('target',axis=1).columns.tolist()\n",
    "y_col = 'target'\n",
    "\n",
    "sc = StandardScaler()\n",
    "df[x_col] = sc.fit_transform(df[x_col])\n",
    "\n",
    "df.head()"
   ]
  },
  {
   "cell_type": "markdown",
   "metadata": {},
   "source": [
    "# stack time_step"
   ]
  },
  {
   "cell_type": "code",
   "execution_count": 5,
   "metadata": {},
   "outputs": [],
   "source": [
    "def train_windows(df, ref_day=6*6, predict_day=1):\n",
    "    X_train, Y_train, i_lst = [], [], []\n",
    "    for i in tqdm(range(df.shape[0]-predict_day-ref_day)):\n",
    "        X_train.append(np.array(df.iloc[i:i+ref_day][x_col]))\n",
    "        Y_train.append(np.array(df.iloc[i+ref_day:i+ref_day+predict_day][y_col]))\n",
    "        i_lst.append(df.iloc[i+ref_day:i+ref_day+predict_day].index[0])\n",
    "    return np.array(X_train), np.array(Y_train), i_lst"
   ]
  },
  {
   "cell_type": "code",
   "execution_count": 6,
   "metadata": {},
   "outputs": [
    {
     "name": "stderr",
     "output_type": "stream",
     "text": [
      "/workspace/conda/lib/python3.6/site-packages/ipykernel_launcher.py:3: TqdmDeprecationWarning: This function will be removed in tqdm==5.0.0\n",
      "Please use `tqdm.notebook.tqdm` instead of `tqdm.tqdm_notebook`\n",
      "  This is separate from the ipykernel package so we can avoid doing imports until\n"
     ]
    },
    {
     "data": {
      "application/vnd.jupyter.widget-view+json": {
       "model_id": "57954cefddee4531bc2f92e49b6d3f73",
       "version_major": 2,
       "version_minor": 0
      },
      "text/plain": [
       "HBox(children=(FloatProgress(value=0.0, max=130722.0), HTML(value='')))"
      ]
     },
     "metadata": {},
     "output_type": "display_data"
    },
    {
     "name": "stdout",
     "output_type": "stream",
     "text": [
      "\n",
      "130722 130722 130722\n"
     ]
    }
   ],
   "source": [
    "X, y, i_lst = train_windows(df, ref_day=72, predict_day=1)\n",
    "print(len(X),len(y),len(i_lst))"
   ]
  },
  {
   "cell_type": "code",
   "execution_count": 7,
   "metadata": {},
   "outputs": [
    {
     "name": "stdout",
     "output_type": "stream",
     "text": [
      "(130722, 72, 30) (130722, 1)\n"
     ]
    }
   ],
   "source": [
    "print(X.shape,y.shape)"
   ]
  },
  {
   "cell_type": "markdown",
   "metadata": {},
   "source": [
    "# split"
   ]
  },
  {
   "cell_type": "code",
   "execution_count": 8,
   "metadata": {},
   "outputs": [
    {
     "name": "stdout",
     "output_type": "stream",
     "text": [
      "(104636, 72, 30) (104636, 1)\n",
      "(13043, 72, 30) (13043, 1)\n",
      "(13043, 72, 30) (13043, 1)\n"
     ]
    }
   ],
   "source": [
    "y = pd.DataFrame(y,index=i_lst,columns=['y'])\n",
    "\n",
    "train_len = int(len(df)*0.8)\n",
    "\n",
    "X_train,X_val_test = X[:train_len],X[train_len:]\n",
    "y_train,y_val_test = y[:train_len],y[train_len:]\n",
    "\n",
    "val_len = int(len(X_val_test)*0.5)\n",
    "\n",
    "X_val,X_test = X_val_test[:val_len],X_val_test[val_len:]\n",
    "y_val,y_test = y_val_test[:val_len],y_val_test[val_len:]\n",
    "\n",
    "print(X_train.shape,y_train.shape)\n",
    "print(X_val.shape,y_val.shape)\n",
    "print(X_test.shape,y_test.shape)"
   ]
  },
  {
   "cell_type": "markdown",
   "metadata": {},
   "source": [
    "# LSTM MODEL(manyToOne1)"
   ]
  },
  {
   "cell_type": "code",
   "execution_count": 9,
   "metadata": {},
   "outputs": [
    {
     "name": "stderr",
     "output_type": "stream",
     "text": [
      "Using TensorFlow backend.\n",
      "/workspace/conda/lib/python3.6/site-packages/tensorflow/python/framework/dtypes.py:523: FutureWarning: Passing (type, 1) or '1type' as a synonym of type is deprecated; in a future version of numpy, it will be understood as (type, (1,)) / '(1,)type'.\n",
      "  _np_qint8 = np.dtype([(\"qint8\", np.int8, 1)])\n",
      "/workspace/conda/lib/python3.6/site-packages/tensorflow/python/framework/dtypes.py:524: FutureWarning: Passing (type, 1) or '1type' as a synonym of type is deprecated; in a future version of numpy, it will be understood as (type, (1,)) / '(1,)type'.\n",
      "  _np_quint8 = np.dtype([(\"quint8\", np.uint8, 1)])\n",
      "/workspace/conda/lib/python3.6/site-packages/tensorflow/python/framework/dtypes.py:525: FutureWarning: Passing (type, 1) or '1type' as a synonym of type is deprecated; in a future version of numpy, it will be understood as (type, (1,)) / '(1,)type'.\n",
      "  _np_qint16 = np.dtype([(\"qint16\", np.int16, 1)])\n",
      "/workspace/conda/lib/python3.6/site-packages/tensorflow/python/framework/dtypes.py:526: FutureWarning: Passing (type, 1) or '1type' as a synonym of type is deprecated; in a future version of numpy, it will be understood as (type, (1,)) / '(1,)type'.\n",
      "  _np_quint16 = np.dtype([(\"quint16\", np.uint16, 1)])\n",
      "/workspace/conda/lib/python3.6/site-packages/tensorflow/python/framework/dtypes.py:527: FutureWarning: Passing (type, 1) or '1type' as a synonym of type is deprecated; in a future version of numpy, it will be understood as (type, (1,)) / '(1,)type'.\n",
      "  _np_qint32 = np.dtype([(\"qint32\", np.int32, 1)])\n",
      "/workspace/conda/lib/python3.6/site-packages/tensorflow/python/framework/dtypes.py:532: FutureWarning: Passing (type, 1) or '1type' as a synonym of type is deprecated; in a future version of numpy, it will be understood as (type, (1,)) / '(1,)type'.\n",
      "  np_resource = np.dtype([(\"resource\", np.ubyte, 1)])\n"
     ]
    },
    {
     "name": "stdout",
     "output_type": "stream",
     "text": [
      "_________________________________________________________________\n",
      "Layer (type)                 Output Shape              Param #   \n",
      "=================================================================\n",
      "lstm_1 (LSTM)                (None, 72, 128)           81408     \n",
      "_________________________________________________________________\n",
      "lstm_2 (LSTM)                (None, 64)                49408     \n",
      "_________________________________________________________________\n",
      "dense_1 (Dense)              (None, 32)                2080      \n",
      "_________________________________________________________________\n",
      "dense_2 (Dense)              (None, 1)                 33        \n",
      "=================================================================\n",
      "Total params: 132,929\n",
      "Trainable params: 132,929\n",
      "Non-trainable params: 0\n",
      "_________________________________________________________________\n"
     ]
    }
   ],
   "source": [
    "from keras import backend as K\n",
    "from keras.models import Sequential\n",
    "from keras.layers import LSTM,TimeDistributed,Dense,Flatten\n",
    "from keras.optimizers import Adam\n",
    "import warnings;warnings.simplefilter('ignore')\n",
    "\n",
    "# define model\n",
    "def buildManyToOneModel(shape):\n",
    "    model = Sequential()\n",
    "    model.add(LSTM(128,return_sequences=True,input_shape=shape))\n",
    "    model.add(LSTM(64))\n",
    "    model.add(Dense(32))\n",
    "    model.add(Dense(1,kernel_initializer='uniform',activation='linear'))\n",
    "    model.compile(optimizer=Adam(lr=0.0001), loss=\"mse\", metrics=[\"mse\"])\n",
    "    model.summary()\n",
    "    return model\n",
    "\n",
    "# build model\n",
    "model = buildManyToOneModel(X_train[0].shape)"
   ]
  },
  {
   "cell_type": "markdown",
   "metadata": {},
   "source": [
    "# train model"
   ]
  },
  {
   "cell_type": "code",
   "execution_count": 10,
   "metadata": {},
   "outputs": [
    {
     "name": "stdout",
     "output_type": "stream",
     "text": [
      "Train on 104636 samples, validate on 13043 samples\n",
      "Epoch 1/10\n",
      "104636/104636 [==============================] - 79s 757us/step - loss: 0.0934 - mean_squared_error: 0.0934 - val_loss: 1.2458 - val_mean_squared_error: 1.2458\n",
      "Epoch 2/10\n",
      "104636/104636 [==============================] - 79s 751us/step - loss: 3.5099e-04 - mean_squared_error: 3.5099e-04 - val_loss: 0.8035 - val_mean_squared_error: 0.8035\n",
      "Epoch 3/10\n",
      "104636/104636 [==============================] - 75s 714us/step - loss: 1.3267e-04 - mean_squared_error: 1.3267e-04 - val_loss: 0.7553 - val_mean_squared_error: 0.7553\n",
      "Epoch 4/10\n",
      "104636/104636 [==============================] - 74s 709us/step - loss: 1.1052e-04 - mean_squared_error: 1.1052e-04 - val_loss: 0.7410 - val_mean_squared_error: 0.7410\n",
      "Epoch 5/10\n",
      "104636/104636 [==============================] - 73s 696us/step - loss: 1.0104e-04 - mean_squared_error: 1.0104e-04 - val_loss: 0.7389 - val_mean_squared_error: 0.7389\n",
      "Epoch 6/10\n",
      "104636/104636 [==============================] - 74s 709us/step - loss: 9.5607e-05 - mean_squared_error: 9.5607e-05 - val_loss: 0.7399 - val_mean_squared_error: 0.7399\n",
      "Epoch 7/10\n",
      "104636/104636 [==============================] - 74s 710us/step - loss: 9.1905e-05 - mean_squared_error: 9.1905e-05 - val_loss: 0.7430 - val_mean_squared_error: 0.7430\n",
      "Epoch 8/10\n",
      "104636/104636 [==============================] - 73s 702us/step - loss: 8.9162e-05 - mean_squared_error: 8.9162e-05 - val_loss: 0.7462 - val_mean_squared_error: 0.7462\n",
      "Epoch 9/10\n",
      "104636/104636 [==============================] - 72s 689us/step - loss: 8.7115e-05 - mean_squared_error: 8.7115e-05 - val_loss: 0.7517 - val_mean_squared_error: 0.7517\n",
      "Epoch 10/10\n",
      "104636/104636 [==============================] - 72s 690us/step - loss: 8.5568e-05 - mean_squared_error: 8.5568e-05 - val_loss: 0.7534 - val_mean_squared_error: 0.7534\n"
     ]
    }
   ],
   "source": [
    "history = model.fit(X_train,y_train,\n",
    "                    batch_size = 256,\n",
    "                    epochs = 10,\n",
    "                    validation_data = (X_val,y_val),\n",
    "                    verbose = 1)"
   ]
  },
  {
   "cell_type": "markdown",
   "metadata": {},
   "source": [
    "# evaluate model"
   ]
  },
  {
   "cell_type": "code",
   "execution_count": 11,
   "metadata": {},
   "outputs": [
    {
     "data": {
      "text/plain": [
       "<matplotlib.legend.Legend at 0x7ff07821a5f8>"
      ]
     },
     "execution_count": 11,
     "metadata": {},
     "output_type": "execute_result"
    },
    {
     "data": {
      "image/png": "[encoded data removed]",
      "text/plain": [
       "<Figure size 432x288 with 1 Axes>"
      ]
     },
     "metadata": {
      "needs_background": "light"
     },
     "output_type": "display_data"
    }
   ],
   "source": [
    "n = 0\n",
    "plt.plot(history.history['loss'][n:], color='b', label=\"Training loss\")\n",
    "plt.plot(history.history['val_loss'][n:], color='r', label=\"Validation loss\")\n",
    "plt.legend()"
   ]
  },
  {
   "cell_type": "markdown",
   "metadata": {},
   "source": [
    "# plot predict line"
   ]
  },
  {
   "cell_type": "code",
   "execution_count": 12,
   "metadata": {},
   "outputs": [],
   "source": [
    "from sklearn.metrics import r2_score,mean_squared_error\n",
    "from math import sqrt\n",
    "\n",
    "def mape(y_true, y_pred): \n",
    "    y_true, y_pred = np.array(y_true), np.array(y_pred)\n",
    "    return np.mean(np.abs((y_true - y_pred) / y_true)) * 100\n",
    "\n",
    "def metric(y_true,y_pred,name):\n",
    "    t = pd.DataFrame(index=[name])\n",
    "    t['r2'] = r2_score(y_true,y_pred)\n",
    "    t['rmse'] = sqrt(mean_squared_error(y_true,y_pred))\n",
    "    t['mape'] = mape(y_true,y_pred)\n",
    "    t = t.apply(lambda x:round(x,4))\n",
    "    return t"
   ]
  },
  {
   "cell_type": "code",
   "execution_count": 13,
   "metadata": {},
   "outputs": [
    {
     "data": {
      "image/png": "[encoded data removed]",
      "text/plain": [
       "<Figure size 432x288 with 1 Axes>"
      ]
     },
     "metadata": {
      "needs_background": "light"
     },
     "output_type": "display_data"
    },
    {
     "data": {
      "text/html": [
       "<div>\n",
       "<style scoped>\n",
       "    .dataframe tbody tr th:only-of-type {\n",
       "        vertical-align: middle;\n",
       "    }\n",
       "\n",
       "    .dataframe tbody tr th {\n",
       "        vertical-align: top;\n",
       "    }\n",
       "\n",
       "    .dataframe thead th {\n",
       "        text-align: right;\n",
       "    }\n",
       "</style>\n",
       "<table border=\"1\" class=\"dataframe\">\n",
       "  <thead>\n",
       "    <tr style=\"text-align: right;\">\n",
       "      <th></th>\n",
       "      <th>r2</th>\n",
       "      <th>rmse</th>\n",
       "      <th>mape</th>\n",
       "    </tr>\n",
       "  </thead>\n",
       "  <tbody>\n",
       "    <tr>\n",
       "      <th>train</th>\n",
       "      <td>0.2186</td>\n",
       "      <td>0.0093</td>\n",
       "      <td>0.7894</td>\n",
       "    </tr>\n",
       "  </tbody>\n",
       "</table>\n",
       "</div>"
      ],
      "text/plain": [
       "           r2    rmse    mape\n",
       "train  0.2186  0.0093  0.7894"
      ]
     },
     "execution_count": 13,
     "metadata": {},
     "output_type": "execute_result"
    }
   ],
   "source": [
    "from sklearn.metrics import r2_score,mean_squared_error\n",
    "from math import sqrt\n",
    "\n",
    "# predict\n",
    "y_pred = model.predict(X_train).ravel()\n",
    "y_pred = pd.DataFrame(y_pred,index=y_train.index,columns=['y_pred'])\n",
    "\n",
    "# sort index\n",
    "y_pred = y_pred.sort_index()\n",
    "y_train = y_train.sort_index()\n",
    "\n",
    "# plot\n",
    "plot_data = pd.concat([y_pred,y_train],axis=1)\n",
    "plot_data.rolling(6*24*15).mean().plot()\n",
    "plt.show()\n",
    "\n",
    "# score\n",
    "metric(y_train,y_pred,'train')"
   ]
  },
  {
   "cell_type": "code",
   "execution_count": 14,
   "metadata": {},
   "outputs": [
    {
     "data": {
      "image/png": "[encoded data removed]",
      "text/plain": [
       "<Figure size 432x288 with 1 Axes>"
      ]
     },
     "metadata": {
      "needs_background": "light"
     },
     "output_type": "display_data"
    },
    {
     "data": {
      "text/html": [
       "<div>\n",
       "<style scoped>\n",
       "    .dataframe tbody tr th:only-of-type {\n",
       "        vertical-align: middle;\n",
       "    }\n",
       "\n",
       "    .dataframe tbody tr th {\n",
       "        vertical-align: top;\n",
       "    }\n",
       "\n",
       "    .dataframe thead th {\n",
       "        text-align: right;\n",
       "    }\n",
       "</style>\n",
       "<table border=\"1\" class=\"dataframe\">\n",
       "  <thead>\n",
       "    <tr style=\"text-align: right;\">\n",
       "      <th></th>\n",
       "      <th>r2</th>\n",
       "      <th>rmse</th>\n",
       "      <th>mape</th>\n",
       "    </tr>\n",
       "  </thead>\n",
       "  <tbody>\n",
       "    <tr>\n",
       "      <th>test</th>\n",
       "      <td>-11625.3219</td>\n",
       "      <td>1.0572</td>\n",
       "      <td>114.1482</td>\n",
       "    </tr>\n",
       "  </tbody>\n",
       "</table>\n",
       "</div>"
      ],
      "text/plain": [
       "              r2    rmse      mape\n",
       "test -11625.3219  1.0572  114.1482"
      ]
     },
     "execution_count": 14,
     "metadata": {},
     "output_type": "execute_result"
    }
   ],
   "source": [
    "from sklearn.metrics import r2_score,mean_squared_error\n",
    "\n",
    "# predict\n",
    "y_pred = model.predict(X_test).ravel()\n",
    "y_pred = pd.DataFrame(y_pred,index=y_test.index,columns=['y_pred'])\n",
    "\n",
    "# sort index\n",
    "y_pred = y_pred.sort_index()\n",
    "y_test = y_test.sort_index()\n",
    "\n",
    "# plot\n",
    "plot_data = pd.concat([y_pred,y_test],axis=1)\n",
    "plot_data.rolling(6*24*15).mean().plot()\n",
    "plt.show()\n",
    "\n",
    "# score\n",
    "metric(y_test,y_pred,'test')"
   ]
  },
  {
   "cell_type": "code",
   "execution_count": null,
   "metadata": {},
   "outputs": [],
   "source": []
  }
 ],
 "metadata": {
  "kernelspec": {
   "display_name": "Python 3",
   "language": "python",
   "name": "python3"
  },
  "language_info": {
   "codemirror_mode": {
    "name": "ipython",
    "version": 3
   },
   "file_extension": ".py",
   "mimetype": "text/x-python",
   "name": "python",
   "nbconvert_exporter": "python",
   "pygments_lexer": "ipython3",
   "version": "3.6.9"
  }
 },
 "nbformat": 4,
 "nbformat_minor": 2
}
