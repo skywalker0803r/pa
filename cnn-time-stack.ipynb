{
 "cells": [
  {
   "cell_type": "markdown",
   "metadata": {},
   "source": [
    "## import os "
   ]
  },
  {
   "cell_type": "code",
   "execution_count": 1,
   "metadata": {},
   "outputs": [
    {
     "data": {
      "text/plain": [
       "['second_model.ipynb',\n",
       " 'train.csv',\n",
       " 'DataCleaning.ipynb',\n",
       " 'EDA.ipynb',\n",
       " 'PA_201605-2012001更新R6(20190509).xlsx',\n",
       " 'tag盤點表.xlsx',\n",
       " 'xgboost.ipynb',\n",
       " 'LSTM.ipynb',\n",
       " 'train_FeatureSelected.csv',\n",
       " 'feature select.ipynb',\n",
       " 'tpot_pa_pipeline.py',\n",
       " 'TPOT.ipynb',\n",
       " 'three_model.ipynb',\n",
       " 'cnn-time-stack.ipynb',\n",
       " '.ipynb_checkpoints']"
      ]
     },
     "execution_count": 1,
     "metadata": {},
     "output_type": "execute_result"
    }
   ],
   "source": [
    "import os\n",
    "os.listdir()"
   ]
  },
  {
   "cell_type": "code",
   "execution_count": 2,
   "metadata": {},
   "outputs": [],
   "source": [
    "import pandas as pd\n",
    "import matplotlib.pyplot as plt\n",
    "import matplotlib.image as mpimg\n",
    "import numpy as np\n",
    "import seaborn as sns\n",
    "from tqdm import tqdm_notebook as tqdm"
   ]
  },
  {
   "cell_type": "markdown",
   "metadata": {},
   "source": [
    "# load"
   ]
  },
  {
   "cell_type": "code",
   "execution_count": 3,
   "metadata": {},
   "outputs": [
    {
     "name": "stdout",
     "output_type": "stream",
     "text": [
      "(130795, 31)\n"
     ]
    },
    {
     "data": {
      "text/html": [
       "<div>\n",
       "<style scoped>\n",
       "    .dataframe tbody tr th:only-of-type {\n",
       "        vertical-align: middle;\n",
       "    }\n",
       "\n",
       "    .dataframe tbody tr th {\n",
       "        vertical-align: top;\n",
       "    }\n",
       "\n",
       "    .dataframe thead th {\n",
       "        text-align: right;\n",
       "    }\n",
       "</style>\n",
       "<table border=\"1\" class=\"dataframe\">\n",
       "  <thead>\n",
       "    <tr style=\"text-align: right;\">\n",
       "      <th></th>\n",
       "      <th>MLPAP_TI-0706B02</th>\n",
       "      <th>MLPAP_TI-0706B03</th>\n",
       "      <th>MLPAP_TI-0706B08</th>\n",
       "      <th>MLPAP_TI-0706B09</th>\n",
       "      <th>MLPAP_TI-0706B10</th>\n",
       "      <th>MLPAP_TI-0706B11</th>\n",
       "      <th>MLPAP_TI-0706B12</th>\n",
       "      <th>MLPAP_TI-0706B22</th>\n",
       "      <th>MLPAP_TI-0706B24</th>\n",
       "      <th>MLPAP_TI-0716A09</th>\n",
       "      <th>...</th>\n",
       "      <th>MLPAP_LIC-0738.PV</th>\n",
       "      <th>MLPAP_PIC-0761.PV</th>\n",
       "      <th>MLPAP_LRC-0729.PV</th>\n",
       "      <th>MLPAP_TIC-1721.PV</th>\n",
       "      <th>MLPAP_TRC-1734.PV</th>\n",
       "      <th>MLPAP_FR-0755.PV</th>\n",
       "      <th>MLPAP_FR-0791.PV</th>\n",
       "      <th>MLPAP_TIC-0757.PV</th>\n",
       "      <th>MLPAP_V125-PHD</th>\n",
       "      <th>target</th>\n",
       "    </tr>\n",
       "  </thead>\n",
       "  <tbody>\n",
       "    <tr>\n",
       "      <th>2016-05-10 08:10:00</th>\n",
       "      <td>421.996112</td>\n",
       "      <td>424.995929</td>\n",
       "      <td>398.999278</td>\n",
       "      <td>397.000005</td>\n",
       "      <td>394.002688</td>\n",
       "      <td>391.997199</td>\n",
       "      <td>391.004787</td>\n",
       "      <td>392.001755</td>\n",
       "      <td>392.004498</td>\n",
       "      <td>403.000684</td>\n",
       "      <td>...</td>\n",
       "      <td>34.707643</td>\n",
       "      <td>49.114940</td>\n",
       "      <td>34.926437</td>\n",
       "      <td>62.161964</td>\n",
       "      <td>181.607147</td>\n",
       "      <td>4.215451</td>\n",
       "      <td>13.177441</td>\n",
       "      <td>0.056350</td>\n",
       "      <td>0.054001</td>\n",
       "      <td>0.914110</td>\n",
       "    </tr>\n",
       "    <tr>\n",
       "      <th>2016-05-10 08:20:00</th>\n",
       "      <td>421.996112</td>\n",
       "      <td>425.041541</td>\n",
       "      <td>398.999278</td>\n",
       "      <td>397.000005</td>\n",
       "      <td>394.002688</td>\n",
       "      <td>391.997199</td>\n",
       "      <td>391.004787</td>\n",
       "      <td>392.001755</td>\n",
       "      <td>392.100484</td>\n",
       "      <td>403.000684</td>\n",
       "      <td>...</td>\n",
       "      <td>35.980597</td>\n",
       "      <td>49.137430</td>\n",
       "      <td>35.494560</td>\n",
       "      <td>62.267876</td>\n",
       "      <td>181.084756</td>\n",
       "      <td>4.236381</td>\n",
       "      <td>13.231014</td>\n",
       "      <td>0.084738</td>\n",
       "      <td>0.054001</td>\n",
       "      <td>0.919733</td>\n",
       "    </tr>\n",
       "    <tr>\n",
       "      <th>2016-05-10 08:30:00</th>\n",
       "      <td>421.996112</td>\n",
       "      <td>425.109958</td>\n",
       "      <td>398.999278</td>\n",
       "      <td>397.000005</td>\n",
       "      <td>394.002688</td>\n",
       "      <td>391.997199</td>\n",
       "      <td>391.004787</td>\n",
       "      <td>392.001755</td>\n",
       "      <td>392.004498</td>\n",
       "      <td>403.000684</td>\n",
       "      <td>...</td>\n",
       "      <td>33.797872</td>\n",
       "      <td>49.135555</td>\n",
       "      <td>34.616724</td>\n",
       "      <td>62.465860</td>\n",
       "      <td>177.599662</td>\n",
       "      <td>4.227079</td>\n",
       "      <td>13.221490</td>\n",
       "      <td>0.091835</td>\n",
       "      <td>0.054001</td>\n",
       "      <td>0.926436</td>\n",
       "    </tr>\n",
       "    <tr>\n",
       "      <th>2016-05-10 15:40:00</th>\n",
       "      <td>421.715731</td>\n",
       "      <td>427.687003</td>\n",
       "      <td>399.252972</td>\n",
       "      <td>395.446261</td>\n",
       "      <td>392.002989</td>\n",
       "      <td>389.622951</td>\n",
       "      <td>388.497742</td>\n",
       "      <td>390.200259</td>\n",
       "      <td>390.052790</td>\n",
       "      <td>403.578089</td>\n",
       "      <td>...</td>\n",
       "      <td>33.567251</td>\n",
       "      <td>49.169289</td>\n",
       "      <td>35.013840</td>\n",
       "      <td>62.394249</td>\n",
       "      <td>178.771310</td>\n",
       "      <td>4.248009</td>\n",
       "      <td>15.014401</td>\n",
       "      <td>0.496363</td>\n",
       "      <td>0.054001</td>\n",
       "      <td>0.887063</td>\n",
       "    </tr>\n",
       "    <tr>\n",
       "      <th>2016-05-10 23:40:00</th>\n",
       "      <td>421.003993</td>\n",
       "      <td>428.097506</td>\n",
       "      <td>397.996033</td>\n",
       "      <td>393.996100</td>\n",
       "      <td>390.654621</td>\n",
       "      <td>388.002611</td>\n",
       "      <td>387.000171</td>\n",
       "      <td>388.999261</td>\n",
       "      <td>388.197068</td>\n",
       "      <td>403.000684</td>\n",
       "      <td>...</td>\n",
       "      <td>35.167069</td>\n",
       "      <td>49.143052</td>\n",
       "      <td>34.719328</td>\n",
       "      <td>62.322638</td>\n",
       "      <td>182.122076</td>\n",
       "      <td>4.245102</td>\n",
       "      <td>15.637040</td>\n",
       "      <td>0.208935</td>\n",
       "      <td>0.054001</td>\n",
       "      <td>0.906869</td>\n",
       "    </tr>\n",
       "  </tbody>\n",
       "</table>\n",
       "<p>5 rows × 31 columns</p>\n",
       "</div>"
      ],
      "text/plain": [
       "                     MLPAP_TI-0706B02  MLPAP_TI-0706B03  MLPAP_TI-0706B08  \\\n",
       "2016-05-10 08:10:00        421.996112        424.995929        398.999278   \n",
       "2016-05-10 08:20:00        421.996112        425.041541        398.999278   \n",
       "2016-05-10 08:30:00        421.996112        425.109958        398.999278   \n",
       "2016-05-10 15:40:00        421.715731        427.687003        399.252972   \n",
       "2016-05-10 23:40:00        421.003993        428.097506        397.996033   \n",
       "\n",
       "                     MLPAP_TI-0706B09  MLPAP_TI-0706B10  MLPAP_TI-0706B11  \\\n",
       "2016-05-10 08:10:00        397.000005        394.002688        391.997199   \n",
       "2016-05-10 08:20:00        397.000005        394.002688        391.997199   \n",
       "2016-05-10 08:30:00        397.000005        394.002688        391.997199   \n",
       "2016-05-10 15:40:00        395.446261        392.002989        389.622951   \n",
       "2016-05-10 23:40:00        393.996100        390.654621        388.002611   \n",
       "\n",
       "                     MLPAP_TI-0706B12  MLPAP_TI-0706B22  MLPAP_TI-0706B24  \\\n",
       "2016-05-10 08:10:00        391.004787        392.001755        392.004498   \n",
       "2016-05-10 08:20:00        391.004787        392.001755        392.100484   \n",
       "2016-05-10 08:30:00        391.004787        392.001755        392.004498   \n",
       "2016-05-10 15:40:00        388.497742        390.200259        390.052790   \n",
       "2016-05-10 23:40:00        387.000171        388.999261        388.197068   \n",
       "\n",
       "                     MLPAP_TI-0716A09  ...  MLPAP_LIC-0738.PV  \\\n",
       "2016-05-10 08:10:00        403.000684  ...          34.707643   \n",
       "2016-05-10 08:20:00        403.000684  ...          35.980597   \n",
       "2016-05-10 08:30:00        403.000684  ...          33.797872   \n",
       "2016-05-10 15:40:00        403.578089  ...          33.567251   \n",
       "2016-05-10 23:40:00        403.000684  ...          35.167069   \n",
       "\n",
       "                     MLPAP_PIC-0761.PV  MLPAP_LRC-0729.PV  MLPAP_TIC-1721.PV  \\\n",
       "2016-05-10 08:10:00          49.114940          34.926437          62.161964   \n",
       "2016-05-10 08:20:00          49.137430          35.494560          62.267876   \n",
       "2016-05-10 08:30:00          49.135555          34.616724          62.465860   \n",
       "2016-05-10 15:40:00          49.169289          35.013840          62.394249   \n",
       "2016-05-10 23:40:00          49.143052          34.719328          62.322638   \n",
       "\n",
       "                     MLPAP_TRC-1734.PV  MLPAP_FR-0755.PV  MLPAP_FR-0791.PV  \\\n",
       "2016-05-10 08:10:00         181.607147          4.215451         13.177441   \n",
       "2016-05-10 08:20:00         181.084756          4.236381         13.231014   \n",
       "2016-05-10 08:30:00         177.599662          4.227079         13.221490   \n",
       "2016-05-10 15:40:00         178.771310          4.248009         15.014401   \n",
       "2016-05-10 23:40:00         182.122076          4.245102         15.637040   \n",
       "\n",
       "                     MLPAP_TIC-0757.PV  MLPAP_V125-PHD    target  \n",
       "2016-05-10 08:10:00           0.056350        0.054001  0.914110  \n",
       "2016-05-10 08:20:00           0.084738        0.054001  0.919733  \n",
       "2016-05-10 08:30:00           0.091835        0.054001  0.926436  \n",
       "2016-05-10 15:40:00           0.496363        0.054001  0.887063  \n",
       "2016-05-10 23:40:00           0.208935        0.054001  0.906869  \n",
       "\n",
       "[5 rows x 31 columns]"
      ]
     },
     "execution_count": 3,
     "metadata": {},
     "output_type": "execute_result"
    }
   ],
   "source": [
    "df = pd.read_csv('train_FeatureSelected.csv',index_col = 0,parse_dates = True)\n",
    "print(df.shape)\n",
    "df.head()"
   ]
  },
  {
   "cell_type": "markdown",
   "metadata": {},
   "source": [
    "# scale"
   ]
  },
  {
   "cell_type": "code",
   "execution_count": 4,
   "metadata": {},
   "outputs": [
    {
     "data": {
      "text/html": [
       "<div>\n",
       "<style scoped>\n",
       "    .dataframe tbody tr th:only-of-type {\n",
       "        vertical-align: middle;\n",
       "    }\n",
       "\n",
       "    .dataframe tbody tr th {\n",
       "        vertical-align: top;\n",
       "    }\n",
       "\n",
       "    .dataframe thead th {\n",
       "        text-align: right;\n",
       "    }\n",
       "</style>\n",
       "<table border=\"1\" class=\"dataframe\">\n",
       "  <thead>\n",
       "    <tr style=\"text-align: right;\">\n",
       "      <th></th>\n",
       "      <th>MLPAP_TI-0706B02</th>\n",
       "      <th>MLPAP_TI-0706B03</th>\n",
       "      <th>MLPAP_TI-0706B08</th>\n",
       "      <th>MLPAP_TI-0706B09</th>\n",
       "      <th>MLPAP_TI-0706B10</th>\n",
       "      <th>MLPAP_TI-0706B11</th>\n",
       "      <th>MLPAP_TI-0706B12</th>\n",
       "      <th>MLPAP_TI-0706B22</th>\n",
       "      <th>MLPAP_TI-0706B24</th>\n",
       "      <th>MLPAP_TI-0716A09</th>\n",
       "      <th>...</th>\n",
       "      <th>MLPAP_LIC-0738.PV</th>\n",
       "      <th>MLPAP_PIC-0761.PV</th>\n",
       "      <th>MLPAP_LRC-0729.PV</th>\n",
       "      <th>MLPAP_TIC-1721.PV</th>\n",
       "      <th>MLPAP_TRC-1734.PV</th>\n",
       "      <th>MLPAP_FR-0755.PV</th>\n",
       "      <th>MLPAP_FR-0791.PV</th>\n",
       "      <th>MLPAP_TIC-0757.PV</th>\n",
       "      <th>MLPAP_V125-PHD</th>\n",
       "      <th>target</th>\n",
       "    </tr>\n",
       "  </thead>\n",
       "  <tbody>\n",
       "    <tr>\n",
       "      <th>2016-05-10 08:10:00</th>\n",
       "      <td>1.000000</td>\n",
       "      <td>0.959951</td>\n",
       "      <td>0.762128</td>\n",
       "      <td>0.801765</td>\n",
       "      <td>0.803969</td>\n",
       "      <td>0.850864</td>\n",
       "      <td>0.879250</td>\n",
       "      <td>1.000000</td>\n",
       "      <td>0.998497</td>\n",
       "      <td>0.807452</td>\n",
       "      <td>...</td>\n",
       "      <td>0.330309</td>\n",
       "      <td>0.785204</td>\n",
       "      <td>0.501066</td>\n",
       "      <td>0.564377</td>\n",
       "      <td>0.517175</td>\n",
       "      <td>0.091985</td>\n",
       "      <td>0.057702</td>\n",
       "      <td>0.909629</td>\n",
       "      <td>0.145166</td>\n",
       "      <td>0.914110</td>\n",
       "    </tr>\n",
       "    <tr>\n",
       "      <th>2016-05-10 08:20:00</th>\n",
       "      <td>1.000000</td>\n",
       "      <td>0.960438</td>\n",
       "      <td>0.762128</td>\n",
       "      <td>0.801765</td>\n",
       "      <td>0.803969</td>\n",
       "      <td>0.850864</td>\n",
       "      <td>0.879250</td>\n",
       "      <td>1.000000</td>\n",
       "      <td>1.000000</td>\n",
       "      <td>0.807452</td>\n",
       "      <td>...</td>\n",
       "      <td>0.342830</td>\n",
       "      <td>0.792992</td>\n",
       "      <td>0.509454</td>\n",
       "      <td>0.572779</td>\n",
       "      <td>0.504608</td>\n",
       "      <td>0.092991</td>\n",
       "      <td>0.059449</td>\n",
       "      <td>0.910392</td>\n",
       "      <td>0.145166</td>\n",
       "      <td>0.919733</td>\n",
       "    </tr>\n",
       "    <tr>\n",
       "      <th>2016-05-10 08:30:00</th>\n",
       "      <td>1.000000</td>\n",
       "      <td>0.961169</td>\n",
       "      <td>0.762128</td>\n",
       "      <td>0.801765</td>\n",
       "      <td>0.803969</td>\n",
       "      <td>0.850864</td>\n",
       "      <td>0.879250</td>\n",
       "      <td>1.000000</td>\n",
       "      <td>0.998497</td>\n",
       "      <td>0.807452</td>\n",
       "      <td>...</td>\n",
       "      <td>0.321360</td>\n",
       "      <td>0.792343</td>\n",
       "      <td>0.496493</td>\n",
       "      <td>0.588485</td>\n",
       "      <td>0.420766</td>\n",
       "      <td>0.092544</td>\n",
       "      <td>0.059139</td>\n",
       "      <td>0.910583</td>\n",
       "      <td>0.145166</td>\n",
       "      <td>0.926436</td>\n",
       "    </tr>\n",
       "    <tr>\n",
       "      <th>2016-05-10 15:40:00</th>\n",
       "      <td>0.996931</td>\n",
       "      <td>0.988679</td>\n",
       "      <td>0.765160</td>\n",
       "      <td>0.781226</td>\n",
       "      <td>0.775964</td>\n",
       "      <td>0.815467</td>\n",
       "      <td>0.841400</td>\n",
       "      <td>0.970583</td>\n",
       "      <td>0.967931</td>\n",
       "      <td>0.814403</td>\n",
       "      <td>...</td>\n",
       "      <td>0.319091</td>\n",
       "      <td>0.804023</td>\n",
       "      <td>0.502357</td>\n",
       "      <td>0.582804</td>\n",
       "      <td>0.448953</td>\n",
       "      <td>0.093549</td>\n",
       "      <td>0.117617</td>\n",
       "      <td>0.921462</td>\n",
       "      <td>0.145166</td>\n",
       "      <td>0.887063</td>\n",
       "    </tr>\n",
       "    <tr>\n",
       "      <th>2016-05-10 23:40:00</th>\n",
       "      <td>0.989139</td>\n",
       "      <td>0.993061</td>\n",
       "      <td>0.750138</td>\n",
       "      <td>0.762057</td>\n",
       "      <td>0.757081</td>\n",
       "      <td>0.791310</td>\n",
       "      <td>0.818791</td>\n",
       "      <td>0.950972</td>\n",
       "      <td>0.938868</td>\n",
       "      <td>0.807452</td>\n",
       "      <td>...</td>\n",
       "      <td>0.334828</td>\n",
       "      <td>0.794938</td>\n",
       "      <td>0.498008</td>\n",
       "      <td>0.577123</td>\n",
       "      <td>0.529563</td>\n",
       "      <td>0.093410</td>\n",
       "      <td>0.137926</td>\n",
       "      <td>0.913732</td>\n",
       "      <td>0.145166</td>\n",
       "      <td>0.906869</td>\n",
       "    </tr>\n",
       "  </tbody>\n",
       "</table>\n",
       "<p>5 rows × 31 columns</p>\n",
       "</div>"
      ],
      "text/plain": [
       "                     MLPAP_TI-0706B02  MLPAP_TI-0706B03  MLPAP_TI-0706B08  \\\n",
       "2016-05-10 08:10:00          1.000000          0.959951          0.762128   \n",
       "2016-05-10 08:20:00          1.000000          0.960438          0.762128   \n",
       "2016-05-10 08:30:00          1.000000          0.961169          0.762128   \n",
       "2016-05-10 15:40:00          0.996931          0.988679          0.765160   \n",
       "2016-05-10 23:40:00          0.989139          0.993061          0.750138   \n",
       "\n",
       "                     MLPAP_TI-0706B09  MLPAP_TI-0706B10  MLPAP_TI-0706B11  \\\n",
       "2016-05-10 08:10:00          0.801765          0.803969          0.850864   \n",
       "2016-05-10 08:20:00          0.801765          0.803969          0.850864   \n",
       "2016-05-10 08:30:00          0.801765          0.803969          0.850864   \n",
       "2016-05-10 15:40:00          0.781226          0.775964          0.815467   \n",
       "2016-05-10 23:40:00          0.762057          0.757081          0.791310   \n",
       "\n",
       "                     MLPAP_TI-0706B12  MLPAP_TI-0706B22  MLPAP_TI-0706B24  \\\n",
       "2016-05-10 08:10:00          0.879250          1.000000          0.998497   \n",
       "2016-05-10 08:20:00          0.879250          1.000000          1.000000   \n",
       "2016-05-10 08:30:00          0.879250          1.000000          0.998497   \n",
       "2016-05-10 15:40:00          0.841400          0.970583          0.967931   \n",
       "2016-05-10 23:40:00          0.818791          0.950972          0.938868   \n",
       "\n",
       "                     MLPAP_TI-0716A09  ...  MLPAP_LIC-0738.PV  \\\n",
       "2016-05-10 08:10:00          0.807452  ...           0.330309   \n",
       "2016-05-10 08:20:00          0.807452  ...           0.342830   \n",
       "2016-05-10 08:30:00          0.807452  ...           0.321360   \n",
       "2016-05-10 15:40:00          0.814403  ...           0.319091   \n",
       "2016-05-10 23:40:00          0.807452  ...           0.334828   \n",
       "\n",
       "                     MLPAP_PIC-0761.PV  MLPAP_LRC-0729.PV  MLPAP_TIC-1721.PV  \\\n",
       "2016-05-10 08:10:00           0.785204           0.501066           0.564377   \n",
       "2016-05-10 08:20:00           0.792992           0.509454           0.572779   \n",
       "2016-05-10 08:30:00           0.792343           0.496493           0.588485   \n",
       "2016-05-10 15:40:00           0.804023           0.502357           0.582804   \n",
       "2016-05-10 23:40:00           0.794938           0.498008           0.577123   \n",
       "\n",
       "                     MLPAP_TRC-1734.PV  MLPAP_FR-0755.PV  MLPAP_FR-0791.PV  \\\n",
       "2016-05-10 08:10:00           0.517175          0.091985          0.057702   \n",
       "2016-05-10 08:20:00           0.504608          0.092991          0.059449   \n",
       "2016-05-10 08:30:00           0.420766          0.092544          0.059139   \n",
       "2016-05-10 15:40:00           0.448953          0.093549          0.117617   \n",
       "2016-05-10 23:40:00           0.529563          0.093410          0.137926   \n",
       "\n",
       "                     MLPAP_TIC-0757.PV  MLPAP_V125-PHD    target  \n",
       "2016-05-10 08:10:00           0.909629        0.145166  0.914110  \n",
       "2016-05-10 08:20:00           0.910392        0.145166  0.919733  \n",
       "2016-05-10 08:30:00           0.910583        0.145166  0.926436  \n",
       "2016-05-10 15:40:00           0.921462        0.145166  0.887063  \n",
       "2016-05-10 23:40:00           0.913732        0.145166  0.906869  \n",
       "\n",
       "[5 rows x 31 columns]"
      ]
     },
     "execution_count": 4,
     "metadata": {},
     "output_type": "execute_result"
    }
   ],
   "source": [
    "from sklearn.preprocessing import MinMaxScaler\n",
    "\n",
    "x_col = df.drop('target',axis=1).columns.tolist()\n",
    "y_col = 'target'\n",
    "\n",
    "sc = MinMaxScaler()\n",
    "df[x_col] = sc.fit_transform(df[x_col])\n",
    "\n",
    "df.head()"
   ]
  },
  {
   "cell_type": "markdown",
   "metadata": {},
   "source": [
    "# stack"
   ]
  },
  {
   "cell_type": "code",
   "execution_count": 5,
   "metadata": {},
   "outputs": [],
   "source": [
    "def train_windows(df, ref_day=15, predict_day=1):\n",
    "    X_train, Y_train, i_lst = [], [], []\n",
    "    for i in tqdm(range(df.shape[0]-predict_day-ref_day)):\n",
    "        X_train.append(np.array(df.iloc[i:i+ref_day][x_col]))\n",
    "        Y_train.append(np.array(df.iloc[i+ref_day:i+ref_day+predict_day][y_col]))\n",
    "        i_lst.append(df.iloc[i+ref_day:i+ref_day+predict_day].index[0])\n",
    "    return np.array(X_train), np.array(Y_train), i_lst"
   ]
  },
  {
   "cell_type": "code",
   "execution_count": 6,
   "metadata": {},
   "outputs": [
    {
     "name": "stderr",
     "output_type": "stream",
     "text": [
      "/workspace/conda/lib/python3.6/site-packages/ipykernel_launcher.py:3: TqdmDeprecationWarning: This function will be removed in tqdm==5.0.0\n",
      "Please use `tqdm.notebook.tqdm` instead of `tqdm.tqdm_notebook`\n",
      "  This is separate from the ipykernel package so we can avoid doing imports until\n"
     ]
    },
    {
     "data": {
      "application/vnd.jupyter.widget-view+json": {
       "model_id": "de5c787385254ff0955d571c04e093e3",
       "version_major": 2,
       "version_minor": 0
      },
      "text/plain": [
       "HBox(children=(FloatProgress(value=0.0, max=130764.0), HTML(value='')))"
      ]
     },
     "metadata": {},
     "output_type": "display_data"
    },
    {
     "name": "stdout",
     "output_type": "stream",
     "text": [
      "\n",
      "130764 130764 130764\n"
     ]
    }
   ],
   "source": [
    "X, y, i_lst = train_windows(df, ref_day=30, predict_day=1)\n",
    "print(len(X),len(y),len(i_lst))"
   ]
  },
  {
   "cell_type": "code",
   "execution_count": 7,
   "metadata": {},
   "outputs": [
    {
     "data": {
      "text/plain": [
       "2016-05-13 14:20:00    0.894376\n",
       "2016-05-13 15:00:00    0.903985\n",
       "2016-05-13 15:10:00    0.888306\n",
       "2016-05-13 15:20:00    0.894056\n",
       "2016-05-13 15:30:00    0.889209\n",
       "Name: y, dtype: float64"
      ]
     },
     "execution_count": 7,
     "metadata": {},
     "output_type": "execute_result"
    }
   ],
   "source": [
    "y = pd.Series(y.ravel(),index=i_lst,name='y')\n",
    "y.head()"
   ]
  },
  {
   "cell_type": "markdown",
   "metadata": {},
   "source": [
    "# Visualization"
   ]
  },
  {
   "cell_type": "code",
   "execution_count": 8,
   "metadata": {},
   "outputs": [
    {
     "name": "stdout",
     "output_type": "stream",
     "text": [
      "(30, 30)\n"
     ]
    },
    {
     "data": {
      "image/png": "[encoded data removed]",
      "text/plain": [
       "<Figure size 720x720 with 9 Axes>"
      ]
     },
     "metadata": {
      "needs_background": "light"
     },
     "output_type": "display_data"
    }
   ],
   "source": [
    "%matplotlib inline\n",
    "plt.figure(figsize=(10,10))\n",
    "plt.subplots_adjust(wspace =0.3, hspace =0.3)\n",
    "print(X[0].shape)\n",
    "for i in range(0,9):\n",
    "    plt.subplot(330 + (i+1))\n",
    "    idx = np.random.randint(0,len(X))\n",
    "    plt.imshow(X[idx])\n",
    "    plt.title(y[idx])"
   ]
  },
  {
   "cell_type": "markdown",
   "metadata": {},
   "source": [
    "# reshape"
   ]
  },
  {
   "cell_type": "code",
   "execution_count": 9,
   "metadata": {},
   "outputs": [
    {
     "name": "stdout",
     "output_type": "stream",
     "text": [
      "(130764, 30, 30, 1) (130764,)\n"
     ]
    }
   ],
   "source": [
    "X = X.reshape(-1,X[0].shape[0],X[0].shape[1],1)\n",
    "print(X.shape,y.shape)"
   ]
  },
  {
   "cell_type": "markdown",
   "metadata": {},
   "source": [
    "# split"
   ]
  },
  {
   "cell_type": "code",
   "execution_count": 10,
   "metadata": {},
   "outputs": [
    {
     "name": "stdout",
     "output_type": "stream",
     "text": [
      "(104636, 30, 30, 1) (104636,)\n",
      "(13064, 30, 30, 1) (13064,)\n",
      "(13064, 30, 30, 1) (13064,)\n"
     ]
    }
   ],
   "source": [
    "train_len = int(len(df)*0.8)\n",
    "X_train,X_val_test = X[:train_len],X[train_len:]\n",
    "y_train,y_val_test = y[:train_len],y[train_len:]\n",
    "\n",
    "val_len = int(len(X_val_test)*0.5)\n",
    "X_val,X_test = X_val_test[:val_len],X_val_test[val_len:]\n",
    "y_val,y_test = y_val_test[:val_len],y_val_test[val_len:]\n",
    "\n",
    "print(X_train.shape,y_train.shape)\n",
    "print(X_val.shape,y_val.shape)\n",
    "print(X_test.shape,y_test.shape)"
   ]
  },
  {
   "cell_type": "markdown",
   "metadata": {},
   "source": [
    "# Model"
   ]
  },
  {
   "cell_type": "code",
   "execution_count": 11,
   "metadata": {},
   "outputs": [
    {
     "name": "stderr",
     "output_type": "stream",
     "text": [
      "Using TensorFlow backend.\n",
      "/workspace/conda/lib/python3.6/site-packages/tensorflow/python/framework/dtypes.py:523: FutureWarning: Passing (type, 1) or '1type' as a synonym of type is deprecated; in a future version of numpy, it will be understood as (type, (1,)) / '(1,)type'.\n",
      "  _np_qint8 = np.dtype([(\"qint8\", np.int8, 1)])\n",
      "/workspace/conda/lib/python3.6/site-packages/tensorflow/python/framework/dtypes.py:524: FutureWarning: Passing (type, 1) or '1type' as a synonym of type is deprecated; in a future version of numpy, it will be understood as (type, (1,)) / '(1,)type'.\n",
      "  _np_quint8 = np.dtype([(\"quint8\", np.uint8, 1)])\n",
      "/workspace/conda/lib/python3.6/site-packages/tensorflow/python/framework/dtypes.py:525: FutureWarning: Passing (type, 1) or '1type' as a synonym of type is deprecated; in a future version of numpy, it will be understood as (type, (1,)) / '(1,)type'.\n",
      "  _np_qint16 = np.dtype([(\"qint16\", np.int16, 1)])\n",
      "/workspace/conda/lib/python3.6/site-packages/tensorflow/python/framework/dtypes.py:526: FutureWarning: Passing (type, 1) or '1type' as a synonym of type is deprecated; in a future version of numpy, it will be understood as (type, (1,)) / '(1,)type'.\n",
      "  _np_quint16 = np.dtype([(\"quint16\", np.uint16, 1)])\n",
      "/workspace/conda/lib/python3.6/site-packages/tensorflow/python/framework/dtypes.py:527: FutureWarning: Passing (type, 1) or '1type' as a synonym of type is deprecated; in a future version of numpy, it will be understood as (type, (1,)) / '(1,)type'.\n",
      "  _np_qint32 = np.dtype([(\"qint32\", np.int32, 1)])\n",
      "/workspace/conda/lib/python3.6/site-packages/tensorflow/python/framework/dtypes.py:532: FutureWarning: Passing (type, 1) or '1type' as a synonym of type is deprecated; in a future version of numpy, it will be understood as (type, (1,)) / '(1,)type'.\n",
      "  np_resource = np.dtype([(\"resource\", np.ubyte, 1)])\n"
     ]
    }
   ],
   "source": [
    "from keras import backend as K\n",
    "from keras.models import Sequential\n",
    "from keras.layers import Dense, Dropout, Lambda, Flatten, BatchNormalization\n",
    "from keras.layers import Conv2D, MaxPool2D, AvgPool2D\n",
    "from keras.optimizers import Adam\n",
    "import warnings;warnings.simplefilter('ignore')"
   ]
  },
  {
   "cell_type": "code",
   "execution_count": 12,
   "metadata": {},
   "outputs": [
    {
     "name": "stdout",
     "output_type": "stream",
     "text": [
      "_________________________________________________________________\n",
      "Layer (type)                 Output Shape              Param #   \n",
      "=================================================================\n",
      "conv2d_1 (Conv2D)            (None, 30, 30, 32)        320       \n",
      "_________________________________________________________________\n",
      "conv2d_2 (Conv2D)            (None, 30, 30, 64)        18496     \n",
      "_________________________________________________________________\n",
      "max_pooling2d_1 (MaxPooling2 (None, 15, 15, 64)        0         \n",
      "_________________________________________________________________\n",
      "flatten_1 (Flatten)          (None, 14400)             0         \n",
      "_________________________________________________________________\n",
      "dropout_1 (Dropout)          (None, 14400)             0         \n",
      "_________________________________________________________________\n",
      "dense_1 (Dense)              (None, 128)               1843328   \n",
      "_________________________________________________________________\n",
      "dense_2 (Dense)              (None, 1)                 129       \n",
      "=================================================================\n",
      "Total params: 1,862,273\n",
      "Trainable params: 1,862,273\n",
      "Non-trainable params: 0\n",
      "_________________________________________________________________\n"
     ]
    }
   ],
   "source": [
    "model = Sequential()\n",
    "\n",
    "model.add(Conv2D(filters=32, kernel_size=(3,3), padding='same', activation='relu', input_shape=X[0].shape))\n",
    "model.add(Conv2D(filters=64, kernel_size=(3,3), padding='same', activation='relu'))\n",
    "model.add(MaxPool2D(pool_size=(2,2)))\n",
    "\n",
    "model.add(Flatten())\n",
    "model.add(Dropout(0.25))\n",
    "model.add(Dense(128))\n",
    "model.add(Dense(1))\n",
    "\n",
    "model.summary()"
   ]
  },
  {
   "cell_type": "code",
   "execution_count": 13,
   "metadata": {},
   "outputs": [],
   "source": [
    "model.compile(optimizer=Adam(lr=0.0001), loss=\"mse\", metrics=[\"mse\"])"
   ]
  },
  {
   "cell_type": "code",
   "execution_count": 14,
   "metadata": {},
   "outputs": [],
   "source": [
    "from keras.callbacks import EarlyStopping\n",
    "es = EarlyStopping(monitor='val_loss',min_delta=0,patience=10,mode='min')"
   ]
  },
  {
   "cell_type": "markdown",
   "metadata": {},
   "source": [
    "# fit"
   ]
  },
  {
   "cell_type": "code",
   "execution_count": 15,
   "metadata": {},
   "outputs": [
    {
     "name": "stdout",
     "output_type": "stream",
     "text": [
      "Train on 104636 samples, validate on 13064 samples\n",
      "Epoch 1/10\n",
      "104636/104636 [==============================] - 7s 66us/step - loss: 0.0126 - mean_squared_error: 0.0126 - val_loss: 2.9755e-04 - val_mean_squared_error: 2.9755e-04\n",
      "Epoch 2/10\n",
      "104636/104636 [==============================] - 4s 35us/step - loss: 0.0015 - mean_squared_error: 0.0015 - val_loss: 2.5834e-04 - val_mean_squared_error: 2.5834e-04\n",
      "Epoch 3/10\n",
      "104636/104636 [==============================] - 4s 35us/step - loss: 7.3051e-04 - mean_squared_error: 7.3051e-04 - val_loss: 2.9914e-04 - val_mean_squared_error: 2.9914e-04\n",
      "Epoch 4/10\n",
      "104636/104636 [==============================] - 4s 35us/step - loss: 4.6340e-04 - mean_squared_error: 4.6340e-04 - val_loss: 2.4604e-04 - val_mean_squared_error: 2.4604e-04\n",
      "Epoch 5/10\n",
      "104636/104636 [==============================] - 4s 35us/step - loss: 3.5767e-04 - mean_squared_error: 3.5767e-04 - val_loss: 2.0195e-04 - val_mean_squared_error: 2.0195e-04\n",
      "Epoch 6/10\n",
      "104636/104636 [==============================] - 4s 34us/step - loss: 2.9785e-04 - mean_squared_error: 2.9785e-04 - val_loss: 2.2417e-04 - val_mean_squared_error: 2.2417e-04\n",
      "Epoch 7/10\n",
      "104636/104636 [==============================] - 4s 34us/step - loss: 2.7122e-04 - mean_squared_error: 2.7122e-04 - val_loss: 2.3714e-04 - val_mean_squared_error: 2.3714e-04\n",
      "Epoch 8/10\n",
      "104636/104636 [==============================] - 4s 34us/step - loss: 2.4777e-04 - mean_squared_error: 2.4777e-04 - val_loss: 1.7767e-04 - val_mean_squared_error: 1.7767e-04\n",
      "Epoch 9/10\n",
      "104636/104636 [==============================] - 4s 34us/step - loss: 2.3675e-04 - mean_squared_error: 2.3675e-04 - val_loss: 2.1630e-04 - val_mean_squared_error: 2.1630e-04\n",
      "Epoch 10/10\n",
      "104636/104636 [==============================] - 4s 34us/step - loss: 2.2259e-04 - mean_squared_error: 2.2259e-04 - val_loss: 3.2278e-04 - val_mean_squared_error: 3.2278e-04\n"
     ]
    }
   ],
   "source": [
    "history = model.fit(X_train,y_train,\n",
    "                    batch_size = 256,\n",
    "                    epochs = 10,\n",
    "                    validation_data = (X_val,y_val),\n",
    "                    verbose = 1,\n",
    "                    callbacks = [es])"
   ]
  },
  {
   "cell_type": "markdown",
   "metadata": {},
   "source": [
    "# eval"
   ]
  },
  {
   "cell_type": "code",
   "execution_count": 16,
   "metadata": {},
   "outputs": [
    {
     "data": {
      "text/plain": [
       "<matplotlib.legend.Legend at 0x7fb564223e48>"
      ]
     },
     "execution_count": 16,
     "metadata": {},
     "output_type": "execute_result"
    },
    {
     "data": {
      "image/png": "[encoded data removed]",
      "text/plain": [
       "<Figure size 432x288 with 1 Axes>"
      ]
     },
     "metadata": {
      "needs_background": "light"
     },
     "output_type": "display_data"
    }
   ],
   "source": [
    "n = 0\n",
    "plt.plot(history.history['loss'][n:], color='b', label=\"Training loss\")\n",
    "plt.plot(history.history['val_loss'][n:], color='r', label=\"Validation loss\")\n",
    "plt.legend()"
   ]
  },
  {
   "cell_type": "code",
   "execution_count": 17,
   "metadata": {},
   "outputs": [
    {
     "data": {
      "text/plain": [
       "2616"
      ]
     },
     "execution_count": 17,
     "metadata": {},
     "output_type": "execute_result"
    }
   ],
   "source": [
    "import gc \n",
    "gc.collect()"
   ]
  },
  {
   "cell_type": "markdown",
   "metadata": {},
   "source": [
    "# plot predict line"
   ]
  },
  {
   "cell_type": "code",
   "execution_count": 18,
   "metadata": {},
   "outputs": [],
   "source": [
    "from sklearn.metrics import r2_score,mean_squared_error\n",
    "from math import sqrt\n",
    "\n",
    "def mape(y_true, y_pred): \n",
    "    y_true, y_pred = np.array(y_true), np.array(y_pred)\n",
    "    return np.mean(np.abs((y_true - y_pred) / y_true)) * 100\n",
    "\n",
    "def metric(y_true,y_pred,name):\n",
    "    t = pd.DataFrame(index=[name])\n",
    "    t['r2'] = r2_score(y_true,y_pred)\n",
    "    t['rmse'] = sqrt(mean_squared_error(y_true,y_pred))\n",
    "    t['mape'] = mape(y_true,y_pred)\n",
    "    t = t.apply(lambda x:round(x,4))\n",
    "    return t"
   ]
  },
  {
   "cell_type": "code",
   "execution_count": 40,
   "metadata": {},
   "outputs": [
    {
     "data": {
      "image/png": "[encoded data removed]",
      "text/plain": [
       "<Figure size 432x288 with 1 Axes>"
      ]
     },
     "metadata": {
      "needs_background": "light"
     },
     "output_type": "display_data"
    },
    {
     "data": {
      "text/html": [
       "<div>\n",
       "<style scoped>\n",
       "    .dataframe tbody tr th:only-of-type {\n",
       "        vertical-align: middle;\n",
       "    }\n",
       "\n",
       "    .dataframe tbody tr th {\n",
       "        vertical-align: top;\n",
       "    }\n",
       "\n",
       "    .dataframe thead th {\n",
       "        text-align: right;\n",
       "    }\n",
       "</style>\n",
       "<table border=\"1\" class=\"dataframe\">\n",
       "  <thead>\n",
       "    <tr style=\"text-align: right;\">\n",
       "      <th></th>\n",
       "      <th>r2</th>\n",
       "      <th>rmse</th>\n",
       "      <th>mape</th>\n",
       "    </tr>\n",
       "  </thead>\n",
       "  <tbody>\n",
       "    <tr>\n",
       "      <th>train</th>\n",
       "      <td>0.1723</td>\n",
       "      <td>0.0096</td>\n",
       "      <td>0.807</td>\n",
       "    </tr>\n",
       "  </tbody>\n",
       "</table>\n",
       "</div>"
      ],
      "text/plain": [
       "           r2    rmse   mape\n",
       "train  0.1723  0.0096  0.807"
      ]
     },
     "execution_count": 40,
     "metadata": {},
     "output_type": "execute_result"
    }
   ],
   "source": [
    "# predict\n",
    "y_pred = model.predict(X_train).ravel()\n",
    "y_pred = pd.Series(y_pred,index=y_train.index,name='y_pred')\n",
    "\n",
    "# sort index\n",
    "y_pred = y_pred.sort_index()\n",
    "y_train = y_train.sort_index()\n",
    "\n",
    "# plot\n",
    "plot_data = pd.concat([y_pred,y_train],axis=1)\n",
    "plot_data.rolling(6*24*15).mean().plot()\n",
    "plt.show()\n",
    "\n",
    "# score\n",
    "metric(y_train,y_pred,'train')"
   ]
  },
  {
   "cell_type": "code",
   "execution_count": 41,
   "metadata": {},
   "outputs": [
    {
     "data": {
      "image/png": "[encoded data removed]",
      "text/plain": [
       "<Figure size 432x288 with 1 Axes>"
      ]
     },
     "metadata": {
      "needs_background": "light"
     },
     "output_type": "display_data"
    },
    {
     "data": {
      "text/html": [
       "<div>\n",
       "<style scoped>\n",
       "    .dataframe tbody tr th:only-of-type {\n",
       "        vertical-align: middle;\n",
       "    }\n",
       "\n",
       "    .dataframe tbody tr th {\n",
       "        vertical-align: top;\n",
       "    }\n",
       "\n",
       "    .dataframe thead th {\n",
       "        text-align: right;\n",
       "    }\n",
       "</style>\n",
       "<table border=\"1\" class=\"dataframe\">\n",
       "  <thead>\n",
       "    <tr style=\"text-align: right;\">\n",
       "      <th></th>\n",
       "      <th>r2</th>\n",
       "      <th>rmse</th>\n",
       "      <th>mape</th>\n",
       "    </tr>\n",
       "  </thead>\n",
       "  <tbody>\n",
       "    <tr>\n",
       "      <th>test</th>\n",
       "      <td>-1.4475</td>\n",
       "      <td>0.0153</td>\n",
       "      <td>1.2792</td>\n",
       "    </tr>\n",
       "  </tbody>\n",
       "</table>\n",
       "</div>"
      ],
      "text/plain": [
       "          r2    rmse    mape\n",
       "test -1.4475  0.0153  1.2792"
      ]
     },
     "execution_count": 41,
     "metadata": {},
     "output_type": "execute_result"
    }
   ],
   "source": [
    "from sklearn.metrics import r2_score,mean_squared_error\n",
    "\n",
    "# predict\n",
    "y_pred = model.predict(X_test).ravel()\n",
    "y_pred = pd.Series(y_pred,index=y_test.index,name='y_pred')\n",
    "\n",
    "# sort index\n",
    "y_pred = y_pred.sort_index()\n",
    "y_test = y_test.sort_index()\n",
    "\n",
    "# plot\n",
    "plot_data = pd.concat([y_pred,y_test],axis=1)\n",
    "plot_data.rolling(6*24*15).mean().plot()\n",
    "plt.show()\n",
    "\n",
    "# score\n",
    "metric(y_test,y_pred,'test')"
   ]
  },
  {
   "cell_type": "code",
   "execution_count": null,
   "metadata": {},
   "outputs": [],
   "source": []
  }
 ],
 "metadata": {
  "kernelspec": {
   "display_name": "Python 3",
   "language": "python",
   "name": "python3"
  },
  "language_info": {
   "codemirror_mode": {
    "name": "ipython",
    "version": 3
   },
   "file_extension": ".py",
   "mimetype": "text/x-python",
   "name": "python",
   "nbconvert_exporter": "python",
   "pygments_lexer": "ipython3",
   "version": "3.6.9"
  }
 },
 "nbformat": 4,
 "nbformat_minor": 2
}
