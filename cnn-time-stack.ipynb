{
 "cells": [
  {
   "cell_type": "markdown",
   "metadata": {},
   "source": [
    "## import os "
   ]
  },
  {
   "cell_type": "code",
   "execution_count": 1,
   "metadata": {},
   "outputs": [
    {
     "data": {
      "text/plain": [
       "['second_model.ipynb',\n",
       " 'data',\n",
       " 'train.csv',\n",
       " 'DataCleaning.ipynb',\n",
       " 'EDA.ipynb',\n",
       " 'PA_201605-2012001更新R6(20190509).xlsx',\n",
       " 'tag盤點表.xlsx',\n",
       " 'xgboost.ipynb',\n",
       " 'LSTM.ipynb',\n",
       " 'train_FeatureSelected.csv',\n",
       " 'feature select.ipynb',\n",
       " 'tpot_pa_pipeline.py',\n",
       " 'TPOT.ipynb',\n",
       " 'three_model.ipynb',\n",
       " 'cnn-time-stack.ipynb',\n",
       " '.ipynb_checkpoints']"
      ]
     },
     "execution_count": 1,
     "metadata": {},
     "output_type": "execute_result"
    }
   ],
   "source": [
    "import os\n",
    "os.listdir()"
   ]
  },
  {
   "cell_type": "code",
   "execution_count": 2,
   "metadata": {},
   "outputs": [],
   "source": [
    "import pandas as pd\n",
    "import matplotlib.pyplot as plt\n",
    "import matplotlib.image as mpimg\n",
    "import numpy as np\n",
    "import seaborn as sns\n",
    "from tqdm import tqdm_notebook as tqdm"
   ]
  },
  {
   "cell_type": "markdown",
   "metadata": {},
   "source": [
    "# load"
   ]
  },
  {
   "cell_type": "code",
   "execution_count": 3,
   "metadata": {},
   "outputs": [
    {
     "name": "stdout",
     "output_type": "stream",
     "text": [
      "(52704, 38)\n"
     ]
    },
    {
     "data": {
      "text/html": [
       "<div>\n",
       "<style scoped>\n",
       "    .dataframe tbody tr th:only-of-type {\n",
       "        vertical-align: middle;\n",
       "    }\n",
       "\n",
       "    .dataframe tbody tr th {\n",
       "        vertical-align: top;\n",
       "    }\n",
       "\n",
       "    .dataframe thead th {\n",
       "        text-align: right;\n",
       "    }\n",
       "</style>\n",
       "<table border=\"1\" class=\"dataframe\">\n",
       "  <thead>\n",
       "    <tr style=\"text-align: right;\">\n",
       "      <th></th>\n",
       "      <th>MLPAP_TI-0706B02</th>\n",
       "      <th>MLPAP_TI-0706B03</th>\n",
       "      <th>MLPAP_TI-0706B05</th>\n",
       "      <th>MLPAP_TI-0706B06</th>\n",
       "      <th>MLPAP_TI-0706B07</th>\n",
       "      <th>MLPAP_TI-0706B10</th>\n",
       "      <th>MLPAP_TI-0706B14</th>\n",
       "      <th>MLPAP_TI-0706B16</th>\n",
       "      <th>MLPAP_TI-0706B18</th>\n",
       "      <th>MLPAP_TI-0706B19</th>\n",
       "      <th>...</th>\n",
       "      <th>MLPAP_FR-0632.PV</th>\n",
       "      <th>MLPAP_TIC-0757A.PV</th>\n",
       "      <th>MLPAP_TRC-0762.PV</th>\n",
       "      <th>MLPAP_FR-0755.PV</th>\n",
       "      <th>MLPAP_FR-0755PV(轉換後)</th>\n",
       "      <th>MLPAP_FR-0791.PV</th>\n",
       "      <th>MLPAP_TIC-0757.PV</th>\n",
       "      <th>MLPAP_V125-PHD</th>\n",
       "      <th>target</th>\n",
       "      <th>target_over_range</th>\n",
       "    </tr>\n",
       "  </thead>\n",
       "  <tbody>\n",
       "    <tr>\n",
       "      <th>2016-05-09 00:00:00</th>\n",
       "      <td>399.996956</td>\n",
       "      <td>401.962157</td>\n",
       "      <td>402.245915</td>\n",
       "      <td>401.143639</td>\n",
       "      <td>400.998932</td>\n",
       "      <td>402.001481</td>\n",
       "      <td>402.997679</td>\n",
       "      <td>402.048413</td>\n",
       "      <td>401.047635</td>\n",
       "      <td>402.998548</td>\n",
       "      <td>...</td>\n",
       "      <td>-0.001134</td>\n",
       "      <td>399.694655</td>\n",
       "      <td>401.207034</td>\n",
       "      <td>4.050917</td>\n",
       "      <td>4.045456</td>\n",
       "      <td>6.484379</td>\n",
       "      <td>1.635430</td>\n",
       "      <td>0.050999</td>\n",
       "      <td>5.428077</td>\n",
       "      <td>1.0</td>\n",
       "    </tr>\n",
       "    <tr>\n",
       "      <th>2016-05-09 00:10:00</th>\n",
       "      <td>399.996956</td>\n",
       "      <td>401.939352</td>\n",
       "      <td>402.245915</td>\n",
       "      <td>401.004025</td>\n",
       "      <td>400.998932</td>\n",
       "      <td>402.001481</td>\n",
       "      <td>403.098684</td>\n",
       "      <td>402.003686</td>\n",
       "      <td>401.047635</td>\n",
       "      <td>402.998548</td>\n",
       "      <td>...</td>\n",
       "      <td>-0.001134</td>\n",
       "      <td>399.694655</td>\n",
       "      <td>401.089849</td>\n",
       "      <td>4.157893</td>\n",
       "      <td>4.152288</td>\n",
       "      <td>6.449854</td>\n",
       "      <td>1.624784</td>\n",
       "      <td>0.050999</td>\n",
       "      <td>5.428077</td>\n",
       "      <td>1.0</td>\n",
       "    </tr>\n",
       "    <tr>\n",
       "      <th>2016-05-09 00:20:00</th>\n",
       "      <td>399.996956</td>\n",
       "      <td>401.905143</td>\n",
       "      <td>402.104563</td>\n",
       "      <td>401.004025</td>\n",
       "      <td>400.998932</td>\n",
       "      <td>402.001481</td>\n",
       "      <td>402.997679</td>\n",
       "      <td>402.003686</td>\n",
       "      <td>401.004128</td>\n",
       "      <td>402.998548</td>\n",
       "      <td>...</td>\n",
       "      <td>-0.001134</td>\n",
       "      <td>399.739510</td>\n",
       "      <td>401.060553</td>\n",
       "      <td>4.207893</td>\n",
       "      <td>4.202220</td>\n",
       "      <td>6.440330</td>\n",
       "      <td>1.649624</td>\n",
       "      <td>0.050999</td>\n",
       "      <td>5.428077</td>\n",
       "      <td>1.0</td>\n",
       "    </tr>\n",
       "    <tr>\n",
       "      <th>2016-05-09 00:30:00</th>\n",
       "      <td>399.996956</td>\n",
       "      <td>401.950754</td>\n",
       "      <td>402.304812</td>\n",
       "      <td>401.004025</td>\n",
       "      <td>400.998932</td>\n",
       "      <td>402.001481</td>\n",
       "      <td>403.098684</td>\n",
       "      <td>402.003686</td>\n",
       "      <td>401.102020</td>\n",
       "      <td>402.998548</td>\n",
       "      <td>...</td>\n",
       "      <td>-0.001134</td>\n",
       "      <td>399.795577</td>\n",
       "      <td>401.470701</td>\n",
       "      <td>4.152079</td>\n",
       "      <td>4.146482</td>\n",
       "      <td>6.464140</td>\n",
       "      <td>1.635430</td>\n",
       "      <td>0.050999</td>\n",
       "      <td>5.428077</td>\n",
       "      <td>1.0</td>\n",
       "    </tr>\n",
       "    <tr>\n",
       "      <th>2016-05-09 00:40:00</th>\n",
       "      <td>399.996956</td>\n",
       "      <td>401.996366</td>\n",
       "      <td>402.175239</td>\n",
       "      <td>401.004025</td>\n",
       "      <td>400.998932</td>\n",
       "      <td>402.001481</td>\n",
       "      <td>403.098684</td>\n",
       "      <td>402.003686</td>\n",
       "      <td>401.145528</td>\n",
       "      <td>402.998548</td>\n",
       "      <td>...</td>\n",
       "      <td>-0.001134</td>\n",
       "      <td>399.795577</td>\n",
       "      <td>401.460935</td>\n",
       "      <td>4.016615</td>\n",
       "      <td>4.011200</td>\n",
       "      <td>6.415329</td>\n",
       "      <td>1.653172</td>\n",
       "      <td>0.050999</td>\n",
       "      <td>5.428077</td>\n",
       "      <td>1.0</td>\n",
       "    </tr>\n",
       "  </tbody>\n",
       "</table>\n",
       "<p>5 rows × 38 columns</p>\n",
       "</div>"
      ],
      "text/plain": [
       "                     MLPAP_TI-0706B02  MLPAP_TI-0706B03  MLPAP_TI-0706B05  \\\n",
       "2016-05-09 00:00:00        399.996956        401.962157        402.245915   \n",
       "2016-05-09 00:10:00        399.996956        401.939352        402.245915   \n",
       "2016-05-09 00:20:00        399.996956        401.905143        402.104563   \n",
       "2016-05-09 00:30:00        399.996956        401.950754        402.304812   \n",
       "2016-05-09 00:40:00        399.996956        401.996366        402.175239   \n",
       "\n",
       "                     MLPAP_TI-0706B06  MLPAP_TI-0706B07  MLPAP_TI-0706B10  \\\n",
       "2016-05-09 00:00:00        401.143639        400.998932        402.001481   \n",
       "2016-05-09 00:10:00        401.004025        400.998932        402.001481   \n",
       "2016-05-09 00:20:00        401.004025        400.998932        402.001481   \n",
       "2016-05-09 00:30:00        401.004025        400.998932        402.001481   \n",
       "2016-05-09 00:40:00        401.004025        400.998932        402.001481   \n",
       "\n",
       "                     MLPAP_TI-0706B14  MLPAP_TI-0706B16  MLPAP_TI-0706B18  \\\n",
       "2016-05-09 00:00:00        402.997679        402.048413        401.047635   \n",
       "2016-05-09 00:10:00        403.098684        402.003686        401.047635   \n",
       "2016-05-09 00:20:00        402.997679        402.003686        401.004128   \n",
       "2016-05-09 00:30:00        403.098684        402.003686        401.102020   \n",
       "2016-05-09 00:40:00        403.098684        402.003686        401.145528   \n",
       "\n",
       "                     MLPAP_TI-0706B19  ...  MLPAP_FR-0632.PV  \\\n",
       "2016-05-09 00:00:00        402.998548  ...         -0.001134   \n",
       "2016-05-09 00:10:00        402.998548  ...         -0.001134   \n",
       "2016-05-09 00:20:00        402.998548  ...         -0.001134   \n",
       "2016-05-09 00:30:00        402.998548  ...         -0.001134   \n",
       "2016-05-09 00:40:00        402.998548  ...         -0.001134   \n",
       "\n",
       "                     MLPAP_TIC-0757A.PV  MLPAP_TRC-0762.PV  MLPAP_FR-0755.PV  \\\n",
       "2016-05-09 00:00:00          399.694655         401.207034          4.050917   \n",
       "2016-05-09 00:10:00          399.694655         401.089849          4.157893   \n",
       "2016-05-09 00:20:00          399.739510         401.060553          4.207893   \n",
       "2016-05-09 00:30:00          399.795577         401.470701          4.152079   \n",
       "2016-05-09 00:40:00          399.795577         401.460935          4.016615   \n",
       "\n",
       "                     MLPAP_FR-0755PV(轉換後)  MLPAP_FR-0791.PV  \\\n",
       "2016-05-09 00:00:00              4.045456          6.484379   \n",
       "2016-05-09 00:10:00              4.152288          6.449854   \n",
       "2016-05-09 00:20:00              4.202220          6.440330   \n",
       "2016-05-09 00:30:00              4.146482          6.464140   \n",
       "2016-05-09 00:40:00              4.011200          6.415329   \n",
       "\n",
       "                     MLPAP_TIC-0757.PV  MLPAP_V125-PHD    target  \\\n",
       "2016-05-09 00:00:00           1.635430        0.050999  5.428077   \n",
       "2016-05-09 00:10:00           1.624784        0.050999  5.428077   \n",
       "2016-05-09 00:20:00           1.649624        0.050999  5.428077   \n",
       "2016-05-09 00:30:00           1.635430        0.050999  5.428077   \n",
       "2016-05-09 00:40:00           1.653172        0.050999  5.428077   \n",
       "\n",
       "                     target_over_range  \n",
       "2016-05-09 00:00:00                1.0  \n",
       "2016-05-09 00:10:00                1.0  \n",
       "2016-05-09 00:20:00                1.0  \n",
       "2016-05-09 00:30:00                1.0  \n",
       "2016-05-09 00:40:00                1.0  \n",
       "\n",
       "[5 rows x 38 columns]"
      ]
     },
     "execution_count": 3,
     "metadata": {},
     "output_type": "execute_result"
    }
   ],
   "source": [
    "df = pd.read_csv('./data/train_FeatureSelected(2016~2017).csv',index_col = 0,parse_dates = True)\n",
    "print(df.shape)\n",
    "df.head()"
   ]
  },
  {
   "cell_type": "markdown",
   "metadata": {},
   "source": [
    "# LOAD SPEC"
   ]
  },
  {
   "cell_type": "code",
   "execution_count": 4,
   "metadata": {},
   "outputs": [
    {
     "data": {
      "text/html": [
       "<div>\n",
       "<style scoped>\n",
       "    .dataframe tbody tr th:only-of-type {\n",
       "        vertical-align: middle;\n",
       "    }\n",
       "\n",
       "    .dataframe tbody tr th {\n",
       "        vertical-align: top;\n",
       "    }\n",
       "\n",
       "    .dataframe thead th {\n",
       "        text-align: right;\n",
       "    }\n",
       "</style>\n",
       "<table border=\"1\" class=\"dataframe\">\n",
       "  <thead>\n",
       "    <tr style=\"text-align: right;\">\n",
       "      <th></th>\n",
       "      <th>min</th>\n",
       "      <th>max</th>\n",
       "    </tr>\n",
       "    <tr>\n",
       "      <th>TAG</th>\n",
       "      <th></th>\n",
       "      <th></th>\n",
       "    </tr>\n",
       "  </thead>\n",
       "  <tbody>\n",
       "    <tr>\n",
       "      <th>MLPAP_FR-0632.PV</th>\n",
       "      <td>30</td>\n",
       "      <td>90</td>\n",
       "    </tr>\n",
       "    <tr>\n",
       "      <th>MLPAP_TIC-0757A.PV</th>\n",
       "      <td>345</td>\n",
       "      <td>365</td>\n",
       "    </tr>\n",
       "    <tr>\n",
       "      <th>MLPAP_TRC-0762.PV</th>\n",
       "      <td>345</td>\n",
       "      <td>365</td>\n",
       "    </tr>\n",
       "    <tr>\n",
       "      <th>MLPAP_TI-0706A01</th>\n",
       "      <td>340</td>\n",
       "      <td>450</td>\n",
       "    </tr>\n",
       "    <tr>\n",
       "      <th>MLPAP_TI-0706D01</th>\n",
       "      <td>340</td>\n",
       "      <td>450</td>\n",
       "    </tr>\n",
       "    <tr>\n",
       "      <th>MLPAP_TI-0706E01</th>\n",
       "      <td>340</td>\n",
       "      <td>450</td>\n",
       "    </tr>\n",
       "    <tr>\n",
       "      <th>MLPAP_TI-0716E01</th>\n",
       "      <td>340</td>\n",
       "      <td>450</td>\n",
       "    </tr>\n",
       "    <tr>\n",
       "      <th>MLPAP_FR-0755.PV</th>\n",
       "      <td>0</td>\n",
       "      <td>25</td>\n",
       "    </tr>\n",
       "    <tr>\n",
       "      <th>MLPAP_FR-0791.PV</th>\n",
       "      <td>10</td>\n",
       "      <td>35</td>\n",
       "    </tr>\n",
       "    <tr>\n",
       "      <th>MLPAP_TI-0706B02</th>\n",
       "      <td>340</td>\n",
       "      <td>450</td>\n",
       "    </tr>\n",
       "    <tr>\n",
       "      <th>MLPAP_TI-0706B03</th>\n",
       "      <td>340</td>\n",
       "      <td>450</td>\n",
       "    </tr>\n",
       "    <tr>\n",
       "      <th>MLPAP_TI-0706B05</th>\n",
       "      <td>340</td>\n",
       "      <td>450</td>\n",
       "    </tr>\n",
       "    <tr>\n",
       "      <th>MLPAP_TI-0706B06</th>\n",
       "      <td>340</td>\n",
       "      <td>450</td>\n",
       "    </tr>\n",
       "    <tr>\n",
       "      <th>MLPAP_TI-0706B07</th>\n",
       "      <td>340</td>\n",
       "      <td>450</td>\n",
       "    </tr>\n",
       "    <tr>\n",
       "      <th>MLPAP_TI-0706B10</th>\n",
       "      <td>340</td>\n",
       "      <td>450</td>\n",
       "    </tr>\n",
       "    <tr>\n",
       "      <th>MLPAP_TI-0706B14</th>\n",
       "      <td>340</td>\n",
       "      <td>450</td>\n",
       "    </tr>\n",
       "    <tr>\n",
       "      <th>MLPAP_TI-0706B16</th>\n",
       "      <td>340</td>\n",
       "      <td>450</td>\n",
       "    </tr>\n",
       "    <tr>\n",
       "      <th>MLPAP_TI-0706B18</th>\n",
       "      <td>340</td>\n",
       "      <td>450</td>\n",
       "    </tr>\n",
       "    <tr>\n",
       "      <th>MLPAP_TI-0706B19</th>\n",
       "      <td>340</td>\n",
       "      <td>450</td>\n",
       "    </tr>\n",
       "    <tr>\n",
       "      <th>MLPAP_TI-0706B20</th>\n",
       "      <td>340</td>\n",
       "      <td>450</td>\n",
       "    </tr>\n",
       "    <tr>\n",
       "      <th>MLPAP_TI-0706B22</th>\n",
       "      <td>340</td>\n",
       "      <td>450</td>\n",
       "    </tr>\n",
       "    <tr>\n",
       "      <th>MLPAP_TJR-0715A1.PV</th>\n",
       "      <td>340</td>\n",
       "      <td>450</td>\n",
       "    </tr>\n",
       "    <tr>\n",
       "      <th>MLPAP_TJR-0715B1.PV</th>\n",
       "      <td>345</td>\n",
       "      <td>375</td>\n",
       "    </tr>\n",
       "    <tr>\n",
       "      <th>MLPAP_TJR-0720B1.PV</th>\n",
       "      <td>345</td>\n",
       "      <td>375</td>\n",
       "    </tr>\n",
       "    <tr>\n",
       "      <th>MLPAP_TIC-0757.PV</th>\n",
       "      <td>-3</td>\n",
       "      <td>3</td>\n",
       "    </tr>\n",
       "    <tr>\n",
       "      <th>MLPAP_V125-PHD</th>\n",
       "      <td>0</td>\n",
       "      <td>0.1</td>\n",
       "    </tr>\n",
       "    <tr>\n",
       "      <th>DATA OF USE</th>\n",
       "      <td>0</td>\n",
       "      <td>inf</td>\n",
       "    </tr>\n",
       "  </tbody>\n",
       "</table>\n",
       "</div>"
      ],
      "text/plain": [
       "                     min  max\n",
       "TAG                          \n",
       "MLPAP_FR-0632.PV      30   90\n",
       "MLPAP_TIC-0757A.PV   345  365\n",
       "MLPAP_TRC-0762.PV    345  365\n",
       "MLPAP_TI-0706A01     340  450\n",
       "MLPAP_TI-0706D01     340  450\n",
       "MLPAP_TI-0706E01     340  450\n",
       "MLPAP_TI-0716E01     340  450\n",
       "MLPAP_FR-0755.PV       0   25\n",
       "MLPAP_FR-0791.PV      10   35\n",
       "MLPAP_TI-0706B02     340  450\n",
       "MLPAP_TI-0706B03     340  450\n",
       "MLPAP_TI-0706B05     340  450\n",
       "MLPAP_TI-0706B06     340  450\n",
       "MLPAP_TI-0706B07     340  450\n",
       "MLPAP_TI-0706B10     340  450\n",
       "MLPAP_TI-0706B14     340  450\n",
       "MLPAP_TI-0706B16     340  450\n",
       "MLPAP_TI-0706B18     340  450\n",
       "MLPAP_TI-0706B19     340  450\n",
       "MLPAP_TI-0706B20     340  450\n",
       "MLPAP_TI-0706B22     340  450\n",
       "MLPAP_TJR-0715A1.PV  340  450\n",
       "MLPAP_TJR-0715B1.PV  345  375\n",
       "MLPAP_TJR-0720B1.PV  345  375\n",
       "MLPAP_TIC-0757.PV     -3    3\n",
       "MLPAP_V125-PHD         0  0.1\n",
       "DATA OF USE            0  inf"
      ]
     },
     "execution_count": 4,
     "metadata": {},
     "output_type": "execute_result"
    }
   ],
   "source": [
    "tag_sheet = pd.read_excel('tag盤點表.xlsx')\n",
    "spec = tag_sheet[tag_sheet['TAG'].isin(df.columns.tolist())][['TAG','min','max']]\n",
    "spec = spec.set_index('TAG')\n",
    "spec.loc['DATA OF USE','min'] = 0\n",
    "spec.loc['DATA OF USE','max'] = np.inf\n",
    "spec"
   ]
  },
  {
   "cell_type": "markdown",
   "metadata": {},
   "source": [
    "# OVER RANGE COUNT"
   ]
  },
  {
   "cell_type": "code",
   "execution_count": 5,
   "metadata": {},
   "outputs": [],
   "source": [
    "def check_spec(df,spec):\n",
    "    df_col = list(df.columns)\n",
    "    spec_col = list(spec.index)\n",
    "    intersection = set(df_col) & set(spec_col)\n",
    "    df['over_range_num'] = 0\n",
    "    for col in tqdm(list(intersection)):\n",
    "        lb, ub = spec.loc[col,'min'], spec.loc[col,'max']\n",
    "        over_range = (df[col]<lb)|(df[col]>ub)\n",
    "        df.loc[over_range,'over_range_num'] += 1\n",
    "    return df"
   ]
  },
  {
   "cell_type": "code",
   "execution_count": 6,
   "metadata": {},
   "outputs": [
    {
     "name": "stderr",
     "output_type": "stream",
     "text": [
      "/workspace/conda/lib/python3.6/site-packages/ipykernel_launcher.py:6: TqdmDeprecationWarning: This function will be removed in tqdm==5.0.0\n",
      "Please use `tqdm.notebook.tqdm` instead of `tqdm.tqdm_notebook`\n",
      "  \n"
     ]
    },
    {
     "data": {
      "application/vnd.jupyter.widget-view+json": {
       "model_id": "721b2d40ff554fa59de721f80abf14ac",
       "version_major": 2,
       "version_minor": 0
      },
      "text/plain": [
       "HBox(children=(FloatProgress(value=0.0, max=26.0), HTML(value='')))"
      ]
     },
     "metadata": {},
     "output_type": "display_data"
    },
    {
     "name": "stdout",
     "output_type": "stream",
     "text": [
      "\n"
     ]
    }
   ],
   "source": [
    "df = check_spec(df,spec)"
   ]
  },
  {
   "cell_type": "code",
   "execution_count": 7,
   "metadata": {},
   "outputs": [
    {
     "data": {
      "text/plain": [
       "(array([4.660e+04, 1.509e+03, 3.580e+02, 4.000e+00, 9.000e+00, 1.600e+01,\n",
       "        6.000e+00, 6.000e+00, 1.000e+01, 4.186e+03]),\n",
       " array([ 0. ,  2.4,  4.8,  7.2,  9.6, 12. , 14.4, 16.8, 19.2, 21.6, 24. ]),\n",
       " <a list of 10 Patch objects>)"
      ]
     },
     "execution_count": 7,
     "metadata": {},
     "output_type": "execute_result"
    },
    {
     "data": {
      "image/png": "[encoded data removed]",
      "text/plain": [
       "<Figure size 432x288 with 1 Axes>"
      ]
     },
     "metadata": {
      "needs_background": "light"
     },
     "output_type": "display_data"
    }
   ],
   "source": [
    "plt.hist(df['over_range_num'])"
   ]
  },
  {
   "cell_type": "markdown",
   "metadata": {},
   "source": [
    "# scale data"
   ]
  },
  {
   "cell_type": "code",
   "execution_count": 8,
   "metadata": {},
   "outputs": [
    {
     "name": "stdout",
     "output_type": "stream",
     "text": [
      "(52704, 39)\n"
     ]
    },
    {
     "data": {
      "text/html": [
       "<div>\n",
       "<style scoped>\n",
       "    .dataframe tbody tr th:only-of-type {\n",
       "        vertical-align: middle;\n",
       "    }\n",
       "\n",
       "    .dataframe tbody tr th {\n",
       "        vertical-align: top;\n",
       "    }\n",
       "\n",
       "    .dataframe thead th {\n",
       "        text-align: right;\n",
       "    }\n",
       "</style>\n",
       "<table border=\"1\" class=\"dataframe\">\n",
       "  <thead>\n",
       "    <tr style=\"text-align: right;\">\n",
       "      <th></th>\n",
       "      <th>MLPAP_TI-0706B02</th>\n",
       "      <th>MLPAP_TI-0706B03</th>\n",
       "      <th>MLPAP_TI-0706B05</th>\n",
       "      <th>MLPAP_TI-0706B06</th>\n",
       "      <th>MLPAP_TI-0706B07</th>\n",
       "      <th>MLPAP_TI-0706B10</th>\n",
       "      <th>MLPAP_TI-0706B14</th>\n",
       "      <th>MLPAP_TI-0706B16</th>\n",
       "      <th>MLPAP_TI-0706B18</th>\n",
       "      <th>MLPAP_TI-0706B19</th>\n",
       "      <th>...</th>\n",
       "      <th>MLPAP_TIC-0757A.PV</th>\n",
       "      <th>MLPAP_TRC-0762.PV</th>\n",
       "      <th>MLPAP_FR-0755.PV</th>\n",
       "      <th>MLPAP_FR-0755PV(轉換後)</th>\n",
       "      <th>MLPAP_FR-0791.PV</th>\n",
       "      <th>MLPAP_TIC-0757.PV</th>\n",
       "      <th>MLPAP_V125-PHD</th>\n",
       "      <th>target</th>\n",
       "      <th>target_over_range</th>\n",
       "      <th>over_range_num</th>\n",
       "    </tr>\n",
       "  </thead>\n",
       "  <tbody>\n",
       "    <tr>\n",
       "      <th>2016-05-09 00:00:00</th>\n",
       "      <td>0.929761</td>\n",
       "      <td>0.928483</td>\n",
       "      <td>0.902284</td>\n",
       "      <td>0.918713</td>\n",
       "      <td>0.927523</td>\n",
       "      <td>0.983527</td>\n",
       "      <td>0.984021</td>\n",
       "      <td>0.985352</td>\n",
       "      <td>0.984122</td>\n",
       "      <td>0.986233</td>\n",
       "      <td>...</td>\n",
       "      <td>0.986807</td>\n",
       "      <td>0.981417</td>\n",
       "      <td>0.131957</td>\n",
       "      <td>0.131957</td>\n",
       "      <td>0.015033</td>\n",
       "      <td>0.861312</td>\n",
       "      <td>0.137096</td>\n",
       "      <td>5.428077</td>\n",
       "      <td>1.0</td>\n",
       "      <td>6</td>\n",
       "    </tr>\n",
       "    <tr>\n",
       "      <th>2016-05-09 00:10:00</th>\n",
       "      <td>0.929761</td>\n",
       "      <td>0.928424</td>\n",
       "      <td>0.902284</td>\n",
       "      <td>0.918355</td>\n",
       "      <td>0.927523</td>\n",
       "      <td>0.983527</td>\n",
       "      <td>0.984298</td>\n",
       "      <td>0.985229</td>\n",
       "      <td>0.984122</td>\n",
       "      <td>0.986233</td>\n",
       "      <td>...</td>\n",
       "      <td>0.986807</td>\n",
       "      <td>0.981098</td>\n",
       "      <td>0.136827</td>\n",
       "      <td>0.136827</td>\n",
       "      <td>0.013892</td>\n",
       "      <td>0.861134</td>\n",
       "      <td>0.137096</td>\n",
       "      <td>5.428077</td>\n",
       "      <td>1.0</td>\n",
       "      <td>6</td>\n",
       "    </tr>\n",
       "    <tr>\n",
       "      <th>2016-05-09 00:20:00</th>\n",
       "      <td>0.929761</td>\n",
       "      <td>0.928335</td>\n",
       "      <td>0.901928</td>\n",
       "      <td>0.918355</td>\n",
       "      <td>0.927523</td>\n",
       "      <td>0.983527</td>\n",
       "      <td>0.984021</td>\n",
       "      <td>0.985229</td>\n",
       "      <td>0.984002</td>\n",
       "      <td>0.986233</td>\n",
       "      <td>...</td>\n",
       "      <td>0.986928</td>\n",
       "      <td>0.981018</td>\n",
       "      <td>0.139103</td>\n",
       "      <td>0.139103</td>\n",
       "      <td>0.013577</td>\n",
       "      <td>0.861548</td>\n",
       "      <td>0.137096</td>\n",
       "      <td>5.428077</td>\n",
       "      <td>1.0</td>\n",
       "      <td>6</td>\n",
       "    </tr>\n",
       "    <tr>\n",
       "      <th>2016-05-09 00:30:00</th>\n",
       "      <td>0.929761</td>\n",
       "      <td>0.928453</td>\n",
       "      <td>0.902433</td>\n",
       "      <td>0.918355</td>\n",
       "      <td>0.927523</td>\n",
       "      <td>0.983527</td>\n",
       "      <td>0.984298</td>\n",
       "      <td>0.985229</td>\n",
       "      <td>0.984272</td>\n",
       "      <td>0.986233</td>\n",
       "      <td>...</td>\n",
       "      <td>0.987079</td>\n",
       "      <td>0.982133</td>\n",
       "      <td>0.136562</td>\n",
       "      <td>0.136562</td>\n",
       "      <td>0.014364</td>\n",
       "      <td>0.861312</td>\n",
       "      <td>0.137096</td>\n",
       "      <td>5.428077</td>\n",
       "      <td>1.0</td>\n",
       "      <td>6</td>\n",
       "    </tr>\n",
       "    <tr>\n",
       "      <th>2016-05-09 00:40:00</th>\n",
       "      <td>0.929761</td>\n",
       "      <td>0.928571</td>\n",
       "      <td>0.902106</td>\n",
       "      <td>0.918355</td>\n",
       "      <td>0.927523</td>\n",
       "      <td>0.983527</td>\n",
       "      <td>0.984298</td>\n",
       "      <td>0.985229</td>\n",
       "      <td>0.984391</td>\n",
       "      <td>0.986233</td>\n",
       "      <td>...</td>\n",
       "      <td>0.987079</td>\n",
       "      <td>0.982107</td>\n",
       "      <td>0.130396</td>\n",
       "      <td>0.130396</td>\n",
       "      <td>0.012751</td>\n",
       "      <td>0.861608</td>\n",
       "      <td>0.137096</td>\n",
       "      <td>5.428077</td>\n",
       "      <td>1.0</td>\n",
       "      <td>6</td>\n",
       "    </tr>\n",
       "  </tbody>\n",
       "</table>\n",
       "<p>5 rows × 39 columns</p>\n",
       "</div>"
      ],
      "text/plain": [
       "                     MLPAP_TI-0706B02  MLPAP_TI-0706B03  MLPAP_TI-0706B05  \\\n",
       "2016-05-09 00:00:00          0.929761          0.928483          0.902284   \n",
       "2016-05-09 00:10:00          0.929761          0.928424          0.902284   \n",
       "2016-05-09 00:20:00          0.929761          0.928335          0.901928   \n",
       "2016-05-09 00:30:00          0.929761          0.928453          0.902433   \n",
       "2016-05-09 00:40:00          0.929761          0.928571          0.902106   \n",
       "\n",
       "                     MLPAP_TI-0706B06  MLPAP_TI-0706B07  MLPAP_TI-0706B10  \\\n",
       "2016-05-09 00:00:00          0.918713          0.927523          0.983527   \n",
       "2016-05-09 00:10:00          0.918355          0.927523          0.983527   \n",
       "2016-05-09 00:20:00          0.918355          0.927523          0.983527   \n",
       "2016-05-09 00:30:00          0.918355          0.927523          0.983527   \n",
       "2016-05-09 00:40:00          0.918355          0.927523          0.983527   \n",
       "\n",
       "                     MLPAP_TI-0706B14  MLPAP_TI-0706B16  MLPAP_TI-0706B18  \\\n",
       "2016-05-09 00:00:00          0.984021          0.985352          0.984122   \n",
       "2016-05-09 00:10:00          0.984298          0.985229          0.984122   \n",
       "2016-05-09 00:20:00          0.984021          0.985229          0.984002   \n",
       "2016-05-09 00:30:00          0.984298          0.985229          0.984272   \n",
       "2016-05-09 00:40:00          0.984298          0.985229          0.984391   \n",
       "\n",
       "                     MLPAP_TI-0706B19  ...  MLPAP_TIC-0757A.PV  \\\n",
       "2016-05-09 00:00:00          0.986233  ...            0.986807   \n",
       "2016-05-09 00:10:00          0.986233  ...            0.986807   \n",
       "2016-05-09 00:20:00          0.986233  ...            0.986928   \n",
       "2016-05-09 00:30:00          0.986233  ...            0.987079   \n",
       "2016-05-09 00:40:00          0.986233  ...            0.987079   \n",
       "\n",
       "                     MLPAP_TRC-0762.PV  MLPAP_FR-0755.PV  \\\n",
       "2016-05-09 00:00:00           0.981417          0.131957   \n",
       "2016-05-09 00:10:00           0.981098          0.136827   \n",
       "2016-05-09 00:20:00           0.981018          0.139103   \n",
       "2016-05-09 00:30:00           0.982133          0.136562   \n",
       "2016-05-09 00:40:00           0.982107          0.130396   \n",
       "\n",
       "                     MLPAP_FR-0755PV(轉換後)  MLPAP_FR-0791.PV  \\\n",
       "2016-05-09 00:00:00              0.131957          0.015033   \n",
       "2016-05-09 00:10:00              0.136827          0.013892   \n",
       "2016-05-09 00:20:00              0.139103          0.013577   \n",
       "2016-05-09 00:30:00              0.136562          0.014364   \n",
       "2016-05-09 00:40:00              0.130396          0.012751   \n",
       "\n",
       "                     MLPAP_TIC-0757.PV  MLPAP_V125-PHD    target  \\\n",
       "2016-05-09 00:00:00           0.861312        0.137096  5.428077   \n",
       "2016-05-09 00:10:00           0.861134        0.137096  5.428077   \n",
       "2016-05-09 00:20:00           0.861548        0.137096  5.428077   \n",
       "2016-05-09 00:30:00           0.861312        0.137096  5.428077   \n",
       "2016-05-09 00:40:00           0.861608        0.137096  5.428077   \n",
       "\n",
       "                     target_over_range  over_range_num  \n",
       "2016-05-09 00:00:00                1.0               6  \n",
       "2016-05-09 00:10:00                1.0               6  \n",
       "2016-05-09 00:20:00                1.0               6  \n",
       "2016-05-09 00:30:00                1.0               6  \n",
       "2016-05-09 00:40:00                1.0               6  \n",
       "\n",
       "[5 rows x 39 columns]"
      ]
     },
     "execution_count": 8,
     "metadata": {},
     "output_type": "execute_result"
    }
   ],
   "source": [
    "from sklearn.preprocessing import MinMaxScaler\n",
    "\n",
    "x_col = df.drop(['target','target_over_range','over_range_num'],axis=1).columns.tolist()\n",
    "y_col = 'target'\n",
    "\n",
    "mm = MinMaxScaler()\n",
    "df[x_col] = mm.fit_transform(df[x_col])\n",
    "\n",
    "print(df.shape)\n",
    "df.head()"
   ]
  },
  {
   "cell_type": "markdown",
   "metadata": {},
   "source": [
    "# stack time_step"
   ]
  },
  {
   "cell_type": "code",
   "execution_count": 9,
   "metadata": {},
   "outputs": [],
   "source": [
    "def train_windows(df, ref_day=6*6, predict_day=1):\n",
    "    X_train, Y_train, i_lst = [], [], []\n",
    "    for i in tqdm(range(df.shape[0]-predict_day-ref_day)):\n",
    "        # C1 目標值在正常範圍\n",
    "        C1 = (df.iloc[i+ref_day:i+ref_day+predict_day]['target_over_range'][0] == 0)\n",
    "        # C2 特徵值皆在正常範圍\n",
    "        C2 = (df.iloc[i:i+ref_day+predict_day]['over_range_num'].mean() == 0)\n",
    "        # 如果條件成立 才製作一組 (X,y)pair\n",
    "        if C1&C2: \n",
    "            X_train.append(np.array(df.iloc[i:i+ref_day][x_col]))\n",
    "            Y_train.append(np.array(df.iloc[i+ref_day:i+ref_day+predict_day][y_col]))\n",
    "            i_lst.append(df.iloc[i+ref_day:i+ref_day+predict_day].index[0])\n",
    "    # 重整格式\n",
    "    X_train = np.array(X_train)\n",
    "    Y_train = pd.Series(np.array(Y_train).ravel(),index=i_lst,name='y')\n",
    "    return X_train, Y_train"
   ]
  },
  {
   "cell_type": "code",
   "execution_count": 10,
   "metadata": {},
   "outputs": [
    {
     "name": "stderr",
     "output_type": "stream",
     "text": [
      "/workspace/conda/lib/python3.6/site-packages/ipykernel_launcher.py:3: TqdmDeprecationWarning: This function will be removed in tqdm==5.0.0\n",
      "Please use `tqdm.notebook.tqdm` instead of `tqdm.tqdm_notebook`\n",
      "  This is separate from the ipykernel package so we can avoid doing imports until\n"
     ]
    },
    {
     "data": {
      "application/vnd.jupyter.widget-view+json": {
       "model_id": "275a0fbc0aa243998ef34674d73b9cfa",
       "version_major": 2,
       "version_minor": 0
      },
      "text/plain": [
       "HBox(children=(FloatProgress(value=0.0, max=52667.0), HTML(value='')))"
      ]
     },
     "metadata": {},
     "output_type": "display_data"
    },
    {
     "name": "stdout",
     "output_type": "stream",
     "text": [
      "\n",
      "(35045, 36, 36) (35045,)\n"
     ]
    }
   ],
   "source": [
    "X, y = train_windows(df, ref_day=36, predict_day=1)\n",
    "print(X.shape,y.shape)"
   ]
  },
  {
   "cell_type": "markdown",
   "metadata": {},
   "source": [
    "# Visualization"
   ]
  },
  {
   "cell_type": "code",
   "execution_count": 11,
   "metadata": {},
   "outputs": [
    {
     "name": "stdout",
     "output_type": "stream",
     "text": [
      "(36, 36)\n"
     ]
    },
    {
     "data": {
      "image/png": "[encoded data removed]",
      "text/plain": [
       "<Figure size 720x720 with 9 Axes>"
      ]
     },
     "metadata": {
      "needs_background": "light"
     },
     "output_type": "display_data"
    }
   ],
   "source": [
    "%matplotlib inline\n",
    "plt.figure(figsize=(10,10))\n",
    "plt.subplots_adjust(wspace =0.3, hspace =0.3)\n",
    "print(X[0].shape)\n",
    "for i in range(0,9):\n",
    "    plt.subplot(330 + (i+1))\n",
    "    idx = np.random.randint(0,len(X))\n",
    "    plt.imshow(X[idx])\n",
    "    plt.title(y[idx])"
   ]
  },
  {
   "cell_type": "markdown",
   "metadata": {},
   "source": [
    "# reshape"
   ]
  },
  {
   "cell_type": "code",
   "execution_count": 12,
   "metadata": {},
   "outputs": [
    {
     "name": "stdout",
     "output_type": "stream",
     "text": [
      "(35045, 36, 36, 1) (35045,)\n"
     ]
    }
   ],
   "source": [
    "X = X.reshape(-1,X[0].shape[0],X[0].shape[1],1)\n",
    "print(X.shape,y.shape)"
   ]
  },
  {
   "cell_type": "markdown",
   "metadata": {},
   "source": [
    "# split"
   ]
  },
  {
   "cell_type": "code",
   "execution_count": 13,
   "metadata": {},
   "outputs": [
    {
     "name": "stdout",
     "output_type": "stream",
     "text": [
      "(28036, 36, 36, 1) (28036,)\n",
      "(3504, 36, 36, 1) (3504,)\n",
      "(3505, 36, 36, 1) (3505,)\n"
     ]
    }
   ],
   "source": [
    "train_len = int(len(X)*0.8)\n",
    "X_train,X_val_test = X[:train_len],X[train_len:]\n",
    "y_train,y_val_test = y[:train_len],y[train_len:]\n",
    "\n",
    "val_len = int(len(X_val_test)*0.5)\n",
    "X_val,X_test = X_val_test[:val_len],X_val_test[val_len:]\n",
    "y_val,y_test = y_val_test[:val_len],y_val_test[val_len:]\n",
    "\n",
    "print(X_train.shape,y_train.shape)\n",
    "print(X_val.shape,y_val.shape)\n",
    "print(X_test.shape,y_test.shape)"
   ]
  },
  {
   "cell_type": "markdown",
   "metadata": {},
   "source": [
    "# Model"
   ]
  },
  {
   "cell_type": "code",
   "execution_count": 14,
   "metadata": {},
   "outputs": [
    {
     "name": "stderr",
     "output_type": "stream",
     "text": [
      "Using TensorFlow backend.\n",
      "/workspace/conda/lib/python3.6/site-packages/tensorflow/python/framework/dtypes.py:523: FutureWarning: Passing (type, 1) or '1type' as a synonym of type is deprecated; in a future version of numpy, it will be understood as (type, (1,)) / '(1,)type'.\n",
      "  _np_qint8 = np.dtype([(\"qint8\", np.int8, 1)])\n",
      "/workspace/conda/lib/python3.6/site-packages/tensorflow/python/framework/dtypes.py:524: FutureWarning: Passing (type, 1) or '1type' as a synonym of type is deprecated; in a future version of numpy, it will be understood as (type, (1,)) / '(1,)type'.\n",
      "  _np_quint8 = np.dtype([(\"quint8\", np.uint8, 1)])\n",
      "/workspace/conda/lib/python3.6/site-packages/tensorflow/python/framework/dtypes.py:525: FutureWarning: Passing (type, 1) or '1type' as a synonym of type is deprecated; in a future version of numpy, it will be understood as (type, (1,)) / '(1,)type'.\n",
      "  _np_qint16 = np.dtype([(\"qint16\", np.int16, 1)])\n",
      "/workspace/conda/lib/python3.6/site-packages/tensorflow/python/framework/dtypes.py:526: FutureWarning: Passing (type, 1) or '1type' as a synonym of type is deprecated; in a future version of numpy, it will be understood as (type, (1,)) / '(1,)type'.\n",
      "  _np_quint16 = np.dtype([(\"quint16\", np.uint16, 1)])\n",
      "/workspace/conda/lib/python3.6/site-packages/tensorflow/python/framework/dtypes.py:527: FutureWarning: Passing (type, 1) or '1type' as a synonym of type is deprecated; in a future version of numpy, it will be understood as (type, (1,)) / '(1,)type'.\n",
      "  _np_qint32 = np.dtype([(\"qint32\", np.int32, 1)])\n",
      "/workspace/conda/lib/python3.6/site-packages/tensorflow/python/framework/dtypes.py:532: FutureWarning: Passing (type, 1) or '1type' as a synonym of type is deprecated; in a future version of numpy, it will be understood as (type, (1,)) / '(1,)type'.\n",
      "  np_resource = np.dtype([(\"resource\", np.ubyte, 1)])\n"
     ]
    }
   ],
   "source": [
    "from keras import backend as K\n",
    "from keras.models import Sequential\n",
    "from keras.layers import Dense, Dropout, Lambda, Flatten, BatchNormalization\n",
    "from keras.layers import Conv2D, MaxPool2D, AvgPool2D\n",
    "from keras.optimizers import Adam\n",
    "import warnings;warnings.simplefilter('ignore')"
   ]
  },
  {
   "cell_type": "code",
   "execution_count": 15,
   "metadata": {},
   "outputs": [
    {
     "name": "stdout",
     "output_type": "stream",
     "text": [
      "_________________________________________________________________\n",
      "Layer (type)                 Output Shape              Param #   \n",
      "=================================================================\n",
      "conv2d_1 (Conv2D)            (None, 36, 36, 8)         80        \n",
      "_________________________________________________________________\n",
      "conv2d_2 (Conv2D)            (None, 36, 36, 16)        1168      \n",
      "_________________________________________________________________\n",
      "max_pooling2d_1 (MaxPooling2 (None, 12, 12, 16)        0         \n",
      "_________________________________________________________________\n",
      "flatten_1 (Flatten)          (None, 2304)              0         \n",
      "_________________________________________________________________\n",
      "dropout_1 (Dropout)          (None, 2304)              0         \n",
      "_________________________________________________________________\n",
      "dense_1 (Dense)              (None, 128)               295040    \n",
      "_________________________________________________________________\n",
      "dropout_2 (Dropout)          (None, 128)               0         \n",
      "_________________________________________________________________\n",
      "dense_2 (Dense)              (None, 1)                 129       \n",
      "=================================================================\n",
      "Total params: 296,417\n",
      "Trainable params: 296,417\n",
      "Non-trainable params: 0\n",
      "_________________________________________________________________\n"
     ]
    }
   ],
   "source": [
    "model = Sequential()\n",
    "\n",
    "model.add(Conv2D(filters=8, kernel_size=(3,3), padding='same', activation='relu', input_shape=X[0].shape))\n",
    "model.add(Conv2D(filters=16, kernel_size=(3,3), padding='same', activation='relu'))\n",
    "model.add(MaxPool2D(pool_size=(3,3)))\n",
    "model.add(Flatten())\n",
    "model.add(Dropout(0.25))\n",
    "model.add(Dense(128))\n",
    "model.add(Dropout(0.25))\n",
    "model.add(Dense(1))\n",
    "model.summary()"
   ]
  },
  {
   "cell_type": "code",
   "execution_count": 16,
   "metadata": {},
   "outputs": [],
   "source": [
    "model.compile(optimizer=Adam(lr=0.0001), loss=\"mse\", metrics=[\"mse\"])"
   ]
  },
  {
   "cell_type": "code",
   "execution_count": 17,
   "metadata": {},
   "outputs": [],
   "source": [
    "from keras.callbacks import EarlyStopping\n",
    "es = EarlyStopping(monitor='val_loss',min_delta=0,patience=10,mode='min')"
   ]
  },
  {
   "cell_type": "markdown",
   "metadata": {},
   "source": [
    "# fit"
   ]
  },
  {
   "cell_type": "code",
   "execution_count": 18,
   "metadata": {},
   "outputs": [
    {
     "name": "stdout",
     "output_type": "stream",
     "text": [
      "Train on 28036 samples, validate on 3504 samples\n",
      "Epoch 1/15\n",
      "28036/28036 [==============================] - 4s 138us/step - loss: 0.1237 - mean_squared_error: 0.1237 - val_loss: 3.9293e-04 - val_mean_squared_error: 3.9293e-04\n",
      "Epoch 2/15\n",
      "28036/28036 [==============================] - 1s 22us/step - loss: 0.0379 - mean_squared_error: 0.0379 - val_loss: 2.7542e-04 - val_mean_squared_error: 2.7542e-04\n",
      "Epoch 3/15\n",
      "28036/28036 [==============================] - 1s 23us/step - loss: 0.0214 - mean_squared_error: 0.0214 - val_loss: 2.0806e-04 - val_mean_squared_error: 2.0806e-04\n",
      "Epoch 4/15\n",
      "28036/28036 [==============================] - 1s 23us/step - loss: 0.0142 - mean_squared_error: 0.0142 - val_loss: 1.7089e-04 - val_mean_squared_error: 1.7089e-04\n",
      "Epoch 5/15\n",
      "28036/28036 [==============================] - 1s 23us/step - loss: 0.0104 - mean_squared_error: 0.0104 - val_loss: 2.5831e-04 - val_mean_squared_error: 2.5831e-04\n",
      "Epoch 6/15\n",
      "28036/28036 [==============================] - 1s 23us/step - loss: 0.0081 - mean_squared_error: 0.0081 - val_loss: 3.2600e-04 - val_mean_squared_error: 3.2600e-04\n",
      "Epoch 7/15\n",
      "28036/28036 [==============================] - 1s 23us/step - loss: 0.0068 - mean_squared_error: 0.0068 - val_loss: 2.3779e-04 - val_mean_squared_error: 2.3779e-04\n",
      "Epoch 8/15\n",
      "28036/28036 [==============================] - 1s 23us/step - loss: 0.0059 - mean_squared_error: 0.0059 - val_loss: 2.2289e-04 - val_mean_squared_error: 2.2289e-04\n",
      "Epoch 9/15\n",
      "28036/28036 [==============================] - 1s 23us/step - loss: 0.0052 - mean_squared_error: 0.0052 - val_loss: 1.6426e-04 - val_mean_squared_error: 1.6426e-04\n",
      "Epoch 10/15\n",
      "28036/28036 [==============================] - 1s 23us/step - loss: 0.0047 - mean_squared_error: 0.0047 - val_loss: 1.6756e-04 - val_mean_squared_error: 1.6756e-04\n",
      "Epoch 11/15\n",
      "28036/28036 [==============================] - 1s 24us/step - loss: 0.0044 - mean_squared_error: 0.0044 - val_loss: 1.7463e-04 - val_mean_squared_error: 1.7463e-04\n",
      "Epoch 12/15\n",
      "28036/28036 [==============================] - 1s 24us/step - loss: 0.0041 - mean_squared_error: 0.0041 - val_loss: 2.4144e-04 - val_mean_squared_error: 2.4144e-04\n",
      "Epoch 13/15\n",
      "28036/28036 [==============================] - 1s 24us/step - loss: 0.0040 - mean_squared_error: 0.0040 - val_loss: 2.2827e-04 - val_mean_squared_error: 2.2827e-04\n",
      "Epoch 14/15\n",
      "28036/28036 [==============================] - 1s 24us/step - loss: 0.0038 - mean_squared_error: 0.0038 - val_loss: 2.0014e-04 - val_mean_squared_error: 2.0014e-04\n",
      "Epoch 15/15\n",
      "28036/28036 [==============================] - 1s 24us/step - loss: 0.0036 - mean_squared_error: 0.0036 - val_loss: 2.0160e-04 - val_mean_squared_error: 2.0160e-04\n"
     ]
    }
   ],
   "source": [
    "history = model.fit(X_train,y_train,\n",
    "                    batch_size = 256,\n",
    "                    epochs = 15,\n",
    "                    validation_data = (X_val,y_val),\n",
    "                    verbose = 1,\n",
    "                    callbacks = [es])"
   ]
  },
  {
   "cell_type": "markdown",
   "metadata": {},
   "source": [
    "# eval"
   ]
  },
  {
   "cell_type": "code",
   "execution_count": 19,
   "metadata": {},
   "outputs": [
    {
     "data": {
      "text/plain": [
       "<matplotlib.legend.Legend at 0x7f6e5c2850f0>"
      ]
     },
     "execution_count": 19,
     "metadata": {},
     "output_type": "execute_result"
    },
    {
     "data": {
      "image/png": "[encoded data removed]",
      "text/plain": [
       "<Figure size 432x288 with 1 Axes>"
      ]
     },
     "metadata": {
      "needs_background": "light"
     },
     "output_type": "display_data"
    }
   ],
   "source": [
    "n = 0\n",
    "plt.plot(history.history['loss'][n:], color='b', label=\"Training loss\")\n",
    "plt.plot(history.history['val_loss'][n:], color='r', label=\"Validation loss\")\n",
    "plt.legend()"
   ]
  },
  {
   "cell_type": "code",
   "execution_count": 20,
   "metadata": {},
   "outputs": [
    {
     "data": {
      "text/plain": [
       "7194"
      ]
     },
     "execution_count": 20,
     "metadata": {},
     "output_type": "execute_result"
    }
   ],
   "source": [
    "import gc \n",
    "gc.collect()"
   ]
  },
  {
   "cell_type": "markdown",
   "metadata": {},
   "source": [
    "# plot predict line"
   ]
  },
  {
   "cell_type": "code",
   "execution_count": 29,
   "metadata": {},
   "outputs": [],
   "source": [
    "from sklearn.metrics import r2_score,mean_squared_error\n",
    "from math import sqrt\n",
    "\n",
    "def mape(y_true, y_pred): \n",
    "    y_true, y_pred = np.array(y_true), np.array(y_pred)\n",
    "    return np.mean(np.abs((y_true - y_pred) / y_true)) * 100\n",
    "\n",
    "def metric(y_true,y_pred,name):\n",
    "    t = pd.DataFrame(index=[name])\n",
    "    t['r2'] = r2_score(y_true,y_pred)\n",
    "    t['rmse'] = sqrt(mean_squared_error(y_true,y_pred))\n",
    "    t['mape'] = mape(y_true,y_pred)\n",
    "    t = t.apply(lambda x:round(x,4))\n",
    "    return t\n",
    "\n",
    "def plot_predict(y_true,y_pred,name):\n",
    "    # sort index\n",
    "    y_pred = y_pred.sort_index()\n",
    "    y_true = y_true.sort_index()\n",
    "    # plot\n",
    "    plot_data = pd.concat([y_pred,y_true],axis=1)\n",
    "    n = int(len(y_pred)/200)\n",
    "    plot_data.rolling(n).mean().plot()\n",
    "    plt.title('move_avg {}'.format(n))\n",
    "    plt.show()\n",
    "    # score\n",
    "    print(metric(y_true,y_pred,name))"
   ]
  },
  {
   "cell_type": "code",
   "execution_count": 30,
   "metadata": {},
   "outputs": [
    {
     "data": {
      "image/png": "[encoded data removed]",
      "text/plain": [
       "<Figure size 432x288 with 1 Axes>"
      ]
     },
     "metadata": {
      "needs_background": "light"
     },
     "output_type": "display_data"
    },
    {
     "name": "stdout",
     "output_type": "stream",
     "text": [
      "           r2    rmse    mape\n",
      "train -0.5446  0.0142  1.4157\n"
     ]
    }
   ],
   "source": [
    "y_pred = model.predict(X_train).ravel()\n",
    "y_pred = pd.DataFrame(y_pred,index=y_train.index,columns=['y_pred'])\n",
    "plot_predict(y_train,y_pred,'train')"
   ]
  },
  {
   "cell_type": "code",
   "execution_count": 31,
   "metadata": {},
   "outputs": [
    {
     "data": {
      "image/png": "[encoded data removed]",
      "text/plain": [
       "<Figure size 432x288 with 1 Axes>"
      ]
     },
     "metadata": {
      "needs_background": "light"
     },
     "output_type": "display_data"
    },
    {
     "name": "stdout",
     "output_type": "stream",
     "text": [
      "         r2    rmse    mape\n",
      "val -0.3519  0.0142  1.2403\n"
     ]
    }
   ],
   "source": [
    "y_pred = model.predict(X_val).ravel()\n",
    "y_pred = pd.DataFrame(y_pred,index=y_val.index,columns=['y_pred'])\n",
    "plot_predict(y_val,y_pred,'val')"
   ]
  },
  {
   "cell_type": "code",
   "execution_count": 32,
   "metadata": {},
   "outputs": [
    {
     "data": {
      "image/png": "[encoded data removed]",
      "text/plain": [
       "<Figure size 432x288 with 1 Axes>"
      ]
     },
     "metadata": {
      "needs_background": "light"
     },
     "output_type": "display_data"
    },
    {
     "name": "stdout",
     "output_type": "stream",
     "text": [
      "          r2    rmse    mape\n",
      "test -0.3413  0.0157  1.3567\n"
     ]
    }
   ],
   "source": [
    "y_pred = model.predict(X_test).ravel()\n",
    "y_pred = pd.DataFrame(y_pred,index=y_test.index,columns=['y_pred'])\n",
    "plot_predict(y_test,y_pred,'test')"
   ]
  },
  {
   "cell_type": "code",
   "execution_count": null,
   "metadata": {},
   "outputs": [],
   "source": []
  }
 ],
 "metadata": {
  "kernelspec": {
   "display_name": "Python 3",
   "language": "python",
   "name": "python3"
  },
  "language_info": {
   "codemirror_mode": {
    "name": "ipython",
    "version": 3
   },
   "file_extension": ".py",
   "mimetype": "text/x-python",
   "name": "python",
   "nbconvert_exporter": "python",
   "pygments_lexer": "ipython3",
   "version": "3.6.9"
  }
 },
 "nbformat": 4,
 "nbformat_minor": 2
}
