{
 "cells": [
  {
   "cell_type": "markdown",
   "metadata": {},
   "source": [
    "## import os "
   ]
  },
  {
   "cell_type": "code",
   "execution_count": 1,
   "metadata": {},
   "outputs": [
    {
     "data": {
      "text/plain": [
       "['train.csv',\n",
       " 'DataCleaning.ipynb',\n",
       " 'PA_201605-2012001更新R6(20190509).xlsx',\n",
       " 'tag盤點表.xlsx',\n",
       " 'xgboost.ipynb',\n",
       " 'train_FeatureSelected.csv',\n",
       " 'feature select.ipynb',\n",
       " 'tpot_pa_pipeline.py',\n",
       " 'TPOT.ipynb',\n",
       " 'cnn-time-stack.ipynb',\n",
       " '.ipynb_checkpoints']"
      ]
     },
     "execution_count": 1,
     "metadata": {},
     "output_type": "execute_result"
    }
   ],
   "source": [
    "import os\n",
    "os.listdir()"
   ]
  },
  {
   "cell_type": "code",
   "execution_count": 2,
   "metadata": {},
   "outputs": [],
   "source": [
    "import pandas as pd\n",
    "import matplotlib.pyplot as plt\n",
    "import matplotlib.image as mpimg\n",
    "import numpy as np\n",
    "import seaborn as sns\n",
    "from tqdm import tqdm_notebook as tqdm"
   ]
  },
  {
   "cell_type": "markdown",
   "metadata": {},
   "source": [
    "# load"
   ]
  },
  {
   "cell_type": "code",
   "execution_count": 3,
   "metadata": {},
   "outputs": [
    {
     "name": "stdout",
     "output_type": "stream",
     "text": [
      "(122775, 16)\n"
     ]
    },
    {
     "data": {
      "text/html": [
       "<div>\n",
       "<style scoped>\n",
       "    .dataframe tbody tr th:only-of-type {\n",
       "        vertical-align: middle;\n",
       "    }\n",
       "\n",
       "    .dataframe tbody tr th {\n",
       "        vertical-align: top;\n",
       "    }\n",
       "\n",
       "    .dataframe thead th {\n",
       "        text-align: right;\n",
       "    }\n",
       "</style>\n",
       "<table border=\"1\" class=\"dataframe\">\n",
       "  <thead>\n",
       "    <tr style=\"text-align: right;\">\n",
       "      <th></th>\n",
       "      <th>MLPAP_TI-0706B10</th>\n",
       "      <th>MLPAP_TI-0706B15</th>\n",
       "      <th>MLPAP_TI-0706B21</th>\n",
       "      <th>MLPAP_TI-0716A03</th>\n",
       "      <th>MLPAP_TI-0716A05</th>\n",
       "      <th>MLPAP_TJR-0720A1.PV</th>\n",
       "      <th>MLPAP_TJR-0720B2.PV</th>\n",
       "      <th>MLPAP_TJR-0762A1.PV</th>\n",
       "      <th>MLPAP_TI-0706B01</th>\n",
       "      <th>MLPAP_TRC-0610.PV</th>\n",
       "      <th>MLPAP_TIC-1721.PV</th>\n",
       "      <th>MLPAP_TRC-1734.PV</th>\n",
       "      <th>MLPAP_FR-0755.PV</th>\n",
       "      <th>MLPAP_TIC-0757.PV</th>\n",
       "      <th>MLPAP_V125-PHD</th>\n",
       "      <th>target</th>\n",
       "    </tr>\n",
       "  </thead>\n",
       "  <tbody>\n",
       "    <tr>\n",
       "      <th>0</th>\n",
       "      <td>-0.883078</td>\n",
       "      <td>0.436520</td>\n",
       "      <td>0.527857</td>\n",
       "      <td>2.885848</td>\n",
       "      <td>0.448321</td>\n",
       "      <td>0.677295</td>\n",
       "      <td>0.881300</td>\n",
       "      <td>0.796872</td>\n",
       "      <td>0.633992</td>\n",
       "      <td>3.036852</td>\n",
       "      <td>3.099501</td>\n",
       "      <td>0.608934</td>\n",
       "      <td>-2.619894</td>\n",
       "      <td>-1.015438</td>\n",
       "      <td>-0.088287</td>\n",
       "      <td>0.914125</td>\n",
       "    </tr>\n",
       "    <tr>\n",
       "      <th>1</th>\n",
       "      <td>-0.883078</td>\n",
       "      <td>0.436520</td>\n",
       "      <td>0.527857</td>\n",
       "      <td>2.885848</td>\n",
       "      <td>0.448321</td>\n",
       "      <td>0.677122</td>\n",
       "      <td>0.881648</td>\n",
       "      <td>0.797089</td>\n",
       "      <td>0.633992</td>\n",
       "      <td>2.864041</td>\n",
       "      <td>3.272350</td>\n",
       "      <td>0.447358</td>\n",
       "      <td>-2.614712</td>\n",
       "      <td>-0.982340</td>\n",
       "      <td>-0.088287</td>\n",
       "      <td>0.919765</td>\n",
       "    </tr>\n",
       "    <tr>\n",
       "      <th>2</th>\n",
       "      <td>-0.883078</td>\n",
       "      <td>0.436830</td>\n",
       "      <td>0.527857</td>\n",
       "      <td>2.885848</td>\n",
       "      <td>0.448321</td>\n",
       "      <td>0.677619</td>\n",
       "      <td>0.881571</td>\n",
       "      <td>0.796987</td>\n",
       "      <td>0.633992</td>\n",
       "      <td>3.006620</td>\n",
       "      <td>3.596289</td>\n",
       "      <td>-0.634915</td>\n",
       "      <td>-2.617016</td>\n",
       "      <td>-0.975999</td>\n",
       "      <td>-0.088287</td>\n",
       "      <td>0.926346</td>\n",
       "    </tr>\n",
       "    <tr>\n",
       "      <th>3</th>\n",
       "      <td>-1.508446</td>\n",
       "      <td>0.411821</td>\n",
       "      <td>0.395807</td>\n",
       "      <td>2.856863</td>\n",
       "      <td>0.468480</td>\n",
       "      <td>0.641630</td>\n",
       "      <td>0.853312</td>\n",
       "      <td>0.763786</td>\n",
       "      <td>0.601863</td>\n",
       "      <td>1.710665</td>\n",
       "      <td>3.361869</td>\n",
       "      <td>0.769126</td>\n",
       "      <td>-2.612469</td>\n",
       "      <td>-0.840360</td>\n",
       "      <td>-0.088287</td>\n",
       "      <td>0.906781</td>\n",
       "    </tr>\n",
       "    <tr>\n",
       "      <th>4</th>\n",
       "      <td>-1.443246</td>\n",
       "      <td>0.412131</td>\n",
       "      <td>0.395807</td>\n",
       "      <td>2.882331</td>\n",
       "      <td>0.468480</td>\n",
       "      <td>0.642077</td>\n",
       "      <td>0.853810</td>\n",
       "      <td>0.764300</td>\n",
       "      <td>0.603356</td>\n",
       "      <td>1.822449</td>\n",
       "      <td>3.029603</td>\n",
       "      <td>0.528846</td>\n",
       "      <td>-2.620588</td>\n",
       "      <td>-0.868595</td>\n",
       "      <td>-0.088287</td>\n",
       "      <td>0.926688</td>\n",
       "    </tr>\n",
       "  </tbody>\n",
       "</table>\n",
       "</div>"
      ],
      "text/plain": [
       "   MLPAP_TI-0706B10  MLPAP_TI-0706B15  MLPAP_TI-0706B21  MLPAP_TI-0716A03  \\\n",
       "0         -0.883078          0.436520          0.527857          2.885848   \n",
       "1         -0.883078          0.436520          0.527857          2.885848   \n",
       "2         -0.883078          0.436830          0.527857          2.885848   \n",
       "3         -1.508446          0.411821          0.395807          2.856863   \n",
       "4         -1.443246          0.412131          0.395807          2.882331   \n",
       "\n",
       "   MLPAP_TI-0716A05  MLPAP_TJR-0720A1.PV  MLPAP_TJR-0720B2.PV  \\\n",
       "0          0.448321             0.677295             0.881300   \n",
       "1          0.448321             0.677122             0.881648   \n",
       "2          0.448321             0.677619             0.881571   \n",
       "3          0.468480             0.641630             0.853312   \n",
       "4          0.468480             0.642077             0.853810   \n",
       "\n",
       "   MLPAP_TJR-0762A1.PV  MLPAP_TI-0706B01  MLPAP_TRC-0610.PV  \\\n",
       "0             0.796872          0.633992           3.036852   \n",
       "1             0.797089          0.633992           2.864041   \n",
       "2             0.796987          0.633992           3.006620   \n",
       "3             0.763786          0.601863           1.710665   \n",
       "4             0.764300          0.603356           1.822449   \n",
       "\n",
       "   MLPAP_TIC-1721.PV  MLPAP_TRC-1734.PV  MLPAP_FR-0755.PV  MLPAP_TIC-0757.PV  \\\n",
       "0           3.099501           0.608934         -2.619894          -1.015438   \n",
       "1           3.272350           0.447358         -2.614712          -0.982340   \n",
       "2           3.596289          -0.634915         -2.617016          -0.975999   \n",
       "3           3.361869           0.769126         -2.612469          -0.840360   \n",
       "4           3.029603           0.528846         -2.620588          -0.868595   \n",
       "\n",
       "   MLPAP_V125-PHD    target  \n",
       "0       -0.088287  0.914125  \n",
       "1       -0.088287  0.919765  \n",
       "2       -0.088287  0.926346  \n",
       "3       -0.088287  0.906781  \n",
       "4       -0.088287  0.926688  "
      ]
     },
     "execution_count": 3,
     "metadata": {},
     "output_type": "execute_result"
    }
   ],
   "source": [
    "df = pd.read_csv('train_FeatureSelected.csv',index_col = 0,parse_dates = True)\n",
    "print(df.shape)\n",
    "df.head()"
   ]
  },
  {
   "cell_type": "markdown",
   "metadata": {},
   "source": [
    "# scale"
   ]
  },
  {
   "cell_type": "code",
   "execution_count": 4,
   "metadata": {},
   "outputs": [
    {
     "data": {
      "text/html": [
       "<div>\n",
       "<style scoped>\n",
       "    .dataframe tbody tr th:only-of-type {\n",
       "        vertical-align: middle;\n",
       "    }\n",
       "\n",
       "    .dataframe tbody tr th {\n",
       "        vertical-align: top;\n",
       "    }\n",
       "\n",
       "    .dataframe thead th {\n",
       "        text-align: right;\n",
       "    }\n",
       "</style>\n",
       "<table border=\"1\" class=\"dataframe\">\n",
       "  <thead>\n",
       "    <tr style=\"text-align: right;\">\n",
       "      <th></th>\n",
       "      <th>MLPAP_TI-0706B10</th>\n",
       "      <th>MLPAP_TI-0706B15</th>\n",
       "      <th>MLPAP_TI-0706B21</th>\n",
       "      <th>MLPAP_TI-0716A03</th>\n",
       "      <th>MLPAP_TI-0716A05</th>\n",
       "      <th>MLPAP_TJR-0720A1.PV</th>\n",
       "      <th>MLPAP_TJR-0720B2.PV</th>\n",
       "      <th>MLPAP_TJR-0762A1.PV</th>\n",
       "      <th>MLPAP_TI-0706B01</th>\n",
       "      <th>MLPAP_TRC-0610.PV</th>\n",
       "      <th>MLPAP_TIC-1721.PV</th>\n",
       "      <th>MLPAP_TRC-1734.PV</th>\n",
       "      <th>MLPAP_FR-0755.PV</th>\n",
       "      <th>MLPAP_TIC-0757.PV</th>\n",
       "      <th>MLPAP_V125-PHD</th>\n",
       "      <th>target</th>\n",
       "    </tr>\n",
       "  </thead>\n",
       "  <tbody>\n",
       "    <tr>\n",
       "      <th>0</th>\n",
       "      <td>0.803927</td>\n",
       "      <td>0.968352</td>\n",
       "      <td>0.990723</td>\n",
       "      <td>1.000000</td>\n",
       "      <td>0.977663</td>\n",
       "      <td>0.693540</td>\n",
       "      <td>0.999851</td>\n",
       "      <td>0.999915</td>\n",
       "      <td>1.000000</td>\n",
       "      <td>0.870333</td>\n",
       "      <td>0.564397</td>\n",
       "      <td>0.517157</td>\n",
       "      <td>0.091998</td>\n",
       "      <td>0.909638</td>\n",
       "      <td>0.145161</td>\n",
       "      <td>0.914125</td>\n",
       "    </tr>\n",
       "    <tr>\n",
       "      <th>1</th>\n",
       "      <td>0.803927</td>\n",
       "      <td>0.968352</td>\n",
       "      <td>0.990723</td>\n",
       "      <td>1.000000</td>\n",
       "      <td>0.977663</td>\n",
       "      <td>0.693497</td>\n",
       "      <td>1.000000</td>\n",
       "      <td>1.000000</td>\n",
       "      <td>1.000000</td>\n",
       "      <td>0.855041</td>\n",
       "      <td>0.572776</td>\n",
       "      <td>0.504635</td>\n",
       "      <td>0.092996</td>\n",
       "      <td>0.910421</td>\n",
       "      <td>0.145161</td>\n",
       "      <td>0.919765</td>\n",
       "    </tr>\n",
       "    <tr>\n",
       "      <th>2</th>\n",
       "      <td>0.803927</td>\n",
       "      <td>0.968465</td>\n",
       "      <td>0.990723</td>\n",
       "      <td>1.000000</td>\n",
       "      <td>0.977663</td>\n",
       "      <td>0.693619</td>\n",
       "      <td>0.999967</td>\n",
       "      <td>0.999960</td>\n",
       "      <td>1.000000</td>\n",
       "      <td>0.867657</td>\n",
       "      <td>0.588480</td>\n",
       "      <td>0.420763</td>\n",
       "      <td>0.092552</td>\n",
       "      <td>0.910572</td>\n",
       "      <td>0.145161</td>\n",
       "      <td>0.926346</td>\n",
       "    </tr>\n",
       "    <tr>\n",
       "      <th>3</th>\n",
       "      <td>0.757022</td>\n",
       "      <td>0.959309</td>\n",
       "      <td>0.983765</td>\n",
       "      <td>0.999050</td>\n",
       "      <td>0.981970</td>\n",
       "      <td>0.684815</td>\n",
       "      <td>0.987892</td>\n",
       "      <td>0.986978</td>\n",
       "      <td>0.988840</td>\n",
       "      <td>0.752979</td>\n",
       "      <td>0.577116</td>\n",
       "      <td>0.529571</td>\n",
       "      <td>0.093428</td>\n",
       "      <td>0.913783</td>\n",
       "      <td>0.145161</td>\n",
       "      <td>0.906781</td>\n",
       "    </tr>\n",
       "    <tr>\n",
       "      <th>4</th>\n",
       "      <td>0.761912</td>\n",
       "      <td>0.959423</td>\n",
       "      <td>0.983765</td>\n",
       "      <td>0.999885</td>\n",
       "      <td>0.981970</td>\n",
       "      <td>0.684924</td>\n",
       "      <td>0.988105</td>\n",
       "      <td>0.987179</td>\n",
       "      <td>0.989358</td>\n",
       "      <td>0.762871</td>\n",
       "      <td>0.561009</td>\n",
       "      <td>0.510950</td>\n",
       "      <td>0.091865</td>\n",
       "      <td>0.913115</td>\n",
       "      <td>0.145161</td>\n",
       "      <td>0.926688</td>\n",
       "    </tr>\n",
       "  </tbody>\n",
       "</table>\n",
       "</div>"
      ],
      "text/plain": [
       "   MLPAP_TI-0706B10  MLPAP_TI-0706B15  MLPAP_TI-0706B21  MLPAP_TI-0716A03  \\\n",
       "0          0.803927          0.968352          0.990723          1.000000   \n",
       "1          0.803927          0.968352          0.990723          1.000000   \n",
       "2          0.803927          0.968465          0.990723          1.000000   \n",
       "3          0.757022          0.959309          0.983765          0.999050   \n",
       "4          0.761912          0.959423          0.983765          0.999885   \n",
       "\n",
       "   MLPAP_TI-0716A05  MLPAP_TJR-0720A1.PV  MLPAP_TJR-0720B2.PV  \\\n",
       "0          0.977663             0.693540             0.999851   \n",
       "1          0.977663             0.693497             1.000000   \n",
       "2          0.977663             0.693619             0.999967   \n",
       "3          0.981970             0.684815             0.987892   \n",
       "4          0.981970             0.684924             0.988105   \n",
       "\n",
       "   MLPAP_TJR-0762A1.PV  MLPAP_TI-0706B01  MLPAP_TRC-0610.PV  \\\n",
       "0             0.999915          1.000000           0.870333   \n",
       "1             1.000000          1.000000           0.855041   \n",
       "2             0.999960          1.000000           0.867657   \n",
       "3             0.986978          0.988840           0.752979   \n",
       "4             0.987179          0.989358           0.762871   \n",
       "\n",
       "   MLPAP_TIC-1721.PV  MLPAP_TRC-1734.PV  MLPAP_FR-0755.PV  MLPAP_TIC-0757.PV  \\\n",
       "0           0.564397           0.517157          0.091998           0.909638   \n",
       "1           0.572776           0.504635          0.092996           0.910421   \n",
       "2           0.588480           0.420763          0.092552           0.910572   \n",
       "3           0.577116           0.529571          0.093428           0.913783   \n",
       "4           0.561009           0.510950          0.091865           0.913115   \n",
       "\n",
       "   MLPAP_V125-PHD    target  \n",
       "0        0.145161  0.914125  \n",
       "1        0.145161  0.919765  \n",
       "2        0.145161  0.926346  \n",
       "3        0.145161  0.906781  \n",
       "4        0.145161  0.926688  "
      ]
     },
     "execution_count": 4,
     "metadata": {},
     "output_type": "execute_result"
    }
   ],
   "source": [
    "from sklearn.preprocessing import MinMaxScaler\n",
    "\n",
    "x_col = df.drop('target',axis=1).columns.tolist()\n",
    "y_col = 'target'\n",
    "\n",
    "sc = MinMaxScaler()\n",
    "df[x_col] = sc.fit_transform(df[x_col])\n",
    "\n",
    "df.head()"
   ]
  },
  {
   "cell_type": "markdown",
   "metadata": {},
   "source": [
    "# stack"
   ]
  },
  {
   "cell_type": "code",
   "execution_count": 5,
   "metadata": {},
   "outputs": [],
   "source": [
    "step = 15\n",
    "X_lst,y_lst = [],[]\n",
    "x_col = df.drop('target',axis=1).columns.tolist()\n",
    "y_col = 'target'"
   ]
  },
  {
   "cell_type": "code",
   "execution_count": 6,
   "metadata": {},
   "outputs": [
    {
     "data": {
      "application/vnd.jupyter.widget-view+json": {
       "model_id": "53dd8f2d1f29462dab644a795d7d25d2",
       "version_major": 2,
       "version_minor": 0
      },
      "text/plain": [
       "HBox(children=(IntProgress(value=0, max=122760), HTML(value='')))"
      ]
     },
     "metadata": {},
     "output_type": "display_data"
    },
    {
     "name": "stdout",
     "output_type": "stream",
     "text": [
      "\n"
     ]
    }
   ],
   "source": [
    "for i in tqdm(range(0,len(df)-step)):\n",
    "    X_lst.append(df.iloc[i:i+step][x_col])\n",
    "    y_lst.append(df.iloc[i+step][y_col])"
   ]
  },
  {
   "cell_type": "markdown",
   "metadata": {},
   "source": [
    "# Visualization"
   ]
  },
  {
   "cell_type": "code",
   "execution_count": 7,
   "metadata": {},
   "outputs": [
    {
     "data": {
      "image/png": "[encoded data removed]",
      "text/plain": [
       "<Figure size 720x720 with 9 Axes>"
      ]
     },
     "metadata": {
      "needs_background": "light"
     },
     "output_type": "display_data"
    }
   ],
   "source": [
    "%matplotlib inline\n",
    "plt.figure(figsize=(10,10))\n",
    "plt.subplots_adjust(wspace =0.3, hspace =0.3)\n",
    "for i in range(0,9):\n",
    "    plt.subplot(330 + (i+1))\n",
    "    idx = np.random.randint(0,len(X_lst))\n",
    "    plt.imshow(X_lst[idx])\n",
    "    plt.title(y_lst[idx])"
   ]
  },
  {
   "cell_type": "markdown",
   "metadata": {},
   "source": [
    "# split"
   ]
  },
  {
   "cell_type": "code",
   "execution_count": 8,
   "metadata": {},
   "outputs": [
    {
     "name": "stdout",
     "output_type": "stream",
     "text": [
      "(85932, 15, 15, 1) (85932,)\n",
      "(18414, 15, 15, 1) (18414,)\n",
      "(18414, 15, 15, 1) (18414,)\n"
     ]
    }
   ],
   "source": [
    "from sklearn.model_selection import train_test_split\n",
    "\n",
    "# reshape\n",
    "X = np.array([i.values for i in X_lst])\n",
    "X = X.reshape(-1,step,len(x_col),1)\n",
    "y = np.array([i for i in y_lst])\n",
    "\n",
    "# split \n",
    "X_train, X_test, y_train, y_test = train_test_split(X, y, test_size=0.3, random_state = 7)\n",
    "X_val, X_test ,y_val ,y_test = train_test_split(X_test, y_test, test_size=0.5, random_state = 7)\n",
    "\n",
    "print(X_train.shape,y_train.shape)\n",
    "print(X_val.shape,y_val.shape)\n",
    "print(X_test.shape,y_test.shape)"
   ]
  },
  {
   "cell_type": "markdown",
   "metadata": {},
   "source": [
    "# Model"
   ]
  },
  {
   "cell_type": "code",
   "execution_count": 9,
   "metadata": {},
   "outputs": [
    {
     "name": "stderr",
     "output_type": "stream",
     "text": [
      "Using TensorFlow backend.\n",
      "/workspace/conda/lib/python3.6/site-packages/tensorflow/python/framework/dtypes.py:523: FutureWarning: Passing (type, 1) or '1type' as a synonym of type is deprecated; in a future version of numpy, it will be understood as (type, (1,)) / '(1,)type'.\n",
      "  _np_qint8 = np.dtype([(\"qint8\", np.int8, 1)])\n",
      "/workspace/conda/lib/python3.6/site-packages/tensorflow/python/framework/dtypes.py:524: FutureWarning: Passing (type, 1) or '1type' as a synonym of type is deprecated; in a future version of numpy, it will be understood as (type, (1,)) / '(1,)type'.\n",
      "  _np_quint8 = np.dtype([(\"quint8\", np.uint8, 1)])\n",
      "/workspace/conda/lib/python3.6/site-packages/tensorflow/python/framework/dtypes.py:525: FutureWarning: Passing (type, 1) or '1type' as a synonym of type is deprecated; in a future version of numpy, it will be understood as (type, (1,)) / '(1,)type'.\n",
      "  _np_qint16 = np.dtype([(\"qint16\", np.int16, 1)])\n",
      "/workspace/conda/lib/python3.6/site-packages/tensorflow/python/framework/dtypes.py:526: FutureWarning: Passing (type, 1) or '1type' as a synonym of type is deprecated; in a future version of numpy, it will be understood as (type, (1,)) / '(1,)type'.\n",
      "  _np_quint16 = np.dtype([(\"quint16\", np.uint16, 1)])\n",
      "/workspace/conda/lib/python3.6/site-packages/tensorflow/python/framework/dtypes.py:527: FutureWarning: Passing (type, 1) or '1type' as a synonym of type is deprecated; in a future version of numpy, it will be understood as (type, (1,)) / '(1,)type'.\n",
      "  _np_qint32 = np.dtype([(\"qint32\", np.int32, 1)])\n",
      "/workspace/conda/lib/python3.6/site-packages/tensorflow/python/framework/dtypes.py:532: FutureWarning: Passing (type, 1) or '1type' as a synonym of type is deprecated; in a future version of numpy, it will be understood as (type, (1,)) / '(1,)type'.\n",
      "  np_resource = np.dtype([(\"resource\", np.ubyte, 1)])\n"
     ]
    }
   ],
   "source": [
    "from keras import backend as K\n",
    "from keras.models import Sequential\n",
    "from keras.layers import Dense, Dropout, Lambda, Flatten, BatchNormalization\n",
    "from keras.layers import Conv2D, MaxPool2D, AvgPool2D\n",
    "from keras.optimizers import Adam\n",
    "import warnings;warnings.simplefilter('ignore')"
   ]
  },
  {
   "cell_type": "code",
   "execution_count": 10,
   "metadata": {},
   "outputs": [
    {
     "name": "stdout",
     "output_type": "stream",
     "text": [
      "_________________________________________________________________\n",
      "Layer (type)                 Output Shape              Param #   \n",
      "=================================================================\n",
      "conv2d_1 (Conv2D)            (None, 15, 15, 32)        320       \n",
      "_________________________________________________________________\n",
      "conv2d_2 (Conv2D)            (None, 15, 15, 64)        18496     \n",
      "_________________________________________________________________\n",
      "max_pooling2d_1 (MaxPooling2 (None, 7, 7, 64)          0         \n",
      "_________________________________________________________________\n",
      "flatten_1 (Flatten)          (None, 3136)              0         \n",
      "_________________________________________________________________\n",
      "dropout_1 (Dropout)          (None, 3136)              0         \n",
      "_________________________________________________________________\n",
      "dense_1 (Dense)              (None, 128)               401536    \n",
      "_________________________________________________________________\n",
      "dense_2 (Dense)              (None, 1)                 129       \n",
      "=================================================================\n",
      "Total params: 420,481\n",
      "Trainable params: 420,481\n",
      "Non-trainable params: 0\n",
      "_________________________________________________________________\n"
     ]
    }
   ],
   "source": [
    "model = Sequential()\n",
    "\n",
    "model.add(Conv2D(filters=32, kernel_size=(3,3), padding='same', activation='relu', input_shape=X[0].shape))\n",
    "model.add(Conv2D(filters=64, kernel_size=(3,3), padding='same', activation='relu'))\n",
    "model.add(MaxPool2D(pool_size=(2,2)))\n",
    "\n",
    "model.add(Flatten())\n",
    "model.add(Dropout(0.25))\n",
    "model.add(Dense(128))\n",
    "model.add(Dense(1))\n",
    "\n",
    "model.summary()"
   ]
  },
  {
   "cell_type": "code",
   "execution_count": 11,
   "metadata": {},
   "outputs": [],
   "source": [
    "model.compile(optimizer=Adam(lr=0.0001), loss=\"mse\", metrics=[\"mse\"])"
   ]
  },
  {
   "cell_type": "code",
   "execution_count": 12,
   "metadata": {},
   "outputs": [],
   "source": [
    "from keras.callbacks import EarlyStopping\n",
    "es = EarlyStopping(monitor='val_loss',min_delta=0,patience=10,mode='min')"
   ]
  },
  {
   "cell_type": "markdown",
   "metadata": {},
   "source": [
    "# fit"
   ]
  },
  {
   "cell_type": "code",
   "execution_count": 13,
   "metadata": {},
   "outputs": [
    {
     "name": "stdout",
     "output_type": "stream",
     "text": [
      "Train on 85932 samples, validate on 18414 samples\n",
      "Epoch 1/100\n",
      "85932/85932 [==============================] - 5s 56us/step - loss: 0.0243 - mean_squared_error: 0.0243 - val_loss: 1.9327e-04 - val_mean_squared_error: 1.9327e-04\n",
      "Epoch 2/100\n",
      "85932/85932 [==============================] - 2s 18us/step - loss: 0.0031 - mean_squared_error: 0.0031 - val_loss: 1.4687e-04 - val_mean_squared_error: 1.4687e-04\n",
      "Epoch 3/100\n",
      "85932/85932 [==============================] - 2s 18us/step - loss: 0.0018 - mean_squared_error: 0.0018 - val_loss: 1.2967e-04 - val_mean_squared_error: 1.2967e-04\n",
      "Epoch 4/100\n",
      "85932/85932 [==============================] - 2s 18us/step - loss: 0.0012 - mean_squared_error: 0.0012 - val_loss: 1.1738e-04 - val_mean_squared_error: 1.1738e-04\n",
      "Epoch 5/100\n",
      "85932/85932 [==============================] - 2s 19us/step - loss: 8.7166e-04 - mean_squared_error: 8.7166e-04 - val_loss: 1.1485e-04 - val_mean_squared_error: 1.1485e-04\n",
      "Epoch 6/100\n",
      "85932/85932 [==============================] - 2s 19us/step - loss: 6.9658e-04 - mean_squared_error: 6.9658e-04 - val_loss: 1.0282e-04 - val_mean_squared_error: 1.0282e-04\n",
      "Epoch 7/100\n",
      "85932/85932 [==============================] - 2s 18us/step - loss: 5.8355e-04 - mean_squared_error: 5.8355e-04 - val_loss: 1.0508e-04 - val_mean_squared_error: 1.0508e-04\n",
      "Epoch 8/100\n",
      "85932/85932 [==============================] - 2s 18us/step - loss: 4.9962e-04 - mean_squared_error: 4.9962e-04 - val_loss: 1.1859e-04 - val_mean_squared_error: 1.1859e-04\n",
      "Epoch 9/100\n",
      "85932/85932 [==============================] - 2s 19us/step - loss: 4.5002e-04 - mean_squared_error: 4.5002e-04 - val_loss: 9.2065e-05 - val_mean_squared_error: 9.2065e-05\n",
      "Epoch 10/100\n",
      "85932/85932 [==============================] - 2s 19us/step - loss: 4.0117e-04 - mean_squared_error: 4.0117e-04 - val_loss: 1.2994e-04 - val_mean_squared_error: 1.2994e-04\n",
      "Epoch 11/100\n",
      "85932/85932 [==============================] - 2s 19us/step - loss: 3.7605e-04 - mean_squared_error: 3.7605e-04 - val_loss: 8.6659e-05 - val_mean_squared_error: 8.6659e-05\n",
      "Epoch 12/100\n",
      "85932/85932 [==============================] - 2s 19us/step - loss: 3.4963e-04 - mean_squared_error: 3.4963e-04 - val_loss: 8.7255e-05 - val_mean_squared_error: 8.7255e-05\n",
      "Epoch 13/100\n",
      "85932/85932 [==============================] - 2s 19us/step - loss: 3.1750e-04 - mean_squared_error: 3.1750e-04 - val_loss: 8.9872e-05 - val_mean_squared_error: 8.9872e-05\n",
      "Epoch 14/100\n",
      "85932/85932 [==============================] - 2s 19us/step - loss: 3.0380e-04 - mean_squared_error: 3.0380e-04 - val_loss: 8.2173e-05 - val_mean_squared_error: 8.2173e-05\n",
      "Epoch 15/100\n",
      "85932/85932 [==============================] - 2s 19us/step - loss: 2.8723e-04 - mean_squared_error: 2.8723e-04 - val_loss: 8.4202e-05 - val_mean_squared_error: 8.4202e-05\n",
      "Epoch 16/100\n",
      "85932/85932 [==============================] - 2s 19us/step - loss: 2.7944e-04 - mean_squared_error: 2.7944e-04 - val_loss: 3.4250e-04 - val_mean_squared_error: 3.4250e-04\n",
      "Epoch 17/100\n",
      "85932/85932 [==============================] - 2s 19us/step - loss: 2.5714e-04 - mean_squared_error: 2.5714e-04 - val_loss: 8.2597e-05 - val_mean_squared_error: 8.2597e-05\n",
      "Epoch 18/100\n",
      "85932/85932 [==============================] - 2s 19us/step - loss: 2.3956e-04 - mean_squared_error: 2.3956e-04 - val_loss: 7.8812e-05 - val_mean_squared_error: 7.8812e-05\n",
      "Epoch 19/100\n",
      "85932/85932 [==============================] - 2s 18us/step - loss: 2.2587e-04 - mean_squared_error: 2.2587e-04 - val_loss: 1.1554e-04 - val_mean_squared_error: 1.1554e-04\n",
      "Epoch 20/100\n",
      "85932/85932 [==============================] - 2s 18us/step - loss: 2.1635e-04 - mean_squared_error: 2.1635e-04 - val_loss: 7.5014e-05 - val_mean_squared_error: 7.5014e-05\n",
      "Epoch 21/100\n",
      "85932/85932 [==============================] - 2s 19us/step - loss: 2.1080e-04 - mean_squared_error: 2.1080e-04 - val_loss: 7.3331e-05 - val_mean_squared_error: 7.3331e-05\n",
      "Epoch 22/100\n",
      "85932/85932 [==============================] - 2s 19us/step - loss: 1.9534e-04 - mean_squared_error: 1.9534e-04 - val_loss: 9.2129e-05 - val_mean_squared_error: 9.2129e-05\n",
      "Epoch 23/100\n",
      "85932/85932 [==============================] - 2s 19us/step - loss: 1.8563e-04 - mean_squared_error: 1.8563e-04 - val_loss: 7.2944e-05 - val_mean_squared_error: 7.2944e-05\n",
      "Epoch 24/100\n",
      "85932/85932 [==============================] - 2s 19us/step - loss: 1.8088e-04 - mean_squared_error: 1.8088e-04 - val_loss: 8.0415e-05 - val_mean_squared_error: 8.0415e-05\n",
      "Epoch 25/100\n",
      "85932/85932 [==============================] - 2s 19us/step - loss: 1.7452e-04 - mean_squared_error: 1.7452e-04 - val_loss: 1.7357e-04 - val_mean_squared_error: 1.7357e-04\n",
      "Epoch 26/100\n",
      "85932/85932 [==============================] - 2s 19us/step - loss: 1.6408e-04 - mean_squared_error: 1.6408e-04 - val_loss: 8.0610e-05 - val_mean_squared_error: 8.0610e-05\n",
      "Epoch 27/100\n",
      "85932/85932 [==============================] - 2s 19us/step - loss: 1.6078e-04 - mean_squared_error: 1.6078e-04 - val_loss: 6.9409e-05 - val_mean_squared_error: 6.9409e-05\n",
      "Epoch 28/100\n",
      "85932/85932 [==============================] - 2s 19us/step - loss: 1.4788e-04 - mean_squared_error: 1.4788e-04 - val_loss: 1.0175e-04 - val_mean_squared_error: 1.0175e-04\n",
      "Epoch 29/100\n",
      "85932/85932 [==============================] - 2s 18us/step - loss: 1.4166e-04 - mean_squared_error: 1.4166e-04 - val_loss: 8.1939e-05 - val_mean_squared_error: 8.1939e-05\n",
      "Epoch 30/100\n",
      "85932/85932 [==============================] - 2s 18us/step - loss: 1.3581e-04 - mean_squared_error: 1.3581e-04 - val_loss: 7.6896e-05 - val_mean_squared_error: 7.6896e-05\n",
      "Epoch 31/100\n",
      "85932/85932 [==============================] - 2s 18us/step - loss: 1.3071e-04 - mean_squared_error: 1.3071e-04 - val_loss: 7.4352e-05 - val_mean_squared_error: 7.4352e-05\n",
      "Epoch 32/100\n",
      "85932/85932 [==============================] - 2s 18us/step - loss: 1.2539e-04 - mean_squared_error: 1.2539e-04 - val_loss: 9.0317e-05 - val_mean_squared_error: 9.0317e-05\n",
      "Epoch 33/100\n",
      "85932/85932 [==============================] - 2s 18us/step - loss: 1.1974e-04 - mean_squared_error: 1.1974e-04 - val_loss: 9.2234e-05 - val_mean_squared_error: 9.2234e-05\n",
      "Epoch 34/100\n",
      "85932/85932 [==============================] - 2s 18us/step - loss: 1.1781e-04 - mean_squared_error: 1.1781e-04 - val_loss: 7.1461e-05 - val_mean_squared_error: 7.1461e-05\n",
      "Epoch 35/100\n",
      "85932/85932 [==============================] - 2s 18us/step - loss: 1.0792e-04 - mean_squared_error: 1.0792e-04 - val_loss: 7.8072e-05 - val_mean_squared_error: 7.8072e-05\n",
      "Epoch 36/100\n",
      "85932/85932 [==============================] - 2s 18us/step - loss: 1.0428e-04 - mean_squared_error: 1.0428e-04 - val_loss: 8.0396e-05 - val_mean_squared_error: 8.0396e-05\n",
      "Epoch 37/100\n",
      "85932/85932 [==============================] - 1s 17us/step - loss: 1.0125e-04 - mean_squared_error: 1.0125e-04 - val_loss: 6.9293e-05 - val_mean_squared_error: 6.9293e-05\n",
      "Epoch 38/100\n",
      "85932/85932 [==============================] - 1s 17us/step - loss: 9.9554e-05 - mean_squared_error: 9.9554e-05 - val_loss: 6.8296e-05 - val_mean_squared_error: 6.8296e-05\n",
      "Epoch 39/100\n",
      "85932/85932 [==============================] - 1s 17us/step - loss: 9.7719e-05 - mean_squared_error: 9.7719e-05 - val_loss: 6.9812e-05 - val_mean_squared_error: 6.9812e-05\n",
      "Epoch 40/100\n",
      "85932/85932 [==============================] - 1s 17us/step - loss: 9.2328e-05 - mean_squared_error: 9.2328e-05 - val_loss: 6.7622e-05 - val_mean_squared_error: 6.7622e-05\n",
      "Epoch 41/100\n",
      "85932/85932 [==============================] - 1s 17us/step - loss: 8.9355e-05 - mean_squared_error: 8.9355e-05 - val_loss: 6.9194e-05 - val_mean_squared_error: 6.9194e-05\n",
      "Epoch 42/100\n",
      "85932/85932 [==============================] - 1s 17us/step - loss: 8.8592e-05 - mean_squared_error: 8.8592e-05 - val_loss: 9.1698e-05 - val_mean_squared_error: 9.1698e-05\n",
      "Epoch 43/100\n",
      "85932/85932 [==============================] - 1s 17us/step - loss: 8.5664e-05 - mean_squared_error: 8.5664e-05 - val_loss: 6.8531e-05 - val_mean_squared_error: 6.8531e-05\n",
      "Epoch 44/100\n",
      "85932/85932 [==============================] - 1s 17us/step - loss: 8.3229e-05 - mean_squared_error: 8.3229e-05 - val_loss: 7.5815e-05 - val_mean_squared_error: 7.5815e-05\n",
      "Epoch 45/100\n"
     ]
    },
    {
     "name": "stdout",
     "output_type": "stream",
     "text": [
      "85932/85932 [==============================] - 1s 17us/step - loss: 8.2260e-05 - mean_squared_error: 8.2260e-05 - val_loss: 7.5717e-05 - val_mean_squared_error: 7.5717e-05\n",
      "Epoch 46/100\n",
      "85932/85932 [==============================] - 1s 17us/step - loss: 7.8637e-05 - mean_squared_error: 7.8637e-05 - val_loss: 6.5914e-05 - val_mean_squared_error: 6.5914e-05\n",
      "Epoch 47/100\n",
      "85932/85932 [==============================] - 1s 17us/step - loss: 7.8320e-05 - mean_squared_error: 7.8320e-05 - val_loss: 6.9217e-05 - val_mean_squared_error: 6.9217e-05\n",
      "Epoch 48/100\n",
      "85932/85932 [==============================] - 1s 17us/step - loss: 7.6274e-05 - mean_squared_error: 7.6274e-05 - val_loss: 7.0294e-05 - val_mean_squared_error: 7.0294e-05\n",
      "Epoch 49/100\n",
      "85932/85932 [==============================] - 1s 17us/step - loss: 7.6073e-05 - mean_squared_error: 7.6073e-05 - val_loss: 7.0505e-05 - val_mean_squared_error: 7.0505e-05\n",
      "Epoch 50/100\n",
      "85932/85932 [==============================] - 1s 17us/step - loss: 7.4526e-05 - mean_squared_error: 7.4526e-05 - val_loss: 6.8888e-05 - val_mean_squared_error: 6.8888e-05\n",
      "Epoch 51/100\n",
      "85932/85932 [==============================] - 1s 17us/step - loss: 7.2399e-05 - mean_squared_error: 7.2399e-05 - val_loss: 6.7627e-05 - val_mean_squared_error: 6.7627e-05\n",
      "Epoch 52/100\n",
      "85932/85932 [==============================] - 1s 17us/step - loss: 7.1339e-05 - mean_squared_error: 7.1339e-05 - val_loss: 6.7099e-05 - val_mean_squared_error: 6.7099e-05\n",
      "Epoch 53/100\n",
      "85932/85932 [==============================] - 1s 17us/step - loss: 7.0273e-05 - mean_squared_error: 7.0273e-05 - val_loss: 6.5843e-05 - val_mean_squared_error: 6.5843e-05\n",
      "Epoch 54/100\n",
      "85932/85932 [==============================] - 1s 17us/step - loss: 6.9802e-05 - mean_squared_error: 6.9802e-05 - val_loss: 6.7544e-05 - val_mean_squared_error: 6.7544e-05\n",
      "Epoch 55/100\n",
      "85932/85932 [==============================] - 1s 17us/step - loss: 6.9552e-05 - mean_squared_error: 6.9552e-05 - val_loss: 6.6006e-05 - val_mean_squared_error: 6.6006e-05\n",
      "Epoch 56/100\n",
      "85932/85932 [==============================] - 1s 17us/step - loss: 6.9846e-05 - mean_squared_error: 6.9846e-05 - val_loss: 6.5837e-05 - val_mean_squared_error: 6.5837e-05\n",
      "Epoch 57/100\n",
      "85932/85932 [==============================] - 1s 17us/step - loss: 6.8158e-05 - mean_squared_error: 6.8158e-05 - val_loss: 6.6030e-05 - val_mean_squared_error: 6.6030e-05\n",
      "Epoch 58/100\n",
      "85932/85932 [==============================] - 1s 17us/step - loss: 6.8330e-05 - mean_squared_error: 6.8330e-05 - val_loss: 6.5410e-05 - val_mean_squared_error: 6.5410e-05\n",
      "Epoch 59/100\n",
      "85932/85932 [==============================] - 1s 17us/step - loss: 6.7503e-05 - mean_squared_error: 6.7503e-05 - val_loss: 6.6041e-05 - val_mean_squared_error: 6.6041e-05\n",
      "Epoch 60/100\n",
      "85932/85932 [==============================] - 1s 17us/step - loss: 6.7226e-05 - mean_squared_error: 6.7226e-05 - val_loss: 7.3449e-05 - val_mean_squared_error: 7.3449e-05\n",
      "Epoch 61/100\n",
      "85932/85932 [==============================] - 1s 17us/step - loss: 6.7481e-05 - mean_squared_error: 6.7481e-05 - val_loss: 6.4598e-05 - val_mean_squared_error: 6.4598e-05\n",
      "Epoch 62/100\n",
      "85932/85932 [==============================] - 2s 18us/step - loss: 6.6813e-05 - mean_squared_error: 6.6813e-05 - val_loss: 6.6769e-05 - val_mean_squared_error: 6.6769e-05\n",
      "Epoch 63/100\n",
      "85932/85932 [==============================] - 2s 18us/step - loss: 6.7384e-05 - mean_squared_error: 6.7384e-05 - val_loss: 6.5117e-05 - val_mean_squared_error: 6.5117e-05\n",
      "Epoch 64/100\n",
      "85932/85932 [==============================] - 1s 17us/step - loss: 6.6177e-05 - mean_squared_error: 6.6177e-05 - val_loss: 6.4868e-05 - val_mean_squared_error: 6.4868e-05\n",
      "Epoch 65/100\n",
      "85932/85932 [==============================] - 1s 17us/step - loss: 6.6526e-05 - mean_squared_error: 6.6526e-05 - val_loss: 6.4518e-05 - val_mean_squared_error: 6.4518e-05\n",
      "Epoch 66/100\n",
      "85932/85932 [==============================] - 1s 17us/step - loss: 6.6304e-05 - mean_squared_error: 6.6304e-05 - val_loss: 6.3890e-05 - val_mean_squared_error: 6.3890e-05\n",
      "Epoch 67/100\n",
      "85932/85932 [==============================] - 1s 17us/step - loss: 6.6203e-05 - mean_squared_error: 6.6203e-05 - val_loss: 6.3931e-05 - val_mean_squared_error: 6.3931e-05\n",
      "Epoch 68/100\n",
      "85932/85932 [==============================] - 1s 17us/step - loss: 6.6027e-05 - mean_squared_error: 6.6027e-05 - val_loss: 6.3312e-05 - val_mean_squared_error: 6.3312e-05\n",
      "Epoch 69/100\n",
      "85932/85932 [==============================] - 1s 17us/step - loss: 6.5685e-05 - mean_squared_error: 6.5685e-05 - val_loss: 6.3467e-05 - val_mean_squared_error: 6.3467e-05\n",
      "Epoch 70/100\n",
      "85932/85932 [==============================] - 1s 17us/step - loss: 6.5844e-05 - mean_squared_error: 6.5844e-05 - val_loss: 6.4895e-05 - val_mean_squared_error: 6.4895e-05\n",
      "Epoch 71/100\n",
      "85932/85932 [==============================] - 1s 17us/step - loss: 6.5374e-05 - mean_squared_error: 6.5374e-05 - val_loss: 6.3604e-05 - val_mean_squared_error: 6.3604e-05\n",
      "Epoch 72/100\n",
      "85932/85932 [==============================] - 1s 17us/step - loss: 6.5405e-05 - mean_squared_error: 6.5405e-05 - val_loss: 6.3257e-05 - val_mean_squared_error: 6.3257e-05\n",
      "Epoch 73/100\n",
      "85932/85932 [==============================] - 1s 17us/step - loss: 6.5644e-05 - mean_squared_error: 6.5644e-05 - val_loss: 6.4122e-05 - val_mean_squared_error: 6.4122e-05\n",
      "Epoch 74/100\n",
      "85932/85932 [==============================] - 1s 17us/step - loss: 6.5238e-05 - mean_squared_error: 6.5238e-05 - val_loss: 6.4226e-05 - val_mean_squared_error: 6.4226e-05\n",
      "Epoch 75/100\n",
      "85932/85932 [==============================] - 1s 17us/step - loss: 6.4898e-05 - mean_squared_error: 6.4898e-05 - val_loss: 6.3661e-05 - val_mean_squared_error: 6.3661e-05\n",
      "Epoch 76/100\n",
      "85932/85932 [==============================] - 1s 17us/step - loss: 6.5161e-05 - mean_squared_error: 6.5161e-05 - val_loss: 6.3541e-05 - val_mean_squared_error: 6.3541e-05\n",
      "Epoch 77/100\n",
      "85932/85932 [==============================] - 1s 17us/step - loss: 6.4475e-05 - mean_squared_error: 6.4475e-05 - val_loss: 6.3434e-05 - val_mean_squared_error: 6.3434e-05\n",
      "Epoch 78/100\n",
      "85932/85932 [==============================] - 1s 17us/step - loss: 6.4480e-05 - mean_squared_error: 6.4480e-05 - val_loss: 6.2486e-05 - val_mean_squared_error: 6.2486e-05\n",
      "Epoch 79/100\n",
      "85932/85932 [==============================] - 1s 17us/step - loss: 6.4061e-05 - mean_squared_error: 6.4061e-05 - val_loss: 6.1877e-05 - val_mean_squared_error: 6.1877e-05\n",
      "Epoch 80/100\n",
      "85932/85932 [==============================] - 1s 17us/step - loss: 6.3842e-05 - mean_squared_error: 6.3842e-05 - val_loss: 6.1597e-05 - val_mean_squared_error: 6.1597e-05\n",
      "Epoch 81/100\n",
      "85932/85932 [==============================] - 1s 17us/step - loss: 6.3785e-05 - mean_squared_error: 6.3785e-05 - val_loss: 6.2180e-05 - val_mean_squared_error: 6.2180e-05\n",
      "Epoch 82/100\n",
      "85932/85932 [==============================] - 1s 17us/step - loss: 6.3651e-05 - mean_squared_error: 6.3651e-05 - val_loss: 6.2415e-05 - val_mean_squared_error: 6.2415e-05\n",
      "Epoch 83/100\n",
      "85932/85932 [==============================] - 1s 17us/step - loss: 6.3567e-05 - mean_squared_error: 6.3567e-05 - val_loss: 6.2156e-05 - val_mean_squared_error: 6.2156e-05\n",
      "Epoch 84/100\n",
      "85932/85932 [==============================] - 1s 17us/step - loss: 6.3187e-05 - mean_squared_error: 6.3187e-05 - val_loss: 6.0954e-05 - val_mean_squared_error: 6.0954e-05\n",
      "Epoch 85/100\n",
      "85932/85932 [==============================] - 1s 17us/step - loss: 6.2785e-05 - mean_squared_error: 6.2785e-05 - val_loss: 6.1910e-05 - val_mean_squared_error: 6.1910e-05\n",
      "Epoch 86/100\n",
      "85932/85932 [==============================] - 1s 17us/step - loss: 6.2509e-05 - mean_squared_error: 6.2509e-05 - val_loss: 6.1879e-05 - val_mean_squared_error: 6.1879e-05\n",
      "Epoch 87/100\n",
      "85932/85932 [==============================] - 1s 17us/step - loss: 6.2526e-05 - mean_squared_error: 6.2526e-05 - val_loss: 6.1327e-05 - val_mean_squared_error: 6.1327e-05\n",
      "Epoch 88/100\n",
      "85932/85932 [==============================] - 1s 17us/step - loss: 6.2449e-05 - mean_squared_error: 6.2449e-05 - val_loss: 6.2865e-05 - val_mean_squared_error: 6.2865e-05\n",
      "Epoch 89/100\n"
     ]
    },
    {
     "name": "stdout",
     "output_type": "stream",
     "text": [
      "85932/85932 [==============================] - 1s 17us/step - loss: 6.2661e-05 - mean_squared_error: 6.2661e-05 - val_loss: 6.0751e-05 - val_mean_squared_error: 6.0751e-05\n",
      "Epoch 90/100\n",
      "85932/85932 [==============================] - 1s 17us/step - loss: 6.1966e-05 - mean_squared_error: 6.1966e-05 - val_loss: 6.2039e-05 - val_mean_squared_error: 6.2039e-05\n",
      "Epoch 91/100\n",
      "85932/85932 [==============================] - 1s 17us/step - loss: 6.2051e-05 - mean_squared_error: 6.2051e-05 - val_loss: 6.2165e-05 - val_mean_squared_error: 6.2165e-05\n",
      "Epoch 92/100\n",
      "85932/85932 [==============================] - 2s 18us/step - loss: 6.1851e-05 - mean_squared_error: 6.1851e-05 - val_loss: 6.0558e-05 - val_mean_squared_error: 6.0558e-05\n",
      "Epoch 93/100\n",
      "85932/85932 [==============================] - 1s 17us/step - loss: 6.1696e-05 - mean_squared_error: 6.1696e-05 - val_loss: 6.1959e-05 - val_mean_squared_error: 6.1959e-05\n",
      "Epoch 94/100\n",
      "85932/85932 [==============================] - 1s 17us/step - loss: 6.1927e-05 - mean_squared_error: 6.1927e-05 - val_loss: 6.1071e-05 - val_mean_squared_error: 6.1071e-05\n",
      "Epoch 95/100\n",
      "85932/85932 [==============================] - 2s 18us/step - loss: 6.1560e-05 - mean_squared_error: 6.1560e-05 - val_loss: 6.1019e-05 - val_mean_squared_error: 6.1019e-05\n",
      "Epoch 96/100\n",
      "85932/85932 [==============================] - 1s 17us/step - loss: 6.1572e-05 - mean_squared_error: 6.1572e-05 - val_loss: 6.0240e-05 - val_mean_squared_error: 6.0240e-05\n",
      "Epoch 97/100\n",
      "85932/85932 [==============================] - 1s 17us/step - loss: 6.1293e-05 - mean_squared_error: 6.1293e-05 - val_loss: 6.0724e-05 - val_mean_squared_error: 6.0724e-05\n",
      "Epoch 98/100\n",
      "85932/85932 [==============================] - 1s 17us/step - loss: 6.1349e-05 - mean_squared_error: 6.1349e-05 - val_loss: 6.3654e-05 - val_mean_squared_error: 6.3654e-05\n",
      "Epoch 99/100\n",
      "85932/85932 [==============================] - 1s 17us/step - loss: 6.1234e-05 - mean_squared_error: 6.1234e-05 - val_loss: 5.9997e-05 - val_mean_squared_error: 5.9997e-05\n",
      "Epoch 100/100\n",
      "85932/85932 [==============================] - 1s 17us/step - loss: 6.1089e-05 - mean_squared_error: 6.1089e-05 - val_loss: 6.0129e-05 - val_mean_squared_error: 6.0129e-05\n"
     ]
    }
   ],
   "source": [
    "history = model.fit(X_train,y_train,\n",
    "                    batch_size = 256,\n",
    "                    epochs = 100,\n",
    "                    validation_data = (X_val,y_val),\n",
    "                    verbose = 1,\n",
    "                    callbacks = [es])"
   ]
  },
  {
   "cell_type": "markdown",
   "metadata": {},
   "source": [
    "# eval"
   ]
  },
  {
   "cell_type": "code",
   "execution_count": 18,
   "metadata": {},
   "outputs": [
    {
     "data": {
      "text/plain": [
       "<matplotlib.legend.Legend at 0x7f7a99162a20>"
      ]
     },
     "execution_count": 18,
     "metadata": {},
     "output_type": "execute_result"
    },
    {
     "data": {
      "image/png": "[encoded data removed]",
      "text/plain": [
       "<Figure size 432x288 with 1 Axes>"
      ]
     },
     "metadata": {
      "needs_background": "light"
     },
     "output_type": "display_data"
    }
   ],
   "source": [
    "n = 10\n",
    "plt.plot(history.history['loss'][n:], color='b', label=\"Training loss\")\n",
    "plt.plot(history.history['val_loss'][n:], color='r', label=\"Validation loss\")\n",
    "plt.legend()"
   ]
  },
  {
   "cell_type": "code",
   "execution_count": 15,
   "metadata": {},
   "outputs": [
    {
     "name": "stdout",
     "output_type": "stream",
     "text": [
      "0.3511\n",
      "0.0001\n"
     ]
    }
   ],
   "source": [
    "from sklearn.metrics import r2_score,mean_squared_error\n",
    "\n",
    "y_pred = model.predict(X_test).ravel()\n",
    "print(round(r2_score(y_test,y_pred),4))\n",
    "print(round(mean_squared_error(y_test,y_pred),4))"
   ]
  },
  {
   "cell_type": "code",
   "execution_count": 16,
   "metadata": {},
   "outputs": [
    {
     "name": "stdout",
     "output_type": "stream",
     "text": [
      "0.0096\n"
     ]
    }
   ],
   "source": [
    "print(round(df['target'].std(),4))"
   ]
  },
  {
   "cell_type": "code",
   "execution_count": null,
   "metadata": {},
   "outputs": [],
   "source": []
  }
 ],
 "metadata": {
  "kernelspec": {
   "display_name": "Python 3",
   "language": "python",
   "name": "python3"
  },
  "language_info": {
   "codemirror_mode": {
    "name": "ipython",
    "version": 3
   },
   "file_extension": ".py",
   "mimetype": "text/x-python",
   "name": "python",
   "nbconvert_exporter": "python",
   "pygments_lexer": "ipython3",
   "version": "3.6.9"
  }
 },
 "nbformat": 4,
 "nbformat_minor": 2
}
