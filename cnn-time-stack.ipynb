{
 "cells": [
  {
   "cell_type": "markdown",
   "metadata": {},
   "source": [
    "## import os "
   ]
  },
  {
   "cell_type": "code",
   "execution_count": 1,
   "metadata": {},
   "outputs": [
    {
     "data": {
      "text/plain": [
       "['train.csv',\n",
       " 'DataCleaning.ipynb',\n",
       " 'EDA.ipynb',\n",
       " 'PA_201605-2012001更新R6(20190509).xlsx',\n",
       " 'tag盤點表.xlsx',\n",
       " 'xgboost.ipynb',\n",
       " 'LSTM.ipynb',\n",
       " 'train_FeatureSelected.csv',\n",
       " 'feature select.ipynb',\n",
       " 'tpot_pa_pipeline.py',\n",
       " 'TPOT.ipynb',\n",
       " 'cnn-time-stack.ipynb',\n",
       " '.ipynb_checkpoints']"
      ]
     },
     "execution_count": 1,
     "metadata": {},
     "output_type": "execute_result"
    }
   ],
   "source": [
    "import os\n",
    "os.listdir()"
   ]
  },
  {
   "cell_type": "code",
   "execution_count": 2,
   "metadata": {},
   "outputs": [],
   "source": [
    "import pandas as pd\n",
    "import matplotlib.pyplot as plt\n",
    "import matplotlib.image as mpimg\n",
    "import numpy as np\n",
    "import seaborn as sns\n",
    "from tqdm import tqdm_notebook as tqdm"
   ]
  },
  {
   "cell_type": "markdown",
   "metadata": {},
   "source": [
    "# load"
   ]
  },
  {
   "cell_type": "code",
   "execution_count": 3,
   "metadata": {},
   "outputs": [
    {
     "name": "stdout",
     "output_type": "stream",
     "text": [
      "(122775, 16)\n"
     ]
    },
    {
     "data": {
      "text/html": [
       "<div>\n",
       "<style scoped>\n",
       "    .dataframe tbody tr th:only-of-type {\n",
       "        vertical-align: middle;\n",
       "    }\n",
       "\n",
       "    .dataframe tbody tr th {\n",
       "        vertical-align: top;\n",
       "    }\n",
       "\n",
       "    .dataframe thead th {\n",
       "        text-align: right;\n",
       "    }\n",
       "</style>\n",
       "<table border=\"1\" class=\"dataframe\">\n",
       "  <thead>\n",
       "    <tr style=\"text-align: right;\">\n",
       "      <th></th>\n",
       "      <th>MLPAP_TI-0706B10</th>\n",
       "      <th>MLPAP_TI-0706B15</th>\n",
       "      <th>MLPAP_TI-0706B21</th>\n",
       "      <th>MLPAP_TI-0716A03</th>\n",
       "      <th>MLPAP_TI-0716A05</th>\n",
       "      <th>MLPAP_TJR-0720A1.PV</th>\n",
       "      <th>MLPAP_TJR-0720B2.PV</th>\n",
       "      <th>MLPAP_TJR-0762A1.PV</th>\n",
       "      <th>MLPAP_TI-0706B01</th>\n",
       "      <th>MLPAP_TRC-0610.PV</th>\n",
       "      <th>MLPAP_TIC-1721.PV</th>\n",
       "      <th>MLPAP_TRC-1734.PV</th>\n",
       "      <th>MLPAP_FR-0755.PV</th>\n",
       "      <th>MLPAP_TIC-0757.PV</th>\n",
       "      <th>MLPAP_V125-PHD</th>\n",
       "      <th>target</th>\n",
       "    </tr>\n",
       "  </thead>\n",
       "  <tbody>\n",
       "    <tr>\n",
       "      <th>2016-05-10 08:10:00</th>\n",
       "      <td>-0.883078</td>\n",
       "      <td>0.436520</td>\n",
       "      <td>0.527857</td>\n",
       "      <td>2.885848</td>\n",
       "      <td>0.448321</td>\n",
       "      <td>0.677295</td>\n",
       "      <td>0.881300</td>\n",
       "      <td>0.796872</td>\n",
       "      <td>0.633992</td>\n",
       "      <td>3.036852</td>\n",
       "      <td>3.099501</td>\n",
       "      <td>0.608934</td>\n",
       "      <td>-2.619894</td>\n",
       "      <td>-1.015438</td>\n",
       "      <td>-0.088287</td>\n",
       "      <td>0.914125</td>\n",
       "    </tr>\n",
       "    <tr>\n",
       "      <th>2016-05-10 08:20:00</th>\n",
       "      <td>-0.883078</td>\n",
       "      <td>0.436520</td>\n",
       "      <td>0.527857</td>\n",
       "      <td>2.885848</td>\n",
       "      <td>0.448321</td>\n",
       "      <td>0.677122</td>\n",
       "      <td>0.881648</td>\n",
       "      <td>0.797089</td>\n",
       "      <td>0.633992</td>\n",
       "      <td>2.864041</td>\n",
       "      <td>3.272350</td>\n",
       "      <td>0.447358</td>\n",
       "      <td>-2.614712</td>\n",
       "      <td>-0.982340</td>\n",
       "      <td>-0.088287</td>\n",
       "      <td>0.919765</td>\n",
       "    </tr>\n",
       "    <tr>\n",
       "      <th>2016-05-10 08:30:00</th>\n",
       "      <td>-0.883078</td>\n",
       "      <td>0.436830</td>\n",
       "      <td>0.527857</td>\n",
       "      <td>2.885848</td>\n",
       "      <td>0.448321</td>\n",
       "      <td>0.677619</td>\n",
       "      <td>0.881571</td>\n",
       "      <td>0.796987</td>\n",
       "      <td>0.633992</td>\n",
       "      <td>3.006620</td>\n",
       "      <td>3.596289</td>\n",
       "      <td>-0.634915</td>\n",
       "      <td>-2.617016</td>\n",
       "      <td>-0.975999</td>\n",
       "      <td>-0.088287</td>\n",
       "      <td>0.926346</td>\n",
       "    </tr>\n",
       "    <tr>\n",
       "      <th>2016-05-10 23:40:00</th>\n",
       "      <td>-1.508446</td>\n",
       "      <td>0.411821</td>\n",
       "      <td>0.395807</td>\n",
       "      <td>2.856863</td>\n",
       "      <td>0.468480</td>\n",
       "      <td>0.641630</td>\n",
       "      <td>0.853312</td>\n",
       "      <td>0.763786</td>\n",
       "      <td>0.601863</td>\n",
       "      <td>1.710665</td>\n",
       "      <td>3.361869</td>\n",
       "      <td>0.769126</td>\n",
       "      <td>-2.612469</td>\n",
       "      <td>-0.840360</td>\n",
       "      <td>-0.088287</td>\n",
       "      <td>0.906781</td>\n",
       "    </tr>\n",
       "    <tr>\n",
       "      <th>2016-05-10 23:50:00</th>\n",
       "      <td>-1.443246</td>\n",
       "      <td>0.412131</td>\n",
       "      <td>0.395807</td>\n",
       "      <td>2.882331</td>\n",
       "      <td>0.468480</td>\n",
       "      <td>0.642077</td>\n",
       "      <td>0.853810</td>\n",
       "      <td>0.764300</td>\n",
       "      <td>0.603356</td>\n",
       "      <td>1.822449</td>\n",
       "      <td>3.029603</td>\n",
       "      <td>0.528846</td>\n",
       "      <td>-2.620588</td>\n",
       "      <td>-0.868595</td>\n",
       "      <td>-0.088287</td>\n",
       "      <td>0.926688</td>\n",
       "    </tr>\n",
       "  </tbody>\n",
       "</table>\n",
       "</div>"
      ],
      "text/plain": [
       "                     MLPAP_TI-0706B10  MLPAP_TI-0706B15  MLPAP_TI-0706B21  \\\n",
       "2016-05-10 08:10:00         -0.883078          0.436520          0.527857   \n",
       "2016-05-10 08:20:00         -0.883078          0.436520          0.527857   \n",
       "2016-05-10 08:30:00         -0.883078          0.436830          0.527857   \n",
       "2016-05-10 23:40:00         -1.508446          0.411821          0.395807   \n",
       "2016-05-10 23:50:00         -1.443246          0.412131          0.395807   \n",
       "\n",
       "                     MLPAP_TI-0716A03  MLPAP_TI-0716A05  MLPAP_TJR-0720A1.PV  \\\n",
       "2016-05-10 08:10:00          2.885848          0.448321             0.677295   \n",
       "2016-05-10 08:20:00          2.885848          0.448321             0.677122   \n",
       "2016-05-10 08:30:00          2.885848          0.448321             0.677619   \n",
       "2016-05-10 23:40:00          2.856863          0.468480             0.641630   \n",
       "2016-05-10 23:50:00          2.882331          0.468480             0.642077   \n",
       "\n",
       "                     MLPAP_TJR-0720B2.PV  MLPAP_TJR-0762A1.PV  \\\n",
       "2016-05-10 08:10:00             0.881300             0.796872   \n",
       "2016-05-10 08:20:00             0.881648             0.797089   \n",
       "2016-05-10 08:30:00             0.881571             0.796987   \n",
       "2016-05-10 23:40:00             0.853312             0.763786   \n",
       "2016-05-10 23:50:00             0.853810             0.764300   \n",
       "\n",
       "                     MLPAP_TI-0706B01  MLPAP_TRC-0610.PV  MLPAP_TIC-1721.PV  \\\n",
       "2016-05-10 08:10:00          0.633992           3.036852           3.099501   \n",
       "2016-05-10 08:20:00          0.633992           2.864041           3.272350   \n",
       "2016-05-10 08:30:00          0.633992           3.006620           3.596289   \n",
       "2016-05-10 23:40:00          0.601863           1.710665           3.361869   \n",
       "2016-05-10 23:50:00          0.603356           1.822449           3.029603   \n",
       "\n",
       "                     MLPAP_TRC-1734.PV  MLPAP_FR-0755.PV  MLPAP_TIC-0757.PV  \\\n",
       "2016-05-10 08:10:00           0.608934         -2.619894          -1.015438   \n",
       "2016-05-10 08:20:00           0.447358         -2.614712          -0.982340   \n",
       "2016-05-10 08:30:00          -0.634915         -2.617016          -0.975999   \n",
       "2016-05-10 23:40:00           0.769126         -2.612469          -0.840360   \n",
       "2016-05-10 23:50:00           0.528846         -2.620588          -0.868595   \n",
       "\n",
       "                     MLPAP_V125-PHD    target  \n",
       "2016-05-10 08:10:00       -0.088287  0.914125  \n",
       "2016-05-10 08:20:00       -0.088287  0.919765  \n",
       "2016-05-10 08:30:00       -0.088287  0.926346  \n",
       "2016-05-10 23:40:00       -0.088287  0.906781  \n",
       "2016-05-10 23:50:00       -0.088287  0.926688  "
      ]
     },
     "execution_count": 3,
     "metadata": {},
     "output_type": "execute_result"
    }
   ],
   "source": [
    "df = pd.read_csv('train_FeatureSelected.csv',index_col = 0,parse_dates = True)\n",
    "print(df.shape)\n",
    "df.head()"
   ]
  },
  {
   "cell_type": "markdown",
   "metadata": {},
   "source": [
    "# scale"
   ]
  },
  {
   "cell_type": "code",
   "execution_count": 4,
   "metadata": {},
   "outputs": [
    {
     "data": {
      "text/html": [
       "<div>\n",
       "<style scoped>\n",
       "    .dataframe tbody tr th:only-of-type {\n",
       "        vertical-align: middle;\n",
       "    }\n",
       "\n",
       "    .dataframe tbody tr th {\n",
       "        vertical-align: top;\n",
       "    }\n",
       "\n",
       "    .dataframe thead th {\n",
       "        text-align: right;\n",
       "    }\n",
       "</style>\n",
       "<table border=\"1\" class=\"dataframe\">\n",
       "  <thead>\n",
       "    <tr style=\"text-align: right;\">\n",
       "      <th></th>\n",
       "      <th>MLPAP_TI-0706B10</th>\n",
       "      <th>MLPAP_TI-0706B15</th>\n",
       "      <th>MLPAP_TI-0706B21</th>\n",
       "      <th>MLPAP_TI-0716A03</th>\n",
       "      <th>MLPAP_TI-0716A05</th>\n",
       "      <th>MLPAP_TJR-0720A1.PV</th>\n",
       "      <th>MLPAP_TJR-0720B2.PV</th>\n",
       "      <th>MLPAP_TJR-0762A1.PV</th>\n",
       "      <th>MLPAP_TI-0706B01</th>\n",
       "      <th>MLPAP_TRC-0610.PV</th>\n",
       "      <th>MLPAP_TIC-1721.PV</th>\n",
       "      <th>MLPAP_TRC-1734.PV</th>\n",
       "      <th>MLPAP_FR-0755.PV</th>\n",
       "      <th>MLPAP_TIC-0757.PV</th>\n",
       "      <th>MLPAP_V125-PHD</th>\n",
       "      <th>target</th>\n",
       "    </tr>\n",
       "  </thead>\n",
       "  <tbody>\n",
       "    <tr>\n",
       "      <th>2016-05-10 08:10:00</th>\n",
       "      <td>0.803927</td>\n",
       "      <td>0.968352</td>\n",
       "      <td>0.990723</td>\n",
       "      <td>1.000000</td>\n",
       "      <td>0.977663</td>\n",
       "      <td>0.693540</td>\n",
       "      <td>0.999851</td>\n",
       "      <td>0.999915</td>\n",
       "      <td>1.000000</td>\n",
       "      <td>0.870333</td>\n",
       "      <td>0.564397</td>\n",
       "      <td>0.517157</td>\n",
       "      <td>0.091998</td>\n",
       "      <td>0.909638</td>\n",
       "      <td>0.145161</td>\n",
       "      <td>0.914125</td>\n",
       "    </tr>\n",
       "    <tr>\n",
       "      <th>2016-05-10 08:20:00</th>\n",
       "      <td>0.803927</td>\n",
       "      <td>0.968352</td>\n",
       "      <td>0.990723</td>\n",
       "      <td>1.000000</td>\n",
       "      <td>0.977663</td>\n",
       "      <td>0.693497</td>\n",
       "      <td>1.000000</td>\n",
       "      <td>1.000000</td>\n",
       "      <td>1.000000</td>\n",
       "      <td>0.855041</td>\n",
       "      <td>0.572776</td>\n",
       "      <td>0.504635</td>\n",
       "      <td>0.092996</td>\n",
       "      <td>0.910421</td>\n",
       "      <td>0.145161</td>\n",
       "      <td>0.919765</td>\n",
       "    </tr>\n",
       "    <tr>\n",
       "      <th>2016-05-10 08:30:00</th>\n",
       "      <td>0.803927</td>\n",
       "      <td>0.968465</td>\n",
       "      <td>0.990723</td>\n",
       "      <td>1.000000</td>\n",
       "      <td>0.977663</td>\n",
       "      <td>0.693619</td>\n",
       "      <td>0.999967</td>\n",
       "      <td>0.999960</td>\n",
       "      <td>1.000000</td>\n",
       "      <td>0.867657</td>\n",
       "      <td>0.588480</td>\n",
       "      <td>0.420763</td>\n",
       "      <td>0.092552</td>\n",
       "      <td>0.910572</td>\n",
       "      <td>0.145161</td>\n",
       "      <td>0.926346</td>\n",
       "    </tr>\n",
       "    <tr>\n",
       "      <th>2016-05-10 23:40:00</th>\n",
       "      <td>0.757022</td>\n",
       "      <td>0.959309</td>\n",
       "      <td>0.983765</td>\n",
       "      <td>0.999050</td>\n",
       "      <td>0.981970</td>\n",
       "      <td>0.684815</td>\n",
       "      <td>0.987892</td>\n",
       "      <td>0.986978</td>\n",
       "      <td>0.988840</td>\n",
       "      <td>0.752979</td>\n",
       "      <td>0.577116</td>\n",
       "      <td>0.529571</td>\n",
       "      <td>0.093428</td>\n",
       "      <td>0.913783</td>\n",
       "      <td>0.145161</td>\n",
       "      <td>0.906781</td>\n",
       "    </tr>\n",
       "    <tr>\n",
       "      <th>2016-05-10 23:50:00</th>\n",
       "      <td>0.761912</td>\n",
       "      <td>0.959423</td>\n",
       "      <td>0.983765</td>\n",
       "      <td>0.999885</td>\n",
       "      <td>0.981970</td>\n",
       "      <td>0.684924</td>\n",
       "      <td>0.988105</td>\n",
       "      <td>0.987179</td>\n",
       "      <td>0.989358</td>\n",
       "      <td>0.762871</td>\n",
       "      <td>0.561009</td>\n",
       "      <td>0.510950</td>\n",
       "      <td>0.091865</td>\n",
       "      <td>0.913115</td>\n",
       "      <td>0.145161</td>\n",
       "      <td>0.926688</td>\n",
       "    </tr>\n",
       "  </tbody>\n",
       "</table>\n",
       "</div>"
      ],
      "text/plain": [
       "                     MLPAP_TI-0706B10  MLPAP_TI-0706B15  MLPAP_TI-0706B21  \\\n",
       "2016-05-10 08:10:00          0.803927          0.968352          0.990723   \n",
       "2016-05-10 08:20:00          0.803927          0.968352          0.990723   \n",
       "2016-05-10 08:30:00          0.803927          0.968465          0.990723   \n",
       "2016-05-10 23:40:00          0.757022          0.959309          0.983765   \n",
       "2016-05-10 23:50:00          0.761912          0.959423          0.983765   \n",
       "\n",
       "                     MLPAP_TI-0716A03  MLPAP_TI-0716A05  MLPAP_TJR-0720A1.PV  \\\n",
       "2016-05-10 08:10:00          1.000000          0.977663             0.693540   \n",
       "2016-05-10 08:20:00          1.000000          0.977663             0.693497   \n",
       "2016-05-10 08:30:00          1.000000          0.977663             0.693619   \n",
       "2016-05-10 23:40:00          0.999050          0.981970             0.684815   \n",
       "2016-05-10 23:50:00          0.999885          0.981970             0.684924   \n",
       "\n",
       "                     MLPAP_TJR-0720B2.PV  MLPAP_TJR-0762A1.PV  \\\n",
       "2016-05-10 08:10:00             0.999851             0.999915   \n",
       "2016-05-10 08:20:00             1.000000             1.000000   \n",
       "2016-05-10 08:30:00             0.999967             0.999960   \n",
       "2016-05-10 23:40:00             0.987892             0.986978   \n",
       "2016-05-10 23:50:00             0.988105             0.987179   \n",
       "\n",
       "                     MLPAP_TI-0706B01  MLPAP_TRC-0610.PV  MLPAP_TIC-1721.PV  \\\n",
       "2016-05-10 08:10:00          1.000000           0.870333           0.564397   \n",
       "2016-05-10 08:20:00          1.000000           0.855041           0.572776   \n",
       "2016-05-10 08:30:00          1.000000           0.867657           0.588480   \n",
       "2016-05-10 23:40:00          0.988840           0.752979           0.577116   \n",
       "2016-05-10 23:50:00          0.989358           0.762871           0.561009   \n",
       "\n",
       "                     MLPAP_TRC-1734.PV  MLPAP_FR-0755.PV  MLPAP_TIC-0757.PV  \\\n",
       "2016-05-10 08:10:00           0.517157          0.091998           0.909638   \n",
       "2016-05-10 08:20:00           0.504635          0.092996           0.910421   \n",
       "2016-05-10 08:30:00           0.420763          0.092552           0.910572   \n",
       "2016-05-10 23:40:00           0.529571          0.093428           0.913783   \n",
       "2016-05-10 23:50:00           0.510950          0.091865           0.913115   \n",
       "\n",
       "                     MLPAP_V125-PHD    target  \n",
       "2016-05-10 08:10:00        0.145161  0.914125  \n",
       "2016-05-10 08:20:00        0.145161  0.919765  \n",
       "2016-05-10 08:30:00        0.145161  0.926346  \n",
       "2016-05-10 23:40:00        0.145161  0.906781  \n",
       "2016-05-10 23:50:00        0.145161  0.926688  "
      ]
     },
     "execution_count": 4,
     "metadata": {},
     "output_type": "execute_result"
    }
   ],
   "source": [
    "from sklearn.preprocessing import MinMaxScaler\n",
    "\n",
    "x_col = df.drop('target',axis=1).columns.tolist()\n",
    "y_col = 'target'\n",
    "\n",
    "sc = MinMaxScaler()\n",
    "df[x_col] = sc.fit_transform(df[x_col])\n",
    "\n",
    "df.head()"
   ]
  },
  {
   "cell_type": "markdown",
   "metadata": {},
   "source": [
    "# stack"
   ]
  },
  {
   "cell_type": "code",
   "execution_count": 5,
   "metadata": {},
   "outputs": [],
   "source": [
    "def train_windows(df, ref_day=15, predict_day=1):\n",
    "    X_train, Y_train, i_lst = [], [], []\n",
    "    for i in tqdm(range(df.shape[0]-predict_day-ref_day)):\n",
    "        X_train.append(np.array(df.iloc[i:i+ref_day][x_col]))\n",
    "        Y_train.append(np.array(df.iloc[i+ref_day:i+ref_day+predict_day][y_col]))\n",
    "        i_lst.append(df.iloc[i+ref_day:i+ref_day+predict_day].index[0])\n",
    "    return np.array(X_train), np.array(Y_train), i_lst"
   ]
  },
  {
   "cell_type": "code",
   "execution_count": 6,
   "metadata": {},
   "outputs": [
    {
     "name": "stderr",
     "output_type": "stream",
     "text": [
      "/workspace/conda/lib/python3.6/site-packages/ipykernel_launcher.py:3: TqdmDeprecationWarning: This function will be removed in tqdm==5.0.0\n",
      "Please use `tqdm.notebook.tqdm` instead of `tqdm.tqdm_notebook`\n",
      "  This is separate from the ipykernel package so we can avoid doing imports until\n"
     ]
    },
    {
     "data": {
      "application/vnd.jupyter.widget-view+json": {
       "model_id": "1c1034d4c19343998e11abb936d54971",
       "version_major": 2,
       "version_minor": 0
      },
      "text/plain": [
       "HBox(children=(FloatProgress(value=0.0, max=122759.0), HTML(value='')))"
      ]
     },
     "metadata": {},
     "output_type": "display_data"
    },
    {
     "name": "stdout",
     "output_type": "stream",
     "text": [
      "\n",
      "122759 122759 122759\n"
     ]
    }
   ],
   "source": [
    "X, y, i_lst = train_windows(df, ref_day=15, predict_day=1)\n",
    "print(len(X),len(y),len(i_lst))"
   ]
  },
  {
   "cell_type": "code",
   "execution_count": 7,
   "metadata": {},
   "outputs": [
    {
     "data": {
      "text/plain": [
       "2016-05-13 15:00:00    0.903952\n",
       "2016-05-13 15:10:00    0.888240\n",
       "2016-05-13 15:20:00    0.894072\n",
       "2016-05-13 15:30:00    0.889203\n",
       "2016-05-13 15:40:00    0.928332\n",
       "Name: y, dtype: float64"
      ]
     },
     "execution_count": 7,
     "metadata": {},
     "output_type": "execute_result"
    }
   ],
   "source": [
    "y = pd.Series(y.ravel(),index=i_lst,name='y')\n",
    "y.head()"
   ]
  },
  {
   "cell_type": "markdown",
   "metadata": {},
   "source": [
    "# Visualization"
   ]
  },
  {
   "cell_type": "code",
   "execution_count": 8,
   "metadata": {},
   "outputs": [
    {
     "data": {
      "image/png": "[encoded data removed]",
      "text/plain": [
       "<Figure size 720x720 with 9 Axes>"
      ]
     },
     "metadata": {
      "needs_background": "light"
     },
     "output_type": "display_data"
    }
   ],
   "source": [
    "%matplotlib inline\n",
    "plt.figure(figsize=(10,10))\n",
    "plt.subplots_adjust(wspace =0.3, hspace =0.3)\n",
    "for i in range(0,9):\n",
    "    plt.subplot(330 + (i+1))\n",
    "    idx = np.random.randint(0,len(X))\n",
    "    plt.imshow(X[idx])\n",
    "    plt.title(y[idx])"
   ]
  },
  {
   "cell_type": "markdown",
   "metadata": {},
   "source": [
    "# reshape"
   ]
  },
  {
   "cell_type": "code",
   "execution_count": 9,
   "metadata": {},
   "outputs": [
    {
     "name": "stdout",
     "output_type": "stream",
     "text": [
      "(122759, 15, 15, 1) (122759,)\n"
     ]
    }
   ],
   "source": [
    "X = X.reshape(-1,15,15,1)\n",
    "print(X.shape,y.shape)"
   ]
  },
  {
   "cell_type": "markdown",
   "metadata": {},
   "source": [
    "# split"
   ]
  },
  {
   "cell_type": "code",
   "execution_count": 10,
   "metadata": {},
   "outputs": [
    {
     "name": "stdout",
     "output_type": "stream",
     "text": [
      "(85931, 15, 15, 1) (85931,)\n",
      "(18414, 15, 15, 1) (18414,)\n",
      "(18414, 15, 15, 1) (18414,)\n"
     ]
    }
   ],
   "source": [
    "from sklearn.model_selection import train_test_split\n",
    " \n",
    "X_train, X_test, y_train, y_test = train_test_split(X, y, test_size=0.3, random_state = 7)\n",
    "X_val, X_test ,y_val ,y_test = train_test_split(X_test, y_test, test_size=0.5, random_state = 7)\n",
    "\n",
    "print(X_train.shape,y_train.shape)\n",
    "print(X_val.shape,y_val.shape)\n",
    "print(X_test.shape,y_test.shape)"
   ]
  },
  {
   "cell_type": "markdown",
   "metadata": {},
   "source": [
    "# Model"
   ]
  },
  {
   "cell_type": "code",
   "execution_count": 11,
   "metadata": {},
   "outputs": [
    {
     "name": "stderr",
     "output_type": "stream",
     "text": [
      "Using TensorFlow backend.\n",
      "/workspace/conda/lib/python3.6/site-packages/tensorflow/python/framework/dtypes.py:523: FutureWarning: Passing (type, 1) or '1type' as a synonym of type is deprecated; in a future version of numpy, it will be understood as (type, (1,)) / '(1,)type'.\n",
      "  _np_qint8 = np.dtype([(\"qint8\", np.int8, 1)])\n",
      "/workspace/conda/lib/python3.6/site-packages/tensorflow/python/framework/dtypes.py:524: FutureWarning: Passing (type, 1) or '1type' as a synonym of type is deprecated; in a future version of numpy, it will be understood as (type, (1,)) / '(1,)type'.\n",
      "  _np_quint8 = np.dtype([(\"quint8\", np.uint8, 1)])\n",
      "/workspace/conda/lib/python3.6/site-packages/tensorflow/python/framework/dtypes.py:525: FutureWarning: Passing (type, 1) or '1type' as a synonym of type is deprecated; in a future version of numpy, it will be understood as (type, (1,)) / '(1,)type'.\n",
      "  _np_qint16 = np.dtype([(\"qint16\", np.int16, 1)])\n",
      "/workspace/conda/lib/python3.6/site-packages/tensorflow/python/framework/dtypes.py:526: FutureWarning: Passing (type, 1) or '1type' as a synonym of type is deprecated; in a future version of numpy, it will be understood as (type, (1,)) / '(1,)type'.\n",
      "  _np_quint16 = np.dtype([(\"quint16\", np.uint16, 1)])\n",
      "/workspace/conda/lib/python3.6/site-packages/tensorflow/python/framework/dtypes.py:527: FutureWarning: Passing (type, 1) or '1type' as a synonym of type is deprecated; in a future version of numpy, it will be understood as (type, (1,)) / '(1,)type'.\n",
      "  _np_qint32 = np.dtype([(\"qint32\", np.int32, 1)])\n",
      "/workspace/conda/lib/python3.6/site-packages/tensorflow/python/framework/dtypes.py:532: FutureWarning: Passing (type, 1) or '1type' as a synonym of type is deprecated; in a future version of numpy, it will be understood as (type, (1,)) / '(1,)type'.\n",
      "  np_resource = np.dtype([(\"resource\", np.ubyte, 1)])\n"
     ]
    }
   ],
   "source": [
    "from keras import backend as K\n",
    "from keras.models import Sequential\n",
    "from keras.layers import Dense, Dropout, Lambda, Flatten, BatchNormalization\n",
    "from keras.layers import Conv2D, MaxPool2D, AvgPool2D\n",
    "from keras.optimizers import Adam\n",
    "import warnings;warnings.simplefilter('ignore')"
   ]
  },
  {
   "cell_type": "code",
   "execution_count": 12,
   "metadata": {},
   "outputs": [
    {
     "name": "stdout",
     "output_type": "stream",
     "text": [
      "_________________________________________________________________\n",
      "Layer (type)                 Output Shape              Param #   \n",
      "=================================================================\n",
      "conv2d_1 (Conv2D)            (None, 15, 15, 32)        320       \n",
      "_________________________________________________________________\n",
      "conv2d_2 (Conv2D)            (None, 15, 15, 64)        18496     \n",
      "_________________________________________________________________\n",
      "max_pooling2d_1 (MaxPooling2 (None, 7, 7, 64)          0         \n",
      "_________________________________________________________________\n",
      "flatten_1 (Flatten)          (None, 3136)              0         \n",
      "_________________________________________________________________\n",
      "dropout_1 (Dropout)          (None, 3136)              0         \n",
      "_________________________________________________________________\n",
      "dense_1 (Dense)              (None, 128)               401536    \n",
      "_________________________________________________________________\n",
      "dense_2 (Dense)              (None, 1)                 129       \n",
      "=================================================================\n",
      "Total params: 420,481\n",
      "Trainable params: 420,481\n",
      "Non-trainable params: 0\n",
      "_________________________________________________________________\n"
     ]
    }
   ],
   "source": [
    "model = Sequential()\n",
    "\n",
    "model.add(Conv2D(filters=32, kernel_size=(3,3), padding='same', activation='relu', input_shape=X[0].shape))\n",
    "model.add(Conv2D(filters=64, kernel_size=(3,3), padding='same', activation='relu'))\n",
    "model.add(MaxPool2D(pool_size=(2,2)))\n",
    "\n",
    "model.add(Flatten())\n",
    "model.add(Dropout(0.25))\n",
    "model.add(Dense(128))\n",
    "model.add(Dense(1))\n",
    "\n",
    "model.summary()"
   ]
  },
  {
   "cell_type": "code",
   "execution_count": 13,
   "metadata": {},
   "outputs": [],
   "source": [
    "model.compile(optimizer=Adam(lr=0.0001), loss=\"mse\", metrics=[\"mse\"])"
   ]
  },
  {
   "cell_type": "code",
   "execution_count": 14,
   "metadata": {},
   "outputs": [],
   "source": [
    "from keras.callbacks import EarlyStopping\n",
    "es = EarlyStopping(monitor='val_loss',min_delta=0,patience=10,mode='min')"
   ]
  },
  {
   "cell_type": "markdown",
   "metadata": {},
   "source": [
    "# fit"
   ]
  },
  {
   "cell_type": "code",
   "execution_count": 15,
   "metadata": {},
   "outputs": [
    {
     "name": "stdout",
     "output_type": "stream",
     "text": [
      "Train on 85931 samples, validate on 18414 samples\n",
      "Epoch 1/100\n",
      "85931/85931 [==============================] - 5s 57us/step - loss: 0.0083 - mean_squared_error: 0.0083 - val_loss: 1.7011e-04 - val_mean_squared_error: 1.7011e-04\n",
      "Epoch 2/100\n",
      "85931/85931 [==============================] - 2s 19us/step - loss: 0.0016 - mean_squared_error: 0.0016 - val_loss: 1.1509e-04 - val_mean_squared_error: 1.1509e-04\n",
      "Epoch 3/100\n",
      "85931/85931 [==============================] - 2s 19us/step - loss: 9.7792e-04 - mean_squared_error: 9.7792e-04 - val_loss: 1.1546e-04 - val_mean_squared_error: 1.1546e-04\n",
      "Epoch 4/100\n",
      "85931/85931 [==============================] - 2s 19us/step - loss: 7.0926e-04 - mean_squared_error: 7.0926e-04 - val_loss: 1.4265e-04 - val_mean_squared_error: 1.4265e-04\n",
      "Epoch 5/100\n",
      "85931/85931 [==============================] - 2s 19us/step - loss: 5.7981e-04 - mean_squared_error: 5.7981e-04 - val_loss: 9.4412e-05 - val_mean_squared_error: 9.4412e-05\n",
      "Epoch 6/100\n",
      "85931/85931 [==============================] - 2s 19us/step - loss: 4.9899e-04 - mean_squared_error: 4.9899e-04 - val_loss: 9.1965e-05 - val_mean_squared_error: 9.1965e-05\n",
      "Epoch 7/100\n",
      "85931/85931 [==============================] - 2s 19us/step - loss: 4.4915e-04 - mean_squared_error: 4.4915e-04 - val_loss: 1.1649e-04 - val_mean_squared_error: 1.1649e-04\n",
      "Epoch 8/100\n",
      "85931/85931 [==============================] - 2s 18us/step - loss: 4.0424e-04 - mean_squared_error: 4.0424e-04 - val_loss: 8.7586e-05 - val_mean_squared_error: 8.7586e-05\n",
      "Epoch 9/100\n",
      "85931/85931 [==============================] - 2s 19us/step - loss: 3.7074e-04 - mean_squared_error: 3.7074e-04 - val_loss: 8.3730e-05 - val_mean_squared_error: 8.3730e-05\n",
      "Epoch 10/100\n",
      "85931/85931 [==============================] - 2s 19us/step - loss: 3.5240e-04 - mean_squared_error: 3.5240e-04 - val_loss: 9.2368e-05 - val_mean_squared_error: 9.2368e-05\n",
      "Epoch 11/100\n",
      "85931/85931 [==============================] - 2s 19us/step - loss: 3.2197e-04 - mean_squared_error: 3.2197e-04 - val_loss: 1.8667e-04 - val_mean_squared_error: 1.8667e-04\n",
      "Epoch 12/100\n",
      "85931/85931 [==============================] - 2s 19us/step - loss: 2.9766e-04 - mean_squared_error: 2.9766e-04 - val_loss: 1.0311e-04 - val_mean_squared_error: 1.0311e-04\n",
      "Epoch 13/100\n",
      "85931/85931 [==============================] - 2s 18us/step - loss: 2.8155e-04 - mean_squared_error: 2.8155e-04 - val_loss: 1.0000e-04 - val_mean_squared_error: 1.0000e-04\n",
      "Epoch 14/100\n",
      "85931/85931 [==============================] - 2s 18us/step - loss: 2.6453e-04 - mean_squared_error: 2.6453e-04 - val_loss: 7.6556e-05 - val_mean_squared_error: 7.6556e-05\n",
      "Epoch 15/100\n",
      "85931/85931 [==============================] - 2s 19us/step - loss: 2.5526e-04 - mean_squared_error: 2.5526e-04 - val_loss: 9.2220e-05 - val_mean_squared_error: 9.2220e-05\n",
      "Epoch 16/100\n",
      "85931/85931 [==============================] - 2s 19us/step - loss: 2.4216e-04 - mean_squared_error: 2.4216e-04 - val_loss: 7.5785e-05 - val_mean_squared_error: 7.5785e-05\n",
      "Epoch 17/100\n",
      "85931/85931 [==============================] - 2s 18us/step - loss: 2.2736e-04 - mean_squared_error: 2.2736e-04 - val_loss: 7.6166e-05 - val_mean_squared_error: 7.6166e-05\n",
      "Epoch 18/100\n",
      "85931/85931 [==============================] - 2s 18us/step - loss: 2.1705e-04 - mean_squared_error: 2.1705e-04 - val_loss: 7.5375e-05 - val_mean_squared_error: 7.5375e-05\n",
      "Epoch 19/100\n",
      "85931/85931 [==============================] - 2s 18us/step - loss: 1.9711e-04 - mean_squared_error: 1.9711e-04 - val_loss: 7.6776e-05 - val_mean_squared_error: 7.6776e-05\n",
      "Epoch 20/100\n",
      "85931/85931 [==============================] - 2s 18us/step - loss: 1.9876e-04 - mean_squared_error: 1.9876e-04 - val_loss: 7.6583e-05 - val_mean_squared_error: 7.6583e-05\n",
      "Epoch 21/100\n",
      "85931/85931 [==============================] - 2s 18us/step - loss: 1.8734e-04 - mean_squared_error: 1.8734e-04 - val_loss: 7.4857e-05 - val_mean_squared_error: 7.4857e-05\n",
      "Epoch 22/100\n",
      "85931/85931 [==============================] - 2s 18us/step - loss: 1.8014e-04 - mean_squared_error: 1.8014e-04 - val_loss: 8.5801e-05 - val_mean_squared_error: 8.5801e-05\n",
      "Epoch 23/100\n",
      "85931/85931 [==============================] - 2s 18us/step - loss: 1.6747e-04 - mean_squared_error: 1.6747e-04 - val_loss: 8.0875e-05 - val_mean_squared_error: 8.0875e-05\n",
      "Epoch 24/100\n",
      "85931/85931 [==============================] - 2s 18us/step - loss: 1.6384e-04 - mean_squared_error: 1.6384e-04 - val_loss: 8.8270e-05 - val_mean_squared_error: 8.8270e-05\n",
      "Epoch 25/100\n",
      "85931/85931 [==============================] - 2s 18us/step - loss: 1.5696e-04 - mean_squared_error: 1.5696e-04 - val_loss: 7.1643e-05 - val_mean_squared_error: 7.1643e-05\n",
      "Epoch 26/100\n",
      "85931/85931 [==============================] - 1s 17us/step - loss: 1.4730e-04 - mean_squared_error: 1.4730e-04 - val_loss: 7.7918e-05 - val_mean_squared_error: 7.7918e-05\n",
      "Epoch 27/100\n",
      "85931/85931 [==============================] - 2s 18us/step - loss: 1.4583e-04 - mean_squared_error: 1.4583e-04 - val_loss: 1.1432e-04 - val_mean_squared_error: 1.1432e-04\n",
      "Epoch 28/100\n",
      "85931/85931 [==============================] - 2s 18us/step - loss: 1.3978e-04 - mean_squared_error: 1.3978e-04 - val_loss: 6.8694e-05 - val_mean_squared_error: 6.8694e-05\n",
      "Epoch 29/100\n",
      "85931/85931 [==============================] - 2s 18us/step - loss: 1.2770e-04 - mean_squared_error: 1.2770e-04 - val_loss: 7.0389e-05 - val_mean_squared_error: 7.0389e-05\n",
      "Epoch 30/100\n",
      "85931/85931 [==============================] - 1s 17us/step - loss: 1.2736e-04 - mean_squared_error: 1.2736e-04 - val_loss: 7.1816e-05 - val_mean_squared_error: 7.1816e-05\n",
      "Epoch 31/100\n",
      "85931/85931 [==============================] - 2s 18us/step - loss: 1.2008e-04 - mean_squared_error: 1.2008e-04 - val_loss: 1.4743e-04 - val_mean_squared_error: 1.4743e-04\n",
      "Epoch 32/100\n",
      "85931/85931 [==============================] - 1s 17us/step - loss: 1.1645e-04 - mean_squared_error: 1.1645e-04 - val_loss: 1.0218e-04 - val_mean_squared_error: 1.0218e-04\n",
      "Epoch 33/100\n",
      "85931/85931 [==============================] - 1s 17us/step - loss: 1.1084e-04 - mean_squared_error: 1.1084e-04 - val_loss: 1.0620e-04 - val_mean_squared_error: 1.0620e-04\n",
      "Epoch 34/100\n",
      "85931/85931 [==============================] - 1s 17us/step - loss: 1.1237e-04 - mean_squared_error: 1.1237e-04 - val_loss: 9.4919e-05 - val_mean_squared_error: 9.4919e-05\n",
      "Epoch 35/100\n",
      "85931/85931 [==============================] - 2s 18us/step - loss: 1.0129e-04 - mean_squared_error: 1.0129e-04 - val_loss: 6.6328e-05 - val_mean_squared_error: 6.6328e-05\n",
      "Epoch 36/100\n",
      "85931/85931 [==============================] - 1s 17us/step - loss: 1.0051e-04 - mean_squared_error: 1.0051e-04 - val_loss: 9.9894e-05 - val_mean_squared_error: 9.9894e-05\n",
      "Epoch 37/100\n",
      "85931/85931 [==============================] - 1s 17us/step - loss: 9.6365e-05 - mean_squared_error: 9.6365e-05 - val_loss: 9.6999e-05 - val_mean_squared_error: 9.6999e-05\n",
      "Epoch 38/100\n",
      "85931/85931 [==============================] - 2s 18us/step - loss: 9.3329e-05 - mean_squared_error: 9.3329e-05 - val_loss: 7.2902e-05 - val_mean_squared_error: 7.2902e-05\n",
      "Epoch 39/100\n",
      "85931/85931 [==============================] - 1s 17us/step - loss: 8.7677e-05 - mean_squared_error: 8.7677e-05 - val_loss: 6.6074e-05 - val_mean_squared_error: 6.6074e-05\n",
      "Epoch 40/100\n",
      "85931/85931 [==============================] - 2s 18us/step - loss: 8.6494e-05 - mean_squared_error: 8.6494e-05 - val_loss: 6.6585e-05 - val_mean_squared_error: 6.6585e-05\n",
      "Epoch 41/100\n",
      "85931/85931 [==============================] - 1s 17us/step - loss: 8.5732e-05 - mean_squared_error: 8.5732e-05 - val_loss: 7.7482e-05 - val_mean_squared_error: 7.7482e-05\n",
      "Epoch 42/100\n",
      "85931/85931 [==============================] - 1s 17us/step - loss: 8.2842e-05 - mean_squared_error: 8.2842e-05 - val_loss: 6.6667e-05 - val_mean_squared_error: 6.6667e-05\n",
      "Epoch 43/100\n",
      "85931/85931 [==============================] - 1s 17us/step - loss: 8.1149e-05 - mean_squared_error: 8.1149e-05 - val_loss: 7.6007e-05 - val_mean_squared_error: 7.6007e-05\n",
      "Epoch 44/100\n",
      "85931/85931 [==============================] - 1s 17us/step - loss: 8.2330e-05 - mean_squared_error: 8.2330e-05 - val_loss: 6.5976e-05 - val_mean_squared_error: 6.5976e-05\n",
      "Epoch 45/100\n",
      "85931/85931 [==============================] - 2s 18us/step - loss: 7.7239e-05 - mean_squared_error: 7.7239e-05 - val_loss: 6.9958e-05 - val_mean_squared_error: 6.9958e-05\n",
      "Epoch 46/100\n",
      "85931/85931 [==============================] - 1s 17us/step - loss: 7.5082e-05 - mean_squared_error: 7.5082e-05 - val_loss: 8.3495e-05 - val_mean_squared_error: 8.3495e-05\n",
      "Epoch 47/100\n",
      "85931/85931 [==============================] - 1s 17us/step - loss: 7.4990e-05 - mean_squared_error: 7.4990e-05 - val_loss: 6.7011e-05 - val_mean_squared_error: 6.7011e-05\n",
      "Epoch 48/100\n",
      "85931/85931 [==============================] - 1s 17us/step - loss: 7.2817e-05 - mean_squared_error: 7.2817e-05 - val_loss: 6.9564e-05 - val_mean_squared_error: 6.9564e-05\n",
      "Epoch 49/100\n",
      "85931/85931 [==============================] - 2s 18us/step - loss: 7.2376e-05 - mean_squared_error: 7.2376e-05 - val_loss: 6.5167e-05 - val_mean_squared_error: 6.5167e-05\n",
      "Epoch 50/100\n",
      "85931/85931 [==============================] - 2s 18us/step - loss: 7.1354e-05 - mean_squared_error: 7.1354e-05 - val_loss: 6.7665e-05 - val_mean_squared_error: 6.7665e-05\n",
      "Epoch 51/100\n",
      "85931/85931 [==============================] - 2s 18us/step - loss: 7.0308e-05 - mean_squared_error: 7.0308e-05 - val_loss: 6.5856e-05 - val_mean_squared_error: 6.5856e-05\n",
      "Epoch 52/100\n",
      "85931/85931 [==============================] - 1s 17us/step - loss: 7.0784e-05 - mean_squared_error: 7.0784e-05 - val_loss: 8.4191e-05 - val_mean_squared_error: 8.4191e-05\n",
      "Epoch 53/100\n",
      "85931/85931 [==============================] - 2s 18us/step - loss: 6.9225e-05 - mean_squared_error: 6.9225e-05 - val_loss: 6.5319e-05 - val_mean_squared_error: 6.5319e-05\n",
      "Epoch 54/100\n",
      "85931/85931 [==============================] - 1s 17us/step - loss: 6.9537e-05 - mean_squared_error: 6.9537e-05 - val_loss: 6.6379e-05 - val_mean_squared_error: 6.6379e-05\n",
      "Epoch 55/100\n",
      "85931/85931 [==============================] - 2s 18us/step - loss: 6.7967e-05 - mean_squared_error: 6.7967e-05 - val_loss: 6.5014e-05 - val_mean_squared_error: 6.5014e-05\n",
      "Epoch 56/100\n",
      "85931/85931 [==============================] - 1s 17us/step - loss: 6.8453e-05 - mean_squared_error: 6.8453e-05 - val_loss: 6.6850e-05 - val_mean_squared_error: 6.6850e-05\n",
      "Epoch 57/100\n",
      "85931/85931 [==============================] - 1s 17us/step - loss: 6.8640e-05 - mean_squared_error: 6.8640e-05 - val_loss: 7.1235e-05 - val_mean_squared_error: 7.1235e-05\n",
      "Epoch 58/100\n",
      "85931/85931 [==============================] - 2s 17us/step - loss: 6.7738e-05 - mean_squared_error: 6.7738e-05 - val_loss: 6.9428e-05 - val_mean_squared_error: 6.9428e-05\n",
      "Epoch 59/100\n",
      "85931/85931 [==============================] - 2s 18us/step - loss: 6.7282e-05 - mean_squared_error: 6.7282e-05 - val_loss: 6.5439e-05 - val_mean_squared_error: 6.5439e-05\n",
      "Epoch 60/100\n",
      "85931/85931 [==============================] - 2s 18us/step - loss: 6.7245e-05 - mean_squared_error: 6.7245e-05 - val_loss: 6.4691e-05 - val_mean_squared_error: 6.4691e-05\n",
      "Epoch 61/100\n",
      "85931/85931 [==============================] - 2s 18us/step - loss: 6.7093e-05 - mean_squared_error: 6.7093e-05 - val_loss: 6.5704e-05 - val_mean_squared_error: 6.5704e-05\n",
      "Epoch 62/100\n",
      "85931/85931 [==============================] - 1s 17us/step - loss: 6.7573e-05 - mean_squared_error: 6.7573e-05 - val_loss: 6.4502e-05 - val_mean_squared_error: 6.4502e-05\n",
      "Epoch 63/100\n",
      "85931/85931 [==============================] - 1s 17us/step - loss: 6.6808e-05 - mean_squared_error: 6.6808e-05 - val_loss: 6.8271e-05 - val_mean_squared_error: 6.8271e-05\n",
      "Epoch 64/100\n",
      "85931/85931 [==============================] - 1s 17us/step - loss: 6.7116e-05 - mean_squared_error: 6.7116e-05 - val_loss: 6.3905e-05 - val_mean_squared_error: 6.3905e-05\n",
      "Epoch 65/100\n",
      "85931/85931 [==============================] - 2s 18us/step - loss: 6.6577e-05 - mean_squared_error: 6.6577e-05 - val_loss: 6.5430e-05 - val_mean_squared_error: 6.5430e-05\n",
      "Epoch 66/100\n",
      "85931/85931 [==============================] - 1s 17us/step - loss: 6.6465e-05 - mean_squared_error: 6.6465e-05 - val_loss: 6.5527e-05 - val_mean_squared_error: 6.5527e-05\n",
      "Epoch 67/100\n",
      "85931/85931 [==============================] - 1s 17us/step - loss: 6.6490e-05 - mean_squared_error: 6.6490e-05 - val_loss: 6.6540e-05 - val_mean_squared_error: 6.6540e-05\n",
      "Epoch 68/100\n",
      "85931/85931 [==============================] - 1s 17us/step - loss: 6.6141e-05 - mean_squared_error: 6.6141e-05 - val_loss: 6.4192e-05 - val_mean_squared_error: 6.4192e-05\n",
      "Epoch 69/100\n",
      "85931/85931 [==============================] - 2s 18us/step - loss: 6.6228e-05 - mean_squared_error: 6.6228e-05 - val_loss: 6.4152e-05 - val_mean_squared_error: 6.4152e-05\n",
      "Epoch 70/100\n",
      "85931/85931 [==============================] - 1s 17us/step - loss: 6.5968e-05 - mean_squared_error: 6.5968e-05 - val_loss: 6.4338e-05 - val_mean_squared_error: 6.4338e-05\n",
      "Epoch 71/100\n",
      "85931/85931 [==============================] - 1s 17us/step - loss: 6.5693e-05 - mean_squared_error: 6.5693e-05 - val_loss: 6.5190e-05 - val_mean_squared_error: 6.5190e-05\n",
      "Epoch 72/100\n",
      "85931/85931 [==============================] - 1s 17us/step - loss: 6.5105e-05 - mean_squared_error: 6.5105e-05 - val_loss: 6.6160e-05 - val_mean_squared_error: 6.6160e-05\n",
      "Epoch 73/100\n",
      "85931/85931 [==============================] - 1s 17us/step - loss: 6.5640e-05 - mean_squared_error: 6.5640e-05 - val_loss: 6.3004e-05 - val_mean_squared_error: 6.3004e-05\n",
      "Epoch 74/100\n",
      "85931/85931 [==============================] - 1s 17us/step - loss: 6.5158e-05 - mean_squared_error: 6.5158e-05 - val_loss: 6.2837e-05 - val_mean_squared_error: 6.2837e-05\n",
      "Epoch 75/100\n",
      "85931/85931 [==============================] - 1s 17us/step - loss: 6.5136e-05 - mean_squared_error: 6.5136e-05 - val_loss: 6.3476e-05 - val_mean_squared_error: 6.3476e-05\n",
      "Epoch 76/100\n",
      "85931/85931 [==============================] - 1s 17us/step - loss: 6.5196e-05 - mean_squared_error: 6.5196e-05 - val_loss: 6.3995e-05 - val_mean_squared_error: 6.3995e-05\n",
      "Epoch 77/100\n",
      "85931/85931 [==============================] - 1s 17us/step - loss: 6.4853e-05 - mean_squared_error: 6.4853e-05 - val_loss: 6.2325e-05 - val_mean_squared_error: 6.2325e-05\n",
      "Epoch 78/100\n",
      "85931/85931 [==============================] - 1s 17us/step - loss: 6.4334e-05 - mean_squared_error: 6.4334e-05 - val_loss: 6.3268e-05 - val_mean_squared_error: 6.3268e-05\n",
      "Epoch 79/100\n",
      "85931/85931 [==============================] - 2s 17us/step - loss: 6.4382e-05 - mean_squared_error: 6.4382e-05 - val_loss: 6.3501e-05 - val_mean_squared_error: 6.3501e-05\n",
      "Epoch 80/100\n",
      "85931/85931 [==============================] - 1s 17us/step - loss: 6.4382e-05 - mean_squared_error: 6.4382e-05 - val_loss: 6.2170e-05 - val_mean_squared_error: 6.2170e-05\n",
      "Epoch 81/100\n",
      "85931/85931 [==============================] - 1s 17us/step - loss: 6.3902e-05 - mean_squared_error: 6.3902e-05 - val_loss: 6.1706e-05 - val_mean_squared_error: 6.1706e-05\n",
      "Epoch 82/100\n",
      "85931/85931 [==============================] - 1s 17us/step - loss: 6.4287e-05 - mean_squared_error: 6.4287e-05 - val_loss: 6.2292e-05 - val_mean_squared_error: 6.2292e-05\n",
      "Epoch 83/100\n",
      "85931/85931 [==============================] - 1s 17us/step - loss: 6.3676e-05 - mean_squared_error: 6.3676e-05 - val_loss: 6.2846e-05 - val_mean_squared_error: 6.2846e-05\n",
      "Epoch 84/100\n",
      "85931/85931 [==============================] - 1s 17us/step - loss: 6.3703e-05 - mean_squared_error: 6.3703e-05 - val_loss: 6.3531e-05 - val_mean_squared_error: 6.3531e-05\n",
      "Epoch 85/100\n",
      "85931/85931 [==============================] - 1s 17us/step - loss: 6.3680e-05 - mean_squared_error: 6.3680e-05 - val_loss: 6.3746e-05 - val_mean_squared_error: 6.3746e-05\n",
      "Epoch 86/100\n",
      "85931/85931 [==============================] - 1s 17us/step - loss: 6.3556e-05 - mean_squared_error: 6.3556e-05 - val_loss: 6.1856e-05 - val_mean_squared_error: 6.1856e-05\n",
      "Epoch 87/100\n",
      "85931/85931 [==============================] - 1s 17us/step - loss: 6.3877e-05 - mean_squared_error: 6.3877e-05 - val_loss: 6.3803e-05 - val_mean_squared_error: 6.3803e-05\n",
      "Epoch 88/100\n",
      "85931/85931 [==============================] - 1s 17us/step - loss: 6.3736e-05 - mean_squared_error: 6.3736e-05 - val_loss: 6.0976e-05 - val_mean_squared_error: 6.0976e-05\n",
      "Epoch 89/100\n",
      "85931/85931 [==============================] - 1s 17us/step - loss: 6.3467e-05 - mean_squared_error: 6.3467e-05 - val_loss: 6.1731e-05 - val_mean_squared_error: 6.1731e-05\n",
      "Epoch 90/100\n",
      "85931/85931 [==============================] - 2s 18us/step - loss: 6.3347e-05 - mean_squared_error: 6.3347e-05 - val_loss: 6.1690e-05 - val_mean_squared_error: 6.1690e-05\n",
      "Epoch 91/100\n",
      "85931/85931 [==============================] - 2s 18us/step - loss: 6.2995e-05 - mean_squared_error: 6.2995e-05 - val_loss: 6.2399e-05 - val_mean_squared_error: 6.2399e-05\n",
      "Epoch 92/100\n",
      "85931/85931 [==============================] - 2s 18us/step - loss: 6.2827e-05 - mean_squared_error: 6.2827e-05 - val_loss: 6.1066e-05 - val_mean_squared_error: 6.1066e-05\n",
      "Epoch 93/100\n",
      "85931/85931 [==============================] - 2s 18us/step - loss: 6.2839e-05 - mean_squared_error: 6.2839e-05 - val_loss: 6.0946e-05 - val_mean_squared_error: 6.0946e-05\n",
      "Epoch 94/100\n",
      "85931/85931 [==============================] - 1s 17us/step - loss: 6.2839e-05 - mean_squared_error: 6.2839e-05 - val_loss: 6.1112e-05 - val_mean_squared_error: 6.1112e-05\n",
      "Epoch 95/100\n",
      "85931/85931 [==============================] - 2s 17us/step - loss: 6.2823e-05 - mean_squared_error: 6.2823e-05 - val_loss: 6.1671e-05 - val_mean_squared_error: 6.1671e-05\n",
      "Epoch 96/100\n",
      "85931/85931 [==============================] - 1s 17us/step - loss: 6.2649e-05 - mean_squared_error: 6.2649e-05 - val_loss: 6.0640e-05 - val_mean_squared_error: 6.0640e-05\n",
      "Epoch 97/100\n",
      "85931/85931 [==============================] - 1s 17us/step - loss: 6.2213e-05 - mean_squared_error: 6.2213e-05 - val_loss: 6.0833e-05 - val_mean_squared_error: 6.0833e-05\n",
      "Epoch 98/100\n",
      "85931/85931 [==============================] - 1s 17us/step - loss: 6.2258e-05 - mean_squared_error: 6.2258e-05 - val_loss: 6.0166e-05 - val_mean_squared_error: 6.0166e-05\n",
      "Epoch 99/100\n",
      "85931/85931 [==============================] - 1s 17us/step - loss: 6.2715e-05 - mean_squared_error: 6.2715e-05 - val_loss: 6.1347e-05 - val_mean_squared_error: 6.1347e-05\n",
      "Epoch 100/100\n",
      "85931/85931 [==============================] - 1s 17us/step - loss: 6.2328e-05 - mean_squared_error: 6.2328e-05 - val_loss: 6.0387e-05 - val_mean_squared_error: 6.0387e-05\n"
     ]
    }
   ],
   "source": [
    "history = model.fit(X_train,y_train,\n",
    "                    batch_size = 256,\n",
    "                    epochs = 100,\n",
    "                    validation_data = (X_val,y_val),\n",
    "                    verbose = 1,\n",
    "                    callbacks = [es])"
   ]
  },
  {
   "cell_type": "markdown",
   "metadata": {},
   "source": [
    "# eval"
   ]
  },
  {
   "cell_type": "code",
   "execution_count": 16,
   "metadata": {},
   "outputs": [
    {
     "data": {
      "text/plain": [
       "<matplotlib.legend.Legend at 0x7f4bc04a45f8>"
      ]
     },
     "execution_count": 16,
     "metadata": {},
     "output_type": "execute_result"
    },
    {
     "data": {
      "image/png": "[encoded data removed]",
      "text/plain": [
       "<Figure size 432x288 with 1 Axes>"
      ]
     },
     "metadata": {
      "needs_background": "light"
     },
     "output_type": "display_data"
    }
   ],
   "source": [
    "n = 10\n",
    "plt.plot(history.history['loss'][n:], color='b', label=\"Training loss\")\n",
    "plt.plot(history.history['val_loss'][n:], color='r', label=\"Validation loss\")\n",
    "plt.legend()"
   ]
  },
  {
   "cell_type": "code",
   "execution_count": 17,
   "metadata": {},
   "outputs": [
    {
     "name": "stdout",
     "output_type": "stream",
     "text": [
      "0.3431\n",
      "0.0001\n"
     ]
    }
   ],
   "source": [
    "from sklearn.metrics import r2_score,mean_squared_error\n",
    "\n",
    "y_pred = model.predict(X_test).ravel()\n",
    "print(round(r2_score(y_test,y_pred),4))\n",
    "print(round(mean_squared_error(y_test,y_pred),4))"
   ]
  },
  {
   "cell_type": "code",
   "execution_count": 20,
   "metadata": {},
   "outputs": [],
   "source": [
    "y_pred = pd.Series(y_pred,index=y_test.index,name='y_pred')"
   ]
  },
  {
   "cell_type": "code",
   "execution_count": 21,
   "metadata": {},
   "outputs": [],
   "source": [
    "y_pred = y_pred.sort_index()\n",
    "y_test = y_test.sort_index()"
   ]
  },
  {
   "cell_type": "code",
   "execution_count": 25,
   "metadata": {},
   "outputs": [
    {
     "data": {
      "image/png": "[encoded data removed]",
      "text/plain": [
       "<Figure size 432x288 with 1 Axes>"
      ]
     },
     "metadata": {
      "needs_background": "light"
     },
     "output_type": "display_data"
    }
   ],
   "source": [
    "y_pred.rolling(6*24*15).mean().plot()\n",
    "y_test.rolling(6*24*15).mean().plot()\n",
    "plt.legend()\n",
    "plt.show()"
   ]
  },
  {
   "cell_type": "code",
   "execution_count": null,
   "metadata": {},
   "outputs": [],
   "source": []
  }
 ],
 "metadata": {
  "kernelspec": {
   "display_name": "Python 3",
   "language": "python",
   "name": "python3"
  },
  "language_info": {
   "codemirror_mode": {
    "name": "ipython",
    "version": 3
   },
   "file_extension": ".py",
   "mimetype": "text/x-python",
   "name": "python",
   "nbconvert_exporter": "python",
   "pygments_lexer": "ipython3",
   "version": "3.6.9"
  }
 },
 "nbformat": 4,
 "nbformat_minor": 2
}
