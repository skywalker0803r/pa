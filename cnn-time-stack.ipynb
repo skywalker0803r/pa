{
 "cells": [
  {
   "cell_type": "markdown",
   "metadata": {},
   "source": [
    "## import os "
   ]
  },
  {
   "cell_type": "code",
   "execution_count": 69,
   "metadata": {},
   "outputs": [
    {
     "data": {
      "text/plain": [
       "['train.csv',\n",
       " 'DataCleaning.ipynb',\n",
       " 'PA_201605-2012001更新R6(20190509).xlsx',\n",
       " 'tag盤點表.xlsx',\n",
       " 'xgboost.ipynb',\n",
       " 'train_FeatureSelected.csv',\n",
       " 'feature select.ipynb',\n",
       " 'tpot_pa_pipeline.py',\n",
       " 'TPOT.ipynb',\n",
       " 'cnn-time-stack.ipynb',\n",
       " '.ipynb_checkpoints']"
      ]
     },
     "execution_count": 69,
     "metadata": {},
     "output_type": "execute_result"
    }
   ],
   "source": [
    "os.listdir()"
   ]
  },
  {
   "cell_type": "code",
   "execution_count": 70,
   "metadata": {},
   "outputs": [],
   "source": [
    "import pandas as pd\n",
    "import matplotlib.pyplot as plt\n",
    "import matplotlib.image as mpimg\n",
    "import numpy as np\n",
    "import seaborn as sns\n",
    "from tqdm import tqdm_notebook as tqdm"
   ]
  },
  {
   "cell_type": "markdown",
   "metadata": {},
   "source": [
    "# load"
   ]
  },
  {
   "cell_type": "code",
   "execution_count": 71,
   "metadata": {},
   "outputs": [
    {
     "name": "stdout",
     "output_type": "stream",
     "text": [
      "(122775, 15)\n"
     ]
    },
    {
     "data": {
      "text/html": [
       "<div>\n",
       "<style scoped>\n",
       "    .dataframe tbody tr th:only-of-type {\n",
       "        vertical-align: middle;\n",
       "    }\n",
       "\n",
       "    .dataframe tbody tr th {\n",
       "        vertical-align: top;\n",
       "    }\n",
       "\n",
       "    .dataframe thead th {\n",
       "        text-align: right;\n",
       "    }\n",
       "</style>\n",
       "<table border=\"1\" class=\"dataframe\">\n",
       "  <thead>\n",
       "    <tr style=\"text-align: right;\">\n",
       "      <th></th>\n",
       "      <th>MLPAP_TI-0706B15</th>\n",
       "      <th>MLPAP_TI-0706B21</th>\n",
       "      <th>MLPAP_TI-0716A03</th>\n",
       "      <th>MLPAP_TI-0716A05</th>\n",
       "      <th>MLPAP_TJR-0720A1.PV</th>\n",
       "      <th>MLPAP_TJR-0720B2.PV</th>\n",
       "      <th>MLPAP_TJR-0762A1.PV</th>\n",
       "      <th>MLPAP_TI-0706B01</th>\n",
       "      <th>MLPAP_TRC-0610.PV</th>\n",
       "      <th>MLPAP_TIC-1721.PV</th>\n",
       "      <th>MLPAP_TRC-1734.PV</th>\n",
       "      <th>MLPAP_FR-0755.PV</th>\n",
       "      <th>MLPAP_TIC-0757.PV</th>\n",
       "      <th>MLPAP_V125-PHD</th>\n",
       "      <th>target</th>\n",
       "    </tr>\n",
       "  </thead>\n",
       "  <tbody>\n",
       "    <tr>\n",
       "      <th>0</th>\n",
       "      <td>0.436520</td>\n",
       "      <td>0.527857</td>\n",
       "      <td>2.885848</td>\n",
       "      <td>0.448321</td>\n",
       "      <td>0.677295</td>\n",
       "      <td>0.881300</td>\n",
       "      <td>0.796872</td>\n",
       "      <td>0.633992</td>\n",
       "      <td>3.036852</td>\n",
       "      <td>3.099501</td>\n",
       "      <td>0.608934</td>\n",
       "      <td>-2.619894</td>\n",
       "      <td>-1.015438</td>\n",
       "      <td>-0.088287</td>\n",
       "      <td>0.914125</td>\n",
       "    </tr>\n",
       "    <tr>\n",
       "      <th>1</th>\n",
       "      <td>0.436520</td>\n",
       "      <td>0.527857</td>\n",
       "      <td>2.885848</td>\n",
       "      <td>0.448321</td>\n",
       "      <td>0.677122</td>\n",
       "      <td>0.881648</td>\n",
       "      <td>0.797089</td>\n",
       "      <td>0.633992</td>\n",
       "      <td>2.864041</td>\n",
       "      <td>3.272350</td>\n",
       "      <td>0.447358</td>\n",
       "      <td>-2.614712</td>\n",
       "      <td>-0.982340</td>\n",
       "      <td>-0.088287</td>\n",
       "      <td>0.919765</td>\n",
       "    </tr>\n",
       "    <tr>\n",
       "      <th>2</th>\n",
       "      <td>0.436830</td>\n",
       "      <td>0.527857</td>\n",
       "      <td>2.885848</td>\n",
       "      <td>0.448321</td>\n",
       "      <td>0.677619</td>\n",
       "      <td>0.881571</td>\n",
       "      <td>0.796987</td>\n",
       "      <td>0.633992</td>\n",
       "      <td>3.006620</td>\n",
       "      <td>3.596289</td>\n",
       "      <td>-0.634915</td>\n",
       "      <td>-2.617016</td>\n",
       "      <td>-0.975999</td>\n",
       "      <td>-0.088287</td>\n",
       "      <td>0.926346</td>\n",
       "    </tr>\n",
       "    <tr>\n",
       "      <th>3</th>\n",
       "      <td>0.411821</td>\n",
       "      <td>0.395807</td>\n",
       "      <td>2.856863</td>\n",
       "      <td>0.468480</td>\n",
       "      <td>0.641630</td>\n",
       "      <td>0.853312</td>\n",
       "      <td>0.763786</td>\n",
       "      <td>0.601863</td>\n",
       "      <td>1.710665</td>\n",
       "      <td>3.361869</td>\n",
       "      <td>0.769126</td>\n",
       "      <td>-2.612469</td>\n",
       "      <td>-0.840360</td>\n",
       "      <td>-0.088287</td>\n",
       "      <td>0.906781</td>\n",
       "    </tr>\n",
       "    <tr>\n",
       "      <th>4</th>\n",
       "      <td>0.412131</td>\n",
       "      <td>0.395807</td>\n",
       "      <td>2.882331</td>\n",
       "      <td>0.468480</td>\n",
       "      <td>0.642077</td>\n",
       "      <td>0.853810</td>\n",
       "      <td>0.764300</td>\n",
       "      <td>0.603356</td>\n",
       "      <td>1.822449</td>\n",
       "      <td>3.029603</td>\n",
       "      <td>0.528846</td>\n",
       "      <td>-2.620588</td>\n",
       "      <td>-0.868595</td>\n",
       "      <td>-0.088287</td>\n",
       "      <td>0.926688</td>\n",
       "    </tr>\n",
       "  </tbody>\n",
       "</table>\n",
       "</div>"
      ],
      "text/plain": [
       "   MLPAP_TI-0706B15  MLPAP_TI-0706B21  MLPAP_TI-0716A03  MLPAP_TI-0716A05  \\\n",
       "0          0.436520          0.527857          2.885848          0.448321   \n",
       "1          0.436520          0.527857          2.885848          0.448321   \n",
       "2          0.436830          0.527857          2.885848          0.448321   \n",
       "3          0.411821          0.395807          2.856863          0.468480   \n",
       "4          0.412131          0.395807          2.882331          0.468480   \n",
       "\n",
       "   MLPAP_TJR-0720A1.PV  MLPAP_TJR-0720B2.PV  MLPAP_TJR-0762A1.PV  \\\n",
       "0             0.677295             0.881300             0.796872   \n",
       "1             0.677122             0.881648             0.797089   \n",
       "2             0.677619             0.881571             0.796987   \n",
       "3             0.641630             0.853312             0.763786   \n",
       "4             0.642077             0.853810             0.764300   \n",
       "\n",
       "   MLPAP_TI-0706B01  MLPAP_TRC-0610.PV  MLPAP_TIC-1721.PV  MLPAP_TRC-1734.PV  \\\n",
       "0          0.633992           3.036852           3.099501           0.608934   \n",
       "1          0.633992           2.864041           3.272350           0.447358   \n",
       "2          0.633992           3.006620           3.596289          -0.634915   \n",
       "3          0.601863           1.710665           3.361869           0.769126   \n",
       "4          0.603356           1.822449           3.029603           0.528846   \n",
       "\n",
       "   MLPAP_FR-0755.PV  MLPAP_TIC-0757.PV  MLPAP_V125-PHD    target  \n",
       "0         -2.619894          -1.015438       -0.088287  0.914125  \n",
       "1         -2.614712          -0.982340       -0.088287  0.919765  \n",
       "2         -2.617016          -0.975999       -0.088287  0.926346  \n",
       "3         -2.612469          -0.840360       -0.088287  0.906781  \n",
       "4         -2.620588          -0.868595       -0.088287  0.926688  "
      ]
     },
     "execution_count": 71,
     "metadata": {},
     "output_type": "execute_result"
    }
   ],
   "source": [
    "df = pd.read_csv('train_FeatureSelected.csv',index_col = 0,parse_dates = True)\n",
    "print(df.shape)\n",
    "df.head()"
   ]
  },
  {
   "cell_type": "markdown",
   "metadata": {},
   "source": [
    "# scale"
   ]
  },
  {
   "cell_type": "code",
   "execution_count": 72,
   "metadata": {},
   "outputs": [],
   "source": [
    "#from sklearn.preprocessing import MinMaxScaler\n",
    "\n",
    "#x_col = df.drop('target',axis=1).columns.tolist()\n",
    "#y_col = 'target'\n",
    "\n",
    "#sc = MinMaxScaler()\n",
    "#df[x_col] = sc.fit_transform(df[x_col])\n",
    "\n",
    "#df.head()"
   ]
  },
  {
   "cell_type": "markdown",
   "metadata": {},
   "source": [
    "# stack"
   ]
  },
  {
   "cell_type": "code",
   "execution_count": 74,
   "metadata": {},
   "outputs": [],
   "source": [
    "step = 15\n",
    "X_lst,y_lst = [],[]\n",
    "x_col = df.drop('target',axis=1).columns.tolist()\n",
    "y_col = 'target'"
   ]
  },
  {
   "cell_type": "code",
   "execution_count": 75,
   "metadata": {},
   "outputs": [
    {
     "data": {
      "application/vnd.jupyter.widget-view+json": {
       "model_id": "c121321c4dc14401ad6b22f8d0c823b0",
       "version_major": 2,
       "version_minor": 0
      },
      "text/plain": [
       "HBox(children=(IntProgress(value=0, max=122760), HTML(value='')))"
      ]
     },
     "metadata": {},
     "output_type": "display_data"
    },
    {
     "name": "stdout",
     "output_type": "stream",
     "text": [
      "\n"
     ]
    }
   ],
   "source": [
    "for i in tqdm(range(0,len(df)-step)):\n",
    "    X_lst.append(df.iloc[i:i+step][x_col])\n",
    "    y_lst.append(df.iloc[i+step][y_col])"
   ]
  },
  {
   "cell_type": "markdown",
   "metadata": {},
   "source": [
    "# Visualization"
   ]
  },
  {
   "cell_type": "code",
   "execution_count": 76,
   "metadata": {},
   "outputs": [
    {
     "data": {
      "image/png": "[encoded data removed]",
      "text/plain": [
       "<Figure size 720x720 with 9 Axes>"
      ]
     },
     "metadata": {
      "needs_background": "light"
     },
     "output_type": "display_data"
    }
   ],
   "source": [
    "%matplotlib inline\n",
    "plt.figure(figsize=(10,10))\n",
    "plt.subplots_adjust(wspace =0.3, hspace =0.3)\n",
    "for i in range(0,9):\n",
    "    plt.subplot(330 + (i+1))\n",
    "    idx = np.random.randint(0,len(X_lst))\n",
    "    plt.imshow(X_lst[idx])\n",
    "    plt.title(y_lst[idx])"
   ]
  },
  {
   "cell_type": "markdown",
   "metadata": {},
   "source": [
    "# split"
   ]
  },
  {
   "cell_type": "code",
   "execution_count": 77,
   "metadata": {},
   "outputs": [
    {
     "name": "stdout",
     "output_type": "stream",
     "text": [
      "(85932, 15, 14, 1) (85932,)\n",
      "(18414, 15, 14, 1) (18414,)\n",
      "(18414, 15, 14, 1) (18414,)\n"
     ]
    }
   ],
   "source": [
    "from sklearn.model_selection import train_test_split\n",
    "\n",
    "# reshape\n",
    "X = np.array([i.values for i in X_lst])\n",
    "X = X.reshape(-1,step,len(x_col),1)\n",
    "y = np.array([i for i in y_lst])\n",
    "\n",
    "# split \n",
    "X_train, X_test, y_train, y_test = train_test_split(X, y, test_size=0.3, random_state = 7)\n",
    "X_val, X_test ,y_val ,y_test = train_test_split(X_test, y_test, test_size=0.5, random_state = 7)\n",
    "\n",
    "print(X_train.shape,y_train.shape)\n",
    "print(X_val.shape,y_val.shape)\n",
    "print(X_test.shape,y_test.shape)"
   ]
  },
  {
   "cell_type": "markdown",
   "metadata": {},
   "source": [
    "# Model"
   ]
  },
  {
   "cell_type": "code",
   "execution_count": 78,
   "metadata": {},
   "outputs": [],
   "source": [
    "from keras import backend as K\n",
    "from keras.models import Sequential\n",
    "from keras.layers import Dense, Dropout, Lambda, Flatten, BatchNormalization\n",
    "from keras.layers import Conv2D, MaxPool2D, AvgPool2D\n",
    "from keras.optimizers import Adam\n",
    "import warnings;warnings.simplefilter('ignore')"
   ]
  },
  {
   "cell_type": "code",
   "execution_count": 79,
   "metadata": {},
   "outputs": [
    {
     "name": "stdout",
     "output_type": "stream",
     "text": [
      "_________________________________________________________________\n",
      "Layer (type)                 Output Shape              Param #   \n",
      "=================================================================\n",
      "conv2d_7 (Conv2D)            (None, 15, 14, 6)         30        \n",
      "_________________________________________________________________\n",
      "max_pooling2d_7 (MaxPooling2 (None, 7, 7, 6)           0         \n",
      "_________________________________________________________________\n",
      "conv2d_8 (Conv2D)            (None, 7, 7, 16)          400       \n",
      "_________________________________________________________________\n",
      "max_pooling2d_8 (MaxPooling2 (None, 3, 3, 16)          0         \n",
      "_________________________________________________________________\n",
      "flatten_3 (Flatten)          (None, 144)               0         \n",
      "_________________________________________________________________\n",
      "dense_7 (Dense)              (None, 120)               17400     \n",
      "_________________________________________________________________\n",
      "dense_8 (Dense)              (None, 84)                10164     \n",
      "_________________________________________________________________\n",
      "dense_9 (Dense)              (None, 1)                 85        \n",
      "=================================================================\n",
      "Total params: 28,079\n",
      "Trainable params: 28,079\n",
      "Non-trainable params: 0\n",
      "_________________________________________________________________\n"
     ]
    }
   ],
   "source": [
    "model = Sequential()\n",
    "\n",
    "model.add(Conv2D(filters=6, kernel_size=(2,2), padding='same', activation='relu', input_shape=X[0].shape))\n",
    "model.add(MaxPool2D(pool_size=(2,2)))\n",
    "\n",
    "model.add(Conv2D(filters=16, kernel_size=(2,2), padding='same', activation='relu'))\n",
    "model.add(MaxPool2D(pool_size=(2,2)))\n",
    "\n",
    "model.add(Flatten())\n",
    "model.add(Dense(120, activation='relu'))\n",
    "model.add(Dense(84, activation='relu'))\n",
    "model.add(Dense(1))\n",
    "\n",
    "model.summary()"
   ]
  },
  {
   "cell_type": "code",
   "execution_count": 80,
   "metadata": {},
   "outputs": [],
   "source": [
    "model.compile(optimizer=Adam(lr=0.0001), loss=\"mse\", metrics=[\"mse\"])"
   ]
  },
  {
   "cell_type": "code",
   "execution_count": 81,
   "metadata": {},
   "outputs": [],
   "source": [
    "from keras.callbacks import EarlyStopping\n",
    "es = EarlyStopping(monitor='val_loss',min_delta=0,patience=10,mode='min')"
   ]
  },
  {
   "cell_type": "markdown",
   "metadata": {},
   "source": [
    "# fit"
   ]
  },
  {
   "cell_type": "code",
   "execution_count": 82,
   "metadata": {},
   "outputs": [
    {
     "name": "stdout",
     "output_type": "stream",
     "text": [
      "Train on 85932 samples, validate on 18414 samples\n",
      "Epoch 1/100\n",
      "85932/85932 [==============================] - 2s 21us/step - loss: 0.0401 - mean_squared_error: 0.0401 - val_loss: 0.0042 - val_mean_squared_error: 0.0042\n",
      "Epoch 2/100\n",
      "85932/85932 [==============================] - 1s 17us/step - loss: 0.0030 - mean_squared_error: 0.0030 - val_loss: 0.0022 - val_mean_squared_error: 0.0022\n",
      "Epoch 3/100\n",
      "85932/85932 [==============================] - 1s 17us/step - loss: 0.0018 - mean_squared_error: 0.0018 - val_loss: 0.0015 - val_mean_squared_error: 0.0015\n",
      "Epoch 4/100\n",
      "85932/85932 [==============================] - 1s 17us/step - loss: 0.0013 - mean_squared_error: 0.0013 - val_loss: 0.0011 - val_mean_squared_error: 0.0011\n",
      "Epoch 5/100\n",
      "85932/85932 [==============================] - 1s 17us/step - loss: 9.8662e-04 - mean_squared_error: 9.8662e-04 - val_loss: 8.6798e-04 - val_mean_squared_error: 8.6798e-04\n",
      "Epoch 6/100\n",
      "85932/85932 [==============================] - 1s 17us/step - loss: 7.7195e-04 - mean_squared_error: 7.7195e-04 - val_loss: 7.2008e-04 - val_mean_squared_error: 7.2008e-04\n",
      "Epoch 7/100\n",
      "85932/85932 [==============================] - 1s 17us/step - loss: 6.2401e-04 - mean_squared_error: 6.2401e-04 - val_loss: 5.9408e-04 - val_mean_squared_error: 5.9408e-04\n",
      "Epoch 8/100\n",
      "85932/85932 [==============================] - 1s 17us/step - loss: 5.1853e-04 - mean_squared_error: 5.1853e-04 - val_loss: 4.8918e-04 - val_mean_squared_error: 4.8918e-04\n",
      "Epoch 9/100\n",
      "85932/85932 [==============================] - 1s 17us/step - loss: 4.4248e-04 - mean_squared_error: 4.4248e-04 - val_loss: 4.3036e-04 - val_mean_squared_error: 4.3036e-04\n",
      "Epoch 10/100\n",
      "85932/85932 [==============================] - 1s 17us/step - loss: 3.8768e-04 - mean_squared_error: 3.8768e-04 - val_loss: 3.8975e-04 - val_mean_squared_error: 3.8975e-04\n",
      "Epoch 11/100\n",
      "85932/85932 [==============================] - 1s 17us/step - loss: 3.4907e-04 - mean_squared_error: 3.4907e-04 - val_loss: 3.4481e-04 - val_mean_squared_error: 3.4481e-04\n",
      "Epoch 12/100\n",
      "85932/85932 [==============================] - 1s 17us/step - loss: 3.1441e-04 - mean_squared_error: 3.1441e-04 - val_loss: 3.2016e-04 - val_mean_squared_error: 3.2016e-04\n",
      "Epoch 13/100\n",
      "85932/85932 [==============================] - 1s 17us/step - loss: 2.8388e-04 - mean_squared_error: 2.8388e-04 - val_loss: 2.8989e-04 - val_mean_squared_error: 2.8989e-04\n",
      "Epoch 14/100\n",
      "85932/85932 [==============================] - 1s 17us/step - loss: 2.6805e-04 - mean_squared_error: 2.6805e-04 - val_loss: 2.7449e-04 - val_mean_squared_error: 2.7449e-04\n",
      "Epoch 15/100\n",
      "85932/85932 [==============================] - 1s 17us/step - loss: 2.3342e-04 - mean_squared_error: 2.3342e-04 - val_loss: 2.4448e-04 - val_mean_squared_error: 2.4448e-04\n",
      "Epoch 16/100\n",
      "85932/85932 [==============================] - 1s 17us/step - loss: 2.1815e-04 - mean_squared_error: 2.1815e-04 - val_loss: 2.3803e-04 - val_mean_squared_error: 2.3803e-04\n",
      "Epoch 17/100\n",
      "85932/85932 [==============================] - 1s 17us/step - loss: 2.0696e-04 - mean_squared_error: 2.0696e-04 - val_loss: 2.1245e-04 - val_mean_squared_error: 2.1245e-04\n",
      "Epoch 18/100\n",
      "85932/85932 [==============================] - 1s 17us/step - loss: 1.9075e-04 - mean_squared_error: 1.9075e-04 - val_loss: 1.9964e-04 - val_mean_squared_error: 1.9964e-04\n",
      "Epoch 19/100\n",
      "85932/85932 [==============================] - 1s 17us/step - loss: 1.8035e-04 - mean_squared_error: 1.8035e-04 - val_loss: 1.8928e-04 - val_mean_squared_error: 1.8928e-04\n",
      "Epoch 20/100\n",
      "85932/85932 [==============================] - 1s 17us/step - loss: 1.6861e-04 - mean_squared_error: 1.6861e-04 - val_loss: 1.7964e-04 - val_mean_squared_error: 1.7964e-04\n",
      "Epoch 21/100\n",
      "85932/85932 [==============================] - 1s 17us/step - loss: 1.5945e-04 - mean_squared_error: 1.5945e-04 - val_loss: 1.9045e-04 - val_mean_squared_error: 1.9045e-04\n",
      "Epoch 22/100\n",
      "85932/85932 [==============================] - 1s 17us/step - loss: 1.6146e-04 - mean_squared_error: 1.6146e-04 - val_loss: 1.9924e-04 - val_mean_squared_error: 1.9924e-04\n",
      "Epoch 23/100\n",
      "85932/85932 [==============================] - 2s 17us/step - loss: 1.4840e-04 - mean_squared_error: 1.4840e-04 - val_loss: 1.6027e-04 - val_mean_squared_error: 1.6027e-04\n",
      "Epoch 24/100\n",
      "85932/85932 [==============================] - 1s 17us/step - loss: 1.6357e-04 - mean_squared_error: 1.6357e-04 - val_loss: 1.6514e-04 - val_mean_squared_error: 1.6514e-04\n",
      "Epoch 25/100\n",
      "85932/85932 [==============================] - 1s 17us/step - loss: 1.3563e-04 - mean_squared_error: 1.3563e-04 - val_loss: 1.4498e-04 - val_mean_squared_error: 1.4498e-04\n",
      "Epoch 26/100\n",
      "85932/85932 [==============================] - 2s 18us/step - loss: 1.2616e-04 - mean_squared_error: 1.2616e-04 - val_loss: 1.4365e-04 - val_mean_squared_error: 1.4365e-04\n",
      "Epoch 27/100\n",
      "85932/85932 [==============================] - 1s 17us/step - loss: 1.4161e-04 - mean_squared_error: 1.4161e-04 - val_loss: 1.4031e-04 - val_mean_squared_error: 1.4031e-04\n",
      "Epoch 28/100\n",
      "85932/85932 [==============================] - 1s 17us/step - loss: 1.1769e-04 - mean_squared_error: 1.1769e-04 - val_loss: 1.3572e-04 - val_mean_squared_error: 1.3572e-04\n",
      "Epoch 29/100\n",
      "85932/85932 [==============================] - 1s 17us/step - loss: 1.1629e-04 - mean_squared_error: 1.1629e-04 - val_loss: 1.3728e-04 - val_mean_squared_error: 1.3728e-04\n",
      "Epoch 30/100\n",
      "85932/85932 [==============================] - 1s 17us/step - loss: 1.1438e-04 - mean_squared_error: 1.1438e-04 - val_loss: 1.2830e-04 - val_mean_squared_error: 1.2830e-04\n",
      "Epoch 31/100\n",
      "85932/85932 [==============================] - 1s 17us/step - loss: 1.0823e-04 - mean_squared_error: 1.0823e-04 - val_loss: 1.2333e-04 - val_mean_squared_error: 1.2333e-04\n",
      "Epoch 32/100\n",
      "85932/85932 [==============================] - 1s 17us/step - loss: 1.0954e-04 - mean_squared_error: 1.0954e-04 - val_loss: 1.2752e-04 - val_mean_squared_error: 1.2752e-04\n",
      "Epoch 33/100\n",
      "85932/85932 [==============================] - 2s 18us/step - loss: 1.0933e-04 - mean_squared_error: 1.0933e-04 - val_loss: 1.1852e-04 - val_mean_squared_error: 1.1852e-04\n",
      "Epoch 34/100\n",
      "85932/85932 [==============================] - 2s 17us/step - loss: 1.0466e-04 - mean_squared_error: 1.0466e-04 - val_loss: 1.1393e-04 - val_mean_squared_error: 1.1393e-04\n",
      "Epoch 35/100\n",
      "85932/85932 [==============================] - 1s 17us/step - loss: 9.9010e-05 - mean_squared_error: 9.9010e-05 - val_loss: 1.3205e-04 - val_mean_squared_error: 1.3205e-04\n",
      "Epoch 36/100\n",
      "85932/85932 [==============================] - 1s 17us/step - loss: 9.5884e-05 - mean_squared_error: 9.5884e-05 - val_loss: 1.1538e-04 - val_mean_squared_error: 1.1538e-04\n",
      "Epoch 37/100\n",
      "85932/85932 [==============================] - 2s 17us/step - loss: 9.7379e-05 - mean_squared_error: 9.7379e-05 - val_loss: 1.0598e-04 - val_mean_squared_error: 1.0598e-04\n",
      "Epoch 38/100\n",
      "85932/85932 [==============================] - 2s 18us/step - loss: 9.8533e-05 - mean_squared_error: 9.8533e-05 - val_loss: 1.2295e-04 - val_mean_squared_error: 1.2295e-04\n",
      "Epoch 39/100\n",
      "85932/85932 [==============================] - 1s 17us/step - loss: 9.2005e-05 - mean_squared_error: 9.2005e-05 - val_loss: 1.0504e-04 - val_mean_squared_error: 1.0504e-04\n",
      "Epoch 40/100\n",
      "85932/85932 [==============================] - 2s 18us/step - loss: 9.0252e-05 - mean_squared_error: 9.0252e-05 - val_loss: 1.0293e-04 - val_mean_squared_error: 1.0293e-04\n",
      "Epoch 41/100\n",
      "85932/85932 [==============================] - 1s 17us/step - loss: 9.1817e-05 - mean_squared_error: 9.1817e-05 - val_loss: 9.9097e-05 - val_mean_squared_error: 9.9097e-05\n",
      "Epoch 42/100\n",
      "85932/85932 [==============================] - 1s 17us/step - loss: 8.8130e-05 - mean_squared_error: 8.8130e-05 - val_loss: 9.6690e-05 - val_mean_squared_error: 9.6690e-05\n",
      "Epoch 43/100\n",
      "85932/85932 [==============================] - 1s 17us/step - loss: 8.3994e-05 - mean_squared_error: 8.3994e-05 - val_loss: 9.9337e-05 - val_mean_squared_error: 9.9337e-05\n",
      "Epoch 44/100\n",
      "85932/85932 [==============================] - 1s 17us/step - loss: 8.4517e-05 - mean_squared_error: 8.4517e-05 - val_loss: 9.4812e-05 - val_mean_squared_error: 9.4812e-05\n",
      "Epoch 45/100\n"
     ]
    },
    {
     "name": "stdout",
     "output_type": "stream",
     "text": [
      "85932/85932 [==============================] - 1s 17us/step - loss: 8.7072e-05 - mean_squared_error: 8.7072e-05 - val_loss: 9.4102e-05 - val_mean_squared_error: 9.4102e-05\n",
      "Epoch 46/100\n",
      "85932/85932 [==============================] - 1s 17us/step - loss: 8.3278e-05 - mean_squared_error: 8.3278e-05 - val_loss: 9.2483e-05 - val_mean_squared_error: 9.2483e-05\n",
      "Epoch 47/100\n",
      "85932/85932 [==============================] - 1s 17us/step - loss: 8.3368e-05 - mean_squared_error: 8.3368e-05 - val_loss: 9.3045e-05 - val_mean_squared_error: 9.3045e-05\n",
      "Epoch 48/100\n",
      "85932/85932 [==============================] - 1s 16us/step - loss: 8.0450e-05 - mean_squared_error: 8.0450e-05 - val_loss: 1.0001e-04 - val_mean_squared_error: 1.0001e-04\n",
      "Epoch 49/100\n",
      "85932/85932 [==============================] - 1s 17us/step - loss: 8.1496e-05 - mean_squared_error: 8.1496e-05 - val_loss: 1.0105e-04 - val_mean_squared_error: 1.0105e-04\n",
      "Epoch 50/100\n",
      "85932/85932 [==============================] - 1s 17us/step - loss: 8.1351e-05 - mean_squared_error: 8.1351e-05 - val_loss: 9.0893e-05 - val_mean_squared_error: 9.0893e-05\n",
      "Epoch 51/100\n",
      "85932/85932 [==============================] - 1s 17us/step - loss: 8.0342e-05 - mean_squared_error: 8.0342e-05 - val_loss: 1.0637e-04 - val_mean_squared_error: 1.0637e-04\n",
      "Epoch 52/100\n",
      "85932/85932 [==============================] - 1s 17us/step - loss: 7.8574e-05 - mean_squared_error: 7.8574e-05 - val_loss: 8.8465e-05 - val_mean_squared_error: 8.8465e-05\n",
      "Epoch 53/100\n",
      "85932/85932 [==============================] - 2s 18us/step - loss: 8.0728e-05 - mean_squared_error: 8.0728e-05 - val_loss: 1.0496e-04 - val_mean_squared_error: 1.0496e-04\n",
      "Epoch 54/100\n",
      "85932/85932 [==============================] - 1s 17us/step - loss: 8.6836e-05 - mean_squared_error: 8.6836e-05 - val_loss: 8.4234e-05 - val_mean_squared_error: 8.4234e-05\n",
      "Epoch 55/100\n",
      "85932/85932 [==============================] - 1s 17us/step - loss: 7.4696e-05 - mean_squared_error: 7.4696e-05 - val_loss: 8.5851e-05 - val_mean_squared_error: 8.5851e-05\n",
      "Epoch 56/100\n",
      "85932/85932 [==============================] - 1s 17us/step - loss: 7.4599e-05 - mean_squared_error: 7.4599e-05 - val_loss: 8.3063e-05 - val_mean_squared_error: 8.3063e-05\n",
      "Epoch 57/100\n",
      "85932/85932 [==============================] - 1s 17us/step - loss: 7.3813e-05 - mean_squared_error: 7.3813e-05 - val_loss: 8.6949e-05 - val_mean_squared_error: 8.6949e-05\n",
      "Epoch 58/100\n",
      "85932/85932 [==============================] - 1s 17us/step - loss: 7.7133e-05 - mean_squared_error: 7.7133e-05 - val_loss: 1.1354e-04 - val_mean_squared_error: 1.1354e-04\n",
      "Epoch 59/100\n",
      "85932/85932 [==============================] - 1s 17us/step - loss: 8.0012e-05 - mean_squared_error: 8.0012e-05 - val_loss: 8.3107e-05 - val_mean_squared_error: 8.3107e-05\n",
      "Epoch 60/100\n",
      "85932/85932 [==============================] - 2s 18us/step - loss: 7.2869e-05 - mean_squared_error: 7.2869e-05 - val_loss: 8.7484e-05 - val_mean_squared_error: 8.7484e-05\n",
      "Epoch 61/100\n",
      "85932/85932 [==============================] - 1s 17us/step - loss: 7.1230e-05 - mean_squared_error: 7.1230e-05 - val_loss: 8.5194e-05 - val_mean_squared_error: 8.5194e-05\n",
      "Epoch 62/100\n",
      "85932/85932 [==============================] - 1s 17us/step - loss: 7.3839e-05 - mean_squared_error: 7.3839e-05 - val_loss: 7.9684e-05 - val_mean_squared_error: 7.9684e-05\n",
      "Epoch 63/100\n",
      "85932/85932 [==============================] - 1s 17us/step - loss: 7.1122e-05 - mean_squared_error: 7.1122e-05 - val_loss: 8.0231e-05 - val_mean_squared_error: 8.0231e-05\n",
      "Epoch 64/100\n",
      "85932/85932 [==============================] - 1s 17us/step - loss: 7.4898e-05 - mean_squared_error: 7.4898e-05 - val_loss: 8.2836e-05 - val_mean_squared_error: 8.2836e-05\n",
      "Epoch 65/100\n",
      "85932/85932 [==============================] - 1s 17us/step - loss: 7.6825e-05 - mean_squared_error: 7.6825e-05 - val_loss: 8.1734e-05 - val_mean_squared_error: 8.1734e-05\n",
      "Epoch 66/100\n",
      "85932/85932 [==============================] - 1s 17us/step - loss: 6.8600e-05 - mean_squared_error: 6.8600e-05 - val_loss: 7.9266e-05 - val_mean_squared_error: 7.9266e-05\n",
      "Epoch 67/100\n",
      "85932/85932 [==============================] - 1s 17us/step - loss: 6.9966e-05 - mean_squared_error: 6.9966e-05 - val_loss: 8.3250e-05 - val_mean_squared_error: 8.3250e-05\n",
      "Epoch 68/100\n",
      "85932/85932 [==============================] - 1s 17us/step - loss: 6.9204e-05 - mean_squared_error: 6.9204e-05 - val_loss: 7.9690e-05 - val_mean_squared_error: 7.9690e-05\n",
      "Epoch 69/100\n",
      "85932/85932 [==============================] - 1s 17us/step - loss: 7.3265e-05 - mean_squared_error: 7.3265e-05 - val_loss: 7.4900e-05 - val_mean_squared_error: 7.4900e-05\n",
      "Epoch 70/100\n",
      "85932/85932 [==============================] - 1s 17us/step - loss: 6.8723e-05 - mean_squared_error: 6.8723e-05 - val_loss: 7.6711e-05 - val_mean_squared_error: 7.6711e-05\n",
      "Epoch 71/100\n",
      "85932/85932 [==============================] - 1s 17us/step - loss: 7.0279e-05 - mean_squared_error: 7.0279e-05 - val_loss: 8.1363e-05 - val_mean_squared_error: 8.1363e-05\n",
      "Epoch 72/100\n",
      "85932/85932 [==============================] - 1s 17us/step - loss: 7.1475e-05 - mean_squared_error: 7.1475e-05 - val_loss: 7.9184e-05 - val_mean_squared_error: 7.9184e-05\n",
      "Epoch 73/100\n",
      "85932/85932 [==============================] - 1s 17us/step - loss: 6.8699e-05 - mean_squared_error: 6.8699e-05 - val_loss: 7.6123e-05 - val_mean_squared_error: 7.6123e-05\n",
      "Epoch 74/100\n",
      "85932/85932 [==============================] - 1s 17us/step - loss: 6.7883e-05 - mean_squared_error: 6.7883e-05 - val_loss: 7.6897e-05 - val_mean_squared_error: 7.6897e-05\n",
      "Epoch 75/100\n",
      "85932/85932 [==============================] - 1s 17us/step - loss: 6.7070e-05 - mean_squared_error: 6.7070e-05 - val_loss: 8.5703e-05 - val_mean_squared_error: 8.5703e-05\n",
      "Epoch 76/100\n",
      "85932/85932 [==============================] - 2s 18us/step - loss: 6.7904e-05 - mean_squared_error: 6.7904e-05 - val_loss: 7.4272e-05 - val_mean_squared_error: 7.4272e-05\n",
      "Epoch 77/100\n",
      "85932/85932 [==============================] - 2s 18us/step - loss: 7.2825e-05 - mean_squared_error: 7.2825e-05 - val_loss: 7.8852e-05 - val_mean_squared_error: 7.8852e-05\n",
      "Epoch 78/100\n",
      "85932/85932 [==============================] - 1s 17us/step - loss: 6.6510e-05 - mean_squared_error: 6.6510e-05 - val_loss: 7.5868e-05 - val_mean_squared_error: 7.5868e-05\n",
      "Epoch 79/100\n",
      "85932/85932 [==============================] - 1s 17us/step - loss: 6.5717e-05 - mean_squared_error: 6.5717e-05 - val_loss: 7.7532e-05 - val_mean_squared_error: 7.7532e-05\n",
      "Epoch 80/100\n",
      "85932/85932 [==============================] - 1s 17us/step - loss: 6.5824e-05 - mean_squared_error: 6.5824e-05 - val_loss: 7.2848e-05 - val_mean_squared_error: 7.2848e-05\n",
      "Epoch 81/100\n",
      "85932/85932 [==============================] - 1s 17us/step - loss: 6.7860e-05 - mean_squared_error: 6.7860e-05 - val_loss: 8.3511e-05 - val_mean_squared_error: 8.3511e-05\n",
      "Epoch 82/100\n",
      "85932/85932 [==============================] - 1s 17us/step - loss: 6.4566e-05 - mean_squared_error: 6.4566e-05 - val_loss: 7.0236e-05 - val_mean_squared_error: 7.0236e-05\n",
      "Epoch 83/100\n",
      "85932/85932 [==============================] - 1s 17us/step - loss: 6.4710e-05 - mean_squared_error: 6.4710e-05 - val_loss: 7.4319e-05 - val_mean_squared_error: 7.4319e-05\n",
      "Epoch 84/100\n",
      "85932/85932 [==============================] - 1s 17us/step - loss: 6.4912e-05 - mean_squared_error: 6.4912e-05 - val_loss: 7.9463e-05 - val_mean_squared_error: 7.9463e-05\n",
      "Epoch 85/100\n",
      "85932/85932 [==============================] - 1s 17us/step - loss: 6.4126e-05 - mean_squared_error: 6.4126e-05 - val_loss: 7.5259e-05 - val_mean_squared_error: 7.5259e-05\n",
      "Epoch 86/100\n",
      "85932/85932 [==============================] - 1s 17us/step - loss: 6.4515e-05 - mean_squared_error: 6.4515e-05 - val_loss: 7.1690e-05 - val_mean_squared_error: 7.1690e-05\n",
      "Epoch 87/100\n",
      "85932/85932 [==============================] - 1s 17us/step - loss: 6.6066e-05 - mean_squared_error: 6.6066e-05 - val_loss: 7.5274e-05 - val_mean_squared_error: 7.5274e-05\n",
      "Epoch 88/100\n",
      "85932/85932 [==============================] - 1s 17us/step - loss: 6.4054e-05 - mean_squared_error: 6.4054e-05 - val_loss: 7.0496e-05 - val_mean_squared_error: 7.0496e-05\n",
      "Epoch 89/100\n"
     ]
    },
    {
     "name": "stdout",
     "output_type": "stream",
     "text": [
      "85932/85932 [==============================] - 1s 17us/step - loss: 6.3329e-05 - mean_squared_error: 6.3329e-05 - val_loss: 7.3400e-05 - val_mean_squared_error: 7.3400e-05\n",
      "Epoch 90/100\n",
      "85932/85932 [==============================] - 1s 17us/step - loss: 6.4447e-05 - mean_squared_error: 6.4447e-05 - val_loss: 7.6495e-05 - val_mean_squared_error: 7.6495e-05\n",
      "Epoch 91/100\n",
      "85932/85932 [==============================] - 1s 17us/step - loss: 6.3673e-05 - mean_squared_error: 6.3673e-05 - val_loss: 7.3948e-05 - val_mean_squared_error: 7.3948e-05\n",
      "Epoch 92/100\n",
      "85932/85932 [==============================] - 1s 17us/step - loss: 6.2901e-05 - mean_squared_error: 6.2901e-05 - val_loss: 6.8493e-05 - val_mean_squared_error: 6.8493e-05\n",
      "Epoch 93/100\n",
      "85932/85932 [==============================] - 1s 17us/step - loss: 6.1426e-05 - mean_squared_error: 6.1426e-05 - val_loss: 6.8334e-05 - val_mean_squared_error: 6.8334e-05\n",
      "Epoch 94/100\n",
      "85932/85932 [==============================] - 1s 16us/step - loss: 6.3222e-05 - mean_squared_error: 6.3222e-05 - val_loss: 6.7753e-05 - val_mean_squared_error: 6.7753e-05\n",
      "Epoch 95/100\n",
      "85932/85932 [==============================] - 1s 17us/step - loss: 6.4982e-05 - mean_squared_error: 6.4982e-05 - val_loss: 7.5132e-05 - val_mean_squared_error: 7.5132e-05\n",
      "Epoch 96/100\n",
      "85932/85932 [==============================] - 1s 17us/step - loss: 6.0560e-05 - mean_squared_error: 6.0560e-05 - val_loss: 6.7831e-05 - val_mean_squared_error: 6.7831e-05\n",
      "Epoch 97/100\n",
      "85932/85932 [==============================] - 1s 17us/step - loss: 6.2515e-05 - mean_squared_error: 6.2515e-05 - val_loss: 7.1124e-05 - val_mean_squared_error: 7.1124e-05\n",
      "Epoch 98/100\n",
      "85932/85932 [==============================] - 1s 17us/step - loss: 6.0732e-05 - mean_squared_error: 6.0732e-05 - val_loss: 6.8301e-05 - val_mean_squared_error: 6.8301e-05\n",
      "Epoch 99/100\n",
      "85932/85932 [==============================] - 1s 17us/step - loss: 6.1855e-05 - mean_squared_error: 6.1855e-05 - val_loss: 6.8940e-05 - val_mean_squared_error: 6.8940e-05\n",
      "Epoch 100/100\n",
      "85932/85932 [==============================] - 1s 17us/step - loss: 6.2493e-05 - mean_squared_error: 6.2493e-05 - val_loss: 7.2150e-05 - val_mean_squared_error: 7.2150e-05\n"
     ]
    }
   ],
   "source": [
    "history = model.fit(X_train,y_train,\n",
    "                    batch_size = 256,\n",
    "                    epochs = 100,\n",
    "                    validation_data = (X_val,y_val),\n",
    "                    verbose = 1,\n",
    "                    callbacks = [es])"
   ]
  },
  {
   "cell_type": "markdown",
   "metadata": {},
   "source": [
    "# eval"
   ]
  },
  {
   "cell_type": "code",
   "execution_count": 87,
   "metadata": {},
   "outputs": [
    {
     "data": {
      "text/plain": [
       "<matplotlib.legend.Legend at 0x7f24a041ee80>"
      ]
     },
     "execution_count": 87,
     "metadata": {},
     "output_type": "execute_result"
    },
    {
     "data": {
      "image/png": "[encoded data removed]",
      "text/plain": [
       "<Figure size 432x288 with 1 Axes>"
      ]
     },
     "metadata": {
      "needs_background": "light"
     },
     "output_type": "display_data"
    }
   ],
   "source": [
    "n = 5\n",
    "plt.plot(history.history['loss'][n:], color='b', label=\"Training loss\")\n",
    "plt.plot(history.history['val_loss'][n:], color='r', label=\"Validation loss\")\n",
    "plt.legend()"
   ]
  },
  {
   "cell_type": "code",
   "execution_count": 88,
   "metadata": {},
   "outputs": [
    {
     "name": "stdout",
     "output_type": "stream",
     "text": [
      "0.2565\n",
      "0.0001\n"
     ]
    }
   ],
   "source": [
    "from sklearn.metrics import r2_score,mean_squared_error\n",
    "\n",
    "y_pred = model.predict(X_test).ravel()\n",
    "print(round(r2_score(y_test,y_pred),4))\n",
    "print(round(mean_squared_error(y_test,y_pred),4))"
   ]
  },
  {
   "cell_type": "code",
   "execution_count": 89,
   "metadata": {},
   "outputs": [
    {
     "name": "stdout",
     "output_type": "stream",
     "text": [
      "0.0096\n"
     ]
    }
   ],
   "source": [
    "print(round(df['target'].std(),4))"
   ]
  },
  {
   "cell_type": "code",
   "execution_count": null,
   "metadata": {},
   "outputs": [],
   "source": []
  }
 ],
 "metadata": {
  "kernelspec": {
   "display_name": "Python 3",
   "language": "python",
   "name": "python3"
  },
  "language_info": {
   "codemirror_mode": {
    "name": "ipython",
    "version": 3
   },
   "file_extension": ".py",
   "mimetype": "text/x-python",
   "name": "python",
   "nbconvert_exporter": "python",
   "pygments_lexer": "ipython3",
   "version": "3.6.9"
  }
 },
 "nbformat": 4,
 "nbformat_minor": 2
}
