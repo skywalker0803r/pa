{
 "cells": [
  {
   "cell_type": "code",
   "execution_count": 1,
   "metadata": {},
   "outputs": [
    {
     "data": {
      "text/plain": [
       "['.git',\n",
       " '.ipynb_checkpoints',\n",
       " 'cnn-time-stack.ipynb',\n",
       " 'DataCleaning.ipynb',\n",
       " 'EDA.ipynb',\n",
       " 'feature select.ipynb',\n",
       " 'LSTM.ipynb',\n",
       " 'PA_201605-2012001更新R6(20190509).xlsx',\n",
       " 'README.md',\n",
       " 'second_model.ipynb',\n",
       " 'tag盤點表.xlsx',\n",
       " 'target.jpg',\n",
       " 'three_model.ipynb',\n",
       " 'train.csv',\n",
       " 'train_FeatureSelected.csv',\n",
       " 'xgboost.ipynb',\n",
       " '南亞PA廠資料分析_R6_1219.ipynb']"
      ]
     },
     "execution_count": 1,
     "metadata": {},
     "output_type": "execute_result"
    }
   ],
   "source": [
    "import os \n",
    "os.listdir()"
   ]
  },
  {
   "cell_type": "markdown",
   "metadata": {},
   "source": [
    "# load"
   ]
  },
  {
   "cell_type": "code",
   "execution_count": 2,
   "metadata": {},
   "outputs": [],
   "source": [
    "import pandas as pd\n",
    "import matplotlib.pyplot as plt\n",
    "import numpy as np\n",
    "import seaborn as sns\n",
    "from tqdm import tqdm_notebook as tqdm"
   ]
  },
  {
   "cell_type": "code",
   "execution_count": 3,
   "metadata": {},
   "outputs": [
    {
     "name": "stdout",
     "output_type": "stream",
     "text": [
      "(193825, 93)\n"
     ]
    },
    {
     "data": {
      "text/html": [
       "<div>\n",
       "<style scoped>\n",
       "    .dataframe tbody tr th:only-of-type {\n",
       "        vertical-align: middle;\n",
       "    }\n",
       "\n",
       "    .dataframe tbody tr th {\n",
       "        vertical-align: top;\n",
       "    }\n",
       "\n",
       "    .dataframe thead th {\n",
       "        text-align: right;\n",
       "    }\n",
       "</style>\n",
       "<table border=\"1\" class=\"dataframe\">\n",
       "  <thead>\n",
       "    <tr style=\"text-align: right;\">\n",
       "      <th></th>\n",
       "      <th>MLPAP_TI-0706B02</th>\n",
       "      <th>MLPAP_TI-0706B03</th>\n",
       "      <th>MLPAP_TI-0706B04</th>\n",
       "      <th>MLPAP_TI-0706B05</th>\n",
       "      <th>MLPAP_TI-0706B06</th>\n",
       "      <th>MLPAP_TI-0706B07</th>\n",
       "      <th>MLPAP_TI-0706B08</th>\n",
       "      <th>MLPAP_TI-0706B09</th>\n",
       "      <th>MLPAP_TI-0706B10</th>\n",
       "      <th>MLPAP_TI-0706B11</th>\n",
       "      <th>...</th>\n",
       "      <th>MLPAP_FQI-0997.PV</th>\n",
       "      <th>DATA OF USE</th>\n",
       "      <th>MLPAP_FR-0755.PV</th>\n",
       "      <th>MLPAP_FR-0755PV(轉換後)</th>\n",
       "      <th>MLPAP_FR-0791.PV</th>\n",
       "      <th>MLPAP_FI-V211.PV</th>\n",
       "      <th>MLPAP_FI-V211.PV(轉換後)</th>\n",
       "      <th>MLPAP_PI-0658.PV</th>\n",
       "      <th>MLPAP_TIC-0757.PV</th>\n",
       "      <th>MLPAP_V125-PHD</th>\n",
       "    </tr>\n",
       "  </thead>\n",
       "  <tbody>\n",
       "    <tr>\n",
       "      <td>2016-05-09 00:00:00</td>\n",
       "      <td>400.0</td>\n",
       "      <td>401.957120</td>\n",
       "      <td>400.751866</td>\n",
       "      <td>402.250788</td>\n",
       "      <td>401.148767</td>\n",
       "      <td>401.0</td>\n",
       "      <td>400.050078</td>\n",
       "      <td>403.0</td>\n",
       "      <td>402.0</td>\n",
       "      <td>401.0</td>\n",
       "      <td>...</td>\n",
       "      <td>0.0</td>\n",
       "      <td>1.0</td>\n",
       "      <td>4.051145</td>\n",
       "      <td>4.045683</td>\n",
       "      <td>6.484770</td>\n",
       "      <td>0.0</td>\n",
       "      <td>0.0</td>\n",
       "      <td>-1.000000</td>\n",
       "      <td>1.635186</td>\n",
       "      <td>0.051</td>\n",
       "    </tr>\n",
       "    <tr>\n",
       "      <td>2016-05-09 00:10:00</td>\n",
       "      <td>400.0</td>\n",
       "      <td>401.942713</td>\n",
       "      <td>400.949883</td>\n",
       "      <td>402.249145</td>\n",
       "      <td>401.000000</td>\n",
       "      <td>401.0</td>\n",
       "      <td>400.249800</td>\n",
       "      <td>403.0</td>\n",
       "      <td>402.0</td>\n",
       "      <td>401.0</td>\n",
       "      <td>...</td>\n",
       "      <td>0.0</td>\n",
       "      <td>2.0</td>\n",
       "      <td>4.157856</td>\n",
       "      <td>4.152250</td>\n",
       "      <td>6.449888</td>\n",
       "      <td>0.0</td>\n",
       "      <td>0.0</td>\n",
       "      <td>-1.000000</td>\n",
       "      <td>1.625011</td>\n",
       "      <td>0.051</td>\n",
       "    </tr>\n",
       "    <tr>\n",
       "      <td>2016-05-09 00:20:00</td>\n",
       "      <td>400.0</td>\n",
       "      <td>401.900145</td>\n",
       "      <td>400.899767</td>\n",
       "      <td>402.101255</td>\n",
       "      <td>401.000000</td>\n",
       "      <td>401.0</td>\n",
       "      <td>400.100155</td>\n",
       "      <td>403.0</td>\n",
       "      <td>402.0</td>\n",
       "      <td>401.0</td>\n",
       "      <td>...</td>\n",
       "      <td>0.0</td>\n",
       "      <td>3.0</td>\n",
       "      <td>4.208122</td>\n",
       "      <td>4.202449</td>\n",
       "      <td>6.440502</td>\n",
       "      <td>0.0</td>\n",
       "      <td>0.0</td>\n",
       "      <td>-0.898558</td>\n",
       "      <td>1.649780</td>\n",
       "      <td>0.051</td>\n",
       "    </tr>\n",
       "    <tr>\n",
       "      <td>2016-05-09 00:30:00</td>\n",
       "      <td>400.0</td>\n",
       "      <td>401.949936</td>\n",
       "      <td>400.900210</td>\n",
       "      <td>402.300333</td>\n",
       "      <td>401.000000</td>\n",
       "      <td>401.0</td>\n",
       "      <td>400.144695</td>\n",
       "      <td>403.0</td>\n",
       "      <td>402.0</td>\n",
       "      <td>401.0</td>\n",
       "      <td>...</td>\n",
       "      <td>0.0</td>\n",
       "      <td>4.0</td>\n",
       "      <td>4.152321</td>\n",
       "      <td>4.146723</td>\n",
       "      <td>6.463649</td>\n",
       "      <td>0.0</td>\n",
       "      <td>0.0</td>\n",
       "      <td>-0.509010</td>\n",
       "      <td>1.635187</td>\n",
       "      <td>0.051</td>\n",
       "    </tr>\n",
       "    <tr>\n",
       "      <td>2016-05-09 00:40:00</td>\n",
       "      <td>400.0</td>\n",
       "      <td>402.000000</td>\n",
       "      <td>400.850037</td>\n",
       "      <td>402.176070</td>\n",
       "      <td>401.000000</td>\n",
       "      <td>401.0</td>\n",
       "      <td>400.405002</td>\n",
       "      <td>403.0</td>\n",
       "      <td>402.0</td>\n",
       "      <td>401.0</td>\n",
       "      <td>...</td>\n",
       "      <td>0.0</td>\n",
       "      <td>5.0</td>\n",
       "      <td>4.016713</td>\n",
       "      <td>4.011298</td>\n",
       "      <td>6.414799</td>\n",
       "      <td>0.0</td>\n",
       "      <td>0.0</td>\n",
       "      <td>-0.992771</td>\n",
       "      <td>1.654259</td>\n",
       "      <td>0.051</td>\n",
       "    </tr>\n",
       "  </tbody>\n",
       "</table>\n",
       "<p>5 rows × 93 columns</p>\n",
       "</div>"
      ],
      "text/plain": [
       "                     MLPAP_TI-0706B02  MLPAP_TI-0706B03  MLPAP_TI-0706B04  \\\n",
       "2016-05-09 00:00:00             400.0        401.957120        400.751866   \n",
       "2016-05-09 00:10:00             400.0        401.942713        400.949883   \n",
       "2016-05-09 00:20:00             400.0        401.900145        400.899767   \n",
       "2016-05-09 00:30:00             400.0        401.949936        400.900210   \n",
       "2016-05-09 00:40:00             400.0        402.000000        400.850037   \n",
       "\n",
       "                     MLPAP_TI-0706B05  MLPAP_TI-0706B06  MLPAP_TI-0706B07  \\\n",
       "2016-05-09 00:00:00        402.250788        401.148767             401.0   \n",
       "2016-05-09 00:10:00        402.249145        401.000000             401.0   \n",
       "2016-05-09 00:20:00        402.101255        401.000000             401.0   \n",
       "2016-05-09 00:30:00        402.300333        401.000000             401.0   \n",
       "2016-05-09 00:40:00        402.176070        401.000000             401.0   \n",
       "\n",
       "                     MLPAP_TI-0706B08  MLPAP_TI-0706B09  MLPAP_TI-0706B10  \\\n",
       "2016-05-09 00:00:00        400.050078             403.0             402.0   \n",
       "2016-05-09 00:10:00        400.249800             403.0             402.0   \n",
       "2016-05-09 00:20:00        400.100155             403.0             402.0   \n",
       "2016-05-09 00:30:00        400.144695             403.0             402.0   \n",
       "2016-05-09 00:40:00        400.405002             403.0             402.0   \n",
       "\n",
       "                     MLPAP_TI-0706B11  ...  MLPAP_FQI-0997.PV  DATA OF USE  \\\n",
       "2016-05-09 00:00:00             401.0  ...                0.0          1.0   \n",
       "2016-05-09 00:10:00             401.0  ...                0.0          2.0   \n",
       "2016-05-09 00:20:00             401.0  ...                0.0          3.0   \n",
       "2016-05-09 00:30:00             401.0  ...                0.0          4.0   \n",
       "2016-05-09 00:40:00             401.0  ...                0.0          5.0   \n",
       "\n",
       "                     MLPAP_FR-0755.PV  MLPAP_FR-0755PV(轉換後)  MLPAP_FR-0791.PV  \\\n",
       "2016-05-09 00:00:00          4.051145              4.045683          6.484770   \n",
       "2016-05-09 00:10:00          4.157856              4.152250          6.449888   \n",
       "2016-05-09 00:20:00          4.208122              4.202449          6.440502   \n",
       "2016-05-09 00:30:00          4.152321              4.146723          6.463649   \n",
       "2016-05-09 00:40:00          4.016713              4.011298          6.414799   \n",
       "\n",
       "                     MLPAP_FI-V211.PV  MLPAP_FI-V211.PV(轉換後)  \\\n",
       "2016-05-09 00:00:00               0.0                    0.0   \n",
       "2016-05-09 00:10:00               0.0                    0.0   \n",
       "2016-05-09 00:20:00               0.0                    0.0   \n",
       "2016-05-09 00:30:00               0.0                    0.0   \n",
       "2016-05-09 00:40:00               0.0                    0.0   \n",
       "\n",
       "                     MLPAP_PI-0658.PV  MLPAP_TIC-0757.PV  MLPAP_V125-PHD  \n",
       "2016-05-09 00:00:00         -1.000000           1.635186           0.051  \n",
       "2016-05-09 00:10:00         -1.000000           1.625011           0.051  \n",
       "2016-05-09 00:20:00         -0.898558           1.649780           0.051  \n",
       "2016-05-09 00:30:00         -0.509010           1.635187           0.051  \n",
       "2016-05-09 00:40:00         -0.992771           1.654259           0.051  \n",
       "\n",
       "[5 rows x 93 columns]"
      ]
     },
     "execution_count": 3,
     "metadata": {},
     "output_type": "execute_result"
    }
   ],
   "source": [
    "df = pd.read_csv('train.csv',index_col = 0,parse_dates = True)\n",
    "print(df.shape)\n",
    "df.head()"
   ]
  },
  {
   "cell_type": "markdown",
   "metadata": {},
   "source": [
    "# X為蒸氣"
   ]
  },
  {
   "cell_type": "code",
   "execution_count": 4,
   "metadata": {},
   "outputs": [
    {
     "name": "stdout",
     "output_type": "stream",
     "text": [
      "3\n"
     ]
    },
    {
     "data": {
      "text/html": [
       "<div>\n",
       "<style scoped>\n",
       "    .dataframe tbody tr th:only-of-type {\n",
       "        vertical-align: middle;\n",
       "    }\n",
       "\n",
       "    .dataframe tbody tr th {\n",
       "        vertical-align: top;\n",
       "    }\n",
       "\n",
       "    .dataframe thead th {\n",
       "        text-align: right;\n",
       "    }\n",
       "</style>\n",
       "<table border=\"1\" class=\"dataframe\">\n",
       "  <thead>\n",
       "    <tr style=\"text-align: right;\">\n",
       "      <th></th>\n",
       "      <th>TAG</th>\n",
       "      <th>chinese</th>\n",
       "    </tr>\n",
       "  </thead>\n",
       "  <tbody>\n",
       "    <tr>\n",
       "      <td>27</td>\n",
       "      <td>MLPAP_FR-0755.PV</td>\n",
       "      <td>反應槽16K蒸氣輸出</td>\n",
       "    </tr>\n",
       "    <tr>\n",
       "      <td>28</td>\n",
       "      <td>MLPAP_FR-0791.PV</td>\n",
       "      <td>反應槽50K蒸氣輸出</td>\n",
       "    </tr>\n",
       "    <tr>\n",
       "      <td>29</td>\n",
       "      <td>MLPAP_FI-V211</td>\n",
       "      <td>副反應槽蒸氣輸出</td>\n",
       "    </tr>\n",
       "  </tbody>\n",
       "</table>\n",
       "</div>"
      ],
      "text/plain": [
       "                 TAG     chinese\n",
       "27  MLPAP_FR-0755.PV  反應槽16K蒸氣輸出\n",
       "28  MLPAP_FR-0791.PV  反應槽50K蒸氣輸出\n",
       "29     MLPAP_FI-V211    副反應槽蒸氣輸出"
      ]
     },
     "execution_count": 4,
     "metadata": {},
     "output_type": "execute_result"
    }
   ],
   "source": [
    "ch_map = pd.read_excel('tag盤點表.xlsx')[['TAG','chinese']].dropna()\n",
    "x_col = ch_map[ch_map['chinese'].str.contains('蒸氣')]['TAG'].values.tolist()\n",
    "# show\n",
    "print(len(x_col))\n",
    "ch_map[ch_map['TAG'].isin(x_col)]"
   ]
  },
  {
   "cell_type": "code",
   "execution_count": 5,
   "metadata": {},
   "outputs": [
    {
     "data": {
      "text/plain": [
       "['MLPAP_FR-0755.PV', 'MLPAP_FR-0791.PV', 'MLPAP_FI-V211']"
      ]
     },
     "execution_count": 5,
     "metadata": {},
     "output_type": "execute_result"
    }
   ],
   "source": [
    "x_col"
   ]
  },
  {
   "cell_type": "code",
   "execution_count": 6,
   "metadata": {},
   "outputs": [],
   "source": [
    "x_col = ['MLPAP_FR-0755.PV', 'MLPAP_FR-0791.PV', 'MLPAP_FI-V211.PV']"
   ]
  },
  {
   "cell_type": "code",
   "execution_count": 7,
   "metadata": {},
   "outputs": [
    {
     "data": {
      "text/plain": [
       "['MLPAP_FR-0755.PV', 'MLPAP_FR-0791.PV', 'MLPAP_FI-V211.PV']"
      ]
     },
     "execution_count": 7,
     "metadata": {},
     "output_type": "execute_result"
    }
   ],
   "source": [
    "x_col"
   ]
  },
  {
   "cell_type": "markdown",
   "metadata": {},
   "source": [
    "# define target"
   ]
  },
  {
   "cell_type": "code",
   "execution_count": 8,
   "metadata": {},
   "outputs": [],
   "source": [
    "df['target'] = df['MLPAP_FQ-0619.PV']/df['MLPAP_FQI-0997.PV']\n",
    "df = df.drop(['MLPAP_FQ-0619.PV','MLPAP_FQI-0997.PV'],axis=1)"
   ]
  },
  {
   "cell_type": "code",
   "execution_count": 9,
   "metadata": {},
   "outputs": [
    {
     "name": "stdout",
     "output_type": "stream",
     "text": [
      "count    148472.000\n",
      "mean            inf\n",
      "std             NaN\n",
      "min           0.000\n",
      "25%           0.899\n",
      "50%           0.908\n",
      "75%           0.917\n",
      "max             inf\n",
      "Name: target, dtype: float64\n"
     ]
    },
    {
     "data": {
      "text/plain": [
       "{'whiskers': [<matplotlib.lines.Line2D at 0x1e0f5f42948>,\n",
       "  <matplotlib.lines.Line2D at 0x1e0f5f42f48>],\n",
       " 'caps': [<matplotlib.lines.Line2D at 0x1e0f5f42a08>,\n",
       "  <matplotlib.lines.Line2D at 0x1e0f5f3dcc8>],\n",
       " 'boxes': [<matplotlib.lines.Line2D at 0x1e0f5f2c088>],\n",
       " 'medians': [<matplotlib.lines.Line2D at 0x1e0f5f3ddc8>],\n",
       " 'fliers': [<matplotlib.lines.Line2D at 0x1e0f5f3dec8>],\n",
       " 'means': []}"
      ]
     },
     "execution_count": 9,
     "metadata": {},
     "output_type": "execute_result"
    },
    {
     "data": {
      "image/png": "[encoded data removed]",
      "text/plain": [
       "<Figure size 432x288 with 1 Axes>"
      ]
     },
     "metadata": {
      "needs_background": "light"
     },
     "output_type": "display_data"
    }
   ],
   "source": [
    "print(df['target'].describe().apply(lambda x:round(x,3)))\n",
    "plt.boxplot(df['target'].dropna())"
   ]
  },
  {
   "cell_type": "code",
   "execution_count": 10,
   "metadata": {},
   "outputs": [],
   "source": [
    "# IQR Filter\n",
    "Q3 = df['target'].quantile(0.75)\n",
    "Q1 = df['target'].quantile(0.25)\n",
    "IQR = Q3 - Q1\n",
    "C = (df['target']<Q1-1.5*IQR)|(df['target']>Q3+1.5*IQR)\n",
    "out_idx = df.loc[C].index.tolist()\n",
    "df = df.drop(out_idx)"
   ]
  },
  {
   "cell_type": "code",
   "execution_count": 11,
   "metadata": {},
   "outputs": [
    {
     "name": "stdout",
     "output_type": "stream",
     "text": [
      "count    136416.000000\n",
      "mean          0.907720\n",
      "std           0.012387\n",
      "min           0.872412\n",
      "25%           0.899622\n",
      "50%           0.907436\n",
      "75%           0.915682\n",
      "max           0.943926\n",
      "Name: target, dtype: float64\n"
     ]
    },
    {
     "data": {
      "text/plain": [
       "{'whiskers': [<matplotlib.lines.Line2D at 0x1e0f5fe3f88>,\n",
       "  <matplotlib.lines.Line2D at 0x1e0f5fe3f08>],\n",
       " 'caps': [<matplotlib.lines.Line2D at 0x1e0f5edcbc8>,\n",
       "  <matplotlib.lines.Line2D at 0x1e0f5edccc8>],\n",
       " 'boxes': [<matplotlib.lines.Line2D at 0x1e0f79fe848>],\n",
       " 'medians': [<matplotlib.lines.Line2D at 0x1e0f5ed7848>],\n",
       " 'fliers': [<matplotlib.lines.Line2D at 0x1e0f5ed7e48>],\n",
       " 'means': []}"
      ]
     },
     "execution_count": 11,
     "metadata": {},
     "output_type": "execute_result"
    },
    {
     "data": {
      "image/png": "[encoded data removed]",
      "text/plain": [
       "<Figure size 432x288 with 1 Axes>"
      ]
     },
     "metadata": {
      "needs_background": "light"
     },
     "output_type": "display_data"
    }
   ],
   "source": [
    "print(df['target'].describe())\n",
    "plt.boxplot(df['target'].dropna())"
   ]
  },
  {
   "cell_type": "code",
   "execution_count": 12,
   "metadata": {},
   "outputs": [],
   "source": [
    "# Quantile Filter\n",
    "ub = df['target'].quantile(0.95)\n",
    "lb = df['target'].quantile(0.05)\n",
    "C = (df['target']<lb)|(df['target']>ub)\n",
    "out_idx = df.loc[C].index.tolist()\n",
    "df = df.drop(out_idx)"
   ]
  },
  {
   "cell_type": "code",
   "execution_count": 13,
   "metadata": {},
   "outputs": [
    {
     "name": "stdout",
     "output_type": "stream",
     "text": [
      "count    122774.000000\n",
      "mean          0.907689\n",
      "std           0.009630\n",
      "min           0.887309\n",
      "25%           0.900449\n",
      "50%           0.907436\n",
      "75%           0.914657\n",
      "max           0.928837\n",
      "Name: target, dtype: float64\n"
     ]
    },
    {
     "data": {
      "text/plain": [
       "{'whiskers': [<matplotlib.lines.Line2D at 0x1e082209848>,\n",
       "  <matplotlib.lines.Line2D at 0x1e082209fc8>],\n",
       " 'caps': [<matplotlib.lines.Line2D at 0x1e082209f88>,\n",
       "  <matplotlib.lines.Line2D at 0x1e0f79d0f88>],\n",
       " 'boxes': [<matplotlib.lines.Line2D at 0x1e0f5eac048>],\n",
       " 'medians': [<matplotlib.lines.Line2D at 0x1e0f79d0f08>],\n",
       " 'fliers': [<matplotlib.lines.Line2D at 0x1e082212f08>],\n",
       " 'means': []}"
      ]
     },
     "execution_count": 13,
     "metadata": {},
     "output_type": "execute_result"
    },
    {
     "data": {
      "image/png": "[encoded data removed]",
      "text/plain": [
       "<Figure size 432x288 with 1 Axes>"
      ]
     },
     "metadata": {
      "needs_background": "light"
     },
     "output_type": "display_data"
    }
   ],
   "source": [
    "print(df['target'].describe())\n",
    "plt.boxplot(df['target'].dropna())"
   ]
  },
  {
   "cell_type": "code",
   "execution_count": 14,
   "metadata": {},
   "outputs": [
    {
     "name": "stdout",
     "output_type": "stream",
     "text": [
      "(168127, 92)\n",
      "(122774, 92)\n"
     ]
    }
   ],
   "source": [
    "# dropna\n",
    "print(df.shape)\n",
    "df = df.dropna(subset=['target'])\n",
    "print(df.shape)"
   ]
  },
  {
   "cell_type": "markdown",
   "metadata": {},
   "source": [
    "# scaler features"
   ]
  },
  {
   "cell_type": "code",
   "execution_count": 15,
   "metadata": {},
   "outputs": [
    {
     "name": "stdout",
     "output_type": "stream",
     "text": [
      "(122774, 4)\n"
     ]
    },
    {
     "data": {
      "text/html": [
       "<div>\n",
       "<style scoped>\n",
       "    .dataframe tbody tr th:only-of-type {\n",
       "        vertical-align: middle;\n",
       "    }\n",
       "\n",
       "    .dataframe tbody tr th {\n",
       "        vertical-align: top;\n",
       "    }\n",
       "\n",
       "    .dataframe thead th {\n",
       "        text-align: right;\n",
       "    }\n",
       "</style>\n",
       "<table border=\"1\" class=\"dataframe\">\n",
       "  <thead>\n",
       "    <tr style=\"text-align: right;\">\n",
       "      <th></th>\n",
       "      <th>MLPAP_FR-0755.PV</th>\n",
       "      <th>MLPAP_FR-0791.PV</th>\n",
       "      <th>MLPAP_FI-V211.PV</th>\n",
       "      <th>target</th>\n",
       "    </tr>\n",
       "  </thead>\n",
       "  <tbody>\n",
       "    <tr>\n",
       "      <td>2016-05-10 08:10:00</td>\n",
       "      <td>0.091998</td>\n",
       "      <td>0.057676</td>\n",
       "      <td>0.0</td>\n",
       "      <td>0.914125</td>\n",
       "    </tr>\n",
       "    <tr>\n",
       "      <td>2016-05-10 08:20:00</td>\n",
       "      <td>0.092996</td>\n",
       "      <td>0.059450</td>\n",
       "      <td>0.0</td>\n",
       "      <td>0.919765</td>\n",
       "    </tr>\n",
       "    <tr>\n",
       "      <td>2016-05-10 08:30:00</td>\n",
       "      <td>0.092552</td>\n",
       "      <td>0.059139</td>\n",
       "      <td>0.0</td>\n",
       "      <td>0.926346</td>\n",
       "    </tr>\n",
       "    <tr>\n",
       "      <td>2016-05-10 23:40:00</td>\n",
       "      <td>0.093428</td>\n",
       "      <td>0.137926</td>\n",
       "      <td>0.0</td>\n",
       "      <td>0.906781</td>\n",
       "    </tr>\n",
       "    <tr>\n",
       "      <td>2016-05-10 23:50:00</td>\n",
       "      <td>0.091865</td>\n",
       "      <td>0.133954</td>\n",
       "      <td>0.0</td>\n",
       "      <td>0.926688</td>\n",
       "    </tr>\n",
       "  </tbody>\n",
       "</table>\n",
       "</div>"
      ],
      "text/plain": [
       "                     MLPAP_FR-0755.PV  MLPAP_FR-0791.PV  MLPAP_FI-V211.PV  \\\n",
       "2016-05-10 08:10:00          0.091998          0.057676               0.0   \n",
       "2016-05-10 08:20:00          0.092996          0.059450               0.0   \n",
       "2016-05-10 08:30:00          0.092552          0.059139               0.0   \n",
       "2016-05-10 23:40:00          0.093428          0.137926               0.0   \n",
       "2016-05-10 23:50:00          0.091865          0.133954               0.0   \n",
       "\n",
       "                       target  \n",
       "2016-05-10 08:10:00  0.914125  \n",
       "2016-05-10 08:20:00  0.919765  \n",
       "2016-05-10 08:30:00  0.926346  \n",
       "2016-05-10 23:40:00  0.906781  \n",
       "2016-05-10 23:50:00  0.926688  "
      ]
     },
     "execution_count": 15,
     "metadata": {},
     "output_type": "execute_result"
    }
   ],
   "source": [
    "from sklearn.preprocessing import MinMaxScaler\n",
    "import warnings;warnings.simplefilter('ignore')\n",
    "\n",
    "df = df[x_col+['target']]\n",
    "sc = MinMaxScaler()\n",
    "\n",
    "df[x_col] = sc.fit_transform(df[x_col])\n",
    "\n",
    "print(df.shape)\n",
    "df.head()"
   ]
  },
  {
   "cell_type": "markdown",
   "metadata": {},
   "source": [
    "# corr"
   ]
  },
  {
   "cell_type": "code",
   "execution_count": 16,
   "metadata": {},
   "outputs": [
    {
     "data": {
      "text/html": [
       "<style  type=\"text/css\" >\n",
       "    #T_2d90e466_4988_11ea_a9ff_4c1d9674ede2row0_col0 {\n",
       "            background-color:  #023858;\n",
       "            color:  #f1f1f1;\n",
       "        }    #T_2d90e466_4988_11ea_a9ff_4c1d9674ede2row0_col1 {\n",
       "            background-color:  #d2d3e7;\n",
       "            color:  #000000;\n",
       "        }    #T_2d90e466_4988_11ea_a9ff_4c1d9674ede2row0_col2 {\n",
       "            background-color:  #2786bb;\n",
       "            color:  #000000;\n",
       "        }    #T_2d90e466_4988_11ea_a9ff_4c1d9674ede2row0_col3 {\n",
       "            background-color:  #eae6f1;\n",
       "            color:  #000000;\n",
       "        }    #T_2d90e466_4988_11ea_a9ff_4c1d9674ede2row1_col0 {\n",
       "            background-color:  #f1ebf5;\n",
       "            color:  #000000;\n",
       "        }    #T_2d90e466_4988_11ea_a9ff_4c1d9674ede2row1_col1 {\n",
       "            background-color:  #023858;\n",
       "            color:  #f1f1f1;\n",
       "        }    #T_2d90e466_4988_11ea_a9ff_4c1d9674ede2row1_col2 {\n",
       "            background-color:  #fff7fb;\n",
       "            color:  #000000;\n",
       "        }    #T_2d90e466_4988_11ea_a9ff_4c1d9674ede2row1_col3 {\n",
       "            background-color:  #fff7fb;\n",
       "            color:  #000000;\n",
       "        }    #T_2d90e466_4988_11ea_a9ff_4c1d9674ede2row2_col0 {\n",
       "            background-color:  #4295c3;\n",
       "            color:  #000000;\n",
       "        }    #T_2d90e466_4988_11ea_a9ff_4c1d9674ede2row2_col1 {\n",
       "            background-color:  #fff7fb;\n",
       "            color:  #000000;\n",
       "        }    #T_2d90e466_4988_11ea_a9ff_4c1d9674ede2row2_col2 {\n",
       "            background-color:  #023858;\n",
       "            color:  #f1f1f1;\n",
       "        }    #T_2d90e466_4988_11ea_a9ff_4c1d9674ede2row2_col3 {\n",
       "            background-color:  #c5cce3;\n",
       "            color:  #000000;\n",
       "        }    #T_2d90e466_4988_11ea_a9ff_4c1d9674ede2row3_col0 {\n",
       "            background-color:  #fff7fb;\n",
       "            color:  #000000;\n",
       "        }    #T_2d90e466_4988_11ea_a9ff_4c1d9674ede2row3_col1 {\n",
       "            background-color:  #faf3f9;\n",
       "            color:  #000000;\n",
       "        }    #T_2d90e466_4988_11ea_a9ff_4c1d9674ede2row3_col2 {\n",
       "            background-color:  #bdc8e1;\n",
       "            color:  #000000;\n",
       "        }    #T_2d90e466_4988_11ea_a9ff_4c1d9674ede2row3_col3 {\n",
       "            background-color:  #023858;\n",
       "            color:  #f1f1f1;\n",
       "        }</style><table id=\"T_2d90e466_4988_11ea_a9ff_4c1d9674ede2\" ><thead>    <tr>        <th class=\"blank level0\" ></th>        <th class=\"col_heading level0 col0\" >MLPAP_FR-0755.PV</th>        <th class=\"col_heading level0 col1\" >MLPAP_FR-0791.PV</th>        <th class=\"col_heading level0 col2\" >MLPAP_FI-V211.PV</th>        <th class=\"col_heading level0 col3\" >target</th>    </tr></thead><tbody>\n",
       "                <tr>\n",
       "                        <th id=\"T_2d90e466_4988_11ea_a9ff_4c1d9674ede2level0_row0\" class=\"row_heading level0 row0\" >MLPAP_FR-0755.PV</th>\n",
       "                        <td id=\"T_2d90e466_4988_11ea_a9ff_4c1d9674ede2row0_col0\" class=\"data row0 col0\" >1</td>\n",
       "                        <td id=\"T_2d90e466_4988_11ea_a9ff_4c1d9674ede2row0_col1\" class=\"data row0 col1\" >0.25525</td>\n",
       "                        <td id=\"T_2d90e466_4988_11ea_a9ff_4c1d9674ede2row0_col2\" class=\"data row0 col2\" >0.670243</td>\n",
       "                        <td id=\"T_2d90e466_4988_11ea_a9ff_4c1d9674ede2row0_col3\" class=\"data row0 col3\" >0.178318</td>\n",
       "            </tr>\n",
       "            <tr>\n",
       "                        <th id=\"T_2d90e466_4988_11ea_a9ff_4c1d9674ede2level0_row1\" class=\"row_heading level0 row1\" >MLPAP_FR-0791.PV</th>\n",
       "                        <td id=\"T_2d90e466_4988_11ea_a9ff_4c1d9674ede2row1_col0\" class=\"data row1 col0\" >0.25525</td>\n",
       "                        <td id=\"T_2d90e466_4988_11ea_a9ff_4c1d9674ede2row1_col1\" class=\"data row1 col1\" >1</td>\n",
       "                        <td id=\"T_2d90e466_4988_11ea_a9ff_4c1d9674ede2row1_col2\" class=\"data row1 col2\" >0.0211977</td>\n",
       "                        <td id=\"T_2d90e466_4988_11ea_a9ff_4c1d9674ede2row1_col3\" class=\"data row1 col3\" >0.0522515</td>\n",
       "            </tr>\n",
       "            <tr>\n",
       "                        <th id=\"T_2d90e466_4988_11ea_a9ff_4c1d9674ede2level0_row2\" class=\"row_heading level0 row2\" >MLPAP_FI-V211.PV</th>\n",
       "                        <td id=\"T_2d90e466_4988_11ea_a9ff_4c1d9674ede2row2_col0\" class=\"data row2 col0\" >0.670243</td>\n",
       "                        <td id=\"T_2d90e466_4988_11ea_a9ff_4c1d9674ede2row2_col1\" class=\"data row2 col1\" >0.0211977</td>\n",
       "                        <td id=\"T_2d90e466_4988_11ea_a9ff_4c1d9674ede2row2_col2\" class=\"data row2 col2\" >1</td>\n",
       "                        <td id=\"T_2d90e466_4988_11ea_a9ff_4c1d9674ede2row2_col3\" class=\"data row2 col3\" >0.321187</td>\n",
       "            </tr>\n",
       "            <tr>\n",
       "                        <th id=\"T_2d90e466_4988_11ea_a9ff_4c1d9674ede2level0_row3\" class=\"row_heading level0 row3\" >target</th>\n",
       "                        <td id=\"T_2d90e466_4988_11ea_a9ff_4c1d9674ede2row3_col0\" class=\"data row3 col0\" >0.178318</td>\n",
       "                        <td id=\"T_2d90e466_4988_11ea_a9ff_4c1d9674ede2row3_col1\" class=\"data row3 col1\" >0.0522515</td>\n",
       "                        <td id=\"T_2d90e466_4988_11ea_a9ff_4c1d9674ede2row3_col2\" class=\"data row3 col2\" >0.321187</td>\n",
       "                        <td id=\"T_2d90e466_4988_11ea_a9ff_4c1d9674ede2row3_col3\" class=\"data row3 col3\" >1</td>\n",
       "            </tr>\n",
       "    </tbody></table>"
      ],
      "text/plain": [
       "<pandas.io.formats.style.Styler at 0x1e0f5f3a8c8>"
      ]
     },
     "execution_count": 16,
     "metadata": {},
     "output_type": "execute_result"
    }
   ],
   "source": [
    "abs(df.corr()).style.background_gradient()"
   ]
  },
  {
   "cell_type": "markdown",
   "metadata": {},
   "source": [
    "# split"
   ]
  },
  {
   "cell_type": "code",
   "execution_count": 17,
   "metadata": {},
   "outputs": [
    {
     "name": "stdout",
     "output_type": "stream",
     "text": [
      "(98219, 3) (98219,)\n",
      "(24555, 3) (24555,)\n"
     ]
    }
   ],
   "source": [
    "from sklearn.model_selection import train_test_split\n",
    "\n",
    "X = df[x_col]\n",
    "y = df['target']\n",
    "\n",
    "X_train, X_test, y_train, y_test = train_test_split(X, y, test_size=0.2, random_state = 42)\n",
    "\n",
    "print(X_train.shape,y_train.shape)\n",
    "print(X_test.shape,y_test.shape)"
   ]
  },
  {
   "cell_type": "markdown",
   "metadata": {},
   "source": [
    "# fit"
   ]
  },
  {
   "cell_type": "code",
   "execution_count": 18,
   "metadata": {},
   "outputs": [
    {
     "data": {
      "text/plain": [
       "XGBRegressor(base_score=0.5, booster='gbtree', colsample_bylevel=1,\n",
       "             colsample_bynode=1, colsample_bytree=1, gamma=0,\n",
       "             importance_type='gain', learning_rate=0.1, max_delta_step=0,\n",
       "             max_depth=3, min_child_weight=1, missing=None, n_estimators=100,\n",
       "             n_jobs=1, nthread=None, objective='reg:squarederror',\n",
       "             random_state=0, reg_alpha=0, reg_lambda=1, scale_pos_weight=1,\n",
       "             seed=None, silent=None, subsample=1, verbosity=1)"
      ]
     },
     "execution_count": 18,
     "metadata": {},
     "output_type": "execute_result"
    }
   ],
   "source": [
    "from xgboost import XGBRegressor\n",
    "\n",
    "model = XGBRegressor(objective=\"reg:squarederror\")\n",
    "model.fit(X_train, y_train)"
   ]
  },
  {
   "cell_type": "code",
   "execution_count": 19,
   "metadata": {},
   "outputs": [
    {
     "name": "stdout",
     "output_type": "stream",
     "text": [
      "0.2214806198906324\n",
      "0.0001\n"
     ]
    }
   ],
   "source": [
    "from sklearn.metrics import mean_squared_error,r2_score\n",
    "\n",
    "y_pred = model.predict(X_test)\n",
    "y_pred = pd.Series(y_pred,name='y_pred',index=y_test.index)\n",
    "\n",
    "print(r2_score(y_test,y_pred))\n",
    "print(round(mean_squared_error(y_test,y_pred),4))"
   ]
  },
  {
   "cell_type": "code",
   "execution_count": 20,
   "metadata": {},
   "outputs": [],
   "source": [
    "chmap = pd.read_excel('tag盤點表.xlsx')[['TAG','chinese']]\n",
    "chmap = dict(zip(chmap['TAG'],chmap['chinese']))"
   ]
  },
  {
   "cell_type": "code",
   "execution_count": 21,
   "metadata": {},
   "outputs": [
    {
     "data": {
      "text/html": [
       "<style  type=\"text/css\" >\n",
       "    #T_2fa6298c_4988_11ea_9acc_4c1d9674ede2row0_col1 {\n",
       "            background-color:  #023858;\n",
       "            color:  #f1f1f1;\n",
       "        }    #T_2fa6298c_4988_11ea_9acc_4c1d9674ede2row1_col1 {\n",
       "            background-color:  #fbf3f9;\n",
       "            color:  #000000;\n",
       "        }    #T_2fa6298c_4988_11ea_9acc_4c1d9674ede2row2_col1 {\n",
       "            background-color:  #fff7fb;\n",
       "            color:  #000000;\n",
       "        }</style><table id=\"T_2fa6298c_4988_11ea_9acc_4c1d9674ede2\" ><thead>    <tr>        <th class=\"blank level0\" ></th>        <th class=\"col_heading level0 col0\" >中文</th>        <th class=\"col_heading level0 col1\" >imp</th>    </tr></thead><tbody>\n",
       "                <tr>\n",
       "                        <th id=\"T_2fa6298c_4988_11ea_9acc_4c1d9674ede2level0_row0\" class=\"row_heading level0 row0\" >MLPAP_FI-V211.PV</th>\n",
       "                        <td id=\"T_2fa6298c_4988_11ea_9acc_4c1d9674ede2row0_col0\" class=\"data row0 col0\" >nan</td>\n",
       "                        <td id=\"T_2fa6298c_4988_11ea_9acc_4c1d9674ede2row0_col1\" class=\"data row0 col1\" >0.749173</td>\n",
       "            </tr>\n",
       "            <tr>\n",
       "                        <th id=\"T_2fa6298c_4988_11ea_9acc_4c1d9674ede2level0_row1\" class=\"row_heading level0 row1\" >MLPAP_FR-0791.PV</th>\n",
       "                        <td id=\"T_2fa6298c_4988_11ea_9acc_4c1d9674ede2row1_col0\" class=\"data row1 col0\" >反應槽50K蒸氣輸出</td>\n",
       "                        <td id=\"T_2fa6298c_4988_11ea_9acc_4c1d9674ede2row1_col1\" class=\"data row1 col1\" >0.135206</td>\n",
       "            </tr>\n",
       "            <tr>\n",
       "                        <th id=\"T_2fa6298c_4988_11ea_9acc_4c1d9674ede2level0_row2\" class=\"row_heading level0 row2\" >MLPAP_FR-0755.PV</th>\n",
       "                        <td id=\"T_2fa6298c_4988_11ea_9acc_4c1d9674ede2row2_col0\" class=\"data row2 col0\" >反應槽16K蒸氣輸出</td>\n",
       "                        <td id=\"T_2fa6298c_4988_11ea_9acc_4c1d9674ede2row2_col1\" class=\"data row2 col1\" >0.115621</td>\n",
       "            </tr>\n",
       "    </tbody></table>"
      ],
      "text/plain": [
       "<pandas.io.formats.style.Styler at 0x1e085647508>"
      ]
     },
     "execution_count": 21,
     "metadata": {},
     "output_type": "execute_result"
    }
   ],
   "source": [
    "FIMP = pd.DataFrame(model.feature_importances_,index=X.columns,columns=['imp'])\n",
    "FIMP['中文'] = FIMP.index.map(chmap)\n",
    "FIMP = FIMP.sort_values(by='imp',ascending=False)\n",
    "FIMP[['中文','imp']].head(10).style.background_gradient()"
   ]
  },
  {
   "cell_type": "code",
   "execution_count": 22,
   "metadata": {},
   "outputs": [],
   "source": [
    "y_test = y_test.sort_index()\n",
    "y_pred = y_pred.sort_index()"
   ]
  },
  {
   "cell_type": "code",
   "execution_count": 23,
   "metadata": {},
   "outputs": [
    {
     "data": {
      "text/plain": [
       "<matplotlib.legend.Legend at 0x1e0825e0208>"
      ]
     },
     "execution_count": 23,
     "metadata": {},
     "output_type": "execute_result"
    },
    {
     "data": {
      "image/png": "[encoded data removed]",
      "text/plain": [
       "<Figure size 432x288 with 1 Axes>"
      ]
     },
     "metadata": {
      "needs_background": "light"
     },
     "output_type": "display_data"
    }
   ],
   "source": [
    "y_test.rolling(6*24*15).mean().plot()\n",
    "y_pred.rolling(6*24*15).mean().plot()\n",
    "plt.legend()"
   ]
  },
  {
   "cell_type": "code",
   "execution_count": null,
   "metadata": {},
   "outputs": [],
   "source": []
  }
 ],
 "metadata": {
  "kernelspec": {
   "display_name": "Python 3",
   "language": "python",
   "name": "python3"
  },
  "language_info": {
   "codemirror_mode": {
    "name": "ipython",
    "version": 3
   },
   "file_extension": ".py",
   "mimetype": "text/x-python",
   "name": "python",
   "nbconvert_exporter": "python",
   "pygments_lexer": "ipython3",
   "version": "3.7.4"
  }
 },
 "nbformat": 4,
 "nbformat_minor": 2
}
