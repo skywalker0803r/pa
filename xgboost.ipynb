{
 "cells": [
  {
   "cell_type": "code",
   "execution_count": 1,
   "metadata": {},
   "outputs": [
    {
     "data": {
      "text/plain": [
       "['.git',\n",
       " '.ipynb_checkpoints',\n",
       " 'cnn-time-stack.ipynb',\n",
       " 'DataCleaning.ipynb',\n",
       " 'feature select.ipynb',\n",
       " 'PA_201605-2012001更新R6(20190509).xlsx',\n",
       " 'README.md',\n",
       " 'tag盤點表.xlsx',\n",
       " 'target.jpg',\n",
       " 'train.csv',\n",
       " 'train_FeatureSelected.csv',\n",
       " 'xgboost.ipynb',\n",
       " '南亞PA廠資料分析_R6_1219.ipynb']"
      ]
     },
     "execution_count": 1,
     "metadata": {},
     "output_type": "execute_result"
    }
   ],
   "source": [
    "import os \n",
    "os.listdir()"
   ]
  },
  {
   "cell_type": "code",
   "execution_count": 2,
   "metadata": {},
   "outputs": [],
   "source": [
    "import pandas as pd\n",
    "import matplotlib.pyplot as plt\n",
    "import numpy as np\n",
    "import seaborn as sns"
   ]
  },
  {
   "cell_type": "markdown",
   "metadata": {},
   "source": [
    "# load"
   ]
  },
  {
   "cell_type": "code",
   "execution_count": 3,
   "metadata": {},
   "outputs": [
    {
     "name": "stdout",
     "output_type": "stream",
     "text": [
      "(122774, 16)\n"
     ]
    },
    {
     "data": {
      "text/html": [
       "<div>\n",
       "<style scoped>\n",
       "    .dataframe tbody tr th:only-of-type {\n",
       "        vertical-align: middle;\n",
       "    }\n",
       "\n",
       "    .dataframe tbody tr th {\n",
       "        vertical-align: top;\n",
       "    }\n",
       "\n",
       "    .dataframe thead th {\n",
       "        text-align: right;\n",
       "    }\n",
       "</style>\n",
       "<table border=\"1\" class=\"dataframe\">\n",
       "  <thead>\n",
       "    <tr style=\"text-align: right;\">\n",
       "      <th></th>\n",
       "      <th>MLPAP_TI-0706B09</th>\n",
       "      <th>MLPAP_TI-0706B10</th>\n",
       "      <th>MLPAP_TI-0706B15</th>\n",
       "      <th>MLPAP_TI-0716A05</th>\n",
       "      <th>MLPAP_TI-0716A10</th>\n",
       "      <th>MLPAP_TJR-0715A1.PV</th>\n",
       "      <th>MLPAP_TJR-0762A1.PV</th>\n",
       "      <th>MLPAP_TRC-0610.PV</th>\n",
       "      <th>MLPAP_FR-0632.PV</th>\n",
       "      <th>MLPAP_TIC-1721.PV</th>\n",
       "      <th>MLPAP_FR-0755.PV</th>\n",
       "      <th>MLPAP_FR-0791.PV</th>\n",
       "      <th>MLPAP_PI-0658.PV</th>\n",
       "      <th>MLPAP_TIC-0757.PV</th>\n",
       "      <th>MLPAP_V125-PHD</th>\n",
       "      <th>target</th>\n",
       "    </tr>\n",
       "  </thead>\n",
       "  <tbody>\n",
       "    <tr>\n",
       "      <td>2016-05-10 08:10:00</td>\n",
       "      <td>-1.063656</td>\n",
       "      <td>-0.881876</td>\n",
       "      <td>0.436522</td>\n",
       "      <td>0.448320</td>\n",
       "      <td>0.250624</td>\n",
       "      <td>10.862927</td>\n",
       "      <td>0.796892</td>\n",
       "      <td>3.036418</td>\n",
       "      <td>-4.444046</td>\n",
       "      <td>3.099350</td>\n",
       "      <td>-2.620349</td>\n",
       "      <td>-7.954421</td>\n",
       "      <td>-4.023225</td>\n",
       "      <td>-1.012546</td>\n",
       "      <td>-0.088237</td>\n",
       "      <td>0.914125</td>\n",
       "    </tr>\n",
       "    <tr>\n",
       "      <td>2016-05-10 08:20:00</td>\n",
       "      <td>-1.063656</td>\n",
       "      <td>-0.881876</td>\n",
       "      <td>0.436522</td>\n",
       "      <td>0.448320</td>\n",
       "      <td>0.250624</td>\n",
       "      <td>10.895595</td>\n",
       "      <td>0.797109</td>\n",
       "      <td>2.863638</td>\n",
       "      <td>-4.435347</td>\n",
       "      <td>3.272202</td>\n",
       "      <td>-2.615166</td>\n",
       "      <td>-7.929338</td>\n",
       "      <td>-4.029503</td>\n",
       "      <td>-0.979549</td>\n",
       "      <td>-0.088237</td>\n",
       "      <td>0.919765</td>\n",
       "    </tr>\n",
       "    <tr>\n",
       "      <td>2016-05-10 08:30:00</td>\n",
       "      <td>-1.063656</td>\n",
       "      <td>-0.881876</td>\n",
       "      <td>0.436832</td>\n",
       "      <td>0.448320</td>\n",
       "      <td>0.250624</td>\n",
       "      <td>10.915349</td>\n",
       "      <td>0.797007</td>\n",
       "      <td>3.006192</td>\n",
       "      <td>-4.445760</td>\n",
       "      <td>3.596146</td>\n",
       "      <td>-2.617471</td>\n",
       "      <td>-7.933726</td>\n",
       "      <td>-4.017335</td>\n",
       "      <td>-0.973227</td>\n",
       "      <td>-0.088237</td>\n",
       "      <td>0.926346</td>\n",
       "    </tr>\n",
       "    <tr>\n",
       "      <td>2016-05-10 23:40:00</td>\n",
       "      <td>-1.741703</td>\n",
       "      <td>-1.506409</td>\n",
       "      <td>0.411823</td>\n",
       "      <td>0.468479</td>\n",
       "      <td>0.225612</td>\n",
       "      <td>9.160618</td>\n",
       "      <td>0.763807</td>\n",
       "      <td>1.710473</td>\n",
       "      <td>-3.055443</td>\n",
       "      <td>3.361722</td>\n",
       "      <td>-2.612923</td>\n",
       "      <td>-6.819627</td>\n",
       "      <td>-2.798058</td>\n",
       "      <td>-0.838001</td>\n",
       "      <td>-0.088237</td>\n",
       "      <td>0.906781</td>\n",
       "    </tr>\n",
       "    <tr>\n",
       "      <td>2016-05-10 23:50:00</td>\n",
       "      <td>-1.741703</td>\n",
       "      <td>-1.441295</td>\n",
       "      <td>0.412133</td>\n",
       "      <td>0.468479</td>\n",
       "      <td>0.225612</td>\n",
       "      <td>9.177640</td>\n",
       "      <td>0.764321</td>\n",
       "      <td>1.822236</td>\n",
       "      <td>-3.043572</td>\n",
       "      <td>3.029452</td>\n",
       "      <td>-2.621043</td>\n",
       "      <td>-6.875791</td>\n",
       "      <td>-2.799185</td>\n",
       "      <td>-0.866150</td>\n",
       "      <td>-0.088237</td>\n",
       "      <td>0.926688</td>\n",
       "    </tr>\n",
       "  </tbody>\n",
       "</table>\n",
       "</div>"
      ],
      "text/plain": [
       "                     MLPAP_TI-0706B09  MLPAP_TI-0706B10  MLPAP_TI-0706B15  \\\n",
       "2016-05-10 08:10:00         -1.063656         -0.881876          0.436522   \n",
       "2016-05-10 08:20:00         -1.063656         -0.881876          0.436522   \n",
       "2016-05-10 08:30:00         -1.063656         -0.881876          0.436832   \n",
       "2016-05-10 23:40:00         -1.741703         -1.506409          0.411823   \n",
       "2016-05-10 23:50:00         -1.741703         -1.441295          0.412133   \n",
       "\n",
       "                     MLPAP_TI-0716A05  MLPAP_TI-0716A10  MLPAP_TJR-0715A1.PV  \\\n",
       "2016-05-10 08:10:00          0.448320          0.250624            10.862927   \n",
       "2016-05-10 08:20:00          0.448320          0.250624            10.895595   \n",
       "2016-05-10 08:30:00          0.448320          0.250624            10.915349   \n",
       "2016-05-10 23:40:00          0.468479          0.225612             9.160618   \n",
       "2016-05-10 23:50:00          0.468479          0.225612             9.177640   \n",
       "\n",
       "                     MLPAP_TJR-0762A1.PV  MLPAP_TRC-0610.PV  MLPAP_FR-0632.PV  \\\n",
       "2016-05-10 08:10:00             0.796892           3.036418         -4.444046   \n",
       "2016-05-10 08:20:00             0.797109           2.863638         -4.435347   \n",
       "2016-05-10 08:30:00             0.797007           3.006192         -4.445760   \n",
       "2016-05-10 23:40:00             0.763807           1.710473         -3.055443   \n",
       "2016-05-10 23:50:00             0.764321           1.822236         -3.043572   \n",
       "\n",
       "                     MLPAP_TIC-1721.PV  MLPAP_FR-0755.PV  MLPAP_FR-0791.PV  \\\n",
       "2016-05-10 08:10:00           3.099350         -2.620349         -7.954421   \n",
       "2016-05-10 08:20:00           3.272202         -2.615166         -7.929338   \n",
       "2016-05-10 08:30:00           3.596146         -2.617471         -7.933726   \n",
       "2016-05-10 23:40:00           3.361722         -2.612923         -6.819627   \n",
       "2016-05-10 23:50:00           3.029452         -2.621043         -6.875791   \n",
       "\n",
       "                     MLPAP_PI-0658.PV  MLPAP_TIC-0757.PV  MLPAP_V125-PHD  \\\n",
       "2016-05-10 08:10:00         -4.023225          -1.012546       -0.088237   \n",
       "2016-05-10 08:20:00         -4.029503          -0.979549       -0.088237   \n",
       "2016-05-10 08:30:00         -4.017335          -0.973227       -0.088237   \n",
       "2016-05-10 23:40:00         -2.798058          -0.838001       -0.088237   \n",
       "2016-05-10 23:50:00         -2.799185          -0.866150       -0.088237   \n",
       "\n",
       "                       target  \n",
       "2016-05-10 08:10:00  0.914125  \n",
       "2016-05-10 08:20:00  0.919765  \n",
       "2016-05-10 08:30:00  0.926346  \n",
       "2016-05-10 23:40:00  0.906781  \n",
       "2016-05-10 23:50:00  0.926688  "
      ]
     },
     "execution_count": 3,
     "metadata": {},
     "output_type": "execute_result"
    }
   ],
   "source": [
    "df = pd.read_csv('train_FeatureSelected.csv',index_col = 0,parse_dates = True)\n",
    "print(df.shape)\n",
    "df.head()"
   ]
  },
  {
   "cell_type": "markdown",
   "metadata": {},
   "source": [
    "# split"
   ]
  },
  {
   "cell_type": "code",
   "execution_count": 4,
   "metadata": {},
   "outputs": [],
   "source": [
    "from sklearn.model_selection import train_test_split\n",
    "\n",
    "X = df.drop('target',axis=1)\n",
    "y = df['target']\n",
    "\n",
    "X_train, X_test, y_train, y_test = train_test_split(X, y, test_size=0.2, random_state = 7)"
   ]
  },
  {
   "cell_type": "markdown",
   "metadata": {},
   "source": [
    "# fit"
   ]
  },
  {
   "cell_type": "code",
   "execution_count": 5,
   "metadata": {},
   "outputs": [
    {
     "name": "stderr",
     "output_type": "stream",
     "text": [
      "C:\\Users\\skywalker0803r\\Anaconda3\\lib\\site-packages\\xgboost\\core.py:587: FutureWarning: Series.base is deprecated and will be removed in a future version\n",
      "  if getattr(data, 'base', None) is not None and \\\n"
     ]
    },
    {
     "data": {
      "text/plain": [
       "XGBRegressor(base_score=0.5, booster='gbtree', colsample_bylevel=1,\n",
       "             colsample_bynode=1, colsample_bytree=1, gamma=0,\n",
       "             importance_type='gain', learning_rate=0.1, max_delta_step=0,\n",
       "             max_depth=3, min_child_weight=1, missing=None, n_estimators=100,\n",
       "             n_jobs=1, nthread=None, objective='reg:squarederror',\n",
       "             random_state=0, reg_alpha=0, reg_lambda=1, scale_pos_weight=1,\n",
       "             seed=None, silent=None, subsample=1, verbosity=1)"
      ]
     },
     "execution_count": 5,
     "metadata": {},
     "output_type": "execute_result"
    }
   ],
   "source": [
    "from xgboost import XGBRegressor\n",
    "from sklearn.linear_model import Ridge\n",
    "from sklearn.pipeline import Pipeline\n",
    "from sklearn.preprocessing import StandardScaler\n",
    "from sklearn.svm import SVR\n",
    "\n",
    "model = XGBRegressor(objective=\"reg:squarederror\")\n",
    "model.fit(X_train, y_train)"
   ]
  },
  {
   "cell_type": "markdown",
   "metadata": {},
   "source": [
    "# eval"
   ]
  },
  {
   "cell_type": "code",
   "execution_count": 6,
   "metadata": {},
   "outputs": [
    {
     "name": "stdout",
     "output_type": "stream",
     "text": [
      "0.3728091802255675\n",
      "0.0001\n"
     ]
    }
   ],
   "source": [
    "from sklearn.metrics import mean_squared_error,r2_score\n",
    "y_pred = model.predict(X_test)\n",
    "print(r2_score(y_test,y_pred))\n",
    "print(round(mean_squared_error(y_test,y_pred),4))"
   ]
  },
  {
   "cell_type": "markdown",
   "metadata": {},
   "source": [
    "# plot"
   ]
  },
  {
   "cell_type": "code",
   "execution_count": 7,
   "metadata": {},
   "outputs": [
    {
     "data": {
      "image/png": "[encoded data removed]",
      "text/plain": [
       "<Figure size 432x288 with 1 Axes>"
      ]
     },
     "metadata": {
      "needs_background": "light"
     },
     "output_type": "display_data"
    }
   ],
   "source": [
    "import xgboost\n",
    "xgboost.plot_importance(model,max_num_features=10,importance_type=\"gain\")\n",
    "plt.show()"
   ]
  },
  {
   "cell_type": "code",
   "execution_count": 8,
   "metadata": {},
   "outputs": [],
   "source": [
    "chmap = pd.read_excel('tag盤點表.xlsx')[['TAG','chinese']]\n",
    "chmap = dict(zip(chmap['TAG'],chmap['chinese']))"
   ]
  },
  {
   "cell_type": "code",
   "execution_count": 9,
   "metadata": {},
   "outputs": [
    {
     "data": {
      "text/html": [
       "<style  type=\"text/css\" >\n",
       "    #T_91776452_48a7_11ea_a89f_4c1d9674ede2row0_col1 {\n",
       "            background-color:  #023858;\n",
       "            color:  #f1f1f1;\n",
       "        }    #T_91776452_48a7_11ea_a89f_4c1d9674ede2row1_col1 {\n",
       "            background-color:  #2987bc;\n",
       "            color:  #000000;\n",
       "        }    #T_91776452_48a7_11ea_a89f_4c1d9674ede2row2_col1 {\n",
       "            background-color:  #c0c9e2;\n",
       "            color:  #000000;\n",
       "        }    #T_91776452_48a7_11ea_a89f_4c1d9674ede2row3_col1 {\n",
       "            background-color:  #c6cce3;\n",
       "            color:  #000000;\n",
       "        }    #T_91776452_48a7_11ea_a89f_4c1d9674ede2row4_col1 {\n",
       "            background-color:  #eee9f3;\n",
       "            color:  #000000;\n",
       "        }    #T_91776452_48a7_11ea_a89f_4c1d9674ede2row5_col1 {\n",
       "            background-color:  #eee9f3;\n",
       "            color:  #000000;\n",
       "        }    #T_91776452_48a7_11ea_a89f_4c1d9674ede2row6_col1 {\n",
       "            background-color:  #f1ebf4;\n",
       "            color:  #000000;\n",
       "        }    #T_91776452_48a7_11ea_a89f_4c1d9674ede2row7_col1 {\n",
       "            background-color:  #fbf4f9;\n",
       "            color:  #000000;\n",
       "        }    #T_91776452_48a7_11ea_a89f_4c1d9674ede2row8_col1 {\n",
       "            background-color:  #fef6fa;\n",
       "            color:  #000000;\n",
       "        }    #T_91776452_48a7_11ea_a89f_4c1d9674ede2row9_col1 {\n",
       "            background-color:  #fff7fb;\n",
       "            color:  #000000;\n",
       "        }</style><table id=\"T_91776452_48a7_11ea_a89f_4c1d9674ede2\" ><thead>    <tr>        <th class=\"blank level0\" ></th>        <th class=\"col_heading level0 col0\" >中文</th>        <th class=\"col_heading level0 col1\" >imp</th>    </tr></thead><tbody>\n",
       "                <tr>\n",
       "                        <th id=\"T_91776452_48a7_11ea_a89f_4c1d9674ede2level0_row0\" class=\"row_heading level0 row0\" >MLPAP_TJR-0762A1.PV</th>\n",
       "                        <td id=\"T_91776452_48a7_11ea_a89f_4c1d9674ede2row0_col0\" class=\"data row0 col0\" >鹽浴溫度</td>\n",
       "                        <td id=\"T_91776452_48a7_11ea_a89f_4c1d9674ede2row0_col1\" class=\"data row0 col1\" >0.234281</td>\n",
       "            </tr>\n",
       "            <tr>\n",
       "                        <th id=\"T_91776452_48a7_11ea_a89f_4c1d9674ede2level0_row1\" class=\"row_heading level0 row1\" >MLPAP_TJR-0715A1.PV</th>\n",
       "                        <td id=\"T_91776452_48a7_11ea_a89f_4c1d9674ede2row1_col0\" class=\"data row1 col0\" >反應槽溫度_多點式(高度 2450)</td>\n",
       "                        <td id=\"T_91776452_48a7_11ea_a89f_4c1d9674ede2row1_col1\" class=\"data row1 col1\" >0.166391</td>\n",
       "            </tr>\n",
       "            <tr>\n",
       "                        <th id=\"T_91776452_48a7_11ea_a89f_4c1d9674ede2level0_row2\" class=\"row_heading level0 row2\" >MLPAP_TI-0716A10</th>\n",
       "                        <td id=\"T_91776452_48a7_11ea_a89f_4c1d9674ede2row2_col0\" class=\"data row2 col0\" >nan</td>\n",
       "                        <td id=\"T_91776452_48a7_11ea_a89f_4c1d9674ede2row2_col1\" class=\"data row2 col1\" >0.0952712</td>\n",
       "            </tr>\n",
       "            <tr>\n",
       "                        <th id=\"T_91776452_48a7_11ea_a89f_4c1d9674ede2level0_row3\" class=\"row_heading level0 row3\" >MLPAP_V125-PHD</th>\n",
       "                        <td id=\"T_91776452_48a7_11ea_a89f_4c1d9674ede2row3_col0\" class=\"data row3 col0\" >粗PA儲槽PHD</td>\n",
       "                        <td id=\"T_91776452_48a7_11ea_a89f_4c1d9674ede2row3_col1\" class=\"data row3 col1\" >0.0917075</td>\n",
       "            </tr>\n",
       "            <tr>\n",
       "                        <th id=\"T_91776452_48a7_11ea_a89f_4c1d9674ede2level0_row4\" class=\"row_heading level0 row4\" >MLPAP_TI-0716A05</th>\n",
       "                        <td id=\"T_91776452_48a7_11ea_a89f_4c1d9674ede2row4_col0\" class=\"data row4 col0\" >nan</td>\n",
       "                        <td id=\"T_91776452_48a7_11ea_a89f_4c1d9674ede2row4_col1\" class=\"data row4 col1\" >0.0583226</td>\n",
       "            </tr>\n",
       "            <tr>\n",
       "                        <th id=\"T_91776452_48a7_11ea_a89f_4c1d9674ede2level0_row5\" class=\"row_heading level0 row5\" >MLPAP_TI-0706B15</th>\n",
       "                        <td id=\"T_91776452_48a7_11ea_a89f_4c1d9674ede2row5_col0\" class=\"data row5 col0\" >反應槽溫度_多點式(高度 1550)</td>\n",
       "                        <td id=\"T_91776452_48a7_11ea_a89f_4c1d9674ede2row5_col1\" class=\"data row5 col1\" >0.0581884</td>\n",
       "            </tr>\n",
       "            <tr>\n",
       "                        <th id=\"T_91776452_48a7_11ea_a89f_4c1d9674ede2level0_row6\" class=\"row_heading level0 row6\" >MLPAP_TI-0706B10</th>\n",
       "                        <td id=\"T_91776452_48a7_11ea_a89f_4c1d9674ede2row6_col0\" class=\"data row6 col0\" >反應槽溫度_多點式(高度 1050)</td>\n",
       "                        <td id=\"T_91776452_48a7_11ea_a89f_4c1d9674ede2row6_col1\" class=\"data row6 col1\" >0.0552133</td>\n",
       "            </tr>\n",
       "            <tr>\n",
       "                        <th id=\"T_91776452_48a7_11ea_a89f_4c1d9674ede2level0_row7\" class=\"row_heading level0 row7\" >MLPAP_FR-0632.PV</th>\n",
       "                        <td id=\"T_91776452_48a7_11ea_a89f_4c1d9674ede2row7_col0\" class=\"data row7 col0\" >汽機風量</td>\n",
       "                        <td id=\"T_91776452_48a7_11ea_a89f_4c1d9674ede2row7_col1\" class=\"data row7 col1\" >0.0411653</td>\n",
       "            </tr>\n",
       "            <tr>\n",
       "                        <th id=\"T_91776452_48a7_11ea_a89f_4c1d9674ede2level0_row8\" class=\"row_heading level0 row8\" >MLPAP_TRC-0610.PV</th>\n",
       "                        <td id=\"T_91776452_48a7_11ea_a89f_4c1d9674ede2row8_col0\" class=\"data row8 col0\" >空氣預熱器出口溫度</td>\n",
       "                        <td id=\"T_91776452_48a7_11ea_a89f_4c1d9674ede2row8_col1\" class=\"data row8 col1\" >0.0383944</td>\n",
       "            </tr>\n",
       "            <tr>\n",
       "                        <th id=\"T_91776452_48a7_11ea_a89f_4c1d9674ede2level0_row9\" class=\"row_heading level0 row9\" >MLPAP_TI-0706B09</th>\n",
       "                        <td id=\"T_91776452_48a7_11ea_a89f_4c1d9674ede2row9_col0\" class=\"data row9 col0\" >反應槽溫度_多點式(高度 950)</td>\n",
       "                        <td id=\"T_91776452_48a7_11ea_a89f_4c1d9674ede2row9_col1\" class=\"data row9 col1\" >0.0365299</td>\n",
       "            </tr>\n",
       "    </tbody></table>"
      ],
      "text/plain": [
       "<pandas.io.formats.style.Styler at 0x1648e79cd88>"
      ]
     },
     "execution_count": 9,
     "metadata": {},
     "output_type": "execute_result"
    }
   ],
   "source": [
    "FIMP = pd.DataFrame(model.feature_importances_,index=X.columns,columns=['imp'])\n",
    "FIMP['中文'] = FIMP.index.map(chmap)\n",
    "FIMP = FIMP.sort_values(by='imp',ascending=False)\n",
    "FIMP[['中文','imp']].head(10).style.background_gradient()"
   ]
  },
  {
   "cell_type": "code",
   "execution_count": 10,
   "metadata": {},
   "outputs": [],
   "source": [
    "y_pred = pd.Series(y_pred,name='y_pred',index=y_test.index)\n",
    "y_pred = y_pred.sort_index()\n",
    "y_test = y_test.sort_index()"
   ]
  },
  {
   "cell_type": "markdown",
   "metadata": {},
   "source": [
    "# plot"
   ]
  },
  {
   "cell_type": "code",
   "execution_count": 11,
   "metadata": {},
   "outputs": [
    {
     "data": {
      "text/plain": [
       "<matplotlib.axes._subplots.AxesSubplot at 0x1649162b188>"
      ]
     },
     "execution_count": 11,
     "metadata": {},
     "output_type": "execute_result"
    },
    {
     "data": {
      "image/png": "[encoded data removed]",
      "text/plain": [
       "<Figure size 432x288 with 1 Axes>"
      ]
     },
     "metadata": {
      "needs_background": "light"
     },
     "output_type": "display_data"
    }
   ],
   "source": [
    "y_test.rolling(6*24*15).mean().plot()\n",
    "y_pred.rolling(6*24*15).mean().plot()"
   ]
  },
  {
   "cell_type": "code",
   "execution_count": null,
   "metadata": {},
   "outputs": [],
   "source": []
  }
 ],
 "metadata": {
  "kernelspec": {
   "display_name": "Python 3",
   "language": "python",
   "name": "python3"
  },
  "language_info": {
   "codemirror_mode": {
    "name": "ipython",
    "version": 3
   },
   "file_extension": ".py",
   "mimetype": "text/x-python",
   "name": "python",
   "nbconvert_exporter": "python",
   "pygments_lexer": "ipython3",
   "version": "3.7.4"
  }
 },
 "nbformat": 4,
 "nbformat_minor": 2
}
