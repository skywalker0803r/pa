{
 "cells": [
  {
   "cell_type": "code",
   "execution_count": 1,
   "metadata": {},
   "outputs": [
    {
     "data": {
      "text/plain": [
       "['second_model.ipynb',\n",
       " 'train.csv',\n",
       " 'DataCleaning.ipynb',\n",
       " 'EDA.ipynb',\n",
       " 'PA_201605-2012001更新R6(20190509).xlsx',\n",
       " 'tag盤點表.xlsx',\n",
       " 'xgboost.ipynb',\n",
       " 'LSTM.ipynb',\n",
       " 'train_FeatureSelected.csv',\n",
       " 'feature select.ipynb',\n",
       " 'tpot_pa_pipeline.py',\n",
       " 'TPOT.ipynb',\n",
       " 'three_model.ipynb',\n",
       " 'cnn-time-stack.ipynb',\n",
       " '.ipynb_checkpoints']"
      ]
     },
     "execution_count": 1,
     "metadata": {},
     "output_type": "execute_result"
    }
   ],
   "source": [
    "import os \n",
    "os.listdir()"
   ]
  },
  {
   "cell_type": "code",
   "execution_count": 2,
   "metadata": {},
   "outputs": [],
   "source": [
    "import pandas as pd\n",
    "import matplotlib.pyplot as plt\n",
    "import numpy as np\n",
    "import seaborn as sns"
   ]
  },
  {
   "cell_type": "markdown",
   "metadata": {},
   "source": [
    "# load"
   ]
  },
  {
   "cell_type": "code",
   "execution_count": 3,
   "metadata": {},
   "outputs": [
    {
     "name": "stdout",
     "output_type": "stream",
     "text": [
      "(130795, 31)\n"
     ]
    },
    {
     "data": {
      "text/html": [
       "<div>\n",
       "<style scoped>\n",
       "    .dataframe tbody tr th:only-of-type {\n",
       "        vertical-align: middle;\n",
       "    }\n",
       "\n",
       "    .dataframe tbody tr th {\n",
       "        vertical-align: top;\n",
       "    }\n",
       "\n",
       "    .dataframe thead th {\n",
       "        text-align: right;\n",
       "    }\n",
       "</style>\n",
       "<table border=\"1\" class=\"dataframe\">\n",
       "  <thead>\n",
       "    <tr style=\"text-align: right;\">\n",
       "      <th></th>\n",
       "      <th>MLPAP_TI-0706B02</th>\n",
       "      <th>MLPAP_TI-0706B03</th>\n",
       "      <th>MLPAP_TI-0706B08</th>\n",
       "      <th>MLPAP_TI-0706B09</th>\n",
       "      <th>MLPAP_TI-0706B10</th>\n",
       "      <th>MLPAP_TI-0706B11</th>\n",
       "      <th>MLPAP_TI-0706B12</th>\n",
       "      <th>MLPAP_TI-0706B22</th>\n",
       "      <th>MLPAP_TI-0706B24</th>\n",
       "      <th>MLPAP_TI-0716A09</th>\n",
       "      <th>...</th>\n",
       "      <th>MLPAP_LIC-0738.PV</th>\n",
       "      <th>MLPAP_PIC-0761.PV</th>\n",
       "      <th>MLPAP_LRC-0729.PV</th>\n",
       "      <th>MLPAP_TIC-1721.PV</th>\n",
       "      <th>MLPAP_TRC-1734.PV</th>\n",
       "      <th>MLPAP_FR-0755.PV</th>\n",
       "      <th>MLPAP_FR-0791.PV</th>\n",
       "      <th>MLPAP_TIC-0757.PV</th>\n",
       "      <th>MLPAP_V125-PHD</th>\n",
       "      <th>target</th>\n",
       "    </tr>\n",
       "  </thead>\n",
       "  <tbody>\n",
       "    <tr>\n",
       "      <th>2016-05-10 08:10:00</th>\n",
       "      <td>421.996112</td>\n",
       "      <td>424.995929</td>\n",
       "      <td>398.999278</td>\n",
       "      <td>397.000005</td>\n",
       "      <td>394.002688</td>\n",
       "      <td>391.997199</td>\n",
       "      <td>391.004787</td>\n",
       "      <td>392.001755</td>\n",
       "      <td>392.004498</td>\n",
       "      <td>403.000684</td>\n",
       "      <td>...</td>\n",
       "      <td>34.707643</td>\n",
       "      <td>49.114940</td>\n",
       "      <td>34.926437</td>\n",
       "      <td>62.161964</td>\n",
       "      <td>181.607147</td>\n",
       "      <td>4.215451</td>\n",
       "      <td>13.177441</td>\n",
       "      <td>0.056350</td>\n",
       "      <td>0.054001</td>\n",
       "      <td>0.914110</td>\n",
       "    </tr>\n",
       "    <tr>\n",
       "      <th>2016-05-10 08:20:00</th>\n",
       "      <td>421.996112</td>\n",
       "      <td>425.041541</td>\n",
       "      <td>398.999278</td>\n",
       "      <td>397.000005</td>\n",
       "      <td>394.002688</td>\n",
       "      <td>391.997199</td>\n",
       "      <td>391.004787</td>\n",
       "      <td>392.001755</td>\n",
       "      <td>392.100484</td>\n",
       "      <td>403.000684</td>\n",
       "      <td>...</td>\n",
       "      <td>35.980597</td>\n",
       "      <td>49.137430</td>\n",
       "      <td>35.494560</td>\n",
       "      <td>62.267876</td>\n",
       "      <td>181.084756</td>\n",
       "      <td>4.236381</td>\n",
       "      <td>13.231014</td>\n",
       "      <td>0.084738</td>\n",
       "      <td>0.054001</td>\n",
       "      <td>0.919733</td>\n",
       "    </tr>\n",
       "    <tr>\n",
       "      <th>2016-05-10 08:30:00</th>\n",
       "      <td>421.996112</td>\n",
       "      <td>425.109958</td>\n",
       "      <td>398.999278</td>\n",
       "      <td>397.000005</td>\n",
       "      <td>394.002688</td>\n",
       "      <td>391.997199</td>\n",
       "      <td>391.004787</td>\n",
       "      <td>392.001755</td>\n",
       "      <td>392.004498</td>\n",
       "      <td>403.000684</td>\n",
       "      <td>...</td>\n",
       "      <td>33.797872</td>\n",
       "      <td>49.135555</td>\n",
       "      <td>34.616724</td>\n",
       "      <td>62.465860</td>\n",
       "      <td>177.599662</td>\n",
       "      <td>4.227079</td>\n",
       "      <td>13.221490</td>\n",
       "      <td>0.091835</td>\n",
       "      <td>0.054001</td>\n",
       "      <td>0.926436</td>\n",
       "    </tr>\n",
       "    <tr>\n",
       "      <th>2016-05-10 15:40:00</th>\n",
       "      <td>421.715731</td>\n",
       "      <td>427.687003</td>\n",
       "      <td>399.252972</td>\n",
       "      <td>395.446261</td>\n",
       "      <td>392.002989</td>\n",
       "      <td>389.622951</td>\n",
       "      <td>388.497742</td>\n",
       "      <td>390.200259</td>\n",
       "      <td>390.052790</td>\n",
       "      <td>403.578089</td>\n",
       "      <td>...</td>\n",
       "      <td>33.567251</td>\n",
       "      <td>49.169289</td>\n",
       "      <td>35.013840</td>\n",
       "      <td>62.394249</td>\n",
       "      <td>178.771310</td>\n",
       "      <td>4.248009</td>\n",
       "      <td>15.014401</td>\n",
       "      <td>0.496363</td>\n",
       "      <td>0.054001</td>\n",
       "      <td>0.887063</td>\n",
       "    </tr>\n",
       "    <tr>\n",
       "      <th>2016-05-10 23:40:00</th>\n",
       "      <td>421.003993</td>\n",
       "      <td>428.097506</td>\n",
       "      <td>397.996033</td>\n",
       "      <td>393.996100</td>\n",
       "      <td>390.654621</td>\n",
       "      <td>388.002611</td>\n",
       "      <td>387.000171</td>\n",
       "      <td>388.999261</td>\n",
       "      <td>388.197068</td>\n",
       "      <td>403.000684</td>\n",
       "      <td>...</td>\n",
       "      <td>35.167069</td>\n",
       "      <td>49.143052</td>\n",
       "      <td>34.719328</td>\n",
       "      <td>62.322638</td>\n",
       "      <td>182.122076</td>\n",
       "      <td>4.245102</td>\n",
       "      <td>15.637040</td>\n",
       "      <td>0.208935</td>\n",
       "      <td>0.054001</td>\n",
       "      <td>0.906869</td>\n",
       "    </tr>\n",
       "  </tbody>\n",
       "</table>\n",
       "<p>5 rows × 31 columns</p>\n",
       "</div>"
      ],
      "text/plain": [
       "                     MLPAP_TI-0706B02  MLPAP_TI-0706B03  MLPAP_TI-0706B08  \\\n",
       "2016-05-10 08:10:00        421.996112        424.995929        398.999278   \n",
       "2016-05-10 08:20:00        421.996112        425.041541        398.999278   \n",
       "2016-05-10 08:30:00        421.996112        425.109958        398.999278   \n",
       "2016-05-10 15:40:00        421.715731        427.687003        399.252972   \n",
       "2016-05-10 23:40:00        421.003993        428.097506        397.996033   \n",
       "\n",
       "                     MLPAP_TI-0706B09  MLPAP_TI-0706B10  MLPAP_TI-0706B11  \\\n",
       "2016-05-10 08:10:00        397.000005        394.002688        391.997199   \n",
       "2016-05-10 08:20:00        397.000005        394.002688        391.997199   \n",
       "2016-05-10 08:30:00        397.000005        394.002688        391.997199   \n",
       "2016-05-10 15:40:00        395.446261        392.002989        389.622951   \n",
       "2016-05-10 23:40:00        393.996100        390.654621        388.002611   \n",
       "\n",
       "                     MLPAP_TI-0706B12  MLPAP_TI-0706B22  MLPAP_TI-0706B24  \\\n",
       "2016-05-10 08:10:00        391.004787        392.001755        392.004498   \n",
       "2016-05-10 08:20:00        391.004787        392.001755        392.100484   \n",
       "2016-05-10 08:30:00        391.004787        392.001755        392.004498   \n",
       "2016-05-10 15:40:00        388.497742        390.200259        390.052790   \n",
       "2016-05-10 23:40:00        387.000171        388.999261        388.197068   \n",
       "\n",
       "                     MLPAP_TI-0716A09  ...  MLPAP_LIC-0738.PV  \\\n",
       "2016-05-10 08:10:00        403.000684  ...          34.707643   \n",
       "2016-05-10 08:20:00        403.000684  ...          35.980597   \n",
       "2016-05-10 08:30:00        403.000684  ...          33.797872   \n",
       "2016-05-10 15:40:00        403.578089  ...          33.567251   \n",
       "2016-05-10 23:40:00        403.000684  ...          35.167069   \n",
       "\n",
       "                     MLPAP_PIC-0761.PV  MLPAP_LRC-0729.PV  MLPAP_TIC-1721.PV  \\\n",
       "2016-05-10 08:10:00          49.114940          34.926437          62.161964   \n",
       "2016-05-10 08:20:00          49.137430          35.494560          62.267876   \n",
       "2016-05-10 08:30:00          49.135555          34.616724          62.465860   \n",
       "2016-05-10 15:40:00          49.169289          35.013840          62.394249   \n",
       "2016-05-10 23:40:00          49.143052          34.719328          62.322638   \n",
       "\n",
       "                     MLPAP_TRC-1734.PV  MLPAP_FR-0755.PV  MLPAP_FR-0791.PV  \\\n",
       "2016-05-10 08:10:00         181.607147          4.215451         13.177441   \n",
       "2016-05-10 08:20:00         181.084756          4.236381         13.231014   \n",
       "2016-05-10 08:30:00         177.599662          4.227079         13.221490   \n",
       "2016-05-10 15:40:00         178.771310          4.248009         15.014401   \n",
       "2016-05-10 23:40:00         182.122076          4.245102         15.637040   \n",
       "\n",
       "                     MLPAP_TIC-0757.PV  MLPAP_V125-PHD    target  \n",
       "2016-05-10 08:10:00           0.056350        0.054001  0.914110  \n",
       "2016-05-10 08:20:00           0.084738        0.054001  0.919733  \n",
       "2016-05-10 08:30:00           0.091835        0.054001  0.926436  \n",
       "2016-05-10 15:40:00           0.496363        0.054001  0.887063  \n",
       "2016-05-10 23:40:00           0.208935        0.054001  0.906869  \n",
       "\n",
       "[5 rows x 31 columns]"
      ]
     },
     "execution_count": 3,
     "metadata": {},
     "output_type": "execute_result"
    }
   ],
   "source": [
    "df = pd.read_csv('train_FeatureSelected.csv',index_col = 0,parse_dates = True)\n",
    "print(df.shape)\n",
    "df.head()"
   ]
  },
  {
   "cell_type": "markdown",
   "metadata": {},
   "source": [
    "# split"
   ]
  },
  {
   "cell_type": "code",
   "execution_count": 4,
   "metadata": {},
   "outputs": [],
   "source": [
    "from sklearn.model_selection import train_test_split\n",
    "\n",
    "X = df.drop('target',axis=1)\n",
    "y = df['target']\n",
    "\n",
    "train_len = int(len(df)*0.8)\n",
    "X_train = X[:train_len]\n",
    "X_test = X[train_len:]\n",
    "y_train = y[:train_len]\n",
    "y_test = y[train_len:]\n",
    "\n",
    "#X_train, X_test, y_train, y_test = train_test_split(X, y, test_size=0.2, random_state = 42)"
   ]
  },
  {
   "cell_type": "code",
   "execution_count": 5,
   "metadata": {},
   "outputs": [
    {
     "data": {
      "text/plain": [
       "((104636, 30), (26159, 30), (104636,), (26159,))"
      ]
     },
     "execution_count": 5,
     "metadata": {},
     "output_type": "execute_result"
    }
   ],
   "source": [
    "X_train.shape,X_test.shape,y_train.shape,y_test.shape"
   ]
  },
  {
   "cell_type": "markdown",
   "metadata": {},
   "source": [
    "# fit"
   ]
  },
  {
   "cell_type": "code",
   "execution_count": 6,
   "metadata": {},
   "outputs": [
    {
     "name": "stderr",
     "output_type": "stream",
     "text": [
      "/workspace/conda/lib/python3.6/site-packages/xgboost/core.py:587: FutureWarning: Series.base is deprecated and will be removed in a future version\n",
      "  if getattr(data, 'base', None) is not None and \\\n",
      "/workspace/conda/lib/python3.6/site-packages/xgboost/core.py:588: FutureWarning: Series.base is deprecated and will be removed in a future version\n",
      "  data.base is not None and isinstance(data, np.ndarray) \\\n"
     ]
    },
    {
     "data": {
      "text/plain": [
       "XGBRegressor(base_score=0.5, booster='gbtree', colsample_bylevel=1,\n",
       "             colsample_bynode=1, colsample_bytree=1, gamma=0,\n",
       "             importance_type='gain', learning_rate=0.1, max_delta_step=0,\n",
       "             max_depth=3, min_child_weight=1, missing=None, n_estimators=100,\n",
       "             n_jobs=1, nthread=None, objective='reg:squarederror',\n",
       "             random_state=0, reg_alpha=0, reg_lambda=1, scale_pos_weight=1,\n",
       "             seed=None, silent=None, subsample=1, verbosity=1)"
      ]
     },
     "execution_count": 6,
     "metadata": {},
     "output_type": "execute_result"
    }
   ],
   "source": [
    "from xgboost import XGBRegressor\n",
    "from sklearn.linear_model import Ridge\n",
    "from sklearn.pipeline import Pipeline\n",
    "from sklearn.preprocessing import StandardScaler\n",
    "from sklearn.svm import SVR\n",
    "\n",
    "model = XGBRegressor(objective=\"reg:squarederror\")\n",
    "model.fit(X_train, y_train)"
   ]
  },
  {
   "cell_type": "markdown",
   "metadata": {},
   "source": [
    "# eval"
   ]
  },
  {
   "cell_type": "code",
   "execution_count": 7,
   "metadata": {},
   "outputs": [
    {
     "name": "stdout",
     "output_type": "stream",
     "text": [
      "-1.0477223607030326\n",
      "0.0002\n"
     ]
    }
   ],
   "source": [
    "from sklearn.metrics import mean_squared_error,r2_score\n",
    "\n",
    "y_pred = model.predict(X_test)\n",
    "y_pred = pd.Series(y_pred,name='y_pred',index=y_test.index)\n",
    "print(r2_score(y_test,y_pred))\n",
    "print(round(mean_squared_error(y_test,y_pred),4))"
   ]
  },
  {
   "cell_type": "markdown",
   "metadata": {},
   "source": [
    "# plot"
   ]
  },
  {
   "cell_type": "code",
   "execution_count": 8,
   "metadata": {},
   "outputs": [
    {
     "data": {
      "image/png": "[encoded data removed]",
      "text/plain": [
       "<Figure size 432x288 with 1 Axes>"
      ]
     },
     "metadata": {
      "needs_background": "light"
     },
     "output_type": "display_data"
    }
   ],
   "source": [
    "import xgboost\n",
    "xgboost.plot_importance(model,max_num_features=10,importance_type=\"gain\")\n",
    "plt.show()"
   ]
  },
  {
   "cell_type": "code",
   "execution_count": 9,
   "metadata": {},
   "outputs": [],
   "source": [
    "chmap = pd.read_excel('tag盤點表.xlsx')[['TAG','chinese']]\n",
    "chmap = dict(zip(chmap['TAG'],chmap['chinese']))"
   ]
  },
  {
   "cell_type": "code",
   "execution_count": 13,
   "metadata": {},
   "outputs": [
    {
     "data": {
      "text/html": [
       "<div>\n",
       "<style scoped>\n",
       "    .dataframe tbody tr th:only-of-type {\n",
       "        vertical-align: middle;\n",
       "    }\n",
       "\n",
       "    .dataframe tbody tr th {\n",
       "        vertical-align: top;\n",
       "    }\n",
       "\n",
       "    .dataframe thead th {\n",
       "        text-align: right;\n",
       "    }\n",
       "</style>\n",
       "<table border=\"1\" class=\"dataframe\">\n",
       "  <thead>\n",
       "    <tr style=\"text-align: right;\">\n",
       "      <th></th>\n",
       "      <th>中文</th>\n",
       "      <th>imp</th>\n",
       "    </tr>\n",
       "  </thead>\n",
       "  <tbody>\n",
       "    <tr>\n",
       "      <th>MLPAP_LIC-0738.PV</th>\n",
       "      <td>汽鼓(V211)鍋爐水液位</td>\n",
       "      <td>0.266167</td>\n",
       "    </tr>\n",
       "    <tr>\n",
       "      <th>MLPAP_TI-0706B11</th>\n",
       "      <td>反應槽溫度_多點式(高度 1150)</td>\n",
       "      <td>0.083761</td>\n",
       "    </tr>\n",
       "    <tr>\n",
       "      <th>MLPAP_TI-0706B10</th>\n",
       "      <td>反應槽溫度_多點式(高度 1050)</td>\n",
       "      <td>0.069950</td>\n",
       "    </tr>\n",
       "    <tr>\n",
       "      <th>MLPAP_TJR-0715B2.PV</th>\n",
       "      <td>鹽浴溫度</td>\n",
       "      <td>0.051454</td>\n",
       "    </tr>\n",
       "    <tr>\n",
       "      <th>MLPAP_TJR-0715A1.PV</th>\n",
       "      <td>反應槽溫度_多點式(高度 2450)</td>\n",
       "      <td>0.045299</td>\n",
       "    </tr>\n",
       "    <tr>\n",
       "      <th>MLPAP_TI-0706B22</th>\n",
       "      <td>反應槽溫度_多點式(高度 2250)</td>\n",
       "      <td>0.036516</td>\n",
       "    </tr>\n",
       "    <tr>\n",
       "      <th>MLPAP_PIC-0761.PV</th>\n",
       "      <td>鹽浴冷卻器(E112)出口壓力</td>\n",
       "      <td>0.035423</td>\n",
       "    </tr>\n",
       "    <tr>\n",
       "      <th>MLPAP_TI-0706B08</th>\n",
       "      <td>反應槽溫度_多點式(高度 850)</td>\n",
       "      <td>0.031388</td>\n",
       "    </tr>\n",
       "    <tr>\n",
       "      <th>MLPAP_TI-0706B02</th>\n",
       "      <td>反應槽溫度_多點式(高度 250)</td>\n",
       "      <td>0.031309</td>\n",
       "    </tr>\n",
       "    <tr>\n",
       "      <th>MLPAP_FR-0755.PV</th>\n",
       "      <td>反應槽16K蒸氣輸出</td>\n",
       "      <td>0.029227</td>\n",
       "    </tr>\n",
       "  </tbody>\n",
       "</table>\n",
       "</div>"
      ],
      "text/plain": [
       "                                     中文       imp\n",
       "MLPAP_LIC-0738.PV         汽鼓(V211)鍋爐水液位  0.266167\n",
       "MLPAP_TI-0706B11     反應槽溫度_多點式(高度 1150)  0.083761\n",
       "MLPAP_TI-0706B10     反應槽溫度_多點式(高度 1050)  0.069950\n",
       "MLPAP_TJR-0715B2.PV                鹽浴溫度  0.051454\n",
       "MLPAP_TJR-0715A1.PV  反應槽溫度_多點式(高度 2450)  0.045299\n",
       "MLPAP_TI-0706B22     反應槽溫度_多點式(高度 2250)  0.036516\n",
       "MLPAP_PIC-0761.PV       鹽浴冷卻器(E112)出口壓力  0.035423\n",
       "MLPAP_TI-0706B08      反應槽溫度_多點式(高度 850)  0.031388\n",
       "MLPAP_TI-0706B02      反應槽溫度_多點式(高度 250)  0.031309\n",
       "MLPAP_FR-0755.PV             反應槽16K蒸氣輸出  0.029227"
      ]
     },
     "execution_count": 13,
     "metadata": {},
     "output_type": "execute_result"
    }
   ],
   "source": [
    "FIMP = pd.DataFrame(model.feature_importances_,index=X.columns,columns=['imp'])\n",
    "FIMP['中文'] = FIMP.index.map(chmap)\n",
    "FIMP = FIMP.sort_values(by='imp',ascending=False)\n",
    "FIMP[['中文','imp']].head(10)"
   ]
  },
  {
   "cell_type": "code",
   "execution_count": 11,
   "metadata": {},
   "outputs": [],
   "source": [
    "y_test = y_test.sort_index()\n",
    "y_pred = y_pred.sort_index()"
   ]
  },
  {
   "cell_type": "code",
   "execution_count": 12,
   "metadata": {},
   "outputs": [
    {
     "data": {
      "text/plain": [
       "<matplotlib.legend.Legend at 0x7f496e505240>"
      ]
     },
     "execution_count": 12,
     "metadata": {},
     "output_type": "execute_result"
    },
    {
     "data": {
      "image/png": "[encoded data removed]",
      "text/plain": [
       "<Figure size 432x288 with 1 Axes>"
      ]
     },
     "metadata": {
      "needs_background": "light"
     },
     "output_type": "display_data"
    }
   ],
   "source": [
    "y_test.rolling(6*24*30).mean().plot()\n",
    "y_pred.rolling(6*24*30).mean().plot()\n",
    "plt.legend()"
   ]
  },
  {
   "cell_type": "code",
   "execution_count": null,
   "metadata": {},
   "outputs": [],
   "source": []
  },
  {
   "cell_type": "code",
   "execution_count": null,
   "metadata": {},
   "outputs": [],
   "source": []
  }
 ],
 "metadata": {
  "kernelspec": {
   "display_name": "Python 3",
   "language": "python",
   "name": "python3"
  },
  "language_info": {
   "codemirror_mode": {
    "name": "ipython",
    "version": 3
   },
   "file_extension": ".py",
   "mimetype": "text/x-python",
   "name": "python",
   "nbconvert_exporter": "python",
   "pygments_lexer": "ipython3",
   "version": "3.6.9"
  }
 },
 "nbformat": 4,
 "nbformat_minor": 2
}
