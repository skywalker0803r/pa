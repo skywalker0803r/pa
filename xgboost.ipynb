{
 "cells": [
  {
   "cell_type": "code",
   "execution_count": 1,
   "metadata": {},
   "outputs": [
    {
     "data": {
      "text/plain": [
       "['train.csv',\n",
       " 'DataCleaning.ipynb',\n",
       " 'PA_201605-2012001更新R6(20190509).xlsx',\n",
       " 'tag盤點表.xlsx',\n",
       " 'xgboost.ipynb',\n",
       " 'train_FeatureSelected.csv',\n",
       " 'feature select.ipynb',\n",
       " 'tpot_pa_pipeline.py',\n",
       " 'TPOT.ipynb',\n",
       " 'cnn-time-stack.ipynb',\n",
       " '.ipynb_checkpoints']"
      ]
     },
     "execution_count": 1,
     "metadata": {},
     "output_type": "execute_result"
    }
   ],
   "source": [
    "import os \n",
    "os.listdir()"
   ]
  },
  {
   "cell_type": "code",
   "execution_count": 2,
   "metadata": {},
   "outputs": [],
   "source": [
    "import pandas as pd\n",
    "import matplotlib.pyplot as plt\n",
    "import numpy as np\n",
    "import seaborn as sns"
   ]
  },
  {
   "cell_type": "markdown",
   "metadata": {},
   "source": [
    "# load"
   ]
  },
  {
   "cell_type": "code",
   "execution_count": 3,
   "metadata": {},
   "outputs": [
    {
     "name": "stdout",
     "output_type": "stream",
     "text": [
      "(122775, 15)\n"
     ]
    },
    {
     "data": {
      "text/html": [
       "<div>\n",
       "<style scoped>\n",
       "    .dataframe tbody tr th:only-of-type {\n",
       "        vertical-align: middle;\n",
       "    }\n",
       "\n",
       "    .dataframe tbody tr th {\n",
       "        vertical-align: top;\n",
       "    }\n",
       "\n",
       "    .dataframe thead th {\n",
       "        text-align: right;\n",
       "    }\n",
       "</style>\n",
       "<table border=\"1\" class=\"dataframe\">\n",
       "  <thead>\n",
       "    <tr style=\"text-align: right;\">\n",
       "      <th></th>\n",
       "      <th>MLPAP_TI-0706B15</th>\n",
       "      <th>MLPAP_TI-0706B21</th>\n",
       "      <th>MLPAP_TI-0716A03</th>\n",
       "      <th>MLPAP_TI-0716A05</th>\n",
       "      <th>MLPAP_TJR-0720A1.PV</th>\n",
       "      <th>MLPAP_TJR-0720B2.PV</th>\n",
       "      <th>MLPAP_TJR-0762A1.PV</th>\n",
       "      <th>MLPAP_TI-0706B01</th>\n",
       "      <th>MLPAP_TRC-0610.PV</th>\n",
       "      <th>MLPAP_TIC-1721.PV</th>\n",
       "      <th>MLPAP_TRC-1734.PV</th>\n",
       "      <th>MLPAP_FR-0755.PV</th>\n",
       "      <th>MLPAP_TIC-0757.PV</th>\n",
       "      <th>MLPAP_V125-PHD</th>\n",
       "      <th>target</th>\n",
       "    </tr>\n",
       "  </thead>\n",
       "  <tbody>\n",
       "    <tr>\n",
       "      <th>0</th>\n",
       "      <td>0.436520</td>\n",
       "      <td>0.527857</td>\n",
       "      <td>2.885848</td>\n",
       "      <td>0.448321</td>\n",
       "      <td>0.677295</td>\n",
       "      <td>0.881300</td>\n",
       "      <td>0.796872</td>\n",
       "      <td>0.633992</td>\n",
       "      <td>3.036852</td>\n",
       "      <td>3.099501</td>\n",
       "      <td>0.608934</td>\n",
       "      <td>-2.619894</td>\n",
       "      <td>-1.015438</td>\n",
       "      <td>-0.088287</td>\n",
       "      <td>0.914125</td>\n",
       "    </tr>\n",
       "    <tr>\n",
       "      <th>1</th>\n",
       "      <td>0.436520</td>\n",
       "      <td>0.527857</td>\n",
       "      <td>2.885848</td>\n",
       "      <td>0.448321</td>\n",
       "      <td>0.677122</td>\n",
       "      <td>0.881648</td>\n",
       "      <td>0.797089</td>\n",
       "      <td>0.633992</td>\n",
       "      <td>2.864041</td>\n",
       "      <td>3.272350</td>\n",
       "      <td>0.447358</td>\n",
       "      <td>-2.614712</td>\n",
       "      <td>-0.982340</td>\n",
       "      <td>-0.088287</td>\n",
       "      <td>0.919765</td>\n",
       "    </tr>\n",
       "    <tr>\n",
       "      <th>2</th>\n",
       "      <td>0.436830</td>\n",
       "      <td>0.527857</td>\n",
       "      <td>2.885848</td>\n",
       "      <td>0.448321</td>\n",
       "      <td>0.677619</td>\n",
       "      <td>0.881571</td>\n",
       "      <td>0.796987</td>\n",
       "      <td>0.633992</td>\n",
       "      <td>3.006620</td>\n",
       "      <td>3.596289</td>\n",
       "      <td>-0.634915</td>\n",
       "      <td>-2.617016</td>\n",
       "      <td>-0.975999</td>\n",
       "      <td>-0.088287</td>\n",
       "      <td>0.926346</td>\n",
       "    </tr>\n",
       "    <tr>\n",
       "      <th>3</th>\n",
       "      <td>0.411821</td>\n",
       "      <td>0.395807</td>\n",
       "      <td>2.856863</td>\n",
       "      <td>0.468480</td>\n",
       "      <td>0.641630</td>\n",
       "      <td>0.853312</td>\n",
       "      <td>0.763786</td>\n",
       "      <td>0.601863</td>\n",
       "      <td>1.710665</td>\n",
       "      <td>3.361869</td>\n",
       "      <td>0.769126</td>\n",
       "      <td>-2.612469</td>\n",
       "      <td>-0.840360</td>\n",
       "      <td>-0.088287</td>\n",
       "      <td>0.906781</td>\n",
       "    </tr>\n",
       "    <tr>\n",
       "      <th>4</th>\n",
       "      <td>0.412131</td>\n",
       "      <td>0.395807</td>\n",
       "      <td>2.882331</td>\n",
       "      <td>0.468480</td>\n",
       "      <td>0.642077</td>\n",
       "      <td>0.853810</td>\n",
       "      <td>0.764300</td>\n",
       "      <td>0.603356</td>\n",
       "      <td>1.822449</td>\n",
       "      <td>3.029603</td>\n",
       "      <td>0.528846</td>\n",
       "      <td>-2.620588</td>\n",
       "      <td>-0.868595</td>\n",
       "      <td>-0.088287</td>\n",
       "      <td>0.926688</td>\n",
       "    </tr>\n",
       "  </tbody>\n",
       "</table>\n",
       "</div>"
      ],
      "text/plain": [
       "   MLPAP_TI-0706B15  MLPAP_TI-0706B21  MLPAP_TI-0716A03  MLPAP_TI-0716A05  \\\n",
       "0          0.436520          0.527857          2.885848          0.448321   \n",
       "1          0.436520          0.527857          2.885848          0.448321   \n",
       "2          0.436830          0.527857          2.885848          0.448321   \n",
       "3          0.411821          0.395807          2.856863          0.468480   \n",
       "4          0.412131          0.395807          2.882331          0.468480   \n",
       "\n",
       "   MLPAP_TJR-0720A1.PV  MLPAP_TJR-0720B2.PV  MLPAP_TJR-0762A1.PV  \\\n",
       "0             0.677295             0.881300             0.796872   \n",
       "1             0.677122             0.881648             0.797089   \n",
       "2             0.677619             0.881571             0.796987   \n",
       "3             0.641630             0.853312             0.763786   \n",
       "4             0.642077             0.853810             0.764300   \n",
       "\n",
       "   MLPAP_TI-0706B01  MLPAP_TRC-0610.PV  MLPAP_TIC-1721.PV  MLPAP_TRC-1734.PV  \\\n",
       "0          0.633992           3.036852           3.099501           0.608934   \n",
       "1          0.633992           2.864041           3.272350           0.447358   \n",
       "2          0.633992           3.006620           3.596289          -0.634915   \n",
       "3          0.601863           1.710665           3.361869           0.769126   \n",
       "4          0.603356           1.822449           3.029603           0.528846   \n",
       "\n",
       "   MLPAP_FR-0755.PV  MLPAP_TIC-0757.PV  MLPAP_V125-PHD    target  \n",
       "0         -2.619894          -1.015438       -0.088287  0.914125  \n",
       "1         -2.614712          -0.982340       -0.088287  0.919765  \n",
       "2         -2.617016          -0.975999       -0.088287  0.926346  \n",
       "3         -2.612469          -0.840360       -0.088287  0.906781  \n",
       "4         -2.620588          -0.868595       -0.088287  0.926688  "
      ]
     },
     "execution_count": 3,
     "metadata": {},
     "output_type": "execute_result"
    }
   ],
   "source": [
    "df = pd.read_csv('train_FeatureSelected.csv',index_col = 0,parse_dates = True)\n",
    "print(df.shape)\n",
    "df.head()"
   ]
  },
  {
   "cell_type": "markdown",
   "metadata": {},
   "source": [
    "# split"
   ]
  },
  {
   "cell_type": "code",
   "execution_count": 4,
   "metadata": {},
   "outputs": [],
   "source": [
    "from sklearn.model_selection import train_test_split\n",
    "\n",
    "X = df.drop('target',axis=1)\n",
    "y = df['target']\n",
    "\n",
    "X_train, X_test, y_train, y_test = train_test_split(X, y, test_size=0.2, random_state = 7)"
   ]
  },
  {
   "cell_type": "markdown",
   "metadata": {},
   "source": [
    "# fit"
   ]
  },
  {
   "cell_type": "code",
   "execution_count": 5,
   "metadata": {},
   "outputs": [
    {
     "name": "stderr",
     "output_type": "stream",
     "text": [
      "/workspace/conda/lib/python3.6/site-packages/xgboost/core.py:587: FutureWarning: Series.base is deprecated and will be removed in a future version\n",
      "  if getattr(data, 'base', None) is not None and \\\n"
     ]
    },
    {
     "data": {
      "text/plain": [
       "XGBRegressor(base_score=0.5, booster='gbtree', colsample_bylevel=1,\n",
       "             colsample_bynode=1, colsample_bytree=1, gamma=0,\n",
       "             importance_type='gain', learning_rate=0.1, max_delta_step=0,\n",
       "             max_depth=3, min_child_weight=1, missing=None, n_estimators=100,\n",
       "             n_jobs=1, nthread=None, objective='reg:squarederror',\n",
       "             random_state=0, reg_alpha=0, reg_lambda=1, scale_pos_weight=1,\n",
       "             seed=None, silent=None, subsample=1, verbosity=1)"
      ]
     },
     "execution_count": 5,
     "metadata": {},
     "output_type": "execute_result"
    }
   ],
   "source": [
    "from xgboost import XGBRegressor\n",
    "from sklearn.linear_model import Ridge\n",
    "from sklearn.pipeline import Pipeline\n",
    "from sklearn.preprocessing import StandardScaler\n",
    "from sklearn.svm import SVR\n",
    "\n",
    "model = XGBRegressor(objective=\"reg:squarederror\")\n",
    "model.fit(X_train, y_train)"
   ]
  },
  {
   "cell_type": "markdown",
   "metadata": {},
   "source": [
    "# eval"
   ]
  },
  {
   "cell_type": "code",
   "execution_count": 6,
   "metadata": {},
   "outputs": [
    {
     "name": "stdout",
     "output_type": "stream",
     "text": [
      "0.361132638833239\n",
      "0.0001\n"
     ]
    }
   ],
   "source": [
    "from sklearn.metrics import mean_squared_error,r2_score\n",
    "y_pred = model.predict(X_test)\n",
    "print(r2_score(y_test,y_pred))\n",
    "print(round(mean_squared_error(y_test,y_pred),4))"
   ]
  },
  {
   "cell_type": "markdown",
   "metadata": {},
   "source": [
    "# plot"
   ]
  },
  {
   "cell_type": "code",
   "execution_count": 7,
   "metadata": {},
   "outputs": [
    {
     "data": {
      "image/png": "[encoded data removed]",
      "text/plain": [
       "<Figure size 432x288 with 1 Axes>"
      ]
     },
     "metadata": {
      "needs_background": "light"
     },
     "output_type": "display_data"
    }
   ],
   "source": [
    "import xgboost\n",
    "xgboost.plot_importance(model,max_num_features=10,importance_type=\"gain\")\n",
    "plt.show()"
   ]
  },
  {
   "cell_type": "code",
   "execution_count": 8,
   "metadata": {},
   "outputs": [],
   "source": [
    "chmap = pd.read_excel('tag盤點表.xlsx')[['TAG','chinese']]\n",
    "chmap = dict(zip(chmap['TAG'],chmap['chinese']))"
   ]
  },
  {
   "cell_type": "code",
   "execution_count": 9,
   "metadata": {},
   "outputs": [
    {
     "data": {
      "text/html": [
       "<style  type=\"text/css\" >\n",
       "    #T_9ae5bfd4_4627_11ea_bb2b_e944b1bc1246row0_col1 {\n",
       "            background-color:  #023858;\n",
       "            color:  #f1f1f1;\n",
       "        }    #T_9ae5bfd4_4627_11ea_bb2b_e944b1bc1246row1_col1 {\n",
       "            background-color:  #045788;\n",
       "            color:  #f1f1f1;\n",
       "        }    #T_9ae5bfd4_4627_11ea_bb2b_e944b1bc1246row2_col1 {\n",
       "            background-color:  #c1cae2;\n",
       "            color:  #000000;\n",
       "        }    #T_9ae5bfd4_4627_11ea_bb2b_e944b1bc1246row3_col1 {\n",
       "            background-color:  #e2dfee;\n",
       "            color:  #000000;\n",
       "        }    #T_9ae5bfd4_4627_11ea_bb2b_e944b1bc1246row4_col1 {\n",
       "            background-color:  #e7e3f0;\n",
       "            color:  #000000;\n",
       "        }    #T_9ae5bfd4_4627_11ea_bb2b_e944b1bc1246row5_col1 {\n",
       "            background-color:  #f2ecf5;\n",
       "            color:  #000000;\n",
       "        }    #T_9ae5bfd4_4627_11ea_bb2b_e944b1bc1246row6_col1 {\n",
       "            background-color:  #f7f0f7;\n",
       "            color:  #000000;\n",
       "        }    #T_9ae5bfd4_4627_11ea_bb2b_e944b1bc1246row7_col1 {\n",
       "            background-color:  #f7f0f7;\n",
       "            color:  #000000;\n",
       "        }    #T_9ae5bfd4_4627_11ea_bb2b_e944b1bc1246row8_col1 {\n",
       "            background-color:  #fef6fb;\n",
       "            color:  #000000;\n",
       "        }    #T_9ae5bfd4_4627_11ea_bb2b_e944b1bc1246row9_col1 {\n",
       "            background-color:  #fff7fb;\n",
       "            color:  #000000;\n",
       "        }</style><table id=\"T_9ae5bfd4_4627_11ea_bb2b_e944b1bc1246\" ><thead>    <tr>        <th class=\"blank level0\" ></th>        <th class=\"col_heading level0 col0\" >中文</th>        <th class=\"col_heading level0 col1\" >imp</th>    </tr></thead><tbody>\n",
       "                <tr>\n",
       "                        <th id=\"T_9ae5bfd4_4627_11ea_bb2b_e944b1bc1246level0_row0\" class=\"row_heading level0 row0\" >MLPAP_TJR-0720A1.PV</th>\n",
       "                        <td id=\"T_9ae5bfd4_4627_11ea_bb2b_e944b1bc1246row0_col0\" class=\"data row0 col0\" >鹽浴溫度</td>\n",
       "                        <td id=\"T_9ae5bfd4_4627_11ea_bb2b_e944b1bc1246row0_col1\" class=\"data row0 col1\" >0.246881</td>\n",
       "            </tr>\n",
       "            <tr>\n",
       "                        <th id=\"T_9ae5bfd4_4627_11ea_bb2b_e944b1bc1246level0_row1\" class=\"row_heading level0 row1\" >MLPAP_TJR-0762A1.PV</th>\n",
       "                        <td id=\"T_9ae5bfd4_4627_11ea_bb2b_e944b1bc1246row1_col0\" class=\"data row1 col0\" >鹽浴溫度</td>\n",
       "                        <td id=\"T_9ae5bfd4_4627_11ea_bb2b_e944b1bc1246row1_col1\" class=\"data row1 col1\" >0.221999</td>\n",
       "            </tr>\n",
       "            <tr>\n",
       "                        <th id=\"T_9ae5bfd4_4627_11ea_bb2b_e944b1bc1246level0_row2\" class=\"row_heading level0 row2\" >MLPAP_TI-0706B21</th>\n",
       "                        <td id=\"T_9ae5bfd4_4627_11ea_bb2b_e944b1bc1246row2_col0\" class=\"data row2 col0\" >反應槽溫度_多點式(高度 2150)</td>\n",
       "                        <td id=\"T_9ae5bfd4_4627_11ea_bb2b_e944b1bc1246row2_col1\" class=\"data row2 col1\" >0.0962605</td>\n",
       "            </tr>\n",
       "            <tr>\n",
       "                        <th id=\"T_9ae5bfd4_4627_11ea_bb2b_e944b1bc1246level0_row3\" class=\"row_heading level0 row3\" >MLPAP_TI-0706B15</th>\n",
       "                        <td id=\"T_9ae5bfd4_4627_11ea_bb2b_e944b1bc1246row3_col0\" class=\"data row3 col0\" >反應槽溫度_多點式(高度 1550)</td>\n",
       "                        <td id=\"T_9ae5bfd4_4627_11ea_bb2b_e944b1bc1246row3_col1\" class=\"data row3 col1\" >0.0696293</td>\n",
       "            </tr>\n",
       "            <tr>\n",
       "                        <th id=\"T_9ae5bfd4_4627_11ea_bb2b_e944b1bc1246level0_row4\" class=\"row_heading level0 row4\" >MLPAP_TI-0706B01</th>\n",
       "                        <td id=\"T_9ae5bfd4_4627_11ea_bb2b_e944b1bc1246row4_col0\" class=\"data row4 col0\" >反應槽觸媒溫度_高度(2865)</td>\n",
       "                        <td id=\"T_9ae5bfd4_4627_11ea_bb2b_e944b1bc1246row4_col1\" class=\"data row4 col1\" >0.0649526</td>\n",
       "            </tr>\n",
       "            <tr>\n",
       "                        <th id=\"T_9ae5bfd4_4627_11ea_bb2b_e944b1bc1246level0_row5\" class=\"row_heading level0 row5\" >MLPAP_V125-PHD</th>\n",
       "                        <td id=\"T_9ae5bfd4_4627_11ea_bb2b_e944b1bc1246row5_col0\" class=\"data row5 col0\" >粗PA儲槽PHD</td>\n",
       "                        <td id=\"T_9ae5bfd4_4627_11ea_bb2b_e944b1bc1246row5_col1\" class=\"data row5 col1\" >0.0510278</td>\n",
       "            </tr>\n",
       "            <tr>\n",
       "                        <th id=\"T_9ae5bfd4_4627_11ea_bb2b_e944b1bc1246level0_row6\" class=\"row_heading level0 row6\" >MLPAP_TJR-0720B2.PV</th>\n",
       "                        <td id=\"T_9ae5bfd4_4627_11ea_bb2b_e944b1bc1246row6_col0\" class=\"data row6 col0\" >鹽浴溫度</td>\n",
       "                        <td id=\"T_9ae5bfd4_4627_11ea_bb2b_e944b1bc1246row6_col1\" class=\"data row6 col1\" >0.0456162</td>\n",
       "            </tr>\n",
       "            <tr>\n",
       "                        <th id=\"T_9ae5bfd4_4627_11ea_bb2b_e944b1bc1246level0_row7\" class=\"row_heading level0 row7\" >MLPAP_TI-0716A05</th>\n",
       "                        <td id=\"T_9ae5bfd4_4627_11ea_bb2b_e944b1bc1246row7_col0\" class=\"data row7 col0\" >nan</td>\n",
       "                        <td id=\"T_9ae5bfd4_4627_11ea_bb2b_e944b1bc1246row7_col1\" class=\"data row7 col1\" >0.0449699</td>\n",
       "            </tr>\n",
       "            <tr>\n",
       "                        <th id=\"T_9ae5bfd4_4627_11ea_bb2b_e944b1bc1246level0_row8\" class=\"row_heading level0 row8\" >MLPAP_TI-0716A03</th>\n",
       "                        <td id=\"T_9ae5bfd4_4627_11ea_bb2b_e944b1bc1246row8_col0\" class=\"data row8 col0\" >nan</td>\n",
       "                        <td id=\"T_9ae5bfd4_4627_11ea_bb2b_e944b1bc1246row8_col1\" class=\"data row8 col1\" >0.0342112</td>\n",
       "            </tr>\n",
       "            <tr>\n",
       "                        <th id=\"T_9ae5bfd4_4627_11ea_bb2b_e944b1bc1246level0_row9\" class=\"row_heading level0 row9\" >MLPAP_TIC-0757.PV</th>\n",
       "                        <td id=\"T_9ae5bfd4_4627_11ea_bb2b_e944b1bc1246row9_col0\" class=\"data row9 col0\" >反應器A/B側鹽浴溫度差</td>\n",
       "                        <td id=\"T_9ae5bfd4_4627_11ea_bb2b_e944b1bc1246row9_col1\" class=\"data row9 col1\" >0.0332178</td>\n",
       "            </tr>\n",
       "    </tbody></table>"
      ],
      "text/plain": [
       "<pandas.io.formats.style.Styler at 0x7f25e8efdb00>"
      ]
     },
     "execution_count": 9,
     "metadata": {},
     "output_type": "execute_result"
    }
   ],
   "source": [
    "FIMP = pd.DataFrame(model.feature_importances_,index=X.columns,columns=['imp'])\n",
    "FIMP['中文'] = FIMP.index.map(chmap)\n",
    "FIMP = FIMP.sort_values(by='imp',ascending=False)\n",
    "FIMP[['中文','imp']].head(10).style.background_gradient()"
   ]
  },
  {
   "cell_type": "code",
   "execution_count": null,
   "metadata": {},
   "outputs": [],
   "source": []
  }
 ],
 "metadata": {
  "kernelspec": {
   "display_name": "Python 3",
   "language": "python",
   "name": "python3"
  },
  "language_info": {
   "codemirror_mode": {
    "name": "ipython",
    "version": 3
   },
   "file_extension": ".py",
   "mimetype": "text/x-python",
   "name": "python",
   "nbconvert_exporter": "python",
   "pygments_lexer": "ipython3",
   "version": "3.6.9"
  }
 },
 "nbformat": 4,
 "nbformat_minor": 2
}
